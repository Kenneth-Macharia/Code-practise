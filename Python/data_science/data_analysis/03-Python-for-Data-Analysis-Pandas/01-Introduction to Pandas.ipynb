{
 "cells": [
  {
   "cell_type": "markdown",
   "metadata": {
    "collapsed": true
   },
   "source": [
    "# Introduction to Pandas\n",
    "\n",
    "In this section of the course we will learn how to use pandas for data analysis. Pandas is an open-source framwwork built on top of numpy. It allows for fast data cleaning, preparation and analysis. \n",
    "\n",
    "You can think of pandas as an extremely powerful version of Excel or python's version of R. It can work with data from a wide range of sources and also has built in data visualization features.\n",
    "\n",
    "In this section of the course, you should go through the notebooks in this order:\n",
    "\n",
    "* Pandas interaction with Series data\n",
    "* DataFrames the main pandas work horse, builiding on series data\n",
    "* Missing Data\n",
    "* GroupBy\n",
    "* Merging,Joining,and Concatenating data frames with panda\n",
    "* Operations\n",
    "* Data Input and Output for a wide range of formats such as csv, xls, SQL and more."
   ]
  },
  {
   "cell_type": "markdown",
   "metadata": {},
   "source": [
    "___"
   ]
  }
 ],
 "metadata": {
  "kernelspec": {
   "display_name": "Python 3",
   "language": "python",
   "name": "python3"
  },
  "language_info": {
   "codemirror_mode": {
    "name": "ipython",
    "version": 3
   },
   "file_extension": ".py",
   "mimetype": "text/x-python",
   "name": "python",
   "nbconvert_exporter": "python",
   "pygments_lexer": "ipython3",
   "version": "3.7.3-final"
  }
 },
 "nbformat": 4,
 "nbformat_minor": 0
}