{
 "cells": [
  {
   "cell_type": "markdown",
   "metadata": {},
   "source": [
    "Plotly is a library that allows you to create interactive plots that you can use in dashboards or websites (you can save them as html files or static images).\n",
    "\n",
    "## Installation\n",
    "\n",
    "In order for this all to work, you'll need to install plotly and cufflinks to call plots directly off of a pandas dataframe. These libraries are not currently available through **conda** but are available through **pip**. Install the libraries at your command line/terminal using:\n",
    "\n",
    "    pip install plotly\n",
    "    pip install cufflinks\n",
    "\n",
    "** NOTE: Make sure you only have one installation of Python on your computer when you do this, otherwise the installation may not work. **\n",
    "\n",
    "## Imports and Set-up"
   ]
  },
  {
   "cell_type": "code",
   "execution_count": 1,
   "metadata": {
    "collapsed": true
   },
   "outputs": [],
   "source": [
    "import pandas as pd\n",
    "import numpy as np\n",
    "%matplotlib inline"
   ]
  },
  {
   "cell_type": "code",
   "execution_count": 7,
   "metadata": {
    "collapsed": false
   },
   "outputs": [
    {
     "output_type": "stream",
     "name": "stdout",
     "text": "4.8.1\n"
    }
   ],
   "source": [
    "from plotly import __version__\n",
    "from plotly.offline import download_plotlyjs, init_notebook_mode, plot, iplot # use plotly offline\n",
    "\n",
    "print(__version__) # requires version >= 1.9.0"
   ]
  },
  {
   "cell_type": "code",
   "execution_count": 39,
   "metadata": {
    "collapsed": true
   },
   "outputs": [],
   "source": [
    "import cufflinks as cf # Docs: https://github.com/santosjorge/cufflinks"
   ]
  },
  {
   "cell_type": "code",
   "execution_count": 6,
   "metadata": {
    "collapsed": false
   },
   "outputs": [
    {
     "output_type": "display_data",
     "data": {
      "text/html": "        <script type=\"text/javascript\">\n        window.PlotlyConfig = {MathJaxConfig: 'local'};\n        if (window.MathJax) {MathJax.Hub.Config({SVG: {font: \"STIX-Web\"}});}\n        if (typeof require !== 'undefined') {\n        require.undef(\"plotly\");\n        requirejs.config({\n            paths: {\n                'plotly': ['https://cdn.plot.ly/plotly-latest.min']\n            }\n        });\n        require(['plotly'], function(Plotly) {\n            window._Plotly = Plotly;\n        });\n        }\n        </script>\n        "
     },
     "metadata": {}
    }
   ],
   "source": [
    "# For Notebooks\n",
    "init_notebook_mode(connected=True)  # connects plotly with js interactive library, for interactive plots"
   ]
  },
  {
   "cell_type": "code",
   "execution_count": 8,
   "metadata": {
    "collapsed": false
   },
   "outputs": [
    {
     "output_type": "display_data",
     "data": {
      "text/html": "        <script type=\"text/javascript\">\n        window.PlotlyConfig = {MathJaxConfig: 'local'};\n        if (window.MathJax) {MathJax.Hub.Config({SVG: {font: \"STIX-Web\"}});}\n        if (typeof require !== 'undefined') {\n        require.undef(\"plotly\");\n        requirejs.config({\n            paths: {\n                'plotly': ['https://cdn.plot.ly/plotly-latest.min']\n            }\n        });\n        require(['plotly'], function(Plotly) {\n            window._Plotly = Plotly;\n        });\n        }\n        </script>\n        "
     },
     "metadata": {}
    }
   ],
   "source": [
    "# For cufflinks offline use\n",
    "cf.go_offline()"
   ]
  },
  {
   "cell_type": "markdown",
   "metadata": {},
   "source": [
    "### Fake Data"
   ]
  },
  {
   "cell_type": "code",
   "execution_count": 9,
   "metadata": {
    "collapsed": false
   },
   "outputs": [],
   "source": [
    "df = pd.DataFrame(np.random.randn(100,4),columns='A B C D'.split())"
   ]
  },
  {
   "cell_type": "code",
   "execution_count": 10,
   "metadata": {
    "collapsed": false
   },
   "outputs": [
    {
     "output_type": "execute_result",
     "data": {
      "text/plain": "          A         B         C         D\n0 -0.483257 -1.392717 -0.005593 -0.433795\n1 -0.680147 -0.838489 -0.288474 -0.629696\n2 -0.837564 -0.099594  1.163366 -0.084611\n3 -0.888265 -0.345174 -1.547854 -0.400927\n4  0.336933  0.769582  1.383095  0.198999",
      "text/html": "<div>\n<style scoped>\n    .dataframe tbody tr th:only-of-type {\n        vertical-align: middle;\n    }\n\n    .dataframe tbody tr th {\n        vertical-align: top;\n    }\n\n    .dataframe thead th {\n        text-align: right;\n    }\n</style>\n<table border=\"1\" class=\"dataframe\">\n  <thead>\n    <tr style=\"text-align: right;\">\n      <th></th>\n      <th>A</th>\n      <th>B</th>\n      <th>C</th>\n      <th>D</th>\n    </tr>\n  </thead>\n  <tbody>\n    <tr>\n      <th>0</th>\n      <td>-0.483257</td>\n      <td>-1.392717</td>\n      <td>-0.005593</td>\n      <td>-0.433795</td>\n    </tr>\n    <tr>\n      <th>1</th>\n      <td>-0.680147</td>\n      <td>-0.838489</td>\n      <td>-0.288474</td>\n      <td>-0.629696</td>\n    </tr>\n    <tr>\n      <th>2</th>\n      <td>-0.837564</td>\n      <td>-0.099594</td>\n      <td>1.163366</td>\n      <td>-0.084611</td>\n    </tr>\n    <tr>\n      <th>3</th>\n      <td>-0.888265</td>\n      <td>-0.345174</td>\n      <td>-1.547854</td>\n      <td>-0.400927</td>\n    </tr>\n    <tr>\n      <th>4</th>\n      <td>0.336933</td>\n      <td>0.769582</td>\n      <td>1.383095</td>\n      <td>0.198999</td>\n    </tr>\n  </tbody>\n</table>\n</div>"
     },
     "metadata": {},
     "execution_count": 10
    }
   ],
   "source": [
    "df.head()"
   ]
  },
  {
   "cell_type": "code",
   "execution_count": 11,
   "metadata": {
    "collapsed": true
   },
   "outputs": [],
   "source": [
    "df2 = pd.DataFrame({'Category':['A','B','C'],'Values':[32,43,50]})"
   ]
  },
  {
   "cell_type": "code",
   "execution_count": 13,
   "metadata": {
    "collapsed": false
   },
   "outputs": [
    {
     "output_type": "execute_result",
     "data": {
      "text/plain": "  Category  Values\n0        A      32\n1        B      43\n2        C      50",
      "text/html": "<div>\n<style scoped>\n    .dataframe tbody tr th:only-of-type {\n        vertical-align: middle;\n    }\n\n    .dataframe tbody tr th {\n        vertical-align: top;\n    }\n\n    .dataframe thead th {\n        text-align: right;\n    }\n</style>\n<table border=\"1\" class=\"dataframe\">\n  <thead>\n    <tr style=\"text-align: right;\">\n      <th></th>\n      <th>Category</th>\n      <th>Values</th>\n    </tr>\n  </thead>\n  <tbody>\n    <tr>\n      <th>0</th>\n      <td>A</td>\n      <td>32</td>\n    </tr>\n    <tr>\n      <th>1</th>\n      <td>B</td>\n      <td>43</td>\n    </tr>\n    <tr>\n      <th>2</th>\n      <td>C</td>\n      <td>50</td>\n    </tr>\n  </tbody>\n</table>\n</div>"
     },
     "metadata": {},
     "execution_count": 13
    }
   ],
   "source": [
    "df2.head()"
   ]
  },
  {
   "cell_type": "markdown",
   "metadata": {},
   "source": [
    "## Using Cufflinks and iplot()\n",
    "\n",
    "* scatter\n",
    "* bar\n",
    "* box\n",
    "* spread\n",
    "* ratio\n",
    "* heatmap\n",
    "* surface\n",
    "* histogram\n",
    "* bubble"
   ]
  },
  {
   "cell_type": "code",
   "execution_count": 16,
   "metadata": {},
   "outputs": [
    {
     "output_type": "execute_result",
     "data": {
      "text/plain": "<matplotlib.axes._subplots.AxesSubplot at 0x7fb289a41898>"
     },
     "metadata": {},
     "execution_count": 16
    },
    {
     "output_type": "display_data",
     "data": {
      "text/plain": "<Figure size 432x288 with 1 Axes>",
      "image/svg+xml": "<?xml version=\"1.0\" encoding=\"utf-8\" standalone=\"no\"?>\n<!DOCTYPE svg PUBLIC \"-//W3C//DTD SVG 1.1//EN\"\n  \"http://www.w3.org/Graphics/SVG/1.1/DTD/svg11.dtd\">\n<!-- Created with matplotlib (https://matplotlib.org/) -->\n<svg height=\"248.518125pt\" version=\"1.1\" viewBox=\"0 0 370.942187 248.518125\" width=\"370.942187pt\" xmlns=\"http://www.w3.org/2000/svg\" xmlns:xlink=\"http://www.w3.org/1999/xlink\">\n <defs>\n  <style type=\"text/css\">\n*{stroke-linecap:butt;stroke-linejoin:round;}\n  </style>\n </defs>\n <g id=\"figure_1\">\n  <g id=\"patch_1\">\n   <path d=\"M 0 248.518125 \nL 370.942187 248.518125 \nL 370.942187 0 \nL 0 0 \nz\n\" style=\"fill:none;\"/>\n  </g>\n  <g id=\"axes_1\">\n   <g id=\"patch_2\">\n    <path d=\"M 28.942188 224.64 \nL 363.742188 224.64 \nL 363.742188 7.2 \nL 28.942188 7.2 \nz\n\" style=\"fill:#ffffff;\"/>\n   </g>\n   <g id=\"matplotlib.axis_1\">\n    <g id=\"xtick_1\">\n     <g id=\"line2d_1\">\n      <defs>\n       <path d=\"M 0 0 \nL 0 3.5 \n\" id=\"m57a0eb0f1f\" style=\"stroke:#000000;stroke-width:0.8;\"/>\n      </defs>\n      <g>\n       <use style=\"stroke:#000000;stroke-width:0.8;\" x=\"28.942188\" xlink:href=\"#m57a0eb0f1f\" y=\"224.64\"/>\n      </g>\n     </g>\n     <g id=\"text_1\">\n      <!-- 0 -->\n      <defs>\n       <path d=\"M 31.78125 66.40625 \nQ 24.171875 66.40625 20.328125 58.90625 \nQ 16.5 51.421875 16.5 36.375 \nQ 16.5 21.390625 20.328125 13.890625 \nQ 24.171875 6.390625 31.78125 6.390625 \nQ 39.453125 6.390625 43.28125 13.890625 \nQ 47.125 21.390625 47.125 36.375 \nQ 47.125 51.421875 43.28125 58.90625 \nQ 39.453125 66.40625 31.78125 66.40625 \nz\nM 31.78125 74.21875 \nQ 44.046875 74.21875 50.515625 64.515625 \nQ 56.984375 54.828125 56.984375 36.375 \nQ 56.984375 17.96875 50.515625 8.265625 \nQ 44.046875 -1.421875 31.78125 -1.421875 \nQ 19.53125 -1.421875 13.0625 8.265625 \nQ 6.59375 17.96875 6.59375 36.375 \nQ 6.59375 54.828125 13.0625 64.515625 \nQ 19.53125 74.21875 31.78125 74.21875 \nz\n\" id=\"DejaVuSans-48\"/>\n      </defs>\n      <g transform=\"translate(25.760938 239.238438)scale(0.1 -0.1)\">\n       <use xlink:href=\"#DejaVuSans-48\"/>\n      </g>\n     </g>\n    </g>\n    <g id=\"xtick_2\">\n     <g id=\"line2d_2\">\n      <g>\n       <use style=\"stroke:#000000;stroke-width:0.8;\" x=\"96.578551\" xlink:href=\"#m57a0eb0f1f\" y=\"224.64\"/>\n      </g>\n     </g>\n     <g id=\"text_2\">\n      <!-- 20 -->\n      <defs>\n       <path d=\"M 19.1875 8.296875 \nL 53.609375 8.296875 \nL 53.609375 0 \nL 7.328125 0 \nL 7.328125 8.296875 \nQ 12.9375 14.109375 22.625 23.890625 \nQ 32.328125 33.6875 34.8125 36.53125 \nQ 39.546875 41.84375 41.421875 45.53125 \nQ 43.3125 49.21875 43.3125 52.78125 \nQ 43.3125 58.59375 39.234375 62.25 \nQ 35.15625 65.921875 28.609375 65.921875 \nQ 23.96875 65.921875 18.8125 64.3125 \nQ 13.671875 62.703125 7.8125 59.421875 \nL 7.8125 69.390625 \nQ 13.765625 71.78125 18.9375 73 \nQ 24.125 74.21875 28.421875 74.21875 \nQ 39.75 74.21875 46.484375 68.546875 \nQ 53.21875 62.890625 53.21875 53.421875 \nQ 53.21875 48.921875 51.53125 44.890625 \nQ 49.859375 40.875 45.40625 35.40625 \nQ 44.1875 33.984375 37.640625 27.21875 \nQ 31.109375 20.453125 19.1875 8.296875 \nz\n\" id=\"DejaVuSans-50\"/>\n      </defs>\n      <g transform=\"translate(90.216051 239.238438)scale(0.1 -0.1)\">\n       <use xlink:href=\"#DejaVuSans-50\"/>\n       <use x=\"63.623047\" xlink:href=\"#DejaVuSans-48\"/>\n      </g>\n     </g>\n    </g>\n    <g id=\"xtick_3\">\n     <g id=\"line2d_3\">\n      <g>\n       <use style=\"stroke:#000000;stroke-width:0.8;\" x=\"164.214915\" xlink:href=\"#m57a0eb0f1f\" y=\"224.64\"/>\n      </g>\n     </g>\n     <g id=\"text_3\">\n      <!-- 40 -->\n      <defs>\n       <path d=\"M 37.796875 64.3125 \nL 12.890625 25.390625 \nL 37.796875 25.390625 \nz\nM 35.203125 72.90625 \nL 47.609375 72.90625 \nL 47.609375 25.390625 \nL 58.015625 25.390625 \nL 58.015625 17.1875 \nL 47.609375 17.1875 \nL 47.609375 0 \nL 37.796875 0 \nL 37.796875 17.1875 \nL 4.890625 17.1875 \nL 4.890625 26.703125 \nz\n\" id=\"DejaVuSans-52\"/>\n      </defs>\n      <g transform=\"translate(157.852415 239.238438)scale(0.1 -0.1)\">\n       <use xlink:href=\"#DejaVuSans-52\"/>\n       <use x=\"63.623047\" xlink:href=\"#DejaVuSans-48\"/>\n      </g>\n     </g>\n    </g>\n    <g id=\"xtick_4\">\n     <g id=\"line2d_4\">\n      <g>\n       <use style=\"stroke:#000000;stroke-width:0.8;\" x=\"231.851278\" xlink:href=\"#m57a0eb0f1f\" y=\"224.64\"/>\n      </g>\n     </g>\n     <g id=\"text_4\">\n      <!-- 60 -->\n      <defs>\n       <path d=\"M 33.015625 40.375 \nQ 26.375 40.375 22.484375 35.828125 \nQ 18.609375 31.296875 18.609375 23.390625 \nQ 18.609375 15.53125 22.484375 10.953125 \nQ 26.375 6.390625 33.015625 6.390625 \nQ 39.65625 6.390625 43.53125 10.953125 \nQ 47.40625 15.53125 47.40625 23.390625 \nQ 47.40625 31.296875 43.53125 35.828125 \nQ 39.65625 40.375 33.015625 40.375 \nz\nM 52.59375 71.296875 \nL 52.59375 62.3125 \nQ 48.875 64.0625 45.09375 64.984375 \nQ 41.3125 65.921875 37.59375 65.921875 \nQ 27.828125 65.921875 22.671875 59.328125 \nQ 17.53125 52.734375 16.796875 39.40625 \nQ 19.671875 43.65625 24.015625 45.921875 \nQ 28.375 48.1875 33.59375 48.1875 \nQ 44.578125 48.1875 50.953125 41.515625 \nQ 57.328125 34.859375 57.328125 23.390625 \nQ 57.328125 12.15625 50.6875 5.359375 \nQ 44.046875 -1.421875 33.015625 -1.421875 \nQ 20.359375 -1.421875 13.671875 8.265625 \nQ 6.984375 17.96875 6.984375 36.375 \nQ 6.984375 53.65625 15.1875 63.9375 \nQ 23.390625 74.21875 37.203125 74.21875 \nQ 40.921875 74.21875 44.703125 73.484375 \nQ 48.484375 72.75 52.59375 71.296875 \nz\n\" id=\"DejaVuSans-54\"/>\n      </defs>\n      <g transform=\"translate(225.488778 239.238438)scale(0.1 -0.1)\">\n       <use xlink:href=\"#DejaVuSans-54\"/>\n       <use x=\"63.623047\" xlink:href=\"#DejaVuSans-48\"/>\n      </g>\n     </g>\n    </g>\n    <g id=\"xtick_5\">\n     <g id=\"line2d_5\">\n      <g>\n       <use style=\"stroke:#000000;stroke-width:0.8;\" x=\"299.487642\" xlink:href=\"#m57a0eb0f1f\" y=\"224.64\"/>\n      </g>\n     </g>\n     <g id=\"text_5\">\n      <!-- 80 -->\n      <defs>\n       <path d=\"M 31.78125 34.625 \nQ 24.75 34.625 20.71875 30.859375 \nQ 16.703125 27.09375 16.703125 20.515625 \nQ 16.703125 13.921875 20.71875 10.15625 \nQ 24.75 6.390625 31.78125 6.390625 \nQ 38.8125 6.390625 42.859375 10.171875 \nQ 46.921875 13.96875 46.921875 20.515625 \nQ 46.921875 27.09375 42.890625 30.859375 \nQ 38.875 34.625 31.78125 34.625 \nz\nM 21.921875 38.8125 \nQ 15.578125 40.375 12.03125 44.71875 \nQ 8.5 49.078125 8.5 55.328125 \nQ 8.5 64.0625 14.71875 69.140625 \nQ 20.953125 74.21875 31.78125 74.21875 \nQ 42.671875 74.21875 48.875 69.140625 \nQ 55.078125 64.0625 55.078125 55.328125 \nQ 55.078125 49.078125 51.53125 44.71875 \nQ 48 40.375 41.703125 38.8125 \nQ 48.828125 37.15625 52.796875 32.3125 \nQ 56.78125 27.484375 56.78125 20.515625 \nQ 56.78125 9.90625 50.3125 4.234375 \nQ 43.84375 -1.421875 31.78125 -1.421875 \nQ 19.734375 -1.421875 13.25 4.234375 \nQ 6.78125 9.90625 6.78125 20.515625 \nQ 6.78125 27.484375 10.78125 32.3125 \nQ 14.796875 37.15625 21.921875 38.8125 \nz\nM 18.3125 54.390625 \nQ 18.3125 48.734375 21.84375 45.5625 \nQ 25.390625 42.390625 31.78125 42.390625 \nQ 38.140625 42.390625 41.71875 45.5625 \nQ 45.3125 48.734375 45.3125 54.390625 \nQ 45.3125 60.0625 41.71875 63.234375 \nQ 38.140625 66.40625 31.78125 66.40625 \nQ 25.390625 66.40625 21.84375 63.234375 \nQ 18.3125 60.0625 18.3125 54.390625 \nz\n\" id=\"DejaVuSans-56\"/>\n      </defs>\n      <g transform=\"translate(293.125142 239.238438)scale(0.1 -0.1)\">\n       <use xlink:href=\"#DejaVuSans-56\"/>\n       <use x=\"63.623047\" xlink:href=\"#DejaVuSans-48\"/>\n      </g>\n     </g>\n    </g>\n   </g>\n   <g id=\"matplotlib.axis_2\">\n    <g id=\"ytick_1\">\n     <g id=\"line2d_6\">\n      <defs>\n       <path d=\"M 0 0 \nL -3.5 0 \n\" id=\"mcce29e2fdf\" style=\"stroke:#000000;stroke-width:0.8;\"/>\n      </defs>\n      <g>\n       <use style=\"stroke:#000000;stroke-width:0.8;\" x=\"28.942188\" xlink:href=\"#mcce29e2fdf\" y=\"190.413663\"/>\n      </g>\n     </g>\n     <g id=\"text_6\">\n      <!-- −2 -->\n      <defs>\n       <path d=\"M 10.59375 35.5 \nL 73.1875 35.5 \nL 73.1875 27.203125 \nL 10.59375 27.203125 \nz\n\" id=\"DejaVuSans-8722\"/>\n      </defs>\n      <g transform=\"translate(7.2 194.212882)scale(0.1 -0.1)\">\n       <use xlink:href=\"#DejaVuSans-8722\"/>\n       <use x=\"83.789062\" xlink:href=\"#DejaVuSans-50\"/>\n      </g>\n     </g>\n    </g>\n    <g id=\"ytick_2\">\n     <g id=\"line2d_7\">\n      <g>\n       <use style=\"stroke:#000000;stroke-width:0.8;\" x=\"28.942188\" xlink:href=\"#mcce29e2fdf\" y=\"154.558339\"/>\n      </g>\n     </g>\n     <g id=\"text_7\">\n      <!-- −1 -->\n      <defs>\n       <path d=\"M 12.40625 8.296875 \nL 28.515625 8.296875 \nL 28.515625 63.921875 \nL 10.984375 60.40625 \nL 10.984375 69.390625 \nL 28.421875 72.90625 \nL 38.28125 72.90625 \nL 38.28125 8.296875 \nL 54.390625 8.296875 \nL 54.390625 0 \nL 12.40625 0 \nz\n\" id=\"DejaVuSans-49\"/>\n      </defs>\n      <g transform=\"translate(7.2 158.357558)scale(0.1 -0.1)\">\n       <use xlink:href=\"#DejaVuSans-8722\"/>\n       <use x=\"83.789062\" xlink:href=\"#DejaVuSans-49\"/>\n      </g>\n     </g>\n    </g>\n    <g id=\"ytick_3\">\n     <g id=\"line2d_8\">\n      <g>\n       <use style=\"stroke:#000000;stroke-width:0.8;\" x=\"28.942188\" xlink:href=\"#mcce29e2fdf\" y=\"118.703016\"/>\n      </g>\n     </g>\n     <g id=\"text_8\">\n      <!-- 0 -->\n      <g transform=\"translate(15.579688 122.502234)scale(0.1 -0.1)\">\n       <use xlink:href=\"#DejaVuSans-48\"/>\n      </g>\n     </g>\n    </g>\n    <g id=\"ytick_4\">\n     <g id=\"line2d_9\">\n      <g>\n       <use style=\"stroke:#000000;stroke-width:0.8;\" x=\"28.942188\" xlink:href=\"#mcce29e2fdf\" y=\"82.847692\"/>\n      </g>\n     </g>\n     <g id=\"text_9\">\n      <!-- 1 -->\n      <g transform=\"translate(15.579688 86.646911)scale(0.1 -0.1)\">\n       <use xlink:href=\"#DejaVuSans-49\"/>\n      </g>\n     </g>\n    </g>\n    <g id=\"ytick_5\">\n     <g id=\"line2d_10\">\n      <g>\n       <use style=\"stroke:#000000;stroke-width:0.8;\" x=\"28.942188\" xlink:href=\"#mcce29e2fdf\" y=\"46.992368\"/>\n      </g>\n     </g>\n     <g id=\"text_10\">\n      <!-- 2 -->\n      <g transform=\"translate(15.579688 50.791587)scale(0.1 -0.1)\">\n       <use xlink:href=\"#DejaVuSans-50\"/>\n      </g>\n     </g>\n    </g>\n    <g id=\"ytick_6\">\n     <g id=\"line2d_11\">\n      <g>\n       <use style=\"stroke:#000000;stroke-width:0.8;\" x=\"28.942188\" xlink:href=\"#mcce29e2fdf\" y=\"11.137044\"/>\n      </g>\n     </g>\n     <g id=\"text_11\">\n      <!-- 3 -->\n      <defs>\n       <path d=\"M 40.578125 39.3125 \nQ 47.65625 37.796875 51.625 33 \nQ 55.609375 28.21875 55.609375 21.1875 \nQ 55.609375 10.40625 48.1875 4.484375 \nQ 40.765625 -1.421875 27.09375 -1.421875 \nQ 22.515625 -1.421875 17.65625 -0.515625 \nQ 12.796875 0.390625 7.625 2.203125 \nL 7.625 11.71875 \nQ 11.71875 9.328125 16.59375 8.109375 \nQ 21.484375 6.890625 26.8125 6.890625 \nQ 36.078125 6.890625 40.9375 10.546875 \nQ 45.796875 14.203125 45.796875 21.1875 \nQ 45.796875 27.640625 41.28125 31.265625 \nQ 36.765625 34.90625 28.71875 34.90625 \nL 20.21875 34.90625 \nL 20.21875 43.015625 \nL 29.109375 43.015625 \nQ 36.375 43.015625 40.234375 45.921875 \nQ 44.09375 48.828125 44.09375 54.296875 \nQ 44.09375 59.90625 40.109375 62.90625 \nQ 36.140625 65.921875 28.71875 65.921875 \nQ 24.65625 65.921875 20.015625 65.03125 \nQ 15.375 64.15625 9.8125 62.3125 \nL 9.8125 71.09375 \nQ 15.4375 72.65625 20.34375 73.4375 \nQ 25.25 74.21875 29.59375 74.21875 \nQ 40.828125 74.21875 47.359375 69.109375 \nQ 53.90625 64.015625 53.90625 55.328125 \nQ 53.90625 49.265625 50.4375 45.09375 \nQ 46.96875 40.921875 40.578125 39.3125 \nz\n\" id=\"DejaVuSans-51\"/>\n      </defs>\n      <g transform=\"translate(15.579688 14.936263)scale(0.1 -0.1)\">\n       <use xlink:href=\"#DejaVuSans-51\"/>\n      </g>\n     </g>\n    </g>\n   </g>\n   <g id=\"line2d_12\">\n    <path clip-path=\"url(#pec9f7050f7)\" d=\"M 28.942188 136.030362 \nL 32.324006 143.089904 \nL 35.705824 148.734139 \nL 39.087642 150.552058 \nL 42.46946 106.622175 \nL 45.851278 63.728223 \nL 49.233097 136.480476 \nL 52.614915 109.549464 \nL 55.996733 105.636172 \nL 59.378551 118.281227 \nL 62.760369 149.140747 \nL 66.142188 127.980521 \nL 69.524006 72.966552 \nL 72.905824 163.881542 \nL 76.287642 214.728924 \nL 79.66946 144.67043 \nL 83.051278 71.799189 \nL 86.433097 184.850148 \nL 89.814915 100.387194 \nL 93.196733 64.637299 \nL 96.578551 146.668595 \nL 99.960369 78.372419 \nL 103.342188 154.270134 \nL 106.724006 79.21446 \nL 110.105824 134.174307 \nL 113.487642 111.068457 \nL 116.86946 113.155209 \nL 120.251278 174.935853 \nL 123.633097 18.881616 \nL 127.014915 109.0107 \nL 130.396733 87.567568 \nL 133.778551 168.536407 \nL 137.160369 135.478525 \nL 140.542188 193.209021 \nL 143.924006 72.704695 \nL 147.305824 157.729781 \nL 150.687642 82.081296 \nL 154.06946 120.81091 \nL 157.451278 166.914758 \nL 160.833097 145.430574 \nL 164.214915 76.5189 \nL 167.596733 160.26494 \nL 170.978551 119.641173 \nL 174.360369 176.496347 \nL 177.742188 98.276376 \nL 181.124006 52.130758 \nL 184.505824 115.327708 \nL 187.887642 130.823669 \nL 191.26946 192.323738 \nL 194.651278 76.484655 \nL 198.033097 123.872787 \nL 201.414915 151.035412 \nL 204.796733 141.354085 \nL 208.178551 81.317267 \nL 211.560369 170.365813 \nL 214.942188 112.11633 \nL 218.324006 153.153795 \nL 221.705824 137.051848 \nL 225.087642 96.139127 \nL 228.46946 149.462199 \nL 231.851278 34.719538 \nL 235.233097 133.300959 \nL 238.614915 148.377336 \nL 241.996733 54.368707 \nL 245.378551 104.969408 \nL 248.760369 86.024848 \nL 252.142188 97.94765 \nL 255.524006 36.968449 \nL 258.905824 119.496084 \nL 262.287642 114.297858 \nL 265.66946 163.642884 \nL 269.051278 83.412289 \nL 272.433097 62.799246 \nL 275.814915 106.827602 \nL 279.196733 147.06135 \nL 282.578551 137.846748 \nL 285.960369 58.811186 \nL 289.342188 112.155919 \nL 292.724006 137.713985 \nL 296.105824 143.564788 \nL 299.487642 74.293237 \nL 302.86946 121.705778 \nL 306.251278 78.245991 \nL 309.633097 137.503165 \nL 313.014915 143.128342 \nL 316.396733 156.5573 \nL 319.778551 138.398734 \nL 323.160369 130.351602 \nL 326.542188 51.186283 \nL 329.924006 57.928082 \nL 333.305824 147.89119 \nL 336.687642 99.420475 \nL 340.06946 91.517807 \nL 343.451278 89.422844 \nL 346.833097 108.908231 \nL 350.214915 67.394545 \nL 353.596733 136.067968 \nL 356.978551 142.537406 \nL 360.360369 110.047527 \nL 363.742188 130.703303 \n\" style=\"fill:none;stroke:#1f77b4;stroke-linecap:square;stroke-width:1.5;\"/>\n   </g>\n   <g id=\"line2d_13\">\n    <path clip-path=\"url(#pec9f7050f7)\" d=\"M 28.942188 168.639347 \nL 32.324006 148.767315 \nL 35.705824 122.273988 \nL 39.087642 131.079332 \nL 42.46946 91.109401 \nL 45.851278 89.505445 \nL 49.233097 95.6672 \nL 52.614915 85.037739 \nL 55.996733 194.853229 \nL 59.378551 150.724894 \nL 62.760369 118.241889 \nL 66.142188 159.287394 \nL 69.524006 89.147089 \nL 72.905824 117.333347 \nL 76.287642 45.695202 \nL 79.66946 168.426619 \nL 83.051278 166.54409 \nL 86.433097 145.808387 \nL 89.814915 84.884741 \nL 93.196733 144.849984 \nL 96.578551 109.237677 \nL 99.960369 106.176749 \nL 103.342188 150.642658 \nL 106.724006 180.169959 \nL 110.105824 130.751148 \nL 113.487642 113.4761 \nL 116.86946 140.241819 \nL 120.251278 134.631177 \nL 123.633097 203.588273 \nL 127.014915 98.61424 \nL 130.396733 110.819422 \nL 133.778551 74.510501 \nL 137.160369 99.709968 \nL 140.542188 158.343164 \nL 143.924006 142.414962 \nL 147.305824 138.500895 \nL 150.687642 120.515682 \nL 154.06946 140.581244 \nL 157.451278 118.809467 \nL 160.833097 103.341917 \nL 164.214915 111.970319 \nL 167.596733 73.965803 \nL 170.978551 127.254248 \nL 174.360369 72.530881 \nL 177.742188 52.271847 \nL 181.124006 172.44905 \nL 184.505824 104.456718 \nL 187.887642 117.529497 \nL 191.26946 130.822996 \nL 194.651278 189.620095 \nL 198.033097 100.72169 \nL 201.414915 93.658718 \nL 204.796733 108.495464 \nL 208.178551 186.049224 \nL 211.560369 139.234712 \nL 214.942188 125.612216 \nL 218.324006 86.824174 \nL 221.705824 170.138457 \nL 225.087642 91.060039 \nL 228.46946 130.388962 \nL 231.851278 133.491771 \nL 235.233097 144.457519 \nL 238.614915 94.458486 \nL 241.996733 75.009892 \nL 245.378551 135.173157 \nL 248.760369 98.056224 \nL 252.142188 86.347489 \nL 255.524006 148.582356 \nL 258.905824 166.166591 \nL 262.287642 94.481963 \nL 265.66946 112.076423 \nL 269.051278 149.566012 \nL 272.433097 70.466981 \nL 275.814915 192.552535 \nL 279.196733 94.72538 \nL 282.578551 120.26334 \nL 285.960369 37.80447 \nL 289.342188 131.483895 \nL 292.724006 86.320536 \nL 296.105824 164.24112 \nL 299.487642 98.955865 \nL 302.86946 94.089167 \nL 306.251278 100.615538 \nL 309.633097 114.61841 \nL 313.014915 214.756364 \nL 316.396733 166.962742 \nL 319.778551 67.030527 \nL 323.160369 134.581636 \nL 326.542188 55.456213 \nL 329.924006 126.276208 \nL 333.305824 107.743267 \nL 336.687642 115.934961 \nL 340.06946 106.26931 \nL 343.451278 47.423004 \nL 346.833097 162.538036 \nL 350.214915 173.843846 \nL 353.596733 80.373254 \nL 356.978551 137.226162 \nL 360.360369 130.449544 \nL 363.742188 113.403958 \n\" style=\"fill:none;stroke:#ff7f0e;stroke-linecap:square;stroke-width:1.5;\"/>\n   </g>\n   <g id=\"line2d_14\">\n    <path clip-path=\"url(#pec9f7050f7)\" d=\"M 28.942188 118.903564 \nL 32.324006 129.046343 \nL 35.705824 76.990159 \nL 39.087642 174.201821 \nL 42.46946 69.111688 \nL 45.851278 94.34578 \nL 49.233097 164.150722 \nL 52.614915 91.214869 \nL 55.996733 143.771993 \nL 59.378551 124.139588 \nL 62.760369 118.821555 \nL 66.142188 91.231936 \nL 69.524006 127.512325 \nL 72.905824 139.369657 \nL 76.287642 105.692526 \nL 79.66946 167.593165 \nL 83.051278 129.723808 \nL 86.433097 153.216876 \nL 89.814915 159.295543 \nL 93.196733 160.072309 \nL 96.578551 147.932704 \nL 99.960369 140.02636 \nL 103.342188 145.371236 \nL 106.724006 189.321313 \nL 110.105824 36.33055 \nL 113.487642 139.416374 \nL 116.86946 136.093396 \nL 120.251278 98.133369 \nL 123.633097 150.960168 \nL 127.014915 110.715244 \nL 130.396733 188.771653 \nL 133.778551 121.745548 \nL 137.160369 112.763766 \nL 140.542188 171.710611 \nL 143.924006 82.457577 \nL 147.305824 136.153845 \nL 150.687642 107.129511 \nL 154.06946 112.886276 \nL 157.451278 123.096226 \nL 160.833097 153.380256 \nL 164.214915 100.265711 \nL 167.596733 110.104572 \nL 170.978551 57.329373 \nL 174.360369 126.262719 \nL 177.742188 59.749389 \nL 181.124006 118.632215 \nL 184.505824 102.937574 \nL 187.887642 80.483529 \nL 191.26946 154.626703 \nL 194.651278 112.031452 \nL 198.033097 85.432531 \nL 201.414915 143.221334 \nL 204.796733 105.420277 \nL 208.178551 73.194655 \nL 211.560369 145.932361 \nL 214.942188 127.870644 \nL 218.324006 126.24015 \nL 221.705824 123.861057 \nL 225.087642 63.402638 \nL 228.46946 90.400219 \nL 231.851278 165.084224 \nL 235.233097 65.205887 \nL 238.614915 103.629673 \nL 241.996733 134.330903 \nL 245.378551 142.516004 \nL 248.760369 134.895557 \nL 252.142188 50.776581 \nL 255.524006 125.375638 \nL 258.905824 127.310071 \nL 262.287642 40.945993 \nL 265.66946 124.68706 \nL 269.051278 138.578111 \nL 272.433097 127.855803 \nL 275.814915 119.74772 \nL 279.196733 57.764997 \nL 282.578551 146.893782 \nL 285.960369 56.244299 \nL 289.342188 92.656355 \nL 292.724006 87.141388 \nL 296.105824 101.029354 \nL 299.487642 135.494784 \nL 302.86946 126.66328 \nL 306.251278 66.198807 \nL 309.633097 110.632131 \nL 313.014915 106.88479 \nL 316.396733 105.236455 \nL 319.778551 151.220159 \nL 323.160369 146.425305 \nL 326.542188 136.759987 \nL 329.924006 107.547036 \nL 333.305824 79.581852 \nL 336.687642 112.643894 \nL 340.06946 103.449933 \nL 343.451278 27.819625 \nL 346.833097 130.42792 \nL 350.214915 127.367587 \nL 353.596733 111.362089 \nL 356.978551 142.950729 \nL 360.360369 209.77613 \nL 363.742188 81.679024 \n\" style=\"fill:none;stroke:#2ca02c;stroke-linecap:square;stroke-width:1.5;\"/>\n   </g>\n   <g id=\"line2d_15\">\n    <path clip-path=\"url(#pec9f7050f7)\" d=\"M 28.942188 134.256864 \nL 32.324006 141.280985 \nL 35.705824 121.736773 \nL 39.087642 133.078393 \nL 42.46946 111.567859 \nL 45.851278 72.745081 \nL 49.233097 121.785312 \nL 52.614915 98.690209 \nL 55.996733 119.924843 \nL 59.378551 50.388376 \nL 62.760369 87.962467 \nL 66.142188 92.71998 \nL 69.524006 41.053566 \nL 72.905824 130.300397 \nL 76.287642 114.405865 \nL 79.66946 149.052831 \nL 83.051278 162.944443 \nL 86.433097 108.711485 \nL 89.814915 157.296722 \nL 93.196733 106.041018 \nL 96.578551 152.364138 \nL 99.960369 115.553298 \nL 103.342188 87.959725 \nL 106.724006 84.870923 \nL 110.105824 147.364048 \nL 113.487642 122.489314 \nL 116.86946 86.116407 \nL 120.251278 100.2483 \nL 123.633097 134.492392 \nL 127.014915 146.261057 \nL 130.396733 112.319635 \nL 133.778551 122.380506 \nL 137.160369 141.723997 \nL 140.542188 78.173128 \nL 143.924006 117.162804 \nL 147.305824 169.700269 \nL 150.687642 77.320766 \nL 154.06946 113.68288 \nL 157.451278 85.668993 \nL 160.833097 197.513204 \nL 164.214915 17.083636 \nL 167.596733 91.801049 \nL 170.978551 160.135411 \nL 174.360369 84.645061 \nL 177.742188 166.579952 \nL 181.124006 159.79546 \nL 184.505824 99.350745 \nL 187.887642 91.007852 \nL 191.26946 70.59415 \nL 194.651278 86.996218 \nL 198.033097 151.715884 \nL 201.414915 184.393967 \nL 204.796733 160.996791 \nL 208.178551 125.005625 \nL 211.560369 152.154128 \nL 214.942188 93.791455 \nL 218.324006 133.865867 \nL 221.705824 119.494161 \nL 225.087642 135.574892 \nL 228.46946 61.35937 \nL 231.851278 129.923845 \nL 235.233097 108.869313 \nL 238.614915 100.478559 \nL 241.996733 116.829648 \nL 245.378551 171.703002 \nL 248.760369 73.611652 \nL 252.142188 181.465081 \nL 255.524006 134.804804 \nL 258.905824 42.038877 \nL 262.287642 119.107548 \nL 265.66946 163.151101 \nL 269.051278 125.832547 \nL 272.433097 162.962873 \nL 275.814915 97.378629 \nL 279.196733 118.039493 \nL 282.578551 158.648415 \nL 285.960369 155.991664 \nL 289.342188 141.5888 \nL 292.724006 130.114692 \nL 296.105824 70.611677 \nL 299.487642 176.643476 \nL 302.86946 113.196699 \nL 306.251278 135.226197 \nL 309.633097 112.771855 \nL 313.014915 97.882375 \nL 316.396733 99.867573 \nL 319.778551 167.221676 \nL 323.160369 61.779077 \nL 326.542188 109.689342 \nL 329.924006 161.336775 \nL 333.305824 96.325432 \nL 336.687642 113.796642 \nL 340.06946 56.849178 \nL 343.451278 83.005215 \nL 346.833097 81.216728 \nL 350.214915 117.287341 \nL 353.596733 105.293857 \nL 356.978551 88.201447 \nL 360.360369 71.712385 \nL 363.742188 34.398648 \n\" style=\"fill:none;stroke:#d62728;stroke-linecap:square;stroke-width:1.5;\"/>\n   </g>\n   <g id=\"patch_3\">\n    <path d=\"M 28.942188 224.64 \nL 28.942188 7.2 \n\" style=\"fill:none;stroke:#000000;stroke-linecap:square;stroke-linejoin:miter;stroke-width:0.8;\"/>\n   </g>\n   <g id=\"patch_4\">\n    <path d=\"M 363.742188 224.64 \nL 363.742188 7.2 \n\" style=\"fill:none;stroke:#000000;stroke-linecap:square;stroke-linejoin:miter;stroke-width:0.8;\"/>\n   </g>\n   <g id=\"patch_5\">\n    <path d=\"M 28.942188 224.64 \nL 363.742188 224.64 \n\" style=\"fill:none;stroke:#000000;stroke-linecap:square;stroke-linejoin:miter;stroke-width:0.8;\"/>\n   </g>\n   <g id=\"patch_6\">\n    <path d=\"M 28.942188 7.2 \nL 363.742188 7.2 \n\" style=\"fill:none;stroke:#000000;stroke-linecap:square;stroke-linejoin:miter;stroke-width:0.8;\"/>\n   </g>\n   <g id=\"legend_1\">\n    <g id=\"patch_7\">\n     <path d=\"M 317.042188 219.64 \nL 356.742188 219.64 \nQ 358.742188 219.64 358.742188 217.64 \nL 358.742188 159.9275 \nQ 358.742188 157.9275 356.742188 157.9275 \nL 317.042188 157.9275 \nQ 315.042188 157.9275 315.042188 159.9275 \nL 315.042188 217.64 \nQ 315.042188 219.64 317.042188 219.64 \nz\n\" style=\"fill:#ffffff;opacity:0.8;stroke:#cccccc;stroke-linejoin:miter;\"/>\n    </g>\n    <g id=\"line2d_16\">\n     <path d=\"M 319.042188 166.025937 \nL 339.042188 166.025937 \n\" style=\"fill:none;stroke:#1f77b4;stroke-linecap:square;stroke-width:1.5;\"/>\n    </g>\n    <g id=\"line2d_17\"/>\n    <g id=\"text_12\">\n     <!-- A -->\n     <defs>\n      <path d=\"M 34.1875 63.1875 \nL 20.796875 26.90625 \nL 47.609375 26.90625 \nz\nM 28.609375 72.90625 \nL 39.796875 72.90625 \nL 67.578125 0 \nL 57.328125 0 \nL 50.6875 18.703125 \nL 17.828125 18.703125 \nL 11.1875 0 \nL 0.78125 0 \nz\n\" id=\"DejaVuSans-65\"/>\n     </defs>\n     <g transform=\"translate(347.042188 169.525937)scale(0.1 -0.1)\">\n      <use xlink:href=\"#DejaVuSans-65\"/>\n     </g>\n    </g>\n    <g id=\"line2d_18\">\n     <path d=\"M 319.042188 180.704062 \nL 339.042188 180.704062 \n\" style=\"fill:none;stroke:#ff7f0e;stroke-linecap:square;stroke-width:1.5;\"/>\n    </g>\n    <g id=\"line2d_19\"/>\n    <g id=\"text_13\">\n     <!-- B -->\n     <defs>\n      <path d=\"M 19.671875 34.8125 \nL 19.671875 8.109375 \nL 35.5 8.109375 \nQ 43.453125 8.109375 47.28125 11.40625 \nQ 51.125 14.703125 51.125 21.484375 \nQ 51.125 28.328125 47.28125 31.5625 \nQ 43.453125 34.8125 35.5 34.8125 \nz\nM 19.671875 64.796875 \nL 19.671875 42.828125 \nL 34.28125 42.828125 \nQ 41.5 42.828125 45.03125 45.53125 \nQ 48.578125 48.25 48.578125 53.8125 \nQ 48.578125 59.328125 45.03125 62.0625 \nQ 41.5 64.796875 34.28125 64.796875 \nz\nM 9.8125 72.90625 \nL 35.015625 72.90625 \nQ 46.296875 72.90625 52.390625 68.21875 \nQ 58.5 63.53125 58.5 54.890625 \nQ 58.5 48.1875 55.375 44.234375 \nQ 52.25 40.28125 46.1875 39.3125 \nQ 53.46875 37.75 57.5 32.78125 \nQ 61.53125 27.828125 61.53125 20.40625 \nQ 61.53125 10.640625 54.890625 5.3125 \nQ 48.25 0 35.984375 0 \nL 9.8125 0 \nz\n\" id=\"DejaVuSans-66\"/>\n     </defs>\n     <g transform=\"translate(347.042188 184.204062)scale(0.1 -0.1)\">\n      <use xlink:href=\"#DejaVuSans-66\"/>\n     </g>\n    </g>\n    <g id=\"line2d_20\">\n     <path d=\"M 319.042188 195.382187 \nL 339.042188 195.382187 \n\" style=\"fill:none;stroke:#2ca02c;stroke-linecap:square;stroke-width:1.5;\"/>\n    </g>\n    <g id=\"line2d_21\"/>\n    <g id=\"text_14\">\n     <!-- C -->\n     <defs>\n      <path d=\"M 64.40625 67.28125 \nL 64.40625 56.890625 \nQ 59.421875 61.53125 53.78125 63.8125 \nQ 48.140625 66.109375 41.796875 66.109375 \nQ 29.296875 66.109375 22.65625 58.46875 \nQ 16.015625 50.828125 16.015625 36.375 \nQ 16.015625 21.96875 22.65625 14.328125 \nQ 29.296875 6.6875 41.796875 6.6875 \nQ 48.140625 6.6875 53.78125 8.984375 \nQ 59.421875 11.28125 64.40625 15.921875 \nL 64.40625 5.609375 \nQ 59.234375 2.09375 53.4375 0.328125 \nQ 47.65625 -1.421875 41.21875 -1.421875 \nQ 24.65625 -1.421875 15.125 8.703125 \nQ 5.609375 18.84375 5.609375 36.375 \nQ 5.609375 53.953125 15.125 64.078125 \nQ 24.65625 74.21875 41.21875 74.21875 \nQ 47.75 74.21875 53.53125 72.484375 \nQ 59.328125 70.75 64.40625 67.28125 \nz\n\" id=\"DejaVuSans-67\"/>\n     </defs>\n     <g transform=\"translate(347.042188 198.882187)scale(0.1 -0.1)\">\n      <use xlink:href=\"#DejaVuSans-67\"/>\n     </g>\n    </g>\n    <g id=\"line2d_22\">\n     <path d=\"M 319.042188 210.060313 \nL 339.042188 210.060313 \n\" style=\"fill:none;stroke:#d62728;stroke-linecap:square;stroke-width:1.5;\"/>\n    </g>\n    <g id=\"line2d_23\"/>\n    <g id=\"text_15\">\n     <!-- D -->\n     <defs>\n      <path d=\"M 19.671875 64.796875 \nL 19.671875 8.109375 \nL 31.59375 8.109375 \nQ 46.6875 8.109375 53.6875 14.9375 \nQ 60.6875 21.78125 60.6875 36.53125 \nQ 60.6875 51.171875 53.6875 57.984375 \nQ 46.6875 64.796875 31.59375 64.796875 \nz\nM 9.8125 72.90625 \nL 30.078125 72.90625 \nQ 51.265625 72.90625 61.171875 64.09375 \nQ 71.09375 55.28125 71.09375 36.53125 \nQ 71.09375 17.671875 61.125 8.828125 \nQ 51.171875 0 30.078125 0 \nL 9.8125 0 \nz\n\" id=\"DejaVuSans-68\"/>\n     </defs>\n     <g transform=\"translate(347.042188 213.560313)scale(0.1 -0.1)\">\n      <use xlink:href=\"#DejaVuSans-68\"/>\n     </g>\n    </g>\n   </g>\n  </g>\n </g>\n <defs>\n  <clipPath id=\"pec9f7050f7\">\n   <rect height=\"217.44\" width=\"334.8\" x=\"28.942188\" y=\"7.2\"/>\n  </clipPath>\n </defs>\n</svg>\n",
      "image/png": "[encoded data removed]"
     },
     "metadata": {
      "needs_background": "light"
     }
    }
   ],
   "source": [
    "df.plot() # static plot"
   ]
  },
  {
   "cell_type": "code",
   "execution_count": 17,
   "metadata": {},
   "outputs": [
    {
     "output_type": "display_data",
     "data": {
      "application/vnd.plotly.v1+json": {
       "config": {
        "linkText": "Export to plot.ly",
        "plotlyServerURL": "https://plot.ly",
        "showLink": true
       },
       "data": [
        {
         "line": {
          "color": "rgba(255, 153, 51, 1.0)",
          "dash": "solid",
          "shape": "linear",
          "width": 1.3
         },
         "mode": "lines",
         "name": "A",
         "text": "",
         "type": "scatter",
         "x": [
          0,
          1,
          2,
          3,
          4,
          5,
          6,
          7,
          8,
          9,
          10,
          11,
          12,
          13,
          14,
          15,
          16,
          17,
          18,
          19,
          20,
          21,
          22,
          23,
          24,
          25,
          26,
          27,
          28,
          29,
          30,
          31,
          32,
          33,
          34,
          35,
          36,
          37,
          38,
          39,
          40,
          41,
          42,
          43,
          44,
          45,
          46,
          47,
          48,
          49,
          50,
          51,
          52,
          53,
          54,
          55,
          56,
          57,
          58,
          59,
          60,
          61,
          62,
          63,
          64,
          65,
          66,
          67,
          68,
          69,
          70,
          71,
          72,
          73,
          74,
          75,
          76,
          77,
          78,
          79,
          80,
          81,
          82,
          83,
          84,
          85,
          86,
          87,
          88,
          89,
          90,
          91,
          92,
          93,
          94,
          95,
          96,
          97,
          98,
          99
         ],
         "y": [
          -0.48325729233229403,
          -0.6801469232584413,
          -0.8375638593941594,
          -0.8882653647324971,
          0.3369329682002198,
          1.5332393384460155,
          -0.4958109068306811,
          0.25529128381775856,
          0.36443246621830866,
          0.011763627863710845,
          -0.8489040944459124,
          -0.25874833248695134,
          1.2755836073180973,
          -1.2600228259346626,
          -2.6781492581231947,
          -0.7242275822894483,
          1.3081412072531584,
          -1.8448343434977177,
          0.5108257297289914,
          1.5078853308278135,
          -0.7799561281371661,
          1.1248147311608407,
          -0.9919620025891482,
          1.1013303249141366,
          -0.43149217879776913,
          0.2129267873376674,
          0.1547275473762396,
          -1.5683260126927356,
          2.7840049871654107,
          0.27031735188484474,
          0.8683633047336571,
          -1.389846350986542,
          -0.46786663578781906,
          -2.0779621390659297,
          1.2828867767936305,
          -1.0884510648994297,
          1.0213746901493257,
          -0.05878888246257884,
          -1.3446188024182197,
          -0.7454278813382993,
          1.1765091332317525,
          -1.1591562966298399,
          -0.02616506878878219,
          -1.6118479856638155,
          0.569696139357706,
          1.8566910147004743,
          0.09413685110942295,
          -0.33804333571530537,
          -2.053271732051332,
          1.177464224627984,
          -0.1441842047465084,
          -0.9017460491094729,
          -0.6317351849737326,
          1.0426833324653861,
          -1.4408682510636759,
          0.18370173991590114,
          -0.9608274607095263,
          -0.5117463730118246,
          0.6293037169773403,
          -0.8578693630097957,
          2.3422875322233025,
          -0.4071345976474636,
          -0.8276126802100241,
          1.7942749276987053,
          0.38302841199651466,
          0.9113895697906631,
          0.5788642704148587,
          2.2795657117185675,
          -0.02211855812222608,
          0.1228592331385394,
          -1.2533666848769662,
          0.9842534755210555,
          1.5591483863561952,
          0.33120363044533385,
          -0.7909100117810608,
          -0.5339160346418095,
          1.6703748204378235,
          0.18259762895651724,
          -0.530213301464795,
          -0.6933913717286806,
          1.2385825517447506,
          -0.08374662326827106,
          1.1283408068613219,
          -0.5243335506412814,
          -0.681218951498602,
          -1.0557507203560408,
          -0.5493108387478299,
          -0.3248774619763072,
          1.883032300667612,
          1.695004447251585,
          -0.8140541254788838,
          0.5377873848760677,
          0.7581917043467746,
          0.816619927313427,
          0.27317519379582567,
          1.4309861245969506,
          -0.48430609448209755,
          -0.664737834915157,
          0.2414003853354637,
          -0.33468634357597127
         ]
        },
        {
         "line": {
          "color": "rgba(55, 128, 191, 1.0)",
          "dash": "solid",
          "shape": "linear",
          "width": 1.3
         },
         "mode": "lines",
         "name": "B",
         "text": "",
         "type": "scatter",
         "x": [
          0,
          1,
          2,
          3,
          4,
          5,
          6,
          7,
          8,
          9,
          10,
          11,
          12,
          13,
          14,
          15,
          16,
          17,
          18,
          19,
          20,
          21,
          22,
          23,
          24,
          25,
          26,
          27,
          28,
          29,
          30,
          31,
          32,
          33,
          34,
          35,
          36,
          37,
          38,
          39,
          40,
          41,
          42,
          43,
          44,
          45,
          46,
          47,
          48,
          49,
          50,
          51,
          52,
          53,
          54,
          55,
          56,
          57,
          58,
          59,
          60,
          61,
          62,
          63,
          64,
          65,
          66,
          67,
          68,
          69,
          70,
          71,
          72,
          73,
          74,
          75,
          76,
          77,
          78,
          79,
          80,
          81,
          82,
          83,
          84,
          85,
          86,
          87,
          88,
          89,
          90,
          91,
          92,
          93,
          94,
          95,
          96,
          97,
          98,
          99
         ],
         "y": [
          -1.3927173484233957,
          -0.8384891188861266,
          -0.09959392787557626,
          -0.34517373201334406,
          0.7695820725156822,
          0.8143161905283209,
          0.6424656934099338,
          0.9389199039524504,
          -2.1238188619787044,
          -0.893085737904552,
          0.012860764931138417,
          -1.1318926803919251,
          0.8243106940799912,
          0.03819986680800088,
          2.0361777794837344,
          -1.3867844004931162,
          -1.3342809100543542,
          -0.7559650349941774,
          0.9431869936587628,
          -0.7292353017105296,
          0.26398698192207704,
          0.34935584252720875,
          -0.8907921787559141,
          -1.714304516517587,
          -0.33602074280726957,
          0.14577796311860552,
          -0.6007142431277214,
          -0.44423421142674,
          -2.367438036753166,
          0.5602731678041215,
          0.21987234033905276,
          1.2325230941909604,
          0.5297134492851983,
          -1.1055582363452796,
          -0.6613228785375624,
          -0.5521601076824234,
          -0.050555018172360536,
          -0.6101807599377929,
          -0.002968902971095136,
          0.42841892268558546,
          0.18777398458622327,
          1.2477146480091446,
          -0.2384926737277862,
          1.2877344149031817,
          1.85275606072833,
          -1.4989694195585188,
          0.3973272778404027,
          0.032729278573143276,
          -0.3380245785557796,
          -1.9778675062685787,
          0.501496687173523,
          0.6984819811985156,
          0.28468721241939965,
          -1.8782763898118704,
          -0.5726261522272114,
          -0.1926966288221137,
          0.8890964722990194,
          -1.4345273158503902,
          0.7709587722104292,
          -0.325919418683105,
          -0.41245632797110804,
          -0.718289525271531,
          0.6761765745160662,
          1.2185951508512314,
          -0.4593499501488937,
          0.5758361543852849,
          0.9023911370863095,
          -0.8333306471382453,
          -1.323752517968216,
          0.6755218029003134,
          0.1848147524425046,
          -0.8607646832335739,
          1.3452962959600823,
          -2.059652828010228,
          0.6687329357943761,
          -0.043517241120167464,
          2.256249209154247,
          -0.35645693894901925,
          0.9031428576518158,
          -1.2700514096432127,
          0.5507452805892401,
          0.6864768180089855,
          0.5044572517554488,
          0.11391909110956715,
          -2.6789145336337064,
          -1.3459570712606075,
          1.4411385398883014,
          -0.44285250185454955,
          1.7639445410817005,
          -0.2112152724191136,
          0.3056658805922514,
          0.07720067227148605,
          0.3467743181645393,
          1.9879896376435917,
          -1.2225526206253794,
          -1.5378700982573048,
          1.0690117257033522,
          -0.5166079885567552,
          -0.32760903806852637,
          0.1477899857467717
         ]
        },
        {
         "line": {
          "color": "rgba(50, 171, 96, 1.0)",
          "dash": "solid",
          "shape": "linear",
          "width": 1.3
         },
         "mode": "lines",
         "name": "C",
         "text": "",
         "type": "scatter",
         "x": [
          0,
          1,
          2,
          3,
          4,
          5,
          6,
          7,
          8,
          9,
          10,
          11,
          12,
          13,
          14,
          15,
          16,
          17,
          18,
          19,
          20,
          21,
          22,
          23,
          24,
          25,
          26,
          27,
          28,
          29,
          30,
          31,
          32,
          33,
          34,
          35,
          36,
          37,
          38,
          39,
          40,
          41,
          42,
          43,
          44,
          45,
          46,
          47,
          48,
          49,
          50,
          51,
          52,
          53,
          54,
          55,
          56,
          57,
          58,
          59,
          60,
          61,
          62,
          63,
          64,
          65,
          66,
          67,
          68,
          69,
          70,
          71,
          72,
          73,
          74,
          75,
          76,
          77,
          78,
          79,
          80,
          81,
          82,
          83,
          84,
          85,
          86,
          87,
          88,
          89,
          90,
          91,
          92,
          93,
          94,
          95,
          96,
          97,
          98,
          99
         ],
         "y": [
          -0.005593274734868949,
          -0.288473971983993,
          1.163365782052956,
          -1.547853966086686,
          1.3830952405368568,
          0.6793199122328621,
          -1.26753022508557,
          0.7666405838475601,
          -0.699170295405402,
          -0.1516252578673634,
          -0.003306048920765442,
          0.7661645950611087,
          -0.24569042075266398,
          -0.5763897682922402,
          0.3628607438414783,
          -1.3635394804139247,
          -0.30736836143144913,
          -0.9625867826896024,
          -1.1321199391223542,
          -1.1537838543093815,
          -0.8152119497666176,
          -0.5947051078480841,
          -0.743772948914262,
          -1.9695344939489643,
          2.297356620491305,
          -0.5776926844796706,
          -0.48501529438257013,
          0.5736845775017696,
          -0.8996474922581665,
          0.22277783057939582,
          -1.954204561454632,
          -0.08485580236553661,
          0.16564486220929353,
          -1.4783744669838397,
          1.0108802588328099,
          -0.48670120999063365,
          0.3227834522416882,
          0.162228061840226,
          -0.12252602158075877,
          -0.9671434130892369,
          0.5142138783746163,
          0.23980938940106217,
          1.7117023643346283,
          -0.21083907005360128,
          1.6442084508671244,
          0.001974632317316066,
          0.4396959915183855,
          1.0659361735323793,
          -1.0019066431281796,
          0.18606897721049495,
          0.927909188140124,
          -0.6838124962984189,
          0.37045372452082026,
          1.269221868073942,
          -0.7594226639840366,
          -0.2556838840033645,
          -0.2102096320006265,
          -0.14385705567700638,
          1.5423198449802913,
          0.7893610650542768,
          -1.2935654659444065,
          1.4920274775622149,
          0.4203934483019005,
          -0.4358595940925614,
          -0.6641409496896902,
          -0.4516077331898376,
          1.8944588335103414,
          -0.1860985222047413,
          -0.240049566965618,
          2.168632575979525,
          -0.1668941522920608,
          -0.5543136462992834,
          -0.25526997328395135,
          -0.029136659004589543,
          1.699552881442931,
          -0.7862365694921897,
          1.7419649405412687,
          0.7264377433600098,
          0.8802494088601106,
          0.49291596986509967,
          -0.46832007963785327,
          -0.22201065572501383,
          1.4643350989814594,
          0.22509584000918084,
          0.32960867196417803,
          0.375580504586509,
          -0.9068986099563627,
          -0.7731707914278191,
          -0.503606427045413,
          0.31113873679487897,
          1.0910838208342193,
          0.16898806972345684,
          0.42540634942206257,
          2.5347251308732885,
          -0.32700596569718626,
          -0.2416536792876466,
          0.2047374261276733,
          -0.6762653622550718,
          -2.5400165137975743,
          1.0325939992118118
         ]
        },
        {
         "line": {
          "color": "rgba(128, 0, 128, 1.0)",
          "dash": "solid",
          "shape": "linear",
          "width": 1.3
         },
         "mode": "lines",
         "name": "D",
         "text": "",
         "type": "scatter",
         "x": [
          0,
          1,
          2,
          3,
          4,
          5,
          6,
          7,
          8,
          9,
          10,
          11,
          12,
          13,
          14,
          15,
          16,
          17,
          18,
          19,
          20,
          21,
          22,
          23,
          24,
          25,
          26,
          27,
          28,
          29,
          30,
          31,
          32,
          33,
          34,
          35,
          36,
          37,
          38,
          39,
          40,
          41,
          42,
          43,
          44,
          45,
          46,
          47,
          48,
          49,
          50,
          51,
          52,
          53,
          54,
          55,
          56,
          57,
          58,
          59,
          60,
          61,
          62,
          63,
          64,
          65,
          66,
          67,
          68,
          69,
          70,
          71,
          72,
          73,
          74,
          75,
          76,
          77,
          78,
          79,
          80,
          81,
          82,
          83,
          84,
          85,
          86,
          87,
          88,
          89,
          90,
          91,
          92,
          93,
          94,
          95,
          96,
          97,
          98,
          99
         ],
         "y": [
          -0.43379468269913296,
          -0.6296964198509847,
          -0.08461107401480267,
          -0.40092727558348057,
          0.19899851981933747,
          1.2817604060201464,
          -0.08596480863550218,
          0.5581544034285231,
          -0.03407658761151557,
          1.9052858105427557,
          0.8573496381059845,
          0.7246632627492985,
          2.165632371482043,
          -0.32344935939337727,
          0.11984693154087925,
          -0.846452120816249,
          -1.2338872695294532,
          0.2786624095721226,
          -1.076373106922323,
          0.35314136072521646,
          -0.9388040299324244,
          0.08784519637516232,
          0.8574261071297831,
          0.9435723794904356,
          -0.7993522146351116,
          -0.10559934287045927,
          0.9088360048617034,
          0.5146994607982517,
          -0.4403635112618269,
          -0.7685899493677069,
          0.1780316117266545,
          -0.10256468775571166,
          -0.6420519782029881,
          1.1303729428243923,
          0.042956293583050156,
          -1.422306307374088,
          1.1541451832113083,
          0.14001088437346748,
          0.9213142983661913,
          -2.1980052198784708,
          2.83415037648326,
          0.7502921198274051,
          -1.1555437399430828,
          0.9498716229000003,
          -1.335281096767551,
          -1.146062558038957,
          0.5397321400725726,
          0.7724142605140071,
          1.3417495880251487,
          0.8842981783031152,
          -0.920724322622848,
          -1.8321115068913008,
          -1.1795675106867747,
          -0.17577889943045014,
          -0.9329468689107387,
          0.6947799543153891,
          -0.4228898042412951,
          -0.022064934038156153,
          -0.4705542949988653,
          1.5993063281489912,
          -0.31294736318218014,
          0.2742606114289679,
          0.5082775583809864,
          0.05224796572998851,
          -1.4781622461611963,
          1.2575918727202422,
          -1.750425273885751,
          -0.4490766315002428,
          2.1381521718217296,
          -0.011282360454533983,
          -1.2396509292151592,
          -0.19884163074116018,
          -1.234401285923715,
          0.594734182324311,
          0.018505566193897854,
          -1.1140716427118535,
          -1.0399752202754085,
          -0.638281339603792,
          -0.31827005555221527,
          1.341260767793052,
          -1.615951403788844,
          0.15357040605572542,
          -0.4608292205936979,
          0.165419258752936,
          0.5806847648105539,
          0.5253178899662075,
          -1.3531787102126227,
          1.587600758081621,
          0.25139011499340125,
          -1.1890496351460684,
          0.6241077146857426,
          0.13683807392022923,
          1.725094942820954,
          0.9956067012313309,
          1.045487358403904,
          0.03948297521656207,
          0.373979582624551,
          0.8506845055929937,
          1.3105621553293387,
          2.351237102571402
         ]
        }
       ],
       "layout": {
        "legend": {
         "bgcolor": "#F5F6F9",
         "font": {
          "color": "#4D5663"
         }
        },
        "paper_bgcolor": "#F5F6F9",
        "plot_bgcolor": "#F5F6F9",
        "template": {
         "data": {
          "bar": [
           {
            "error_x": {
             "color": "#2a3f5f"
            },
            "error_y": {
             "color": "#2a3f5f"
            },
            "marker": {
             "line": {
              "color": "#E5ECF6",
              "width": 0.5
             }
            },
            "type": "bar"
           }
          ],
          "barpolar": [
           {
            "marker": {
             "line": {
              "color": "#E5ECF6",
              "width": 0.5
             }
            },
            "type": "barpolar"
           }
          ],
          "carpet": [
           {
            "aaxis": {
             "endlinecolor": "#2a3f5f",
             "gridcolor": "white",
             "linecolor": "white",
             "minorgridcolor": "white",
             "startlinecolor": "#2a3f5f"
            },
            "baxis": {
             "endlinecolor": "#2a3f5f",
             "gridcolor": "white",
             "linecolor": "white",
             "minorgridcolor": "white",
             "startlinecolor": "#2a3f5f"
            },
            "type": "carpet"
           }
          ],
          "choropleth": [
           {
            "colorbar": {
             "outlinewidth": 0,
             "ticks": ""
            },
            "type": "choropleth"
           }
          ],
          "contour": [
           {
            "colorbar": {
             "outlinewidth": 0,
             "ticks": ""
            },
            "colorscale": [
             [
              0,
              "#0d0887"
             ],
             [
              0.1111111111111111,
              "#46039f"
             ],
             [
              0.2222222222222222,
              "#7201a8"
             ],
             [
              0.3333333333333333,
              "#9c179e"
             ],
             [
              0.4444444444444444,
              "#bd3786"
             ],
             [
              0.5555555555555556,
              "#d8576b"
             ],
             [
              0.6666666666666666,
              "#ed7953"
             ],
             [
              0.7777777777777778,
              "#fb9f3a"
             ],
             [
              0.8888888888888888,
              "#fdca26"
             ],
             [
              1,
              "#f0f921"
             ]
            ],
            "type": "contour"
           }
          ],
          "contourcarpet": [
           {
            "colorbar": {
             "outlinewidth": 0,
             "ticks": ""
            },
            "type": "contourcarpet"
           }
          ],
          "heatmap": [
           {
            "colorbar": {
             "outlinewidth": 0,
             "ticks": ""
            },
            "colorscale": [
             [
              0,
              "#0d0887"
             ],
             [
              0.1111111111111111,
              "#46039f"
             ],
             [
              0.2222222222222222,
              "#7201a8"
             ],
             [
              0.3333333333333333,
              "#9c179e"
             ],
             [
              0.4444444444444444,
              "#bd3786"
             ],
             [
              0.5555555555555556,
              "#d8576b"
             ],
             [
              0.6666666666666666,
              "#ed7953"
             ],
             [
              0.7777777777777778,
              "#fb9f3a"
             ],
             [
              0.8888888888888888,
              "#fdca26"
             ],
             [
              1,
              "#f0f921"
             ]
            ],
            "type": "heatmap"
           }
          ],
          "heatmapgl": [
           {
            "colorbar": {
             "outlinewidth": 0,
             "ticks": ""
            },
            "colorscale": [
             [
              0,
              "#0d0887"
             ],
             [
              0.1111111111111111,
              "#46039f"
             ],
             [
              0.2222222222222222,
              "#7201a8"
             ],
             [
              0.3333333333333333,
              "#9c179e"
             ],
             [
              0.4444444444444444,
              "#bd3786"
             ],
             [
              0.5555555555555556,
              "#d8576b"
             ],
             [
              0.6666666666666666,
              "#ed7953"
             ],
             [
              0.7777777777777778,
              "#fb9f3a"
             ],
             [
              0.8888888888888888,
              "#fdca26"
             ],
             [
              1,
              "#f0f921"
             ]
            ],
            "type": "heatmapgl"
           }
          ],
          "histogram": [
           {
            "marker": {
             "colorbar": {
              "outlinewidth": 0,
              "ticks": ""
             }
            },
            "type": "histogram"
           }
          ],
          "histogram2d": [
           {
            "colorbar": {
             "outlinewidth": 0,
             "ticks": ""
            },
            "colorscale": [
             [
              0,
              "#0d0887"
             ],
             [
              0.1111111111111111,
              "#46039f"
             ],
             [
              0.2222222222222222,
              "#7201a8"
             ],
             [
              0.3333333333333333,
              "#9c179e"
             ],
             [
              0.4444444444444444,
              "#bd3786"
             ],
             [
              0.5555555555555556,
              "#d8576b"
             ],
             [
              0.6666666666666666,
              "#ed7953"
             ],
             [
              0.7777777777777778,
              "#fb9f3a"
             ],
             [
              0.8888888888888888,
              "#fdca26"
             ],
             [
              1,
              "#f0f921"
             ]
            ],
            "type": "histogram2d"
           }
          ],
          "histogram2dcontour": [
           {
            "colorbar": {
             "outlinewidth": 0,
             "ticks": ""
            },
            "colorscale": [
             [
              0,
              "#0d0887"
             ],
             [
              0.1111111111111111,
              "#46039f"
             ],
             [
              0.2222222222222222,
              "#7201a8"
             ],
             [
              0.3333333333333333,
              "#9c179e"
             ],
             [
              0.4444444444444444,
              "#bd3786"
             ],
             [
              0.5555555555555556,
              "#d8576b"
             ],
             [
              0.6666666666666666,
              "#ed7953"
             ],
             [
              0.7777777777777778,
              "#fb9f3a"
             ],
             [
              0.8888888888888888,
              "#fdca26"
             ],
             [
              1,
              "#f0f921"
             ]
            ],
            "type": "histogram2dcontour"
           }
          ],
          "mesh3d": [
           {
            "colorbar": {
             "outlinewidth": 0,
             "ticks": ""
            },
            "type": "mesh3d"
           }
          ],
          "parcoords": [
           {
            "line": {
             "colorbar": {
              "outlinewidth": 0,
              "ticks": ""
             }
            },
            "type": "parcoords"
           }
          ],
          "pie": [
           {
            "automargin": true,
            "type": "pie"
           }
          ],
          "scatter": [
           {
            "marker": {
             "colorbar": {
              "outlinewidth": 0,
              "ticks": ""
             }
            },
            "type": "scatter"
           }
          ],
          "scatter3d": [
           {
            "line": {
             "colorbar": {
              "outlinewidth": 0,
              "ticks": ""
             }
            },
            "marker": {
             "colorbar": {
              "outlinewidth": 0,
              "ticks": ""
             }
            },
            "type": "scatter3d"
           }
          ],
          "scattercarpet": [
           {
            "marker": {
             "colorbar": {
              "outlinewidth": 0,
              "ticks": ""
             }
            },
            "type": "scattercarpet"
           }
          ],
          "scattergeo": [
           {
            "marker": {
             "colorbar": {
              "outlinewidth": 0,
              "ticks": ""
             }
            },
            "type": "scattergeo"
           }
          ],
          "scattergl": [
           {
            "marker": {
             "colorbar": {
              "outlinewidth": 0,
              "ticks": ""
             }
            },
            "type": "scattergl"
           }
          ],
          "scattermapbox": [
           {
            "marker": {
             "colorbar": {
              "outlinewidth": 0,
              "ticks": ""
             }
            },
            "type": "scattermapbox"
           }
          ],
          "scatterpolar": [
           {
            "marker": {
             "colorbar": {
              "outlinewidth": 0,
              "ticks": ""
             }
            },
            "type": "scatterpolar"
           }
          ],
          "scatterpolargl": [
           {
            "marker": {
             "colorbar": {
              "outlinewidth": 0,
              "ticks": ""
             }
            },
            "type": "scatterpolargl"
           }
          ],
          "scatterternary": [
           {
            "marker": {
             "colorbar": {
              "outlinewidth": 0,
              "ticks": ""
             }
            },
            "type": "scatterternary"
           }
          ],
          "surface": [
           {
            "colorbar": {
             "outlinewidth": 0,
             "ticks": ""
            },
            "colorscale": [
             [
              0,
              "#0d0887"
             ],
             [
              0.1111111111111111,
              "#46039f"
             ],
             [
              0.2222222222222222,
              "#7201a8"
             ],
             [
              0.3333333333333333,
              "#9c179e"
             ],
             [
              0.4444444444444444,
              "#bd3786"
             ],
             [
              0.5555555555555556,
              "#d8576b"
             ],
             [
              0.6666666666666666,
              "#ed7953"
             ],
             [
              0.7777777777777778,
              "#fb9f3a"
             ],
             [
              0.8888888888888888,
              "#fdca26"
             ],
             [
              1,
              "#f0f921"
             ]
            ],
            "type": "surface"
           }
          ],
          "table": [
           {
            "cells": {
             "fill": {
              "color": "#EBF0F8"
             },
             "line": {
              "color": "white"
             }
            },
            "header": {
             "fill": {
              "color": "#C8D4E3"
             },
             "line": {
              "color": "white"
             }
            },
            "type": "table"
           }
          ]
         },
         "layout": {
          "annotationdefaults": {
           "arrowcolor": "#2a3f5f",
           "arrowhead": 0,
           "arrowwidth": 1
          },
          "coloraxis": {
           "colorbar": {
            "outlinewidth": 0,
            "ticks": ""
           }
          },
          "colorscale": {
           "diverging": [
            [
             0,
             "#8e0152"
            ],
            [
             0.1,
             "#c51b7d"
            ],
            [
             0.2,
             "#de77ae"
            ],
            [
             0.3,
             "#f1b6da"
            ],
            [
             0.4,
             "#fde0ef"
            ],
            [
             0.5,
             "#f7f7f7"
            ],
            [
             0.6,
             "#e6f5d0"
            ],
            [
             0.7,
             "#b8e186"
            ],
            [
             0.8,
             "#7fbc41"
            ],
            [
             0.9,
             "#4d9221"
            ],
            [
             1,
             "#276419"
            ]
           ],
           "sequential": [
            [
             0,
             "#0d0887"
            ],
            [
             0.1111111111111111,
             "#46039f"
            ],
            [
             0.2222222222222222,
             "#7201a8"
            ],
            [
             0.3333333333333333,
             "#9c179e"
            ],
            [
             0.4444444444444444,
             "#bd3786"
            ],
            [
             0.5555555555555556,
             "#d8576b"
            ],
            [
             0.6666666666666666,
             "#ed7953"
            ],
            [
             0.7777777777777778,
             "#fb9f3a"
            ],
            [
             0.8888888888888888,
             "#fdca26"
            ],
            [
             1,
             "#f0f921"
            ]
           ],
           "sequentialminus": [
            [
             0,
             "#0d0887"
            ],
            [
             0.1111111111111111,
             "#46039f"
            ],
            [
             0.2222222222222222,
             "#7201a8"
            ],
            [
             0.3333333333333333,
             "#9c179e"
            ],
            [
             0.4444444444444444,
             "#bd3786"
            ],
            [
             0.5555555555555556,
             "#d8576b"
            ],
            [
             0.6666666666666666,
             "#ed7953"
            ],
            [
             0.7777777777777778,
             "#fb9f3a"
            ],
            [
             0.8888888888888888,
             "#fdca26"
            ],
            [
             1,
             "#f0f921"
            ]
           ]
          },
          "colorway": [
           "#636efa",
           "#EF553B",
           "#00cc96",
           "#ab63fa",
           "#FFA15A",
           "#19d3f3",
           "#FF6692",
           "#B6E880",
           "#FF97FF",
           "#FECB52"
          ],
          "font": {
           "color": "#2a3f5f"
          },
          "geo": {
           "bgcolor": "white",
           "lakecolor": "white",
           "landcolor": "#E5ECF6",
           "showlakes": true,
           "showland": true,
           "subunitcolor": "white"
          },
          "hoverlabel": {
           "align": "left"
          },
          "hovermode": "closest",
          "mapbox": {
           "style": "light"
          },
          "paper_bgcolor": "white",
          "plot_bgcolor": "#E5ECF6",
          "polar": {
           "angularaxis": {
            "gridcolor": "white",
            "linecolor": "white",
            "ticks": ""
           },
           "bgcolor": "#E5ECF6",
           "radialaxis": {
            "gridcolor": "white",
            "linecolor": "white",
            "ticks": ""
           }
          },
          "scene": {
           "xaxis": {
            "backgroundcolor": "#E5ECF6",
            "gridcolor": "white",
            "gridwidth": 2,
            "linecolor": "white",
            "showbackground": true,
            "ticks": "",
            "zerolinecolor": "white"
           },
           "yaxis": {
            "backgroundcolor": "#E5ECF6",
            "gridcolor": "white",
            "gridwidth": 2,
            "linecolor": "white",
            "showbackground": true,
            "ticks": "",
            "zerolinecolor": "white"
           },
           "zaxis": {
            "backgroundcolor": "#E5ECF6",
            "gridcolor": "white",
            "gridwidth": 2,
            "linecolor": "white",
            "showbackground": true,
            "ticks": "",
            "zerolinecolor": "white"
           }
          },
          "shapedefaults": {
           "line": {
            "color": "#2a3f5f"
           }
          },
          "ternary": {
           "aaxis": {
            "gridcolor": "white",
            "linecolor": "white",
            "ticks": ""
           },
           "baxis": {
            "gridcolor": "white",
            "linecolor": "white",
            "ticks": ""
           },
           "bgcolor": "#E5ECF6",
           "caxis": {
            "gridcolor": "white",
            "linecolor": "white",
            "ticks": ""
           }
          },
          "title": {
           "x": 0.05
          },
          "xaxis": {
           "automargin": true,
           "gridcolor": "white",
           "linecolor": "white",
           "ticks": "",
           "title": {
            "standoff": 15
           },
           "zerolinecolor": "white",
           "zerolinewidth": 2
          },
          "yaxis": {
           "automargin": true,
           "gridcolor": "white",
           "linecolor": "white",
           "ticks": "",
           "title": {
            "standoff": 15
           },
           "zerolinecolor": "white",
           "zerolinewidth": 2
          }
         }
        },
        "title": {
         "font": {
          "color": "#4D5663"
         }
        },
        "xaxis": {
         "gridcolor": "#E1E5ED",
         "showgrid": true,
         "tickfont": {
          "color": "#4D5663"
         },
         "title": {
          "font": {
           "color": "#4D5663"
          },
          "text": ""
         },
         "zerolinecolor": "#E1E5ED"
        },
        "yaxis": {
         "gridcolor": "#E1E5ED",
         "showgrid": true,
         "tickfont": {
          "color": "#4D5663"
         },
         "title": {
          "font": {
           "color": "#4D5663"
          },
          "text": ""
         },
         "zerolinecolor": "#E1E5ED"
        }
       }
      },
      "text/html": "<div>\n        \n        \n            <div id=\"3f3021d0-08d2-4b9f-916f-38b35770f6e1\" class=\"plotly-graph-div\" style=\"height:525px; width:100%;\"></div>\n            <script type=\"text/javascript\">\n                require([\"plotly\"], function(Plotly) {\n                    window.PLOTLYENV=window.PLOTLYENV || {};\n                    window.PLOTLYENV.BASE_URL='https://plot.ly';\n                    \n                if (document.getElementById(\"3f3021d0-08d2-4b9f-916f-38b35770f6e1\")) {\n                    Plotly.newPlot(\n                        '3f3021d0-08d2-4b9f-916f-38b35770f6e1',\n                        [{\"line\": {\"color\": \"rgba(255, 153, 51, 1.0)\", \"dash\": \"solid\", \"shape\": \"linear\", \"width\": 1.3}, \"mode\": \"lines\", \"name\": \"A\", \"text\": \"\", \"type\": \"scatter\", \"x\": [0, 1, 2, 3, 4, 5, 6, 7, 8, 9, 10, 11, 12, 13, 14, 15, 16, 17, 18, 19, 20, 21, 22, 23, 24, 25, 26, 27, 28, 29, 30, 31, 32, 33, 34, 35, 36, 37, 38, 39, 40, 41, 42, 43, 44, 45, 46, 47, 48, 49, 50, 51, 52, 53, 54, 55, 56, 57, 58, 59, 60, 61, 62, 63, 64, 65, 66, 67, 68, 69, 70, 71, 72, 73, 74, 75, 76, 77, 78, 79, 80, 81, 82, 83, 84, 85, 86, 87, 88, 89, 90, 91, 92, 93, 94, 95, 96, 97, 98, 99], \"y\": [-0.48325729233229403, -0.6801469232584413, -0.8375638593941594, -0.8882653647324971, 0.3369329682002198, 1.5332393384460155, -0.4958109068306811, 0.25529128381775856, 0.36443246621830866, 0.011763627863710845, -0.8489040944459124, -0.25874833248695134, 1.2755836073180973, -1.2600228259346626, -2.6781492581231947, -0.7242275822894483, 1.3081412072531584, -1.8448343434977177, 0.5108257297289914, 1.5078853308278135, -0.7799561281371661, 1.1248147311608407, -0.9919620025891482, 1.1013303249141366, -0.43149217879776913, 0.2129267873376674, 0.1547275473762396, -1.5683260126927356, 2.7840049871654107, 0.27031735188484474, 0.8683633047336571, -1.389846350986542, -0.46786663578781906, -2.0779621390659297, 1.2828867767936305, -1.0884510648994297, 1.0213746901493257, -0.05878888246257884, -1.3446188024182197, -0.7454278813382993, 1.1765091332317525, -1.1591562966298399, -0.02616506878878219, -1.6118479856638155, 0.569696139357706, 1.8566910147004743, 0.09413685110942295, -0.33804333571530537, -2.053271732051332, 1.177464224627984, -0.1441842047465084, -0.9017460491094729, -0.6317351849737326, 1.0426833324653861, -1.4408682510636759, 0.18370173991590114, -0.9608274607095263, -0.5117463730118246, 0.6293037169773403, -0.8578693630097957, 2.3422875322233025, -0.4071345976474636, -0.8276126802100241, 1.7942749276987053, 0.38302841199651466, 0.9113895697906631, 0.5788642704148587, 2.2795657117185675, -0.02211855812222608, 0.1228592331385394, -1.2533666848769662, 0.9842534755210555, 1.5591483863561952, 0.33120363044533385, -0.7909100117810608, -0.5339160346418095, 1.6703748204378235, 0.18259762895651724, -0.530213301464795, -0.6933913717286806, 1.2385825517447506, -0.08374662326827106, 1.1283408068613219, -0.5243335506412814, -0.681218951498602, -1.0557507203560408, -0.5493108387478299, -0.3248774619763072, 1.883032300667612, 1.695004447251585, -0.8140541254788838, 0.5377873848760677, 0.7581917043467746, 0.816619927313427, 0.27317519379582567, 1.4309861245969506, -0.48430609448209755, -0.664737834915157, 0.2414003853354637, -0.33468634357597127]}, {\"line\": {\"color\": \"rgba(55, 128, 191, 1.0)\", \"dash\": \"solid\", \"shape\": \"linear\", \"width\": 1.3}, \"mode\": \"lines\", \"name\": \"B\", \"text\": \"\", \"type\": \"scatter\", \"x\": [0, 1, 2, 3, 4, 5, 6, 7, 8, 9, 10, 11, 12, 13, 14, 15, 16, 17, 18, 19, 20, 21, 22, 23, 24, 25, 26, 27, 28, 29, 30, 31, 32, 33, 34, 35, 36, 37, 38, 39, 40, 41, 42, 43, 44, 45, 46, 47, 48, 49, 50, 51, 52, 53, 54, 55, 56, 57, 58, 59, 60, 61, 62, 63, 64, 65, 66, 67, 68, 69, 70, 71, 72, 73, 74, 75, 76, 77, 78, 79, 80, 81, 82, 83, 84, 85, 86, 87, 88, 89, 90, 91, 92, 93, 94, 95, 96, 97, 98, 99], \"y\": [-1.3927173484233957, -0.8384891188861266, -0.09959392787557626, -0.34517373201334406, 0.7695820725156822, 0.8143161905283209, 0.6424656934099338, 0.9389199039524504, -2.1238188619787044, -0.893085737904552, 0.012860764931138417, -1.1318926803919251, 0.8243106940799912, 0.03819986680800088, 2.0361777794837344, -1.3867844004931162, -1.3342809100543542, -0.7559650349941774, 0.9431869936587628, -0.7292353017105296, 0.26398698192207704, 0.34935584252720875, -0.8907921787559141, -1.714304516517587, -0.33602074280726957, 0.14577796311860552, -0.6007142431277214, -0.44423421142674, -2.367438036753166, 0.5602731678041215, 0.21987234033905276, 1.2325230941909604, 0.5297134492851983, -1.1055582363452796, -0.6613228785375624, -0.5521601076824234, -0.050555018172360536, -0.6101807599377929, -0.002968902971095136, 0.42841892268558546, 0.18777398458622327, 1.2477146480091446, -0.2384926737277862, 1.2877344149031817, 1.85275606072833, -1.4989694195585188, 0.3973272778404027, 0.032729278573143276, -0.3380245785557796, -1.9778675062685787, 0.501496687173523, 0.6984819811985156, 0.28468721241939965, -1.8782763898118704, -0.5726261522272114, -0.1926966288221137, 0.8890964722990194, -1.4345273158503902, 0.7709587722104292, -0.325919418683105, -0.41245632797110804, -0.718289525271531, 0.6761765745160662, 1.2185951508512314, -0.4593499501488937, 0.5758361543852849, 0.9023911370863095, -0.8333306471382453, -1.323752517968216, 0.6755218029003134, 0.1848147524425046, -0.8607646832335739, 1.3452962959600823, -2.059652828010228, 0.6687329357943761, -0.043517241120167464, 2.256249209154247, -0.35645693894901925, 0.9031428576518158, -1.2700514096432127, 0.5507452805892401, 0.6864768180089855, 0.5044572517554488, 0.11391909110956715, -2.6789145336337064, -1.3459570712606075, 1.4411385398883014, -0.44285250185454955, 1.7639445410817005, -0.2112152724191136, 0.3056658805922514, 0.07720067227148605, 0.3467743181645393, 1.9879896376435917, -1.2225526206253794, -1.5378700982573048, 1.0690117257033522, -0.5166079885567552, -0.32760903806852637, 0.1477899857467717]}, {\"line\": {\"color\": \"rgba(50, 171, 96, 1.0)\", \"dash\": \"solid\", \"shape\": \"linear\", \"width\": 1.3}, \"mode\": \"lines\", \"name\": \"C\", \"text\": \"\", \"type\": \"scatter\", \"x\": [0, 1, 2, 3, 4, 5, 6, 7, 8, 9, 10, 11, 12, 13, 14, 15, 16, 17, 18, 19, 20, 21, 22, 23, 24, 25, 26, 27, 28, 29, 30, 31, 32, 33, 34, 35, 36, 37, 38, 39, 40, 41, 42, 43, 44, 45, 46, 47, 48, 49, 50, 51, 52, 53, 54, 55, 56, 57, 58, 59, 60, 61, 62, 63, 64, 65, 66, 67, 68, 69, 70, 71, 72, 73, 74, 75, 76, 77, 78, 79, 80, 81, 82, 83, 84, 85, 86, 87, 88, 89, 90, 91, 92, 93, 94, 95, 96, 97, 98, 99], \"y\": [-0.005593274734868949, -0.288473971983993, 1.163365782052956, -1.547853966086686, 1.3830952405368568, 0.6793199122328621, -1.26753022508557, 0.7666405838475601, -0.699170295405402, -0.1516252578673634, -0.003306048920765442, 0.7661645950611087, -0.24569042075266398, -0.5763897682922402, 0.3628607438414783, -1.3635394804139247, -0.30736836143144913, -0.9625867826896024, -1.1321199391223542, -1.1537838543093815, -0.8152119497666176, -0.5947051078480841, -0.743772948914262, -1.9695344939489643, 2.297356620491305, -0.5776926844796706, -0.48501529438257013, 0.5736845775017696, -0.8996474922581665, 0.22277783057939582, -1.954204561454632, -0.08485580236553661, 0.16564486220929353, -1.4783744669838397, 1.0108802588328099, -0.48670120999063365, 0.3227834522416882, 0.162228061840226, -0.12252602158075877, -0.9671434130892369, 0.5142138783746163, 0.23980938940106217, 1.7117023643346283, -0.21083907005360128, 1.6442084508671244, 0.001974632317316066, 0.4396959915183855, 1.0659361735323793, -1.0019066431281796, 0.18606897721049495, 0.927909188140124, -0.6838124962984189, 0.37045372452082026, 1.269221868073942, -0.7594226639840366, -0.2556838840033645, -0.2102096320006265, -0.14385705567700638, 1.5423198449802913, 0.7893610650542768, -1.2935654659444065, 1.4920274775622149, 0.4203934483019005, -0.4358595940925614, -0.6641409496896902, -0.4516077331898376, 1.8944588335103414, -0.1860985222047413, -0.240049566965618, 2.168632575979525, -0.1668941522920608, -0.5543136462992834, -0.25526997328395135, -0.029136659004589543, 1.699552881442931, -0.7862365694921897, 1.7419649405412687, 0.7264377433600098, 0.8802494088601106, 0.49291596986509967, -0.46832007963785327, -0.22201065572501383, 1.4643350989814594, 0.22509584000918084, 0.32960867196417803, 0.375580504586509, -0.9068986099563627, -0.7731707914278191, -0.503606427045413, 0.31113873679487897, 1.0910838208342193, 0.16898806972345684, 0.42540634942206257, 2.5347251308732885, -0.32700596569718626, -0.2416536792876466, 0.2047374261276733, -0.6762653622550718, -2.5400165137975743, 1.0325939992118118]}, {\"line\": {\"color\": \"rgba(128, 0, 128, 1.0)\", \"dash\": \"solid\", \"shape\": \"linear\", \"width\": 1.3}, \"mode\": \"lines\", \"name\": \"D\", \"text\": \"\", \"type\": \"scatter\", \"x\": [0, 1, 2, 3, 4, 5, 6, 7, 8, 9, 10, 11, 12, 13, 14, 15, 16, 17, 18, 19, 20, 21, 22, 23, 24, 25, 26, 27, 28, 29, 30, 31, 32, 33, 34, 35, 36, 37, 38, 39, 40, 41, 42, 43, 44, 45, 46, 47, 48, 49, 50, 51, 52, 53, 54, 55, 56, 57, 58, 59, 60, 61, 62, 63, 64, 65, 66, 67, 68, 69, 70, 71, 72, 73, 74, 75, 76, 77, 78, 79, 80, 81, 82, 83, 84, 85, 86, 87, 88, 89, 90, 91, 92, 93, 94, 95, 96, 97, 98, 99], \"y\": [-0.43379468269913296, -0.6296964198509847, -0.08461107401480267, -0.40092727558348057, 0.19899851981933747, 1.2817604060201464, -0.08596480863550218, 0.5581544034285231, -0.03407658761151557, 1.9052858105427557, 0.8573496381059845, 0.7246632627492985, 2.165632371482043, -0.32344935939337727, 0.11984693154087925, -0.846452120816249, -1.2338872695294532, 0.2786624095721226, -1.076373106922323, 0.35314136072521646, -0.9388040299324244, 0.08784519637516232, 0.8574261071297831, 0.9435723794904356, -0.7993522146351116, -0.10559934287045927, 0.9088360048617034, 0.5146994607982517, -0.4403635112618269, -0.7685899493677069, 0.1780316117266545, -0.10256468775571166, -0.6420519782029881, 1.1303729428243923, 0.042956293583050156, -1.422306307374088, 1.1541451832113083, 0.14001088437346748, 0.9213142983661913, -2.1980052198784708, 2.83415037648326, 0.7502921198274051, -1.1555437399430828, 0.9498716229000003, -1.335281096767551, -1.146062558038957, 0.5397321400725726, 0.7724142605140071, 1.3417495880251487, 0.8842981783031152, -0.920724322622848, -1.8321115068913008, -1.1795675106867747, -0.17577889943045014, -0.9329468689107387, 0.6947799543153891, -0.4228898042412951, -0.022064934038156153, -0.4705542949988653, 1.5993063281489912, -0.31294736318218014, 0.2742606114289679, 0.5082775583809864, 0.05224796572998851, -1.4781622461611963, 1.2575918727202422, -1.750425273885751, -0.4490766315002428, 2.1381521718217296, -0.011282360454533983, -1.2396509292151592, -0.19884163074116018, -1.234401285923715, 0.594734182324311, 0.018505566193897854, -1.1140716427118535, -1.0399752202754085, -0.638281339603792, -0.31827005555221527, 1.341260767793052, -1.615951403788844, 0.15357040605572542, -0.4608292205936979, 0.165419258752936, 0.5806847648105539, 0.5253178899662075, -1.3531787102126227, 1.587600758081621, 0.25139011499340125, -1.1890496351460684, 0.6241077146857426, 0.13683807392022923, 1.725094942820954, 0.9956067012313309, 1.045487358403904, 0.03948297521656207, 0.373979582624551, 0.8506845055929937, 1.3105621553293387, 2.351237102571402]}],\n                        {\"legend\": {\"bgcolor\": \"#F5F6F9\", \"font\": {\"color\": \"#4D5663\"}}, \"paper_bgcolor\": \"#F5F6F9\", \"plot_bgcolor\": \"#F5F6F9\", \"template\": {\"data\": {\"bar\": [{\"error_x\": {\"color\": \"#2a3f5f\"}, \"error_y\": {\"color\": \"#2a3f5f\"}, \"marker\": {\"line\": {\"color\": \"#E5ECF6\", \"width\": 0.5}}, \"type\": \"bar\"}], \"barpolar\": [{\"marker\": {\"line\": {\"color\": \"#E5ECF6\", \"width\": 0.5}}, \"type\": \"barpolar\"}], \"carpet\": [{\"aaxis\": {\"endlinecolor\": \"#2a3f5f\", \"gridcolor\": \"white\", \"linecolor\": \"white\", \"minorgridcolor\": \"white\", \"startlinecolor\": \"#2a3f5f\"}, \"baxis\": {\"endlinecolor\": \"#2a3f5f\", \"gridcolor\": \"white\", \"linecolor\": \"white\", \"minorgridcolor\": \"white\", \"startlinecolor\": \"#2a3f5f\"}, \"type\": \"carpet\"}], \"choropleth\": [{\"colorbar\": {\"outlinewidth\": 0, \"ticks\": \"\"}, \"type\": \"choropleth\"}], \"contour\": [{\"colorbar\": {\"outlinewidth\": 0, \"ticks\": \"\"}, \"colorscale\": [[0.0, \"#0d0887\"], [0.1111111111111111, \"#46039f\"], [0.2222222222222222, \"#7201a8\"], [0.3333333333333333, \"#9c179e\"], [0.4444444444444444, \"#bd3786\"], [0.5555555555555556, \"#d8576b\"], [0.6666666666666666, \"#ed7953\"], [0.7777777777777778, \"#fb9f3a\"], [0.8888888888888888, \"#fdca26\"], [1.0, \"#f0f921\"]], \"type\": \"contour\"}], \"contourcarpet\": [{\"colorbar\": {\"outlinewidth\": 0, \"ticks\": \"\"}, \"type\": \"contourcarpet\"}], \"heatmap\": [{\"colorbar\": {\"outlinewidth\": 0, \"ticks\": \"\"}, \"colorscale\": [[0.0, \"#0d0887\"], [0.1111111111111111, \"#46039f\"], [0.2222222222222222, \"#7201a8\"], [0.3333333333333333, \"#9c179e\"], [0.4444444444444444, \"#bd3786\"], [0.5555555555555556, \"#d8576b\"], [0.6666666666666666, \"#ed7953\"], [0.7777777777777778, \"#fb9f3a\"], [0.8888888888888888, \"#fdca26\"], [1.0, \"#f0f921\"]], \"type\": \"heatmap\"}], \"heatmapgl\": [{\"colorbar\": {\"outlinewidth\": 0, \"ticks\": \"\"}, \"colorscale\": [[0.0, \"#0d0887\"], [0.1111111111111111, \"#46039f\"], [0.2222222222222222, \"#7201a8\"], [0.3333333333333333, \"#9c179e\"], [0.4444444444444444, \"#bd3786\"], [0.5555555555555556, \"#d8576b\"], [0.6666666666666666, \"#ed7953\"], [0.7777777777777778, \"#fb9f3a\"], [0.8888888888888888, \"#fdca26\"], [1.0, \"#f0f921\"]], \"type\": \"heatmapgl\"}], \"histogram\": [{\"marker\": {\"colorbar\": {\"outlinewidth\": 0, \"ticks\": \"\"}}, \"type\": \"histogram\"}], \"histogram2d\": [{\"colorbar\": {\"outlinewidth\": 0, \"ticks\": \"\"}, \"colorscale\": [[0.0, \"#0d0887\"], [0.1111111111111111, \"#46039f\"], [0.2222222222222222, \"#7201a8\"], [0.3333333333333333, \"#9c179e\"], [0.4444444444444444, \"#bd3786\"], [0.5555555555555556, \"#d8576b\"], [0.6666666666666666, \"#ed7953\"], [0.7777777777777778, \"#fb9f3a\"], [0.8888888888888888, \"#fdca26\"], [1.0, \"#f0f921\"]], \"type\": \"histogram2d\"}], \"histogram2dcontour\": [{\"colorbar\": {\"outlinewidth\": 0, \"ticks\": \"\"}, \"colorscale\": [[0.0, \"#0d0887\"], [0.1111111111111111, \"#46039f\"], [0.2222222222222222, \"#7201a8\"], [0.3333333333333333, \"#9c179e\"], [0.4444444444444444, \"#bd3786\"], [0.5555555555555556, \"#d8576b\"], [0.6666666666666666, \"#ed7953\"], [0.7777777777777778, \"#fb9f3a\"], [0.8888888888888888, \"#fdca26\"], [1.0, \"#f0f921\"]], \"type\": \"histogram2dcontour\"}], \"mesh3d\": [{\"colorbar\": {\"outlinewidth\": 0, \"ticks\": \"\"}, \"type\": \"mesh3d\"}], \"parcoords\": [{\"line\": {\"colorbar\": {\"outlinewidth\": 0, \"ticks\": \"\"}}, \"type\": \"parcoords\"}], \"pie\": [{\"automargin\": true, \"type\": \"pie\"}], \"scatter\": [{\"marker\": {\"colorbar\": {\"outlinewidth\": 0, \"ticks\": \"\"}}, \"type\": \"scatter\"}], \"scatter3d\": [{\"line\": {\"colorbar\": {\"outlinewidth\": 0, \"ticks\": \"\"}}, \"marker\": {\"colorbar\": {\"outlinewidth\": 0, \"ticks\": \"\"}}, \"type\": \"scatter3d\"}], \"scattercarpet\": [{\"marker\": {\"colorbar\": {\"outlinewidth\": 0, \"ticks\": \"\"}}, \"type\": \"scattercarpet\"}], \"scattergeo\": [{\"marker\": {\"colorbar\": {\"outlinewidth\": 0, \"ticks\": \"\"}}, \"type\": \"scattergeo\"}], \"scattergl\": [{\"marker\": {\"colorbar\": {\"outlinewidth\": 0, \"ticks\": \"\"}}, \"type\": \"scattergl\"}], \"scattermapbox\": [{\"marker\": {\"colorbar\": {\"outlinewidth\": 0, \"ticks\": \"\"}}, \"type\": \"scattermapbox\"}], \"scatterpolar\": [{\"marker\": {\"colorbar\": {\"outlinewidth\": 0, \"ticks\": \"\"}}, \"type\": \"scatterpolar\"}], \"scatterpolargl\": [{\"marker\": {\"colorbar\": {\"outlinewidth\": 0, \"ticks\": \"\"}}, \"type\": \"scatterpolargl\"}], \"scatterternary\": [{\"marker\": {\"colorbar\": {\"outlinewidth\": 0, \"ticks\": \"\"}}, \"type\": \"scatterternary\"}], \"surface\": [{\"colorbar\": {\"outlinewidth\": 0, \"ticks\": \"\"}, \"colorscale\": [[0.0, \"#0d0887\"], [0.1111111111111111, \"#46039f\"], [0.2222222222222222, \"#7201a8\"], [0.3333333333333333, \"#9c179e\"], [0.4444444444444444, \"#bd3786\"], [0.5555555555555556, \"#d8576b\"], [0.6666666666666666, \"#ed7953\"], [0.7777777777777778, \"#fb9f3a\"], [0.8888888888888888, \"#fdca26\"], [1.0, \"#f0f921\"]], \"type\": \"surface\"}], \"table\": [{\"cells\": {\"fill\": {\"color\": \"#EBF0F8\"}, \"line\": {\"color\": \"white\"}}, \"header\": {\"fill\": {\"color\": \"#C8D4E3\"}, \"line\": {\"color\": \"white\"}}, \"type\": \"table\"}]}, \"layout\": {\"annotationdefaults\": {\"arrowcolor\": \"#2a3f5f\", \"arrowhead\": 0, \"arrowwidth\": 1}, \"coloraxis\": {\"colorbar\": {\"outlinewidth\": 0, \"ticks\": \"\"}}, \"colorscale\": {\"diverging\": [[0, \"#8e0152\"], [0.1, \"#c51b7d\"], [0.2, \"#de77ae\"], [0.3, \"#f1b6da\"], [0.4, \"#fde0ef\"], [0.5, \"#f7f7f7\"], [0.6, \"#e6f5d0\"], [0.7, \"#b8e186\"], [0.8, \"#7fbc41\"], [0.9, \"#4d9221\"], [1, \"#276419\"]], \"sequential\": [[0.0, \"#0d0887\"], [0.1111111111111111, \"#46039f\"], [0.2222222222222222, \"#7201a8\"], [0.3333333333333333, \"#9c179e\"], [0.4444444444444444, \"#bd3786\"], [0.5555555555555556, \"#d8576b\"], [0.6666666666666666, \"#ed7953\"], [0.7777777777777778, \"#fb9f3a\"], [0.8888888888888888, \"#fdca26\"], [1.0, \"#f0f921\"]], \"sequentialminus\": [[0.0, \"#0d0887\"], [0.1111111111111111, \"#46039f\"], [0.2222222222222222, \"#7201a8\"], [0.3333333333333333, \"#9c179e\"], [0.4444444444444444, \"#bd3786\"], [0.5555555555555556, \"#d8576b\"], [0.6666666666666666, \"#ed7953\"], [0.7777777777777778, \"#fb9f3a\"], [0.8888888888888888, \"#fdca26\"], [1.0, \"#f0f921\"]]}, \"colorway\": [\"#636efa\", \"#EF553B\", \"#00cc96\", \"#ab63fa\", \"#FFA15A\", \"#19d3f3\", \"#FF6692\", \"#B6E880\", \"#FF97FF\", \"#FECB52\"], \"font\": {\"color\": \"#2a3f5f\"}, \"geo\": {\"bgcolor\": \"white\", \"lakecolor\": \"white\", \"landcolor\": \"#E5ECF6\", \"showlakes\": true, \"showland\": true, \"subunitcolor\": \"white\"}, \"hoverlabel\": {\"align\": \"left\"}, \"hovermode\": \"closest\", \"mapbox\": {\"style\": \"light\"}, \"paper_bgcolor\": \"white\", \"plot_bgcolor\": \"#E5ECF6\", \"polar\": {\"angularaxis\": {\"gridcolor\": \"white\", \"linecolor\": \"white\", \"ticks\": \"\"}, \"bgcolor\": \"#E5ECF6\", \"radialaxis\": {\"gridcolor\": \"white\", \"linecolor\": \"white\", \"ticks\": \"\"}}, \"scene\": {\"xaxis\": {\"backgroundcolor\": \"#E5ECF6\", \"gridcolor\": \"white\", \"gridwidth\": 2, \"linecolor\": \"white\", \"showbackground\": true, \"ticks\": \"\", \"zerolinecolor\": \"white\"}, \"yaxis\": {\"backgroundcolor\": \"#E5ECF6\", \"gridcolor\": \"white\", \"gridwidth\": 2, \"linecolor\": \"white\", \"showbackground\": true, \"ticks\": \"\", \"zerolinecolor\": \"white\"}, \"zaxis\": {\"backgroundcolor\": \"#E5ECF6\", \"gridcolor\": \"white\", \"gridwidth\": 2, \"linecolor\": \"white\", \"showbackground\": true, \"ticks\": \"\", \"zerolinecolor\": \"white\"}}, \"shapedefaults\": {\"line\": {\"color\": \"#2a3f5f\"}}, \"ternary\": {\"aaxis\": {\"gridcolor\": \"white\", \"linecolor\": \"white\", \"ticks\": \"\"}, \"baxis\": {\"gridcolor\": \"white\", \"linecolor\": \"white\", \"ticks\": \"\"}, \"bgcolor\": \"#E5ECF6\", \"caxis\": {\"gridcolor\": \"white\", \"linecolor\": \"white\", \"ticks\": \"\"}}, \"title\": {\"x\": 0.05}, \"xaxis\": {\"automargin\": true, \"gridcolor\": \"white\", \"linecolor\": \"white\", \"ticks\": \"\", \"title\": {\"standoff\": 15}, \"zerolinecolor\": \"white\", \"zerolinewidth\": 2}, \"yaxis\": {\"automargin\": true, \"gridcolor\": \"white\", \"linecolor\": \"white\", \"ticks\": \"\", \"title\": {\"standoff\": 15}, \"zerolinecolor\": \"white\", \"zerolinewidth\": 2}}}, \"title\": {\"font\": {\"color\": \"#4D5663\"}}, \"xaxis\": {\"gridcolor\": \"#E1E5ED\", \"showgrid\": true, \"tickfont\": {\"color\": \"#4D5663\"}, \"title\": {\"font\": {\"color\": \"#4D5663\"}, \"text\": \"\"}, \"zerolinecolor\": \"#E1E5ED\"}, \"yaxis\": {\"gridcolor\": \"#E1E5ED\", \"showgrid\": true, \"tickfont\": {\"color\": \"#4D5663\"}, \"title\": {\"font\": {\"color\": \"#4D5663\"}, \"text\": \"\"}, \"zerolinecolor\": \"#E1E5ED\"}},\n                        {\"showLink\": true, \"linkText\": \"Export to plot.ly\", \"plotlyServerURL\": \"https://plot.ly\", \"responsive\": true}\n                    ).then(function(){\n                            \nvar gd = document.getElementById('3f3021d0-08d2-4b9f-916f-38b35770f6e1');\nvar x = new MutationObserver(function (mutations, observer) {{\n        var display = window.getComputedStyle(gd).display;\n        if (!display || display === 'none') {{\n            console.log([gd, 'removed!']);\n            Plotly.purge(gd);\n            observer.disconnect();\n        }}\n}});\n\n// Listen for the removal of the full notebook cells\nvar notebookContainer = gd.closest('#notebook-container');\nif (notebookContainer) {{\n    x.observe(notebookContainer, {childList: true});\n}}\n\n// Listen for the clearing of the current output cell\nvar outputEl = gd.closest('.output');\nif (outputEl) {{\n    x.observe(outputEl, {childList: true});\n}}\n\n                        })\n                };\n                });\n            </script>\n        </div>"
     },
     "metadata": {}
    }
   ],
   "source": [
    "df.iplot() # interactive plot"
   ]
  },
  {
   "cell_type": "markdown",
   "metadata": {},
   "source": [
    "## Scatter"
   ]
  },
  {
   "cell_type": "code",
   "execution_count": 20,
   "metadata": {
    "collapsed": false
   },
   "outputs": [
    {
     "data": {
      "text/html": [
       "<div id=\"6af44dac-de6e-4bca-b4a6-a5a4eb631d68\" style=\"height: 525px; width: 100%;\" class=\"plotly-graph-div\"></div><script type=\"text/javascript\">require([\"plotly\"], function(Plotly) { window.PLOTLYENV=window.PLOTLYENV || {};window.PLOTLYENV.BASE_URL=\"https://plot.ly\";Plotly.newPlot(\"6af44dac-de6e-4bca-b4a6-a5a4eb631d68\", [{\"mode\": \"markers\", \"text\": \"\", \"name\": \"B\", \"x\": [1.8787246669561561, 0.028733616663923985, -0.1587931161277573, -1.2219723462024636, 1.2531523973363488, 0.8312132082951045, 1.1740170898586173, -0.24393002059589958, -0.296966543277261, 0.7621695759158762, 0.04210347865555278, -0.7791970481917073, 0.3943032396655093, -1.0146190736152443, -0.4841710096782867, 0.5522466668361006, -2.77187556758784, -0.5181226698708166, -0.49722040792422156, -1.6534757596659548, -0.06027439377033132, 1.4769243769038323, 1.1796346669498379, -0.7816898015019265, 0.8630132212967984, 0.6590246731638996, -1.1013906677685679, -0.9446804895542242, -1.788022470413331, 0.8775002821729455, 0.3546715768521251, -0.16532125735222183, 1.8914747239632839, -1.1251772915449791, 0.8888981026894395, -0.6066117727706714, 0.8314777742724779, 0.3830457069359529, -0.937459527593053, -0.844561047334305, 1.1280232245052606, -1.640427972598561, 0.8971269652786067, 0.4848047458342485, 0.19373507090654035, -0.7387091317560727, -0.3566733282792827, -0.43158335134818315, -0.4899640124314907, 0.5488715658495908, 0.2821768987731658, -0.8832439438038343, 1.271863067044618, 0.10680856505919414, 0.8269478103679717, -0.03266751467505833, -0.34021520002722894, -0.6769186069469743, 0.7126188256918854, 1.8871150025438166, -0.06742662656190869, -1.4789736197389265, 0.346978601690099, -0.3757389938313092, 0.715285859520045, 1.5994858611908638, -0.3692558358591885, 0.13827360227735647, -0.40690530542342296, 0.636973800943974, 0.14658752987818605, -0.3949906255692418, 1.5076392623927681, -0.15486042602397807, 0.22159940179664614, -1.0878244818277978, -0.03354417910293162, 1.2258839316932069, -0.048951028800266715, -1.1089870994157809, 0.021452684803338333, 1.2548854256528554, -1.0913797662237141, -0.539059741192553, 0.6901269187662552, -1.4810451728120602, -0.8468654201203714, 0.3763927872506507, 0.8120568488462931, 0.0031767062628090745, 0.697742291538818, -0.7429703118062226, -0.842231117346612, -0.0666718362166121, 1.8829720647783421, 1.320112956074407, 0.42394324402947475, 0.466299928509142, 0.9415282138953815, -0.7707938096473991], \"line\": {\"dash\": \"solid\", \"width\": 1.3, \"color\": \"rgba(226, 74, 51, 1.0)\"}, \"type\": \"scatter\", \"marker\": {\"size\": 10, \"symbol\": \"dot\"}, \"y\": [0.6887194376286498, 0.1040535242504629, 0.38792642015276635, 1.3934230260395444, -0.5375976688704683, -1.1493608786796612, 0.01342890849383506, -0.47231861415738574, 0.24793169472844812, -0.6232083144122951, -1.2121596694710122, -2.4542371001007464, 0.29855785553142483, 1.2997620162676498, 0.9168047366909585, -0.41040614900130634, 1.3147531456519106, -0.12455263569370086, 0.9366143523054554, 0.23573463729990726, -0.8244746170540388, -0.32685668230128845, 1.501781503113865, 0.9830012153240587, 0.6020112305361386, 0.3688304138086671, 1.0090827131320237, -0.5811720111587422, 0.0512884505619472, -1.6917643070157176, -0.25322144257612356, -0.2937357494665306, 0.7368726362448421, 0.5763424997076779, 0.16472110066593693, -0.374254076023172, 1.1280304809680426, 0.6455371548668151, -0.18000225503004413, -0.9128911232313937, -0.5670695205365133, 0.16138491502455474, 1.2118733837294762, 0.4444506280024997, 0.6834767601409083, 1.8020727241195935, 2.4230878273709062, 0.27701889696287213, 1.4067122280705426, -0.33728919328412016, 0.5154870435338148, 0.7751019637809062, 1.400130435077449, 0.8276591566099151, 1.1268119555303864, 0.7016118169589718, 0.476169530704683, -0.5261125753709399, -1.2129692872143456, 0.6126338497954396, 1.5825905557818922, -0.8173630045970658, 0.1075602248072928, 1.2716988894407462, -0.15615948990467535, -0.2968566839654392, 1.7204934641303604, -0.869876624137026, 0.28935077735906545, -1.2052876742800458, -0.263979336251353, -0.02815365780209253, -0.04062347728476395, 0.943760296027789, -1.7797735906553165, 0.4485755919087686, 0.14778332986993048, 0.5305019463041807, 1.6359913516932165, -0.3437427119285297, 1.9109783094330681, 0.6818924480193401, -0.42214824562337705, 0.8935317581184008, 1.2587495288352297, -0.5992845246668753, 2.7851237345776405, -1.5158096238899554, 0.04177421570103183, 0.48980398157362903, 1.063643861677667, -0.8486329162129157, -1.86936339853131, 0.24761777046722996, 1.290606988097702, 0.17046338292604407, 0.14181179559597848, 0.6505415244850333, -2.5850581533594545, -0.30813091794721653]}], {\"legend\": {\"font\": {\"color\": \"#666666\"}, \"bgcolor\": \"#FFFFFF\"}, \"titlefont\": {\"color\": \"#151516\"}, \"xaxis1\": {\"titlefont\": {\"color\": \"#666666\"}, \"zerolinecolor\": \"#F6F6F6\", \"title\": \"\", \"tickfont\": {\"color\": \"#666666\"}, \"showgrid\": true, \"gridcolor\": \"#F6F6F6\"}, \"paper_bgcolor\": \"#FFFFFF\", \"plot_bgcolor\": \"#E5E5E5\", \"yaxis1\": {\"titlefont\": {\"color\": \"#666666\"}, \"zerolinecolor\": \"#F6F6F6\", \"title\": \"\", \"tickfont\": {\"color\": \"#666666\"}, \"showgrid\": true, \"gridcolor\": \"#F6F6F6\"}}, {\"showLink\": true, \"linkText\": \"Export to plot.ly\"})});</script>"
      ],
      "text/plain": [
       "<IPython.core.display.HTML object>"
      ]
     },
     "metadata": {},
     "output_type": "display_data"
    }
   ],
   "source": [
    "df.iplot(kind='scatter',x='A',y='B',mode='markers',size=10)"
   ]
  },
  {
   "cell_type": "markdown",
   "metadata": {},
   "source": [
    "## Bar Plots"
   ]
  },
  {
   "cell_type": "code",
   "execution_count": 18,
   "metadata": {
    "collapsed": false
   },
   "outputs": [
    {
     "output_type": "display_data",
     "data": {
      "application/vnd.plotly.v1+json": {
       "config": {
        "linkText": "Export to plot.ly",
        "plotlyServerURL": "https://plot.ly",
        "showLink": true
       },
       "data": [
        {
         "marker": {
          "color": "rgba(255, 153, 51, 0.6)",
          "line": {
           "color": "rgba(255, 153, 51, 1.0)",
           "width": 1
          }
         },
         "name": "Values",
         "orientation": "v",
         "text": "",
         "type": "bar",
         "x": [
          "A",
          "B",
          "C"
         ],
         "y": [
          32,
          43,
          50
         ]
        }
       ],
       "layout": {
        "legend": {
         "bgcolor": "#F5F6F9",
         "font": {
          "color": "#4D5663"
         }
        },
        "paper_bgcolor": "#F5F6F9",
        "plot_bgcolor": "#F5F6F9",
        "template": {
         "data": {
          "bar": [
           {
            "error_x": {
             "color": "#2a3f5f"
            },
            "error_y": {
             "color": "#2a3f5f"
            },
            "marker": {
             "line": {
              "color": "#E5ECF6",
              "width": 0.5
             }
            },
            "type": "bar"
           }
          ],
          "barpolar": [
           {
            "marker": {
             "line": {
              "color": "#E5ECF6",
              "width": 0.5
             }
            },
            "type": "barpolar"
           }
          ],
          "carpet": [
           {
            "aaxis": {
             "endlinecolor": "#2a3f5f",
             "gridcolor": "white",
             "linecolor": "white",
             "minorgridcolor": "white",
             "startlinecolor": "#2a3f5f"
            },
            "baxis": {
             "endlinecolor": "#2a3f5f",
             "gridcolor": "white",
             "linecolor": "white",
             "minorgridcolor": "white",
             "startlinecolor": "#2a3f5f"
            },
            "type": "carpet"
           }
          ],
          "choropleth": [
           {
            "colorbar": {
             "outlinewidth": 0,
             "ticks": ""
            },
            "type": "choropleth"
           }
          ],
          "contour": [
           {
            "colorbar": {
             "outlinewidth": 0,
             "ticks": ""
            },
            "colorscale": [
             [
              0,
              "#0d0887"
             ],
             [
              0.1111111111111111,
              "#46039f"
             ],
             [
              0.2222222222222222,
              "#7201a8"
             ],
             [
              0.3333333333333333,
              "#9c179e"
             ],
             [
              0.4444444444444444,
              "#bd3786"
             ],
             [
              0.5555555555555556,
              "#d8576b"
             ],
             [
              0.6666666666666666,
              "#ed7953"
             ],
             [
              0.7777777777777778,
              "#fb9f3a"
             ],
             [
              0.8888888888888888,
              "#fdca26"
             ],
             [
              1,
              "#f0f921"
             ]
            ],
            "type": "contour"
           }
          ],
          "contourcarpet": [
           {
            "colorbar": {
             "outlinewidth": 0,
             "ticks": ""
            },
            "type": "contourcarpet"
           }
          ],
          "heatmap": [
           {
            "colorbar": {
             "outlinewidth": 0,
             "ticks": ""
            },
            "colorscale": [
             [
              0,
              "#0d0887"
             ],
             [
              0.1111111111111111,
              "#46039f"
             ],
             [
              0.2222222222222222,
              "#7201a8"
             ],
             [
              0.3333333333333333,
              "#9c179e"
             ],
             [
              0.4444444444444444,
              "#bd3786"
             ],
             [
              0.5555555555555556,
              "#d8576b"
             ],
             [
              0.6666666666666666,
              "#ed7953"
             ],
             [
              0.7777777777777778,
              "#fb9f3a"
             ],
             [
              0.8888888888888888,
              "#fdca26"
             ],
             [
              1,
              "#f0f921"
             ]
            ],
            "type": "heatmap"
           }
          ],
          "heatmapgl": [
           {
            "colorbar": {
             "outlinewidth": 0,
             "ticks": ""
            },
            "colorscale": [
             [
              0,
              "#0d0887"
             ],
             [
              0.1111111111111111,
              "#46039f"
             ],
             [
              0.2222222222222222,
              "#7201a8"
             ],
             [
              0.3333333333333333,
              "#9c179e"
             ],
             [
              0.4444444444444444,
              "#bd3786"
             ],
             [
              0.5555555555555556,
              "#d8576b"
             ],
             [
              0.6666666666666666,
              "#ed7953"
             ],
             [
              0.7777777777777778,
              "#fb9f3a"
             ],
             [
              0.8888888888888888,
              "#fdca26"
             ],
             [
              1,
              "#f0f921"
             ]
            ],
            "type": "heatmapgl"
           }
          ],
          "histogram": [
           {
            "marker": {
             "colorbar": {
              "outlinewidth": 0,
              "ticks": ""
             }
            },
            "type": "histogram"
           }
          ],
          "histogram2d": [
           {
            "colorbar": {
             "outlinewidth": 0,
             "ticks": ""
            },
            "colorscale": [
             [
              0,
              "#0d0887"
             ],
             [
              0.1111111111111111,
              "#46039f"
             ],
             [
              0.2222222222222222,
              "#7201a8"
             ],
             [
              0.3333333333333333,
              "#9c179e"
             ],
             [
              0.4444444444444444,
              "#bd3786"
             ],
             [
              0.5555555555555556,
              "#d8576b"
             ],
             [
              0.6666666666666666,
              "#ed7953"
             ],
             [
              0.7777777777777778,
              "#fb9f3a"
             ],
             [
              0.8888888888888888,
              "#fdca26"
             ],
             [
              1,
              "#f0f921"
             ]
            ],
            "type": "histogram2d"
           }
          ],
          "histogram2dcontour": [
           {
            "colorbar": {
             "outlinewidth": 0,
             "ticks": ""
            },
            "colorscale": [
             [
              0,
              "#0d0887"
             ],
             [
              0.1111111111111111,
              "#46039f"
             ],
             [
              0.2222222222222222,
              "#7201a8"
             ],
             [
              0.3333333333333333,
              "#9c179e"
             ],
             [
              0.4444444444444444,
              "#bd3786"
             ],
             [
              0.5555555555555556,
              "#d8576b"
             ],
             [
              0.6666666666666666,
              "#ed7953"
             ],
             [
              0.7777777777777778,
              "#fb9f3a"
             ],
             [
              0.8888888888888888,
              "#fdca26"
             ],
             [
              1,
              "#f0f921"
             ]
            ],
            "type": "histogram2dcontour"
           }
          ],
          "mesh3d": [
           {
            "colorbar": {
             "outlinewidth": 0,
             "ticks": ""
            },
            "type": "mesh3d"
           }
          ],
          "parcoords": [
           {
            "line": {
             "colorbar": {
              "outlinewidth": 0,
              "ticks": ""
             }
            },
            "type": "parcoords"
           }
          ],
          "pie": [
           {
            "automargin": true,
            "type": "pie"
           }
          ],
          "scatter": [
           {
            "marker": {
             "colorbar": {
              "outlinewidth": 0,
              "ticks": ""
             }
            },
            "type": "scatter"
           }
          ],
          "scatter3d": [
           {
            "line": {
             "colorbar": {
              "outlinewidth": 0,
              "ticks": ""
             }
            },
            "marker": {
             "colorbar": {
              "outlinewidth": 0,
              "ticks": ""
             }
            },
            "type": "scatter3d"
           }
          ],
          "scattercarpet": [
           {
            "marker": {
             "colorbar": {
              "outlinewidth": 0,
              "ticks": ""
             }
            },
            "type": "scattercarpet"
           }
          ],
          "scattergeo": [
           {
            "marker": {
             "colorbar": {
              "outlinewidth": 0,
              "ticks": ""
             }
            },
            "type": "scattergeo"
           }
          ],
          "scattergl": [
           {
            "marker": {
             "colorbar": {
              "outlinewidth": 0,
              "ticks": ""
             }
            },
            "type": "scattergl"
           }
          ],
          "scattermapbox": [
           {
            "marker": {
             "colorbar": {
              "outlinewidth": 0,
              "ticks": ""
             }
            },
            "type": "scattermapbox"
           }
          ],
          "scatterpolar": [
           {
            "marker": {
             "colorbar": {
              "outlinewidth": 0,
              "ticks": ""
             }
            },
            "type": "scatterpolar"
           }
          ],
          "scatterpolargl": [
           {
            "marker": {
             "colorbar": {
              "outlinewidth": 0,
              "ticks": ""
             }
            },
            "type": "scatterpolargl"
           }
          ],
          "scatterternary": [
           {
            "marker": {
             "colorbar": {
              "outlinewidth": 0,
              "ticks": ""
             }
            },
            "type": "scatterternary"
           }
          ],
          "surface": [
           {
            "colorbar": {
             "outlinewidth": 0,
             "ticks": ""
            },
            "colorscale": [
             [
              0,
              "#0d0887"
             ],
             [
              0.1111111111111111,
              "#46039f"
             ],
             [
              0.2222222222222222,
              "#7201a8"
             ],
             [
              0.3333333333333333,
              "#9c179e"
             ],
             [
              0.4444444444444444,
              "#bd3786"
             ],
             [
              0.5555555555555556,
              "#d8576b"
             ],
             [
              0.6666666666666666,
              "#ed7953"
             ],
             [
              0.7777777777777778,
              "#fb9f3a"
             ],
             [
              0.8888888888888888,
              "#fdca26"
             ],
             [
              1,
              "#f0f921"
             ]
            ],
            "type": "surface"
           }
          ],
          "table": [
           {
            "cells": {
             "fill": {
              "color": "#EBF0F8"
             },
             "line": {
              "color": "white"
             }
            },
            "header": {
             "fill": {
              "color": "#C8D4E3"
             },
             "line": {
              "color": "white"
             }
            },
            "type": "table"
           }
          ]
         },
         "layout": {
          "annotationdefaults": {
           "arrowcolor": "#2a3f5f",
           "arrowhead": 0,
           "arrowwidth": 1
          },
          "coloraxis": {
           "colorbar": {
            "outlinewidth": 0,
            "ticks": ""
           }
          },
          "colorscale": {
           "diverging": [
            [
             0,
             "#8e0152"
            ],
            [
             0.1,
             "#c51b7d"
            ],
            [
             0.2,
             "#de77ae"
            ],
            [
             0.3,
             "#f1b6da"
            ],
            [
             0.4,
             "#fde0ef"
            ],
            [
             0.5,
             "#f7f7f7"
            ],
            [
             0.6,
             "#e6f5d0"
            ],
            [
             0.7,
             "#b8e186"
            ],
            [
             0.8,
             "#7fbc41"
            ],
            [
             0.9,
             "#4d9221"
            ],
            [
             1,
             "#276419"
            ]
           ],
           "sequential": [
            [
             0,
             "#0d0887"
            ],
            [
             0.1111111111111111,
             "#46039f"
            ],
            [
             0.2222222222222222,
             "#7201a8"
            ],
            [
             0.3333333333333333,
             "#9c179e"
            ],
            [
             0.4444444444444444,
             "#bd3786"
            ],
            [
             0.5555555555555556,
             "#d8576b"
            ],
            [
             0.6666666666666666,
             "#ed7953"
            ],
            [
             0.7777777777777778,
             "#fb9f3a"
            ],
            [
             0.8888888888888888,
             "#fdca26"
            ],
            [
             1,
             "#f0f921"
            ]
           ],
           "sequentialminus": [
            [
             0,
             "#0d0887"
            ],
            [
             0.1111111111111111,
             "#46039f"
            ],
            [
             0.2222222222222222,
             "#7201a8"
            ],
            [
             0.3333333333333333,
             "#9c179e"
            ],
            [
             0.4444444444444444,
             "#bd3786"
            ],
            [
             0.5555555555555556,
             "#d8576b"
            ],
            [
             0.6666666666666666,
             "#ed7953"
            ],
            [
             0.7777777777777778,
             "#fb9f3a"
            ],
            [
             0.8888888888888888,
             "#fdca26"
            ],
            [
             1,
             "#f0f921"
            ]
           ]
          },
          "colorway": [
           "#636efa",
           "#EF553B",
           "#00cc96",
           "#ab63fa",
           "#FFA15A",
           "#19d3f3",
           "#FF6692",
           "#B6E880",
           "#FF97FF",
           "#FECB52"
          ],
          "font": {
           "color": "#2a3f5f"
          },
          "geo": {
           "bgcolor": "white",
           "lakecolor": "white",
           "landcolor": "#E5ECF6",
           "showlakes": true,
           "showland": true,
           "subunitcolor": "white"
          },
          "hoverlabel": {
           "align": "left"
          },
          "hovermode": "closest",
          "mapbox": {
           "style": "light"
          },
          "paper_bgcolor": "white",
          "plot_bgcolor": "#E5ECF6",
          "polar": {
           "angularaxis": {
            "gridcolor": "white",
            "linecolor": "white",
            "ticks": ""
           },
           "bgcolor": "#E5ECF6",
           "radialaxis": {
            "gridcolor": "white",
            "linecolor": "white",
            "ticks": ""
           }
          },
          "scene": {
           "xaxis": {
            "backgroundcolor": "#E5ECF6",
            "gridcolor": "white",
            "gridwidth": 2,
            "linecolor": "white",
            "showbackground": true,
            "ticks": "",
            "zerolinecolor": "white"
           },
           "yaxis": {
            "backgroundcolor": "#E5ECF6",
            "gridcolor": "white",
            "gridwidth": 2,
            "linecolor": "white",
            "showbackground": true,
            "ticks": "",
            "zerolinecolor": "white"
           },
           "zaxis": {
            "backgroundcolor": "#E5ECF6",
            "gridcolor": "white",
            "gridwidth": 2,
            "linecolor": "white",
            "showbackground": true,
            "ticks": "",
            "zerolinecolor": "white"
           }
          },
          "shapedefaults": {
           "line": {
            "color": "#2a3f5f"
           }
          },
          "ternary": {
           "aaxis": {
            "gridcolor": "white",
            "linecolor": "white",
            "ticks": ""
           },
           "baxis": {
            "gridcolor": "white",
            "linecolor": "white",
            "ticks": ""
           },
           "bgcolor": "#E5ECF6",
           "caxis": {
            "gridcolor": "white",
            "linecolor": "white",
            "ticks": ""
           }
          },
          "title": {
           "x": 0.05
          },
          "xaxis": {
           "automargin": true,
           "gridcolor": "white",
           "linecolor": "white",
           "ticks": "",
           "title": {
            "standoff": 15
           },
           "zerolinecolor": "white",
           "zerolinewidth": 2
          },
          "yaxis": {
           "automargin": true,
           "gridcolor": "white",
           "linecolor": "white",
           "ticks": "",
           "title": {
            "standoff": 15
           },
           "zerolinecolor": "white",
           "zerolinewidth": 2
          }
         }
        },
        "title": {
         "font": {
          "color": "#4D5663"
         }
        },
        "xaxis": {
         "gridcolor": "#E1E5ED",
         "showgrid": true,
         "tickfont": {
          "color": "#4D5663"
         },
         "title": {
          "font": {
           "color": "#4D5663"
          },
          "text": ""
         },
         "zerolinecolor": "#E1E5ED"
        },
        "yaxis": {
         "gridcolor": "#E1E5ED",
         "showgrid": true,
         "tickfont": {
          "color": "#4D5663"
         },
         "title": {
          "font": {
           "color": "#4D5663"
          },
          "text": ""
         },
         "zerolinecolor": "#E1E5ED"
        }
       }
      },
      "text/html": "<div>\n        \n        \n            <div id=\"b2bd9b9f-4bb3-42f0-950c-6bc7f3204a77\" class=\"plotly-graph-div\" style=\"height:525px; width:100%;\"></div>\n            <script type=\"text/javascript\">\n                require([\"plotly\"], function(Plotly) {\n                    window.PLOTLYENV=window.PLOTLYENV || {};\n                    window.PLOTLYENV.BASE_URL='https://plot.ly';\n                    \n                if (document.getElementById(\"b2bd9b9f-4bb3-42f0-950c-6bc7f3204a77\")) {\n                    Plotly.newPlot(\n                        'b2bd9b9f-4bb3-42f0-950c-6bc7f3204a77',\n                        [{\"marker\": {\"color\": \"rgba(255, 153, 51, 0.6)\", \"line\": {\"color\": \"rgba(255, 153, 51, 1.0)\", \"width\": 1}}, \"name\": \"Values\", \"orientation\": \"v\", \"text\": \"\", \"type\": \"bar\", \"x\": [\"A\", \"B\", \"C\"], \"y\": [32, 43, 50]}],\n                        {\"legend\": {\"bgcolor\": \"#F5F6F9\", \"font\": {\"color\": \"#4D5663\"}}, \"paper_bgcolor\": \"#F5F6F9\", \"plot_bgcolor\": \"#F5F6F9\", \"template\": {\"data\": {\"bar\": [{\"error_x\": {\"color\": \"#2a3f5f\"}, \"error_y\": {\"color\": \"#2a3f5f\"}, \"marker\": {\"line\": {\"color\": \"#E5ECF6\", \"width\": 0.5}}, \"type\": \"bar\"}], \"barpolar\": [{\"marker\": {\"line\": {\"color\": \"#E5ECF6\", \"width\": 0.5}}, \"type\": \"barpolar\"}], \"carpet\": [{\"aaxis\": {\"endlinecolor\": \"#2a3f5f\", \"gridcolor\": \"white\", \"linecolor\": \"white\", \"minorgridcolor\": \"white\", \"startlinecolor\": \"#2a3f5f\"}, \"baxis\": {\"endlinecolor\": \"#2a3f5f\", \"gridcolor\": \"white\", \"linecolor\": \"white\", \"minorgridcolor\": \"white\", \"startlinecolor\": \"#2a3f5f\"}, \"type\": \"carpet\"}], \"choropleth\": [{\"colorbar\": {\"outlinewidth\": 0, \"ticks\": \"\"}, \"type\": \"choropleth\"}], \"contour\": [{\"colorbar\": {\"outlinewidth\": 0, \"ticks\": \"\"}, \"colorscale\": [[0.0, \"#0d0887\"], [0.1111111111111111, \"#46039f\"], [0.2222222222222222, \"#7201a8\"], [0.3333333333333333, \"#9c179e\"], [0.4444444444444444, \"#bd3786\"], [0.5555555555555556, \"#d8576b\"], [0.6666666666666666, \"#ed7953\"], [0.7777777777777778, \"#fb9f3a\"], [0.8888888888888888, \"#fdca26\"], [1.0, \"#f0f921\"]], \"type\": \"contour\"}], \"contourcarpet\": [{\"colorbar\": {\"outlinewidth\": 0, \"ticks\": \"\"}, \"type\": \"contourcarpet\"}], \"heatmap\": [{\"colorbar\": {\"outlinewidth\": 0, \"ticks\": \"\"}, \"colorscale\": [[0.0, \"#0d0887\"], [0.1111111111111111, \"#46039f\"], [0.2222222222222222, \"#7201a8\"], [0.3333333333333333, \"#9c179e\"], [0.4444444444444444, \"#bd3786\"], [0.5555555555555556, \"#d8576b\"], [0.6666666666666666, \"#ed7953\"], [0.7777777777777778, \"#fb9f3a\"], [0.8888888888888888, \"#fdca26\"], [1.0, \"#f0f921\"]], \"type\": \"heatmap\"}], \"heatmapgl\": [{\"colorbar\": {\"outlinewidth\": 0, \"ticks\": \"\"}, \"colorscale\": [[0.0, \"#0d0887\"], [0.1111111111111111, \"#46039f\"], [0.2222222222222222, \"#7201a8\"], [0.3333333333333333, \"#9c179e\"], [0.4444444444444444, \"#bd3786\"], [0.5555555555555556, \"#d8576b\"], [0.6666666666666666, \"#ed7953\"], [0.7777777777777778, \"#fb9f3a\"], [0.8888888888888888, \"#fdca26\"], [1.0, \"#f0f921\"]], \"type\": \"heatmapgl\"}], \"histogram\": [{\"marker\": {\"colorbar\": {\"outlinewidth\": 0, \"ticks\": \"\"}}, \"type\": \"histogram\"}], \"histogram2d\": [{\"colorbar\": {\"outlinewidth\": 0, \"ticks\": \"\"}, \"colorscale\": [[0.0, \"#0d0887\"], [0.1111111111111111, \"#46039f\"], [0.2222222222222222, \"#7201a8\"], [0.3333333333333333, \"#9c179e\"], [0.4444444444444444, \"#bd3786\"], [0.5555555555555556, \"#d8576b\"], [0.6666666666666666, \"#ed7953\"], [0.7777777777777778, \"#fb9f3a\"], [0.8888888888888888, \"#fdca26\"], [1.0, \"#f0f921\"]], \"type\": \"histogram2d\"}], \"histogram2dcontour\": [{\"colorbar\": {\"outlinewidth\": 0, \"ticks\": \"\"}, \"colorscale\": [[0.0, \"#0d0887\"], [0.1111111111111111, \"#46039f\"], [0.2222222222222222, \"#7201a8\"], [0.3333333333333333, \"#9c179e\"], [0.4444444444444444, \"#bd3786\"], [0.5555555555555556, \"#d8576b\"], [0.6666666666666666, \"#ed7953\"], [0.7777777777777778, \"#fb9f3a\"], [0.8888888888888888, \"#fdca26\"], [1.0, \"#f0f921\"]], \"type\": \"histogram2dcontour\"}], \"mesh3d\": [{\"colorbar\": {\"outlinewidth\": 0, \"ticks\": \"\"}, \"type\": \"mesh3d\"}], \"parcoords\": [{\"line\": {\"colorbar\": {\"outlinewidth\": 0, \"ticks\": \"\"}}, \"type\": \"parcoords\"}], \"pie\": [{\"automargin\": true, \"type\": \"pie\"}], \"scatter\": [{\"marker\": {\"colorbar\": {\"outlinewidth\": 0, \"ticks\": \"\"}}, \"type\": \"scatter\"}], \"scatter3d\": [{\"line\": {\"colorbar\": {\"outlinewidth\": 0, \"ticks\": \"\"}}, \"marker\": {\"colorbar\": {\"outlinewidth\": 0, \"ticks\": \"\"}}, \"type\": \"scatter3d\"}], \"scattercarpet\": [{\"marker\": {\"colorbar\": {\"outlinewidth\": 0, \"ticks\": \"\"}}, \"type\": \"scattercarpet\"}], \"scattergeo\": [{\"marker\": {\"colorbar\": {\"outlinewidth\": 0, \"ticks\": \"\"}}, \"type\": \"scattergeo\"}], \"scattergl\": [{\"marker\": {\"colorbar\": {\"outlinewidth\": 0, \"ticks\": \"\"}}, \"type\": \"scattergl\"}], \"scattermapbox\": [{\"marker\": {\"colorbar\": {\"outlinewidth\": 0, \"ticks\": \"\"}}, \"type\": \"scattermapbox\"}], \"scatterpolar\": [{\"marker\": {\"colorbar\": {\"outlinewidth\": 0, \"ticks\": \"\"}}, \"type\": \"scatterpolar\"}], \"scatterpolargl\": [{\"marker\": {\"colorbar\": {\"outlinewidth\": 0, \"ticks\": \"\"}}, \"type\": \"scatterpolargl\"}], \"scatterternary\": [{\"marker\": {\"colorbar\": {\"outlinewidth\": 0, \"ticks\": \"\"}}, \"type\": \"scatterternary\"}], \"surface\": [{\"colorbar\": {\"outlinewidth\": 0, \"ticks\": \"\"}, \"colorscale\": [[0.0, \"#0d0887\"], [0.1111111111111111, \"#46039f\"], [0.2222222222222222, \"#7201a8\"], [0.3333333333333333, \"#9c179e\"], [0.4444444444444444, \"#bd3786\"], [0.5555555555555556, \"#d8576b\"], [0.6666666666666666, \"#ed7953\"], [0.7777777777777778, \"#fb9f3a\"], [0.8888888888888888, \"#fdca26\"], [1.0, \"#f0f921\"]], \"type\": \"surface\"}], \"table\": [{\"cells\": {\"fill\": {\"color\": \"#EBF0F8\"}, \"line\": {\"color\": \"white\"}}, \"header\": {\"fill\": {\"color\": \"#C8D4E3\"}, \"line\": {\"color\": \"white\"}}, \"type\": \"table\"}]}, \"layout\": {\"annotationdefaults\": {\"arrowcolor\": \"#2a3f5f\", \"arrowhead\": 0, \"arrowwidth\": 1}, \"coloraxis\": {\"colorbar\": {\"outlinewidth\": 0, \"ticks\": \"\"}}, \"colorscale\": {\"diverging\": [[0, \"#8e0152\"], [0.1, \"#c51b7d\"], [0.2, \"#de77ae\"], [0.3, \"#f1b6da\"], [0.4, \"#fde0ef\"], [0.5, \"#f7f7f7\"], [0.6, \"#e6f5d0\"], [0.7, \"#b8e186\"], [0.8, \"#7fbc41\"], [0.9, \"#4d9221\"], [1, \"#276419\"]], \"sequential\": [[0.0, \"#0d0887\"], [0.1111111111111111, \"#46039f\"], [0.2222222222222222, \"#7201a8\"], [0.3333333333333333, \"#9c179e\"], [0.4444444444444444, \"#bd3786\"], [0.5555555555555556, \"#d8576b\"], [0.6666666666666666, \"#ed7953\"], [0.7777777777777778, \"#fb9f3a\"], [0.8888888888888888, \"#fdca26\"], [1.0, \"#f0f921\"]], \"sequentialminus\": [[0.0, \"#0d0887\"], [0.1111111111111111, \"#46039f\"], [0.2222222222222222, \"#7201a8\"], [0.3333333333333333, \"#9c179e\"], [0.4444444444444444, \"#bd3786\"], [0.5555555555555556, \"#d8576b\"], [0.6666666666666666, \"#ed7953\"], [0.7777777777777778, \"#fb9f3a\"], [0.8888888888888888, \"#fdca26\"], [1.0, \"#f0f921\"]]}, \"colorway\": [\"#636efa\", \"#EF553B\", \"#00cc96\", \"#ab63fa\", \"#FFA15A\", \"#19d3f3\", \"#FF6692\", \"#B6E880\", \"#FF97FF\", \"#FECB52\"], \"font\": {\"color\": \"#2a3f5f\"}, \"geo\": {\"bgcolor\": \"white\", \"lakecolor\": \"white\", \"landcolor\": \"#E5ECF6\", \"showlakes\": true, \"showland\": true, \"subunitcolor\": \"white\"}, \"hoverlabel\": {\"align\": \"left\"}, \"hovermode\": \"closest\", \"mapbox\": {\"style\": \"light\"}, \"paper_bgcolor\": \"white\", \"plot_bgcolor\": \"#E5ECF6\", \"polar\": {\"angularaxis\": {\"gridcolor\": \"white\", \"linecolor\": \"white\", \"ticks\": \"\"}, \"bgcolor\": \"#E5ECF6\", \"radialaxis\": {\"gridcolor\": \"white\", \"linecolor\": \"white\", \"ticks\": \"\"}}, \"scene\": {\"xaxis\": {\"backgroundcolor\": \"#E5ECF6\", \"gridcolor\": \"white\", \"gridwidth\": 2, \"linecolor\": \"white\", \"showbackground\": true, \"ticks\": \"\", \"zerolinecolor\": \"white\"}, \"yaxis\": {\"backgroundcolor\": \"#E5ECF6\", \"gridcolor\": \"white\", \"gridwidth\": 2, \"linecolor\": \"white\", \"showbackground\": true, \"ticks\": \"\", \"zerolinecolor\": \"white\"}, \"zaxis\": {\"backgroundcolor\": \"#E5ECF6\", \"gridcolor\": \"white\", \"gridwidth\": 2, \"linecolor\": \"white\", \"showbackground\": true, \"ticks\": \"\", \"zerolinecolor\": \"white\"}}, \"shapedefaults\": {\"line\": {\"color\": \"#2a3f5f\"}}, \"ternary\": {\"aaxis\": {\"gridcolor\": \"white\", \"linecolor\": \"white\", \"ticks\": \"\"}, \"baxis\": {\"gridcolor\": \"white\", \"linecolor\": \"white\", \"ticks\": \"\"}, \"bgcolor\": \"#E5ECF6\", \"caxis\": {\"gridcolor\": \"white\", \"linecolor\": \"white\", \"ticks\": \"\"}}, \"title\": {\"x\": 0.05}, \"xaxis\": {\"automargin\": true, \"gridcolor\": \"white\", \"linecolor\": \"white\", \"ticks\": \"\", \"title\": {\"standoff\": 15}, \"zerolinecolor\": \"white\", \"zerolinewidth\": 2}, \"yaxis\": {\"automargin\": true, \"gridcolor\": \"white\", \"linecolor\": \"white\", \"ticks\": \"\", \"title\": {\"standoff\": 15}, \"zerolinecolor\": \"white\", \"zerolinewidth\": 2}}}, \"title\": {\"font\": {\"color\": \"#4D5663\"}}, \"xaxis\": {\"gridcolor\": \"#E1E5ED\", \"showgrid\": true, \"tickfont\": {\"color\": \"#4D5663\"}, \"title\": {\"font\": {\"color\": \"#4D5663\"}, \"text\": \"\"}, \"zerolinecolor\": \"#E1E5ED\"}, \"yaxis\": {\"gridcolor\": \"#E1E5ED\", \"showgrid\": true, \"tickfont\": {\"color\": \"#4D5663\"}, \"title\": {\"font\": {\"color\": \"#4D5663\"}, \"text\": \"\"}, \"zerolinecolor\": \"#E1E5ED\"}},\n                        {\"showLink\": true, \"linkText\": \"Export to plot.ly\", \"plotlyServerURL\": \"https://plot.ly\", \"responsive\": true}\n                    ).then(function(){\n                            \nvar gd = document.getElementById('b2bd9b9f-4bb3-42f0-950c-6bc7f3204a77');\nvar x = new MutationObserver(function (mutations, observer) {{\n        var display = window.getComputedStyle(gd).display;\n        if (!display || display === 'none') {{\n            console.log([gd, 'removed!']);\n            Plotly.purge(gd);\n            observer.disconnect();\n        }}\n}});\n\n// Listen for the removal of the full notebook cells\nvar notebookContainer = gd.closest('#notebook-container');\nif (notebookContainer) {{\n    x.observe(notebookContainer, {childList: true});\n}}\n\n// Listen for the clearing of the current output cell\nvar outputEl = gd.closest('.output');\nif (outputEl) {{\n    x.observe(outputEl, {childList: true});\n}}\n\n                        })\n                };\n                });\n            </script>\n        </div>"
     },
     "metadata": {}
    }
   ],
   "source": [
    "df2.iplot(kind='bar',x='Category',y='Values')"
   ]
  },
  {
   "cell_type": "code",
   "execution_count": 21,
   "metadata": {},
   "outputs": [],
   "source": [
    "agg_data = df.sum()"
   ]
  },
  {
   "cell_type": "code",
   "execution_count": 23,
   "metadata": {},
   "outputs": [
    {
     "output_type": "display_data",
     "data": {
      "application/vnd.plotly.v1+json": {
       "config": {
        "linkText": "Export to plot.ly",
        "plotlyServerURL": "https://plot.ly",
        "showLink": true
       },
       "data": [
        {
         "marker": {
          "color": "rgba(255, 153, 51, 0.6)",
          "line": {
           "color": "rgba(255, 153, 51, 1.0)",
           "width": 1
          }
         },
         "name": "None",
         "orientation": "v",
         "text": "",
         "type": "bar",
         "x": [
          "A",
          "B",
          "C",
          "D"
         ],
         "y": [
          2.6402206856749713,
          -8.143319040916602,
          4.387335540953547,
          8.026604614913156
         ]
        }
       ],
       "layout": {
        "legend": {
         "bgcolor": "#F5F6F9",
         "font": {
          "color": "#4D5663"
         }
        },
        "paper_bgcolor": "#F5F6F9",
        "plot_bgcolor": "#F5F6F9",
        "template": {
         "data": {
          "bar": [
           {
            "error_x": {
             "color": "#2a3f5f"
            },
            "error_y": {
             "color": "#2a3f5f"
            },
            "marker": {
             "line": {
              "color": "#E5ECF6",
              "width": 0.5
             }
            },
            "type": "bar"
           }
          ],
          "barpolar": [
           {
            "marker": {
             "line": {
              "color": "#E5ECF6",
              "width": 0.5
             }
            },
            "type": "barpolar"
           }
          ],
          "carpet": [
           {
            "aaxis": {
             "endlinecolor": "#2a3f5f",
             "gridcolor": "white",
             "linecolor": "white",
             "minorgridcolor": "white",
             "startlinecolor": "#2a3f5f"
            },
            "baxis": {
             "endlinecolor": "#2a3f5f",
             "gridcolor": "white",
             "linecolor": "white",
             "minorgridcolor": "white",
             "startlinecolor": "#2a3f5f"
            },
            "type": "carpet"
           }
          ],
          "choropleth": [
           {
            "colorbar": {
             "outlinewidth": 0,
             "ticks": ""
            },
            "type": "choropleth"
           }
          ],
          "contour": [
           {
            "colorbar": {
             "outlinewidth": 0,
             "ticks": ""
            },
            "colorscale": [
             [
              0,
              "#0d0887"
             ],
             [
              0.1111111111111111,
              "#46039f"
             ],
             [
              0.2222222222222222,
              "#7201a8"
             ],
             [
              0.3333333333333333,
              "#9c179e"
             ],
             [
              0.4444444444444444,
              "#bd3786"
             ],
             [
              0.5555555555555556,
              "#d8576b"
             ],
             [
              0.6666666666666666,
              "#ed7953"
             ],
             [
              0.7777777777777778,
              "#fb9f3a"
             ],
             [
              0.8888888888888888,
              "#fdca26"
             ],
             [
              1,
              "#f0f921"
             ]
            ],
            "type": "contour"
           }
          ],
          "contourcarpet": [
           {
            "colorbar": {
             "outlinewidth": 0,
             "ticks": ""
            },
            "type": "contourcarpet"
           }
          ],
          "heatmap": [
           {
            "colorbar": {
             "outlinewidth": 0,
             "ticks": ""
            },
            "colorscale": [
             [
              0,
              "#0d0887"
             ],
             [
              0.1111111111111111,
              "#46039f"
             ],
             [
              0.2222222222222222,
              "#7201a8"
             ],
             [
              0.3333333333333333,
              "#9c179e"
             ],
             [
              0.4444444444444444,
              "#bd3786"
             ],
             [
              0.5555555555555556,
              "#d8576b"
             ],
             [
              0.6666666666666666,
              "#ed7953"
             ],
             [
              0.7777777777777778,
              "#fb9f3a"
             ],
             [
              0.8888888888888888,
              "#fdca26"
             ],
             [
              1,
              "#f0f921"
             ]
            ],
            "type": "heatmap"
           }
          ],
          "heatmapgl": [
           {
            "colorbar": {
             "outlinewidth": 0,
             "ticks": ""
            },
            "colorscale": [
             [
              0,
              "#0d0887"
             ],
             [
              0.1111111111111111,
              "#46039f"
             ],
             [
              0.2222222222222222,
              "#7201a8"
             ],
             [
              0.3333333333333333,
              "#9c179e"
             ],
             [
              0.4444444444444444,
              "#bd3786"
             ],
             [
              0.5555555555555556,
              "#d8576b"
             ],
             [
              0.6666666666666666,
              "#ed7953"
             ],
             [
              0.7777777777777778,
              "#fb9f3a"
             ],
             [
              0.8888888888888888,
              "#fdca26"
             ],
             [
              1,
              "#f0f921"
             ]
            ],
            "type": "heatmapgl"
           }
          ],
          "histogram": [
           {
            "marker": {
             "colorbar": {
              "outlinewidth": 0,
              "ticks": ""
             }
            },
            "type": "histogram"
           }
          ],
          "histogram2d": [
           {
            "colorbar": {
             "outlinewidth": 0,
             "ticks": ""
            },
            "colorscale": [
             [
              0,
              "#0d0887"
             ],
             [
              0.1111111111111111,
              "#46039f"
             ],
             [
              0.2222222222222222,
              "#7201a8"
             ],
             [
              0.3333333333333333,
              "#9c179e"
             ],
             [
              0.4444444444444444,
              "#bd3786"
             ],
             [
              0.5555555555555556,
              "#d8576b"
             ],
             [
              0.6666666666666666,
              "#ed7953"
             ],
             [
              0.7777777777777778,
              "#fb9f3a"
             ],
             [
              0.8888888888888888,
              "#fdca26"
             ],
             [
              1,
              "#f0f921"
             ]
            ],
            "type": "histogram2d"
           }
          ],
          "histogram2dcontour": [
           {
            "colorbar": {
             "outlinewidth": 0,
             "ticks": ""
            },
            "colorscale": [
             [
              0,
              "#0d0887"
             ],
             [
              0.1111111111111111,
              "#46039f"
             ],
             [
              0.2222222222222222,
              "#7201a8"
             ],
             [
              0.3333333333333333,
              "#9c179e"
             ],
             [
              0.4444444444444444,
              "#bd3786"
             ],
             [
              0.5555555555555556,
              "#d8576b"
             ],
             [
              0.6666666666666666,
              "#ed7953"
             ],
             [
              0.7777777777777778,
              "#fb9f3a"
             ],
             [
              0.8888888888888888,
              "#fdca26"
             ],
             [
              1,
              "#f0f921"
             ]
            ],
            "type": "histogram2dcontour"
           }
          ],
          "mesh3d": [
           {
            "colorbar": {
             "outlinewidth": 0,
             "ticks": ""
            },
            "type": "mesh3d"
           }
          ],
          "parcoords": [
           {
            "line": {
             "colorbar": {
              "outlinewidth": 0,
              "ticks": ""
             }
            },
            "type": "parcoords"
           }
          ],
          "pie": [
           {
            "automargin": true,
            "type": "pie"
           }
          ],
          "scatter": [
           {
            "marker": {
             "colorbar": {
              "outlinewidth": 0,
              "ticks": ""
             }
            },
            "type": "scatter"
           }
          ],
          "scatter3d": [
           {
            "line": {
             "colorbar": {
              "outlinewidth": 0,
              "ticks": ""
             }
            },
            "marker": {
             "colorbar": {
              "outlinewidth": 0,
              "ticks": ""
             }
            },
            "type": "scatter3d"
           }
          ],
          "scattercarpet": [
           {
            "marker": {
             "colorbar": {
              "outlinewidth": 0,
              "ticks": ""
             }
            },
            "type": "scattercarpet"
           }
          ],
          "scattergeo": [
           {
            "marker": {
             "colorbar": {
              "outlinewidth": 0,
              "ticks": ""
             }
            },
            "type": "scattergeo"
           }
          ],
          "scattergl": [
           {
            "marker": {
             "colorbar": {
              "outlinewidth": 0,
              "ticks": ""
             }
            },
            "type": "scattergl"
           }
          ],
          "scattermapbox": [
           {
            "marker": {
             "colorbar": {
              "outlinewidth": 0,
              "ticks": ""
             }
            },
            "type": "scattermapbox"
           }
          ],
          "scatterpolar": [
           {
            "marker": {
             "colorbar": {
              "outlinewidth": 0,
              "ticks": ""
             }
            },
            "type": "scatterpolar"
           }
          ],
          "scatterpolargl": [
           {
            "marker": {
             "colorbar": {
              "outlinewidth": 0,
              "ticks": ""
             }
            },
            "type": "scatterpolargl"
           }
          ],
          "scatterternary": [
           {
            "marker": {
             "colorbar": {
              "outlinewidth": 0,
              "ticks": ""
             }
            },
            "type": "scatterternary"
           }
          ],
          "surface": [
           {
            "colorbar": {
             "outlinewidth": 0,
             "ticks": ""
            },
            "colorscale": [
             [
              0,
              "#0d0887"
             ],
             [
              0.1111111111111111,
              "#46039f"
             ],
             [
              0.2222222222222222,
              "#7201a8"
             ],
             [
              0.3333333333333333,
              "#9c179e"
             ],
             [
              0.4444444444444444,
              "#bd3786"
             ],
             [
              0.5555555555555556,
              "#d8576b"
             ],
             [
              0.6666666666666666,
              "#ed7953"
             ],
             [
              0.7777777777777778,
              "#fb9f3a"
             ],
             [
              0.8888888888888888,
              "#fdca26"
             ],
             [
              1,
              "#f0f921"
             ]
            ],
            "type": "surface"
           }
          ],
          "table": [
           {
            "cells": {
             "fill": {
              "color": "#EBF0F8"
             },
             "line": {
              "color": "white"
             }
            },
            "header": {
             "fill": {
              "color": "#C8D4E3"
             },
             "line": {
              "color": "white"
             }
            },
            "type": "table"
           }
          ]
         },
         "layout": {
          "annotationdefaults": {
           "arrowcolor": "#2a3f5f",
           "arrowhead": 0,
           "arrowwidth": 1
          },
          "coloraxis": {
           "colorbar": {
            "outlinewidth": 0,
            "ticks": ""
           }
          },
          "colorscale": {
           "diverging": [
            [
             0,
             "#8e0152"
            ],
            [
             0.1,
             "#c51b7d"
            ],
            [
             0.2,
             "#de77ae"
            ],
            [
             0.3,
             "#f1b6da"
            ],
            [
             0.4,
             "#fde0ef"
            ],
            [
             0.5,
             "#f7f7f7"
            ],
            [
             0.6,
             "#e6f5d0"
            ],
            [
             0.7,
             "#b8e186"
            ],
            [
             0.8,
             "#7fbc41"
            ],
            [
             0.9,
             "#4d9221"
            ],
            [
             1,
             "#276419"
            ]
           ],
           "sequential": [
            [
             0,
             "#0d0887"
            ],
            [
             0.1111111111111111,
             "#46039f"
            ],
            [
             0.2222222222222222,
             "#7201a8"
            ],
            [
             0.3333333333333333,
             "#9c179e"
            ],
            [
             0.4444444444444444,
             "#bd3786"
            ],
            [
             0.5555555555555556,
             "#d8576b"
            ],
            [
             0.6666666666666666,
             "#ed7953"
            ],
            [
             0.7777777777777778,
             "#fb9f3a"
            ],
            [
             0.8888888888888888,
             "#fdca26"
            ],
            [
             1,
             "#f0f921"
            ]
           ],
           "sequentialminus": [
            [
             0,
             "#0d0887"
            ],
            [
             0.1111111111111111,
             "#46039f"
            ],
            [
             0.2222222222222222,
             "#7201a8"
            ],
            [
             0.3333333333333333,
             "#9c179e"
            ],
            [
             0.4444444444444444,
             "#bd3786"
            ],
            [
             0.5555555555555556,
             "#d8576b"
            ],
            [
             0.6666666666666666,
             "#ed7953"
            ],
            [
             0.7777777777777778,
             "#fb9f3a"
            ],
            [
             0.8888888888888888,
             "#fdca26"
            ],
            [
             1,
             "#f0f921"
            ]
           ]
          },
          "colorway": [
           "#636efa",
           "#EF553B",
           "#00cc96",
           "#ab63fa",
           "#FFA15A",
           "#19d3f3",
           "#FF6692",
           "#B6E880",
           "#FF97FF",
           "#FECB52"
          ],
          "font": {
           "color": "#2a3f5f"
          },
          "geo": {
           "bgcolor": "white",
           "lakecolor": "white",
           "landcolor": "#E5ECF6",
           "showlakes": true,
           "showland": true,
           "subunitcolor": "white"
          },
          "hoverlabel": {
           "align": "left"
          },
          "hovermode": "closest",
          "mapbox": {
           "style": "light"
          },
          "paper_bgcolor": "white",
          "plot_bgcolor": "#E5ECF6",
          "polar": {
           "angularaxis": {
            "gridcolor": "white",
            "linecolor": "white",
            "ticks": ""
           },
           "bgcolor": "#E5ECF6",
           "radialaxis": {
            "gridcolor": "white",
            "linecolor": "white",
            "ticks": ""
           }
          },
          "scene": {
           "xaxis": {
            "backgroundcolor": "#E5ECF6",
            "gridcolor": "white",
            "gridwidth": 2,
            "linecolor": "white",
            "showbackground": true,
            "ticks": "",
            "zerolinecolor": "white"
           },
           "yaxis": {
            "backgroundcolor": "#E5ECF6",
            "gridcolor": "white",
            "gridwidth": 2,
            "linecolor": "white",
            "showbackground": true,
            "ticks": "",
            "zerolinecolor": "white"
           },
           "zaxis": {
            "backgroundcolor": "#E5ECF6",
            "gridcolor": "white",
            "gridwidth": 2,
            "linecolor": "white",
            "showbackground": true,
            "ticks": "",
            "zerolinecolor": "white"
           }
          },
          "shapedefaults": {
           "line": {
            "color": "#2a3f5f"
           }
          },
          "ternary": {
           "aaxis": {
            "gridcolor": "white",
            "linecolor": "white",
            "ticks": ""
           },
           "baxis": {
            "gridcolor": "white",
            "linecolor": "white",
            "ticks": ""
           },
           "bgcolor": "#E5ECF6",
           "caxis": {
            "gridcolor": "white",
            "linecolor": "white",
            "ticks": ""
           }
          },
          "title": {
           "x": 0.05
          },
          "xaxis": {
           "automargin": true,
           "gridcolor": "white",
           "linecolor": "white",
           "ticks": "",
           "title": {
            "standoff": 15
           },
           "zerolinecolor": "white",
           "zerolinewidth": 2
          },
          "yaxis": {
           "automargin": true,
           "gridcolor": "white",
           "linecolor": "white",
           "ticks": "",
           "title": {
            "standoff": 15
           },
           "zerolinecolor": "white",
           "zerolinewidth": 2
          }
         }
        },
        "title": {
         "font": {
          "color": "#4D5663"
         }
        },
        "xaxis": {
         "gridcolor": "#E1E5ED",
         "showgrid": true,
         "tickfont": {
          "color": "#4D5663"
         },
         "title": {
          "font": {
           "color": "#4D5663"
          },
          "text": ""
         },
         "zerolinecolor": "#E1E5ED"
        },
        "yaxis": {
         "gridcolor": "#E1E5ED",
         "showgrid": true,
         "tickfont": {
          "color": "#4D5663"
         },
         "title": {
          "font": {
           "color": "#4D5663"
          },
          "text": ""
         },
         "zerolinecolor": "#E1E5ED"
        }
       }
      },
      "text/html": "<div>\n        \n        \n            <div id=\"b5a26350-8cf7-4095-b588-1f559d046903\" class=\"plotly-graph-div\" style=\"height:525px; width:100%;\"></div>\n            <script type=\"text/javascript\">\n                require([\"plotly\"], function(Plotly) {\n                    window.PLOTLYENV=window.PLOTLYENV || {};\n                    window.PLOTLYENV.BASE_URL='https://plot.ly';\n                    \n                if (document.getElementById(\"b5a26350-8cf7-4095-b588-1f559d046903\")) {\n                    Plotly.newPlot(\n                        'b5a26350-8cf7-4095-b588-1f559d046903',\n                        [{\"marker\": {\"color\": \"rgba(255, 153, 51, 0.6)\", \"line\": {\"color\": \"rgba(255, 153, 51, 1.0)\", \"width\": 1}}, \"name\": \"None\", \"orientation\": \"v\", \"text\": \"\", \"type\": \"bar\", \"x\": [\"A\", \"B\", \"C\", \"D\"], \"y\": [2.6402206856749713, -8.143319040916602, 4.387335540953547, 8.026604614913156]}],\n                        {\"legend\": {\"bgcolor\": \"#F5F6F9\", \"font\": {\"color\": \"#4D5663\"}}, \"paper_bgcolor\": \"#F5F6F9\", \"plot_bgcolor\": \"#F5F6F9\", \"template\": {\"data\": {\"bar\": [{\"error_x\": {\"color\": \"#2a3f5f\"}, \"error_y\": {\"color\": \"#2a3f5f\"}, \"marker\": {\"line\": {\"color\": \"#E5ECF6\", \"width\": 0.5}}, \"type\": \"bar\"}], \"barpolar\": [{\"marker\": {\"line\": {\"color\": \"#E5ECF6\", \"width\": 0.5}}, \"type\": \"barpolar\"}], \"carpet\": [{\"aaxis\": {\"endlinecolor\": \"#2a3f5f\", \"gridcolor\": \"white\", \"linecolor\": \"white\", \"minorgridcolor\": \"white\", \"startlinecolor\": \"#2a3f5f\"}, \"baxis\": {\"endlinecolor\": \"#2a3f5f\", \"gridcolor\": \"white\", \"linecolor\": \"white\", \"minorgridcolor\": \"white\", \"startlinecolor\": \"#2a3f5f\"}, \"type\": \"carpet\"}], \"choropleth\": [{\"colorbar\": {\"outlinewidth\": 0, \"ticks\": \"\"}, \"type\": \"choropleth\"}], \"contour\": [{\"colorbar\": {\"outlinewidth\": 0, \"ticks\": \"\"}, \"colorscale\": [[0.0, \"#0d0887\"], [0.1111111111111111, \"#46039f\"], [0.2222222222222222, \"#7201a8\"], [0.3333333333333333, \"#9c179e\"], [0.4444444444444444, \"#bd3786\"], [0.5555555555555556, \"#d8576b\"], [0.6666666666666666, \"#ed7953\"], [0.7777777777777778, \"#fb9f3a\"], [0.8888888888888888, \"#fdca26\"], [1.0, \"#f0f921\"]], \"type\": \"contour\"}], \"contourcarpet\": [{\"colorbar\": {\"outlinewidth\": 0, \"ticks\": \"\"}, \"type\": \"contourcarpet\"}], \"heatmap\": [{\"colorbar\": {\"outlinewidth\": 0, \"ticks\": \"\"}, \"colorscale\": [[0.0, \"#0d0887\"], [0.1111111111111111, \"#46039f\"], [0.2222222222222222, \"#7201a8\"], [0.3333333333333333, \"#9c179e\"], [0.4444444444444444, \"#bd3786\"], [0.5555555555555556, \"#d8576b\"], [0.6666666666666666, \"#ed7953\"], [0.7777777777777778, \"#fb9f3a\"], [0.8888888888888888, \"#fdca26\"], [1.0, \"#f0f921\"]], \"type\": \"heatmap\"}], \"heatmapgl\": [{\"colorbar\": {\"outlinewidth\": 0, \"ticks\": \"\"}, \"colorscale\": [[0.0, \"#0d0887\"], [0.1111111111111111, \"#46039f\"], [0.2222222222222222, \"#7201a8\"], [0.3333333333333333, \"#9c179e\"], [0.4444444444444444, \"#bd3786\"], [0.5555555555555556, \"#d8576b\"], [0.6666666666666666, \"#ed7953\"], [0.7777777777777778, \"#fb9f3a\"], [0.8888888888888888, \"#fdca26\"], [1.0, \"#f0f921\"]], \"type\": \"heatmapgl\"}], \"histogram\": [{\"marker\": {\"colorbar\": {\"outlinewidth\": 0, \"ticks\": \"\"}}, \"type\": \"histogram\"}], \"histogram2d\": [{\"colorbar\": {\"outlinewidth\": 0, \"ticks\": \"\"}, \"colorscale\": [[0.0, \"#0d0887\"], [0.1111111111111111, \"#46039f\"], [0.2222222222222222, \"#7201a8\"], [0.3333333333333333, \"#9c179e\"], [0.4444444444444444, \"#bd3786\"], [0.5555555555555556, \"#d8576b\"], [0.6666666666666666, \"#ed7953\"], [0.7777777777777778, \"#fb9f3a\"], [0.8888888888888888, \"#fdca26\"], [1.0, \"#f0f921\"]], \"type\": \"histogram2d\"}], \"histogram2dcontour\": [{\"colorbar\": {\"outlinewidth\": 0, \"ticks\": \"\"}, \"colorscale\": [[0.0, \"#0d0887\"], [0.1111111111111111, \"#46039f\"], [0.2222222222222222, \"#7201a8\"], [0.3333333333333333, \"#9c179e\"], [0.4444444444444444, \"#bd3786\"], [0.5555555555555556, \"#d8576b\"], [0.6666666666666666, \"#ed7953\"], [0.7777777777777778, \"#fb9f3a\"], [0.8888888888888888, \"#fdca26\"], [1.0, \"#f0f921\"]], \"type\": \"histogram2dcontour\"}], \"mesh3d\": [{\"colorbar\": {\"outlinewidth\": 0, \"ticks\": \"\"}, \"type\": \"mesh3d\"}], \"parcoords\": [{\"line\": {\"colorbar\": {\"outlinewidth\": 0, \"ticks\": \"\"}}, \"type\": \"parcoords\"}], \"pie\": [{\"automargin\": true, \"type\": \"pie\"}], \"scatter\": [{\"marker\": {\"colorbar\": {\"outlinewidth\": 0, \"ticks\": \"\"}}, \"type\": \"scatter\"}], \"scatter3d\": [{\"line\": {\"colorbar\": {\"outlinewidth\": 0, \"ticks\": \"\"}}, \"marker\": {\"colorbar\": {\"outlinewidth\": 0, \"ticks\": \"\"}}, \"type\": \"scatter3d\"}], \"scattercarpet\": [{\"marker\": {\"colorbar\": {\"outlinewidth\": 0, \"ticks\": \"\"}}, \"type\": \"scattercarpet\"}], \"scattergeo\": [{\"marker\": {\"colorbar\": {\"outlinewidth\": 0, \"ticks\": \"\"}}, \"type\": \"scattergeo\"}], \"scattergl\": [{\"marker\": {\"colorbar\": {\"outlinewidth\": 0, \"ticks\": \"\"}}, \"type\": \"scattergl\"}], \"scattermapbox\": [{\"marker\": {\"colorbar\": {\"outlinewidth\": 0, \"ticks\": \"\"}}, \"type\": \"scattermapbox\"}], \"scatterpolar\": [{\"marker\": {\"colorbar\": {\"outlinewidth\": 0, \"ticks\": \"\"}}, \"type\": \"scatterpolar\"}], \"scatterpolargl\": [{\"marker\": {\"colorbar\": {\"outlinewidth\": 0, \"ticks\": \"\"}}, \"type\": \"scatterpolargl\"}], \"scatterternary\": [{\"marker\": {\"colorbar\": {\"outlinewidth\": 0, \"ticks\": \"\"}}, \"type\": \"scatterternary\"}], \"surface\": [{\"colorbar\": {\"outlinewidth\": 0, \"ticks\": \"\"}, \"colorscale\": [[0.0, \"#0d0887\"], [0.1111111111111111, \"#46039f\"], [0.2222222222222222, \"#7201a8\"], [0.3333333333333333, \"#9c179e\"], [0.4444444444444444, \"#bd3786\"], [0.5555555555555556, \"#d8576b\"], [0.6666666666666666, \"#ed7953\"], [0.7777777777777778, \"#fb9f3a\"], [0.8888888888888888, \"#fdca26\"], [1.0, \"#f0f921\"]], \"type\": \"surface\"}], \"table\": [{\"cells\": {\"fill\": {\"color\": \"#EBF0F8\"}, \"line\": {\"color\": \"white\"}}, \"header\": {\"fill\": {\"color\": \"#C8D4E3\"}, \"line\": {\"color\": \"white\"}}, \"type\": \"table\"}]}, \"layout\": {\"annotationdefaults\": {\"arrowcolor\": \"#2a3f5f\", \"arrowhead\": 0, \"arrowwidth\": 1}, \"coloraxis\": {\"colorbar\": {\"outlinewidth\": 0, \"ticks\": \"\"}}, \"colorscale\": {\"diverging\": [[0, \"#8e0152\"], [0.1, \"#c51b7d\"], [0.2, \"#de77ae\"], [0.3, \"#f1b6da\"], [0.4, \"#fde0ef\"], [0.5, \"#f7f7f7\"], [0.6, \"#e6f5d0\"], [0.7, \"#b8e186\"], [0.8, \"#7fbc41\"], [0.9, \"#4d9221\"], [1, \"#276419\"]], \"sequential\": [[0.0, \"#0d0887\"], [0.1111111111111111, \"#46039f\"], [0.2222222222222222, \"#7201a8\"], [0.3333333333333333, \"#9c179e\"], [0.4444444444444444, \"#bd3786\"], [0.5555555555555556, \"#d8576b\"], [0.6666666666666666, \"#ed7953\"], [0.7777777777777778, \"#fb9f3a\"], [0.8888888888888888, \"#fdca26\"], [1.0, \"#f0f921\"]], \"sequentialminus\": [[0.0, \"#0d0887\"], [0.1111111111111111, \"#46039f\"], [0.2222222222222222, \"#7201a8\"], [0.3333333333333333, \"#9c179e\"], [0.4444444444444444, \"#bd3786\"], [0.5555555555555556, \"#d8576b\"], [0.6666666666666666, \"#ed7953\"], [0.7777777777777778, \"#fb9f3a\"], [0.8888888888888888, \"#fdca26\"], [1.0, \"#f0f921\"]]}, \"colorway\": [\"#636efa\", \"#EF553B\", \"#00cc96\", \"#ab63fa\", \"#FFA15A\", \"#19d3f3\", \"#FF6692\", \"#B6E880\", \"#FF97FF\", \"#FECB52\"], \"font\": {\"color\": \"#2a3f5f\"}, \"geo\": {\"bgcolor\": \"white\", \"lakecolor\": \"white\", \"landcolor\": \"#E5ECF6\", \"showlakes\": true, \"showland\": true, \"subunitcolor\": \"white\"}, \"hoverlabel\": {\"align\": \"left\"}, \"hovermode\": \"closest\", \"mapbox\": {\"style\": \"light\"}, \"paper_bgcolor\": \"white\", \"plot_bgcolor\": \"#E5ECF6\", \"polar\": {\"angularaxis\": {\"gridcolor\": \"white\", \"linecolor\": \"white\", \"ticks\": \"\"}, \"bgcolor\": \"#E5ECF6\", \"radialaxis\": {\"gridcolor\": \"white\", \"linecolor\": \"white\", \"ticks\": \"\"}}, \"scene\": {\"xaxis\": {\"backgroundcolor\": \"#E5ECF6\", \"gridcolor\": \"white\", \"gridwidth\": 2, \"linecolor\": \"white\", \"showbackground\": true, \"ticks\": \"\", \"zerolinecolor\": \"white\"}, \"yaxis\": {\"backgroundcolor\": \"#E5ECF6\", \"gridcolor\": \"white\", \"gridwidth\": 2, \"linecolor\": \"white\", \"showbackground\": true, \"ticks\": \"\", \"zerolinecolor\": \"white\"}, \"zaxis\": {\"backgroundcolor\": \"#E5ECF6\", \"gridcolor\": \"white\", \"gridwidth\": 2, \"linecolor\": \"white\", \"showbackground\": true, \"ticks\": \"\", \"zerolinecolor\": \"white\"}}, \"shapedefaults\": {\"line\": {\"color\": \"#2a3f5f\"}}, \"ternary\": {\"aaxis\": {\"gridcolor\": \"white\", \"linecolor\": \"white\", \"ticks\": \"\"}, \"baxis\": {\"gridcolor\": \"white\", \"linecolor\": \"white\", \"ticks\": \"\"}, \"bgcolor\": \"#E5ECF6\", \"caxis\": {\"gridcolor\": \"white\", \"linecolor\": \"white\", \"ticks\": \"\"}}, \"title\": {\"x\": 0.05}, \"xaxis\": {\"automargin\": true, \"gridcolor\": \"white\", \"linecolor\": \"white\", \"ticks\": \"\", \"title\": {\"standoff\": 15}, \"zerolinecolor\": \"white\", \"zerolinewidth\": 2}, \"yaxis\": {\"automargin\": true, \"gridcolor\": \"white\", \"linecolor\": \"white\", \"ticks\": \"\", \"title\": {\"standoff\": 15}, \"zerolinecolor\": \"white\", \"zerolinewidth\": 2}}}, \"title\": {\"font\": {\"color\": \"#4D5663\"}}, \"xaxis\": {\"gridcolor\": \"#E1E5ED\", \"showgrid\": true, \"tickfont\": {\"color\": \"#4D5663\"}, \"title\": {\"font\": {\"color\": \"#4D5663\"}, \"text\": \"\"}, \"zerolinecolor\": \"#E1E5ED\"}, \"yaxis\": {\"gridcolor\": \"#E1E5ED\", \"showgrid\": true, \"tickfont\": {\"color\": \"#4D5663\"}, \"title\": {\"font\": {\"color\": \"#4D5663\"}, \"text\": \"\"}, \"zerolinecolor\": \"#E1E5ED\"}},\n                        {\"showLink\": true, \"linkText\": \"Export to plot.ly\", \"plotlyServerURL\": \"https://plot.ly\", \"responsive\": true}\n                    ).then(function(){\n                            \nvar gd = document.getElementById('b5a26350-8cf7-4095-b588-1f559d046903');\nvar x = new MutationObserver(function (mutations, observer) {{\n        var display = window.getComputedStyle(gd).display;\n        if (!display || display === 'none') {{\n            console.log([gd, 'removed!']);\n            Plotly.purge(gd);\n            observer.disconnect();\n        }}\n}});\n\n// Listen for the removal of the full notebook cells\nvar notebookContainer = gd.closest('#notebook-container');\nif (notebookContainer) {{\n    x.observe(notebookContainer, {childList: true});\n}}\n\n// Listen for the clearing of the current output cell\nvar outputEl = gd.closest('.output');\nif (outputEl) {{\n    x.observe(outputEl, {childList: true});\n}}\n\n                        })\n                };\n                });\n            </script>\n        </div>"
     },
     "metadata": {}
    }
   ],
   "source": [
    "agg_data.iplot(kind='bar') # bar plots need aggregated data"
   ]
  },
  {
   "cell_type": "code",
   "execution_count": 33,
   "metadata": {
    "collapsed": false
   },
   "outputs": [
    {
     "data": {
      "text/html": [
       "<div id=\"0f3d8847-73f9-4d83-a41a-ea5e36c6d128\" style=\"height: 525px; width: 100%;\" class=\"plotly-graph-div\"></div><script type=\"text/javascript\">require([\"plotly\"], function(Plotly) { window.PLOTLYENV=window.PLOTLYENV || {};window.PLOTLYENV.BASE_URL=\"https://plot.ly\";Plotly.newPlot(\"0f3d8847-73f9-4d83-a41a-ea5e36c6d128\", [{\"x\": [\"A\", \"B\", \"C\", \"D\"], \"text\": \"\", \"orientation\": \"v\", \"name\": \"None\", \"type\": \"bar\", \"marker\": {\"line\": {\"width\": 1, \"color\": \"rgba(226, 74, 51, 1.0)\"}, \"color\": \"rgba(226, 74, 51, 0.6)\"}, \"y\": [100, 100, 100, 100]}], {\"legend\": {\"font\": {\"color\": \"#666666\"}, \"bgcolor\": \"#FFFFFF\"}, \"titlefont\": {\"color\": \"#151516\"}, \"xaxis1\": {\"titlefont\": {\"color\": \"#666666\"}, \"zerolinecolor\": \"#F6F6F6\", \"title\": \"\", \"tickfont\": {\"color\": \"#666666\"}, \"showgrid\": true, \"gridcolor\": \"#F6F6F6\"}, \"paper_bgcolor\": \"#FFFFFF\", \"plot_bgcolor\": \"#E5E5E5\", \"yaxis1\": {\"titlefont\": {\"color\": \"#666666\"}, \"zerolinecolor\": \"#F6F6F6\", \"title\": \"\", \"tickfont\": {\"color\": \"#666666\"}, \"showgrid\": true, \"gridcolor\": \"#F6F6F6\"}}, {\"showLink\": true, \"linkText\": \"Export to plot.ly\"})});</script>"
      ],
      "text/plain": [
       "<IPython.core.display.HTML object>"
      ]
     },
     "metadata": {},
     "output_type": "display_data"
    }
   ],
   "source": [
    "df.count().iplot(kind='bar')"
   ]
  },
  {
   "cell_type": "markdown",
   "metadata": {},
   "source": [
    "## Boxplots"
   ]
  },
  {
   "cell_type": "code",
   "execution_count": 25,
   "metadata": {
    "collapsed": false
   },
   "outputs": [
    {
     "output_type": "display_data",
     "data": {
      "application/vnd.plotly.v1+json": {
       "config": {
        "linkText": "Export to plot.ly",
        "plotlyServerURL": "https://plot.ly",
        "showLink": true
       },
       "data": [
        {
         "boxpoints": false,
         "line": {
          "width": 1.3
         },
         "marker": {
          "color": "rgba(255, 153, 51, 1.0)"
         },
         "name": "A",
         "orientation": "v",
         "type": "box",
         "y": [
          -0.48325729233229403,
          -0.6801469232584413,
          -0.8375638593941594,
          -0.8882653647324971,
          0.3369329682002198,
          1.5332393384460155,
          -0.4958109068306811,
          0.25529128381775856,
          0.36443246621830866,
          0.011763627863710845,
          -0.8489040944459124,
          -0.25874833248695134,
          1.2755836073180973,
          -1.2600228259346626,
          -2.6781492581231947,
          -0.7242275822894483,
          1.3081412072531584,
          -1.8448343434977177,
          0.5108257297289914,
          1.5078853308278135,
          -0.7799561281371661,
          1.1248147311608407,
          -0.9919620025891482,
          1.1013303249141366,
          -0.43149217879776913,
          0.2129267873376674,
          0.1547275473762396,
          -1.5683260126927356,
          2.7840049871654107,
          0.27031735188484474,
          0.8683633047336571,
          -1.389846350986542,
          -0.46786663578781906,
          -2.0779621390659297,
          1.2828867767936305,
          -1.0884510648994297,
          1.0213746901493257,
          -0.05878888246257884,
          -1.3446188024182197,
          -0.7454278813382993,
          1.1765091332317525,
          -1.1591562966298399,
          -0.02616506878878219,
          -1.6118479856638155,
          0.569696139357706,
          1.8566910147004743,
          0.09413685110942295,
          -0.33804333571530537,
          -2.053271732051332,
          1.177464224627984,
          -0.1441842047465084,
          -0.9017460491094729,
          -0.6317351849737326,
          1.0426833324653861,
          -1.4408682510636759,
          0.18370173991590114,
          -0.9608274607095263,
          -0.5117463730118246,
          0.6293037169773403,
          -0.8578693630097957,
          2.3422875322233025,
          -0.4071345976474636,
          -0.8276126802100241,
          1.7942749276987053,
          0.38302841199651466,
          0.9113895697906631,
          0.5788642704148587,
          2.2795657117185675,
          -0.02211855812222608,
          0.1228592331385394,
          -1.2533666848769662,
          0.9842534755210555,
          1.5591483863561952,
          0.33120363044533385,
          -0.7909100117810608,
          -0.5339160346418095,
          1.6703748204378235,
          0.18259762895651724,
          -0.530213301464795,
          -0.6933913717286806,
          1.2385825517447506,
          -0.08374662326827106,
          1.1283408068613219,
          -0.5243335506412814,
          -0.681218951498602,
          -1.0557507203560408,
          -0.5493108387478299,
          -0.3248774619763072,
          1.883032300667612,
          1.695004447251585,
          -0.8140541254788838,
          0.5377873848760677,
          0.7581917043467746,
          0.816619927313427,
          0.27317519379582567,
          1.4309861245969506,
          -0.48430609448209755,
          -0.664737834915157,
          0.2414003853354637,
          -0.33468634357597127
         ]
        },
        {
         "boxpoints": false,
         "line": {
          "width": 1.3
         },
         "marker": {
          "color": "rgba(55, 128, 191, 1.0)"
         },
         "name": "B",
         "orientation": "v",
         "type": "box",
         "y": [
          -1.3927173484233957,
          -0.8384891188861266,
          -0.09959392787557626,
          -0.34517373201334406,
          0.7695820725156822,
          0.8143161905283209,
          0.6424656934099338,
          0.9389199039524504,
          -2.1238188619787044,
          -0.893085737904552,
          0.012860764931138417,
          -1.1318926803919251,
          0.8243106940799912,
          0.03819986680800088,
          2.0361777794837344,
          -1.3867844004931162,
          -1.3342809100543542,
          -0.7559650349941774,
          0.9431869936587628,
          -0.7292353017105296,
          0.26398698192207704,
          0.34935584252720875,
          -0.8907921787559141,
          -1.714304516517587,
          -0.33602074280726957,
          0.14577796311860552,
          -0.6007142431277214,
          -0.44423421142674,
          -2.367438036753166,
          0.5602731678041215,
          0.21987234033905276,
          1.2325230941909604,
          0.5297134492851983,
          -1.1055582363452796,
          -0.6613228785375624,
          -0.5521601076824234,
          -0.050555018172360536,
          -0.6101807599377929,
          -0.002968902971095136,
          0.42841892268558546,
          0.18777398458622327,
          1.2477146480091446,
          -0.2384926737277862,
          1.2877344149031817,
          1.85275606072833,
          -1.4989694195585188,
          0.3973272778404027,
          0.032729278573143276,
          -0.3380245785557796,
          -1.9778675062685787,
          0.501496687173523,
          0.6984819811985156,
          0.28468721241939965,
          -1.8782763898118704,
          -0.5726261522272114,
          -0.1926966288221137,
          0.8890964722990194,
          -1.4345273158503902,
          0.7709587722104292,
          -0.325919418683105,
          -0.41245632797110804,
          -0.718289525271531,
          0.6761765745160662,
          1.2185951508512314,
          -0.4593499501488937,
          0.5758361543852849,
          0.9023911370863095,
          -0.8333306471382453,
          -1.323752517968216,
          0.6755218029003134,
          0.1848147524425046,
          -0.8607646832335739,
          1.3452962959600823,
          -2.059652828010228,
          0.6687329357943761,
          -0.043517241120167464,
          2.256249209154247,
          -0.35645693894901925,
          0.9031428576518158,
          -1.2700514096432127,
          0.5507452805892401,
          0.6864768180089855,
          0.5044572517554488,
          0.11391909110956715,
          -2.6789145336337064,
          -1.3459570712606075,
          1.4411385398883014,
          -0.44285250185454955,
          1.7639445410817005,
          -0.2112152724191136,
          0.3056658805922514,
          0.07720067227148605,
          0.3467743181645393,
          1.9879896376435917,
          -1.2225526206253794,
          -1.5378700982573048,
          1.0690117257033522,
          -0.5166079885567552,
          -0.32760903806852637,
          0.1477899857467717
         ]
        },
        {
         "boxpoints": false,
         "line": {
          "width": 1.3
         },
         "marker": {
          "color": "rgba(50, 171, 96, 1.0)"
         },
         "name": "C",
         "orientation": "v",
         "type": "box",
         "y": [
          -0.005593274734868949,
          -0.288473971983993,
          1.163365782052956,
          -1.547853966086686,
          1.3830952405368568,
          0.6793199122328621,
          -1.26753022508557,
          0.7666405838475601,
          -0.699170295405402,
          -0.1516252578673634,
          -0.003306048920765442,
          0.7661645950611087,
          -0.24569042075266398,
          -0.5763897682922402,
          0.3628607438414783,
          -1.3635394804139247,
          -0.30736836143144913,
          -0.9625867826896024,
          -1.1321199391223542,
          -1.1537838543093815,
          -0.8152119497666176,
          -0.5947051078480841,
          -0.743772948914262,
          -1.9695344939489643,
          2.297356620491305,
          -0.5776926844796706,
          -0.48501529438257013,
          0.5736845775017696,
          -0.8996474922581665,
          0.22277783057939582,
          -1.954204561454632,
          -0.08485580236553661,
          0.16564486220929353,
          -1.4783744669838397,
          1.0108802588328099,
          -0.48670120999063365,
          0.3227834522416882,
          0.162228061840226,
          -0.12252602158075877,
          -0.9671434130892369,
          0.5142138783746163,
          0.23980938940106217,
          1.7117023643346283,
          -0.21083907005360128,
          1.6442084508671244,
          0.001974632317316066,
          0.4396959915183855,
          1.0659361735323793,
          -1.0019066431281796,
          0.18606897721049495,
          0.927909188140124,
          -0.6838124962984189,
          0.37045372452082026,
          1.269221868073942,
          -0.7594226639840366,
          -0.2556838840033645,
          -0.2102096320006265,
          -0.14385705567700638,
          1.5423198449802913,
          0.7893610650542768,
          -1.2935654659444065,
          1.4920274775622149,
          0.4203934483019005,
          -0.4358595940925614,
          -0.6641409496896902,
          -0.4516077331898376,
          1.8944588335103414,
          -0.1860985222047413,
          -0.240049566965618,
          2.168632575979525,
          -0.1668941522920608,
          -0.5543136462992834,
          -0.25526997328395135,
          -0.029136659004589543,
          1.699552881442931,
          -0.7862365694921897,
          1.7419649405412687,
          0.7264377433600098,
          0.8802494088601106,
          0.49291596986509967,
          -0.46832007963785327,
          -0.22201065572501383,
          1.4643350989814594,
          0.22509584000918084,
          0.32960867196417803,
          0.375580504586509,
          -0.9068986099563627,
          -0.7731707914278191,
          -0.503606427045413,
          0.31113873679487897,
          1.0910838208342193,
          0.16898806972345684,
          0.42540634942206257,
          2.5347251308732885,
          -0.32700596569718626,
          -0.2416536792876466,
          0.2047374261276733,
          -0.6762653622550718,
          -2.5400165137975743,
          1.0325939992118118
         ]
        },
        {
         "boxpoints": false,
         "line": {
          "width": 1.3
         },
         "marker": {
          "color": "rgba(128, 0, 128, 1.0)"
         },
         "name": "D",
         "orientation": "v",
         "type": "box",
         "y": [
          -0.43379468269913296,
          -0.6296964198509847,
          -0.08461107401480267,
          -0.40092727558348057,
          0.19899851981933747,
          1.2817604060201464,
          -0.08596480863550218,
          0.5581544034285231,
          -0.03407658761151557,
          1.9052858105427557,
          0.8573496381059845,
          0.7246632627492985,
          2.165632371482043,
          -0.32344935939337727,
          0.11984693154087925,
          -0.846452120816249,
          -1.2338872695294532,
          0.2786624095721226,
          -1.076373106922323,
          0.35314136072521646,
          -0.9388040299324244,
          0.08784519637516232,
          0.8574261071297831,
          0.9435723794904356,
          -0.7993522146351116,
          -0.10559934287045927,
          0.9088360048617034,
          0.5146994607982517,
          -0.4403635112618269,
          -0.7685899493677069,
          0.1780316117266545,
          -0.10256468775571166,
          -0.6420519782029881,
          1.1303729428243923,
          0.042956293583050156,
          -1.422306307374088,
          1.1541451832113083,
          0.14001088437346748,
          0.9213142983661913,
          -2.1980052198784708,
          2.83415037648326,
          0.7502921198274051,
          -1.1555437399430828,
          0.9498716229000003,
          -1.335281096767551,
          -1.146062558038957,
          0.5397321400725726,
          0.7724142605140071,
          1.3417495880251487,
          0.8842981783031152,
          -0.920724322622848,
          -1.8321115068913008,
          -1.1795675106867747,
          -0.17577889943045014,
          -0.9329468689107387,
          0.6947799543153891,
          -0.4228898042412951,
          -0.022064934038156153,
          -0.4705542949988653,
          1.5993063281489912,
          -0.31294736318218014,
          0.2742606114289679,
          0.5082775583809864,
          0.05224796572998851,
          -1.4781622461611963,
          1.2575918727202422,
          -1.750425273885751,
          -0.4490766315002428,
          2.1381521718217296,
          -0.011282360454533983,
          -1.2396509292151592,
          -0.19884163074116018,
          -1.234401285923715,
          0.594734182324311,
          0.018505566193897854,
          -1.1140716427118535,
          -1.0399752202754085,
          -0.638281339603792,
          -0.31827005555221527,
          1.341260767793052,
          -1.615951403788844,
          0.15357040605572542,
          -0.4608292205936979,
          0.165419258752936,
          0.5806847648105539,
          0.5253178899662075,
          -1.3531787102126227,
          1.587600758081621,
          0.25139011499340125,
          -1.1890496351460684,
          0.6241077146857426,
          0.13683807392022923,
          1.725094942820954,
          0.9956067012313309,
          1.045487358403904,
          0.03948297521656207,
          0.373979582624551,
          0.8506845055929937,
          1.3105621553293387,
          2.351237102571402
         ]
        }
       ],
       "layout": {
        "legend": {
         "bgcolor": "#F5F6F9",
         "font": {
          "color": "#4D5663"
         }
        },
        "paper_bgcolor": "#F5F6F9",
        "plot_bgcolor": "#F5F6F9",
        "template": {
         "data": {
          "bar": [
           {
            "error_x": {
             "color": "#2a3f5f"
            },
            "error_y": {
             "color": "#2a3f5f"
            },
            "marker": {
             "line": {
              "color": "#E5ECF6",
              "width": 0.5
             }
            },
            "type": "bar"
           }
          ],
          "barpolar": [
           {
            "marker": {
             "line": {
              "color": "#E5ECF6",
              "width": 0.5
             }
            },
            "type": "barpolar"
           }
          ],
          "carpet": [
           {
            "aaxis": {
             "endlinecolor": "#2a3f5f",
             "gridcolor": "white",
             "linecolor": "white",
             "minorgridcolor": "white",
             "startlinecolor": "#2a3f5f"
            },
            "baxis": {
             "endlinecolor": "#2a3f5f",
             "gridcolor": "white",
             "linecolor": "white",
             "minorgridcolor": "white",
             "startlinecolor": "#2a3f5f"
            },
            "type": "carpet"
           }
          ],
          "choropleth": [
           {
            "colorbar": {
             "outlinewidth": 0,
             "ticks": ""
            },
            "type": "choropleth"
           }
          ],
          "contour": [
           {
            "colorbar": {
             "outlinewidth": 0,
             "ticks": ""
            },
            "colorscale": [
             [
              0,
              "#0d0887"
             ],
             [
              0.1111111111111111,
              "#46039f"
             ],
             [
              0.2222222222222222,
              "#7201a8"
             ],
             [
              0.3333333333333333,
              "#9c179e"
             ],
             [
              0.4444444444444444,
              "#bd3786"
             ],
             [
              0.5555555555555556,
              "#d8576b"
             ],
             [
              0.6666666666666666,
              "#ed7953"
             ],
             [
              0.7777777777777778,
              "#fb9f3a"
             ],
             [
              0.8888888888888888,
              "#fdca26"
             ],
             [
              1,
              "#f0f921"
             ]
            ],
            "type": "contour"
           }
          ],
          "contourcarpet": [
           {
            "colorbar": {
             "outlinewidth": 0,
             "ticks": ""
            },
            "type": "contourcarpet"
           }
          ],
          "heatmap": [
           {
            "colorbar": {
             "outlinewidth": 0,
             "ticks": ""
            },
            "colorscale": [
             [
              0,
              "#0d0887"
             ],
             [
              0.1111111111111111,
              "#46039f"
             ],
             [
              0.2222222222222222,
              "#7201a8"
             ],
             [
              0.3333333333333333,
              "#9c179e"
             ],
             [
              0.4444444444444444,
              "#bd3786"
             ],
             [
              0.5555555555555556,
              "#d8576b"
             ],
             [
              0.6666666666666666,
              "#ed7953"
             ],
             [
              0.7777777777777778,
              "#fb9f3a"
             ],
             [
              0.8888888888888888,
              "#fdca26"
             ],
             [
              1,
              "#f0f921"
             ]
            ],
            "type": "heatmap"
           }
          ],
          "heatmapgl": [
           {
            "colorbar": {
             "outlinewidth": 0,
             "ticks": ""
            },
            "colorscale": [
             [
              0,
              "#0d0887"
             ],
             [
              0.1111111111111111,
              "#46039f"
             ],
             [
              0.2222222222222222,
              "#7201a8"
             ],
             [
              0.3333333333333333,
              "#9c179e"
             ],
             [
              0.4444444444444444,
              "#bd3786"
             ],
             [
              0.5555555555555556,
              "#d8576b"
             ],
             [
              0.6666666666666666,
              "#ed7953"
             ],
             [
              0.7777777777777778,
              "#fb9f3a"
             ],
             [
              0.8888888888888888,
              "#fdca26"
             ],
             [
              1,
              "#f0f921"
             ]
            ],
            "type": "heatmapgl"
           }
          ],
          "histogram": [
           {
            "marker": {
             "colorbar": {
              "outlinewidth": 0,
              "ticks": ""
             }
            },
            "type": "histogram"
           }
          ],
          "histogram2d": [
           {
            "colorbar": {
             "outlinewidth": 0,
             "ticks": ""
            },
            "colorscale": [
             [
              0,
              "#0d0887"
             ],
             [
              0.1111111111111111,
              "#46039f"
             ],
             [
              0.2222222222222222,
              "#7201a8"
             ],
             [
              0.3333333333333333,
              "#9c179e"
             ],
             [
              0.4444444444444444,
              "#bd3786"
             ],
             [
              0.5555555555555556,
              "#d8576b"
             ],
             [
              0.6666666666666666,
              "#ed7953"
             ],
             [
              0.7777777777777778,
              "#fb9f3a"
             ],
             [
              0.8888888888888888,
              "#fdca26"
             ],
             [
              1,
              "#f0f921"
             ]
            ],
            "type": "histogram2d"
           }
          ],
          "histogram2dcontour": [
           {
            "colorbar": {
             "outlinewidth": 0,
             "ticks": ""
            },
            "colorscale": [
             [
              0,
              "#0d0887"
             ],
             [
              0.1111111111111111,
              "#46039f"
             ],
             [
              0.2222222222222222,
              "#7201a8"
             ],
             [
              0.3333333333333333,
              "#9c179e"
             ],
             [
              0.4444444444444444,
              "#bd3786"
             ],
             [
              0.5555555555555556,
              "#d8576b"
             ],
             [
              0.6666666666666666,
              "#ed7953"
             ],
             [
              0.7777777777777778,
              "#fb9f3a"
             ],
             [
              0.8888888888888888,
              "#fdca26"
             ],
             [
              1,
              "#f0f921"
             ]
            ],
            "type": "histogram2dcontour"
           }
          ],
          "mesh3d": [
           {
            "colorbar": {
             "outlinewidth": 0,
             "ticks": ""
            },
            "type": "mesh3d"
           }
          ],
          "parcoords": [
           {
            "line": {
             "colorbar": {
              "outlinewidth": 0,
              "ticks": ""
             }
            },
            "type": "parcoords"
           }
          ],
          "pie": [
           {
            "automargin": true,
            "type": "pie"
           }
          ],
          "scatter": [
           {
            "marker": {
             "colorbar": {
              "outlinewidth": 0,
              "ticks": ""
             }
            },
            "type": "scatter"
           }
          ],
          "scatter3d": [
           {
            "line": {
             "colorbar": {
              "outlinewidth": 0,
              "ticks": ""
             }
            },
            "marker": {
             "colorbar": {
              "outlinewidth": 0,
              "ticks": ""
             }
            },
            "type": "scatter3d"
           }
          ],
          "scattercarpet": [
           {
            "marker": {
             "colorbar": {
              "outlinewidth": 0,
              "ticks": ""
             }
            },
            "type": "scattercarpet"
           }
          ],
          "scattergeo": [
           {
            "marker": {
             "colorbar": {
              "outlinewidth": 0,
              "ticks": ""
             }
            },
            "type": "scattergeo"
           }
          ],
          "scattergl": [
           {
            "marker": {
             "colorbar": {
              "outlinewidth": 0,
              "ticks": ""
             }
            },
            "type": "scattergl"
           }
          ],
          "scattermapbox": [
           {
            "marker": {
             "colorbar": {
              "outlinewidth": 0,
              "ticks": ""
             }
            },
            "type": "scattermapbox"
           }
          ],
          "scatterpolar": [
           {
            "marker": {
             "colorbar": {
              "outlinewidth": 0,
              "ticks": ""
             }
            },
            "type": "scatterpolar"
           }
          ],
          "scatterpolargl": [
           {
            "marker": {
             "colorbar": {
              "outlinewidth": 0,
              "ticks": ""
             }
            },
            "type": "scatterpolargl"
           }
          ],
          "scatterternary": [
           {
            "marker": {
             "colorbar": {
              "outlinewidth": 0,
              "ticks": ""
             }
            },
            "type": "scatterternary"
           }
          ],
          "surface": [
           {
            "colorbar": {
             "outlinewidth": 0,
             "ticks": ""
            },
            "colorscale": [
             [
              0,
              "#0d0887"
             ],
             [
              0.1111111111111111,
              "#46039f"
             ],
             [
              0.2222222222222222,
              "#7201a8"
             ],
             [
              0.3333333333333333,
              "#9c179e"
             ],
             [
              0.4444444444444444,
              "#bd3786"
             ],
             [
              0.5555555555555556,
              "#d8576b"
             ],
             [
              0.6666666666666666,
              "#ed7953"
             ],
             [
              0.7777777777777778,
              "#fb9f3a"
             ],
             [
              0.8888888888888888,
              "#fdca26"
             ],
             [
              1,
              "#f0f921"
             ]
            ],
            "type": "surface"
           }
          ],
          "table": [
           {
            "cells": {
             "fill": {
              "color": "#EBF0F8"
             },
             "line": {
              "color": "white"
             }
            },
            "header": {
             "fill": {
              "color": "#C8D4E3"
             },
             "line": {
              "color": "white"
             }
            },
            "type": "table"
           }
          ]
         },
         "layout": {
          "annotationdefaults": {
           "arrowcolor": "#2a3f5f",
           "arrowhead": 0,
           "arrowwidth": 1
          },
          "coloraxis": {
           "colorbar": {
            "outlinewidth": 0,
            "ticks": ""
           }
          },
          "colorscale": {
           "diverging": [
            [
             0,
             "#8e0152"
            ],
            [
             0.1,
             "#c51b7d"
            ],
            [
             0.2,
             "#de77ae"
            ],
            [
             0.3,
             "#f1b6da"
            ],
            [
             0.4,
             "#fde0ef"
            ],
            [
             0.5,
             "#f7f7f7"
            ],
            [
             0.6,
             "#e6f5d0"
            ],
            [
             0.7,
             "#b8e186"
            ],
            [
             0.8,
             "#7fbc41"
            ],
            [
             0.9,
             "#4d9221"
            ],
            [
             1,
             "#276419"
            ]
           ],
           "sequential": [
            [
             0,
             "#0d0887"
            ],
            [
             0.1111111111111111,
             "#46039f"
            ],
            [
             0.2222222222222222,
             "#7201a8"
            ],
            [
             0.3333333333333333,
             "#9c179e"
            ],
            [
             0.4444444444444444,
             "#bd3786"
            ],
            [
             0.5555555555555556,
             "#d8576b"
            ],
            [
             0.6666666666666666,
             "#ed7953"
            ],
            [
             0.7777777777777778,
             "#fb9f3a"
            ],
            [
             0.8888888888888888,
             "#fdca26"
            ],
            [
             1,
             "#f0f921"
            ]
           ],
           "sequentialminus": [
            [
             0,
             "#0d0887"
            ],
            [
             0.1111111111111111,
             "#46039f"
            ],
            [
             0.2222222222222222,
             "#7201a8"
            ],
            [
             0.3333333333333333,
             "#9c179e"
            ],
            [
             0.4444444444444444,
             "#bd3786"
            ],
            [
             0.5555555555555556,
             "#d8576b"
            ],
            [
             0.6666666666666666,
             "#ed7953"
            ],
            [
             0.7777777777777778,
             "#fb9f3a"
            ],
            [
             0.8888888888888888,
             "#fdca26"
            ],
            [
             1,
             "#f0f921"
            ]
           ]
          },
          "colorway": [
           "#636efa",
           "#EF553B",
           "#00cc96",
           "#ab63fa",
           "#FFA15A",
           "#19d3f3",
           "#FF6692",
           "#B6E880",
           "#FF97FF",
           "#FECB52"
          ],
          "font": {
           "color": "#2a3f5f"
          },
          "geo": {
           "bgcolor": "white",
           "lakecolor": "white",
           "landcolor": "#E5ECF6",
           "showlakes": true,
           "showland": true,
           "subunitcolor": "white"
          },
          "hoverlabel": {
           "align": "left"
          },
          "hovermode": "closest",
          "mapbox": {
           "style": "light"
          },
          "paper_bgcolor": "white",
          "plot_bgcolor": "#E5ECF6",
          "polar": {
           "angularaxis": {
            "gridcolor": "white",
            "linecolor": "white",
            "ticks": ""
           },
           "bgcolor": "#E5ECF6",
           "radialaxis": {
            "gridcolor": "white",
            "linecolor": "white",
            "ticks": ""
           }
          },
          "scene": {
           "xaxis": {
            "backgroundcolor": "#E5ECF6",
            "gridcolor": "white",
            "gridwidth": 2,
            "linecolor": "white",
            "showbackground": true,
            "ticks": "",
            "zerolinecolor": "white"
           },
           "yaxis": {
            "backgroundcolor": "#E5ECF6",
            "gridcolor": "white",
            "gridwidth": 2,
            "linecolor": "white",
            "showbackground": true,
            "ticks": "",
            "zerolinecolor": "white"
           },
           "zaxis": {
            "backgroundcolor": "#E5ECF6",
            "gridcolor": "white",
            "gridwidth": 2,
            "linecolor": "white",
            "showbackground": true,
            "ticks": "",
            "zerolinecolor": "white"
           }
          },
          "shapedefaults": {
           "line": {
            "color": "#2a3f5f"
           }
          },
          "ternary": {
           "aaxis": {
            "gridcolor": "white",
            "linecolor": "white",
            "ticks": ""
           },
           "baxis": {
            "gridcolor": "white",
            "linecolor": "white",
            "ticks": ""
           },
           "bgcolor": "#E5ECF6",
           "caxis": {
            "gridcolor": "white",
            "linecolor": "white",
            "ticks": ""
           }
          },
          "title": {
           "x": 0.05
          },
          "xaxis": {
           "automargin": true,
           "gridcolor": "white",
           "linecolor": "white",
           "ticks": "",
           "title": {
            "standoff": 15
           },
           "zerolinecolor": "white",
           "zerolinewidth": 2
          },
          "yaxis": {
           "automargin": true,
           "gridcolor": "white",
           "linecolor": "white",
           "ticks": "",
           "title": {
            "standoff": 15
           },
           "zerolinecolor": "white",
           "zerolinewidth": 2
          }
         }
        },
        "title": {
         "font": {
          "color": "#4D5663"
         }
        },
        "xaxis": {
         "gridcolor": "#E1E5ED",
         "showgrid": true,
         "tickfont": {
          "color": "#4D5663"
         },
         "title": {
          "font": {
           "color": "#4D5663"
          },
          "text": ""
         },
         "zerolinecolor": "#E1E5ED"
        },
        "yaxis": {
         "gridcolor": "#E1E5ED",
         "showgrid": true,
         "tickfont": {
          "color": "#4D5663"
         },
         "title": {
          "font": {
           "color": "#4D5663"
          },
          "text": ""
         },
         "zerolinecolor": "#E1E5ED"
        }
       }
      },
      "text/html": "<div>\n        \n        \n            <div id=\"ee492681-cb23-425a-9a3b-5e29e82fb62e\" class=\"plotly-graph-div\" style=\"height:525px; width:100%;\"></div>\n            <script type=\"text/javascript\">\n                require([\"plotly\"], function(Plotly) {\n                    window.PLOTLYENV=window.PLOTLYENV || {};\n                    window.PLOTLYENV.BASE_URL='https://plot.ly';\n                    \n                if (document.getElementById(\"ee492681-cb23-425a-9a3b-5e29e82fb62e\")) {\n                    Plotly.newPlot(\n                        'ee492681-cb23-425a-9a3b-5e29e82fb62e',\n                        [{\"boxpoints\": false, \"line\": {\"width\": 1.3}, \"marker\": {\"color\": \"rgba(255, 153, 51, 1.0)\"}, \"name\": \"A\", \"orientation\": \"v\", \"type\": \"box\", \"y\": [-0.48325729233229403, -0.6801469232584413, -0.8375638593941594, -0.8882653647324971, 0.3369329682002198, 1.5332393384460155, -0.4958109068306811, 0.25529128381775856, 0.36443246621830866, 0.011763627863710845, -0.8489040944459124, -0.25874833248695134, 1.2755836073180973, -1.2600228259346626, -2.6781492581231947, -0.7242275822894483, 1.3081412072531584, -1.8448343434977177, 0.5108257297289914, 1.5078853308278135, -0.7799561281371661, 1.1248147311608407, -0.9919620025891482, 1.1013303249141366, -0.43149217879776913, 0.2129267873376674, 0.1547275473762396, -1.5683260126927356, 2.7840049871654107, 0.27031735188484474, 0.8683633047336571, -1.389846350986542, -0.46786663578781906, -2.0779621390659297, 1.2828867767936305, -1.0884510648994297, 1.0213746901493257, -0.05878888246257884, -1.3446188024182197, -0.7454278813382993, 1.1765091332317525, -1.1591562966298399, -0.02616506878878219, -1.6118479856638155, 0.569696139357706, 1.8566910147004743, 0.09413685110942295, -0.33804333571530537, -2.053271732051332, 1.177464224627984, -0.1441842047465084, -0.9017460491094729, -0.6317351849737326, 1.0426833324653861, -1.4408682510636759, 0.18370173991590114, -0.9608274607095263, -0.5117463730118246, 0.6293037169773403, -0.8578693630097957, 2.3422875322233025, -0.4071345976474636, -0.8276126802100241, 1.7942749276987053, 0.38302841199651466, 0.9113895697906631, 0.5788642704148587, 2.2795657117185675, -0.02211855812222608, 0.1228592331385394, -1.2533666848769662, 0.9842534755210555, 1.5591483863561952, 0.33120363044533385, -0.7909100117810608, -0.5339160346418095, 1.6703748204378235, 0.18259762895651724, -0.530213301464795, -0.6933913717286806, 1.2385825517447506, -0.08374662326827106, 1.1283408068613219, -0.5243335506412814, -0.681218951498602, -1.0557507203560408, -0.5493108387478299, -0.3248774619763072, 1.883032300667612, 1.695004447251585, -0.8140541254788838, 0.5377873848760677, 0.7581917043467746, 0.816619927313427, 0.27317519379582567, 1.4309861245969506, -0.48430609448209755, -0.664737834915157, 0.2414003853354637, -0.33468634357597127]}, {\"boxpoints\": false, \"line\": {\"width\": 1.3}, \"marker\": {\"color\": \"rgba(55, 128, 191, 1.0)\"}, \"name\": \"B\", \"orientation\": \"v\", \"type\": \"box\", \"y\": [-1.3927173484233957, -0.8384891188861266, -0.09959392787557626, -0.34517373201334406, 0.7695820725156822, 0.8143161905283209, 0.6424656934099338, 0.9389199039524504, -2.1238188619787044, -0.893085737904552, 0.012860764931138417, -1.1318926803919251, 0.8243106940799912, 0.03819986680800088, 2.0361777794837344, -1.3867844004931162, -1.3342809100543542, -0.7559650349941774, 0.9431869936587628, -0.7292353017105296, 0.26398698192207704, 0.34935584252720875, -0.8907921787559141, -1.714304516517587, -0.33602074280726957, 0.14577796311860552, -0.6007142431277214, -0.44423421142674, -2.367438036753166, 0.5602731678041215, 0.21987234033905276, 1.2325230941909604, 0.5297134492851983, -1.1055582363452796, -0.6613228785375624, -0.5521601076824234, -0.050555018172360536, -0.6101807599377929, -0.002968902971095136, 0.42841892268558546, 0.18777398458622327, 1.2477146480091446, -0.2384926737277862, 1.2877344149031817, 1.85275606072833, -1.4989694195585188, 0.3973272778404027, 0.032729278573143276, -0.3380245785557796, -1.9778675062685787, 0.501496687173523, 0.6984819811985156, 0.28468721241939965, -1.8782763898118704, -0.5726261522272114, -0.1926966288221137, 0.8890964722990194, -1.4345273158503902, 0.7709587722104292, -0.325919418683105, -0.41245632797110804, -0.718289525271531, 0.6761765745160662, 1.2185951508512314, -0.4593499501488937, 0.5758361543852849, 0.9023911370863095, -0.8333306471382453, -1.323752517968216, 0.6755218029003134, 0.1848147524425046, -0.8607646832335739, 1.3452962959600823, -2.059652828010228, 0.6687329357943761, -0.043517241120167464, 2.256249209154247, -0.35645693894901925, 0.9031428576518158, -1.2700514096432127, 0.5507452805892401, 0.6864768180089855, 0.5044572517554488, 0.11391909110956715, -2.6789145336337064, -1.3459570712606075, 1.4411385398883014, -0.44285250185454955, 1.7639445410817005, -0.2112152724191136, 0.3056658805922514, 0.07720067227148605, 0.3467743181645393, 1.9879896376435917, -1.2225526206253794, -1.5378700982573048, 1.0690117257033522, -0.5166079885567552, -0.32760903806852637, 0.1477899857467717]}, {\"boxpoints\": false, \"line\": {\"width\": 1.3}, \"marker\": {\"color\": \"rgba(50, 171, 96, 1.0)\"}, \"name\": \"C\", \"orientation\": \"v\", \"type\": \"box\", \"y\": [-0.005593274734868949, -0.288473971983993, 1.163365782052956, -1.547853966086686, 1.3830952405368568, 0.6793199122328621, -1.26753022508557, 0.7666405838475601, -0.699170295405402, -0.1516252578673634, -0.003306048920765442, 0.7661645950611087, -0.24569042075266398, -0.5763897682922402, 0.3628607438414783, -1.3635394804139247, -0.30736836143144913, -0.9625867826896024, -1.1321199391223542, -1.1537838543093815, -0.8152119497666176, -0.5947051078480841, -0.743772948914262, -1.9695344939489643, 2.297356620491305, -0.5776926844796706, -0.48501529438257013, 0.5736845775017696, -0.8996474922581665, 0.22277783057939582, -1.954204561454632, -0.08485580236553661, 0.16564486220929353, -1.4783744669838397, 1.0108802588328099, -0.48670120999063365, 0.3227834522416882, 0.162228061840226, -0.12252602158075877, -0.9671434130892369, 0.5142138783746163, 0.23980938940106217, 1.7117023643346283, -0.21083907005360128, 1.6442084508671244, 0.001974632317316066, 0.4396959915183855, 1.0659361735323793, -1.0019066431281796, 0.18606897721049495, 0.927909188140124, -0.6838124962984189, 0.37045372452082026, 1.269221868073942, -0.7594226639840366, -0.2556838840033645, -0.2102096320006265, -0.14385705567700638, 1.5423198449802913, 0.7893610650542768, -1.2935654659444065, 1.4920274775622149, 0.4203934483019005, -0.4358595940925614, -0.6641409496896902, -0.4516077331898376, 1.8944588335103414, -0.1860985222047413, -0.240049566965618, 2.168632575979525, -0.1668941522920608, -0.5543136462992834, -0.25526997328395135, -0.029136659004589543, 1.699552881442931, -0.7862365694921897, 1.7419649405412687, 0.7264377433600098, 0.8802494088601106, 0.49291596986509967, -0.46832007963785327, -0.22201065572501383, 1.4643350989814594, 0.22509584000918084, 0.32960867196417803, 0.375580504586509, -0.9068986099563627, -0.7731707914278191, -0.503606427045413, 0.31113873679487897, 1.0910838208342193, 0.16898806972345684, 0.42540634942206257, 2.5347251308732885, -0.32700596569718626, -0.2416536792876466, 0.2047374261276733, -0.6762653622550718, -2.5400165137975743, 1.0325939992118118]}, {\"boxpoints\": false, \"line\": {\"width\": 1.3}, \"marker\": {\"color\": \"rgba(128, 0, 128, 1.0)\"}, \"name\": \"D\", \"orientation\": \"v\", \"type\": \"box\", \"y\": [-0.43379468269913296, -0.6296964198509847, -0.08461107401480267, -0.40092727558348057, 0.19899851981933747, 1.2817604060201464, -0.08596480863550218, 0.5581544034285231, -0.03407658761151557, 1.9052858105427557, 0.8573496381059845, 0.7246632627492985, 2.165632371482043, -0.32344935939337727, 0.11984693154087925, -0.846452120816249, -1.2338872695294532, 0.2786624095721226, -1.076373106922323, 0.35314136072521646, -0.9388040299324244, 0.08784519637516232, 0.8574261071297831, 0.9435723794904356, -0.7993522146351116, -0.10559934287045927, 0.9088360048617034, 0.5146994607982517, -0.4403635112618269, -0.7685899493677069, 0.1780316117266545, -0.10256468775571166, -0.6420519782029881, 1.1303729428243923, 0.042956293583050156, -1.422306307374088, 1.1541451832113083, 0.14001088437346748, 0.9213142983661913, -2.1980052198784708, 2.83415037648326, 0.7502921198274051, -1.1555437399430828, 0.9498716229000003, -1.335281096767551, -1.146062558038957, 0.5397321400725726, 0.7724142605140071, 1.3417495880251487, 0.8842981783031152, -0.920724322622848, -1.8321115068913008, -1.1795675106867747, -0.17577889943045014, -0.9329468689107387, 0.6947799543153891, -0.4228898042412951, -0.022064934038156153, -0.4705542949988653, 1.5993063281489912, -0.31294736318218014, 0.2742606114289679, 0.5082775583809864, 0.05224796572998851, -1.4781622461611963, 1.2575918727202422, -1.750425273885751, -0.4490766315002428, 2.1381521718217296, -0.011282360454533983, -1.2396509292151592, -0.19884163074116018, -1.234401285923715, 0.594734182324311, 0.018505566193897854, -1.1140716427118535, -1.0399752202754085, -0.638281339603792, -0.31827005555221527, 1.341260767793052, -1.615951403788844, 0.15357040605572542, -0.4608292205936979, 0.165419258752936, 0.5806847648105539, 0.5253178899662075, -1.3531787102126227, 1.587600758081621, 0.25139011499340125, -1.1890496351460684, 0.6241077146857426, 0.13683807392022923, 1.725094942820954, 0.9956067012313309, 1.045487358403904, 0.03948297521656207, 0.373979582624551, 0.8506845055929937, 1.3105621553293387, 2.351237102571402]}],\n                        {\"legend\": {\"bgcolor\": \"#F5F6F9\", \"font\": {\"color\": \"#4D5663\"}}, \"paper_bgcolor\": \"#F5F6F9\", \"plot_bgcolor\": \"#F5F6F9\", \"template\": {\"data\": {\"bar\": [{\"error_x\": {\"color\": \"#2a3f5f\"}, \"error_y\": {\"color\": \"#2a3f5f\"}, \"marker\": {\"line\": {\"color\": \"#E5ECF6\", \"width\": 0.5}}, \"type\": \"bar\"}], \"barpolar\": [{\"marker\": {\"line\": {\"color\": \"#E5ECF6\", \"width\": 0.5}}, \"type\": \"barpolar\"}], \"carpet\": [{\"aaxis\": {\"endlinecolor\": \"#2a3f5f\", \"gridcolor\": \"white\", \"linecolor\": \"white\", \"minorgridcolor\": \"white\", \"startlinecolor\": \"#2a3f5f\"}, \"baxis\": {\"endlinecolor\": \"#2a3f5f\", \"gridcolor\": \"white\", \"linecolor\": \"white\", \"minorgridcolor\": \"white\", \"startlinecolor\": \"#2a3f5f\"}, \"type\": \"carpet\"}], \"choropleth\": [{\"colorbar\": {\"outlinewidth\": 0, \"ticks\": \"\"}, \"type\": \"choropleth\"}], \"contour\": [{\"colorbar\": {\"outlinewidth\": 0, \"ticks\": \"\"}, \"colorscale\": [[0.0, \"#0d0887\"], [0.1111111111111111, \"#46039f\"], [0.2222222222222222, \"#7201a8\"], [0.3333333333333333, \"#9c179e\"], [0.4444444444444444, \"#bd3786\"], [0.5555555555555556, \"#d8576b\"], [0.6666666666666666, \"#ed7953\"], [0.7777777777777778, \"#fb9f3a\"], [0.8888888888888888, \"#fdca26\"], [1.0, \"#f0f921\"]], \"type\": \"contour\"}], \"contourcarpet\": [{\"colorbar\": {\"outlinewidth\": 0, \"ticks\": \"\"}, \"type\": \"contourcarpet\"}], \"heatmap\": [{\"colorbar\": {\"outlinewidth\": 0, \"ticks\": \"\"}, \"colorscale\": [[0.0, \"#0d0887\"], [0.1111111111111111, \"#46039f\"], [0.2222222222222222, \"#7201a8\"], [0.3333333333333333, \"#9c179e\"], [0.4444444444444444, \"#bd3786\"], [0.5555555555555556, \"#d8576b\"], [0.6666666666666666, \"#ed7953\"], [0.7777777777777778, \"#fb9f3a\"], [0.8888888888888888, \"#fdca26\"], [1.0, \"#f0f921\"]], \"type\": \"heatmap\"}], \"heatmapgl\": [{\"colorbar\": {\"outlinewidth\": 0, \"ticks\": \"\"}, \"colorscale\": [[0.0, \"#0d0887\"], [0.1111111111111111, \"#46039f\"], [0.2222222222222222, \"#7201a8\"], [0.3333333333333333, \"#9c179e\"], [0.4444444444444444, \"#bd3786\"], [0.5555555555555556, \"#d8576b\"], [0.6666666666666666, \"#ed7953\"], [0.7777777777777778, \"#fb9f3a\"], [0.8888888888888888, \"#fdca26\"], [1.0, \"#f0f921\"]], \"type\": \"heatmapgl\"}], \"histogram\": [{\"marker\": {\"colorbar\": {\"outlinewidth\": 0, \"ticks\": \"\"}}, \"type\": \"histogram\"}], \"histogram2d\": [{\"colorbar\": {\"outlinewidth\": 0, \"ticks\": \"\"}, \"colorscale\": [[0.0, \"#0d0887\"], [0.1111111111111111, \"#46039f\"], [0.2222222222222222, \"#7201a8\"], [0.3333333333333333, \"#9c179e\"], [0.4444444444444444, \"#bd3786\"], [0.5555555555555556, \"#d8576b\"], [0.6666666666666666, \"#ed7953\"], [0.7777777777777778, \"#fb9f3a\"], [0.8888888888888888, \"#fdca26\"], [1.0, \"#f0f921\"]], \"type\": \"histogram2d\"}], \"histogram2dcontour\": [{\"colorbar\": {\"outlinewidth\": 0, \"ticks\": \"\"}, \"colorscale\": [[0.0, \"#0d0887\"], [0.1111111111111111, \"#46039f\"], [0.2222222222222222, \"#7201a8\"], [0.3333333333333333, \"#9c179e\"], [0.4444444444444444, \"#bd3786\"], [0.5555555555555556, \"#d8576b\"], [0.6666666666666666, \"#ed7953\"], [0.7777777777777778, \"#fb9f3a\"], [0.8888888888888888, \"#fdca26\"], [1.0, \"#f0f921\"]], \"type\": \"histogram2dcontour\"}], \"mesh3d\": [{\"colorbar\": {\"outlinewidth\": 0, \"ticks\": \"\"}, \"type\": \"mesh3d\"}], \"parcoords\": [{\"line\": {\"colorbar\": {\"outlinewidth\": 0, \"ticks\": \"\"}}, \"type\": \"parcoords\"}], \"pie\": [{\"automargin\": true, \"type\": \"pie\"}], \"scatter\": [{\"marker\": {\"colorbar\": {\"outlinewidth\": 0, \"ticks\": \"\"}}, \"type\": \"scatter\"}], \"scatter3d\": [{\"line\": {\"colorbar\": {\"outlinewidth\": 0, \"ticks\": \"\"}}, \"marker\": {\"colorbar\": {\"outlinewidth\": 0, \"ticks\": \"\"}}, \"type\": \"scatter3d\"}], \"scattercarpet\": [{\"marker\": {\"colorbar\": {\"outlinewidth\": 0, \"ticks\": \"\"}}, \"type\": \"scattercarpet\"}], \"scattergeo\": [{\"marker\": {\"colorbar\": {\"outlinewidth\": 0, \"ticks\": \"\"}}, \"type\": \"scattergeo\"}], \"scattergl\": [{\"marker\": {\"colorbar\": {\"outlinewidth\": 0, \"ticks\": \"\"}}, \"type\": \"scattergl\"}], \"scattermapbox\": [{\"marker\": {\"colorbar\": {\"outlinewidth\": 0, \"ticks\": \"\"}}, \"type\": \"scattermapbox\"}], \"scatterpolar\": [{\"marker\": {\"colorbar\": {\"outlinewidth\": 0, \"ticks\": \"\"}}, \"type\": \"scatterpolar\"}], \"scatterpolargl\": [{\"marker\": {\"colorbar\": {\"outlinewidth\": 0, \"ticks\": \"\"}}, \"type\": \"scatterpolargl\"}], \"scatterternary\": [{\"marker\": {\"colorbar\": {\"outlinewidth\": 0, \"ticks\": \"\"}}, \"type\": \"scatterternary\"}], \"surface\": [{\"colorbar\": {\"outlinewidth\": 0, \"ticks\": \"\"}, \"colorscale\": [[0.0, \"#0d0887\"], [0.1111111111111111, \"#46039f\"], [0.2222222222222222, \"#7201a8\"], [0.3333333333333333, \"#9c179e\"], [0.4444444444444444, \"#bd3786\"], [0.5555555555555556, \"#d8576b\"], [0.6666666666666666, \"#ed7953\"], [0.7777777777777778, \"#fb9f3a\"], [0.8888888888888888, \"#fdca26\"], [1.0, \"#f0f921\"]], \"type\": \"surface\"}], \"table\": [{\"cells\": {\"fill\": {\"color\": \"#EBF0F8\"}, \"line\": {\"color\": \"white\"}}, \"header\": {\"fill\": {\"color\": \"#C8D4E3\"}, \"line\": {\"color\": \"white\"}}, \"type\": \"table\"}]}, \"layout\": {\"annotationdefaults\": {\"arrowcolor\": \"#2a3f5f\", \"arrowhead\": 0, \"arrowwidth\": 1}, \"coloraxis\": {\"colorbar\": {\"outlinewidth\": 0, \"ticks\": \"\"}}, \"colorscale\": {\"diverging\": [[0, \"#8e0152\"], [0.1, \"#c51b7d\"], [0.2, \"#de77ae\"], [0.3, \"#f1b6da\"], [0.4, \"#fde0ef\"], [0.5, \"#f7f7f7\"], [0.6, \"#e6f5d0\"], [0.7, \"#b8e186\"], [0.8, \"#7fbc41\"], [0.9, \"#4d9221\"], [1, \"#276419\"]], \"sequential\": [[0.0, \"#0d0887\"], [0.1111111111111111, \"#46039f\"], [0.2222222222222222, \"#7201a8\"], [0.3333333333333333, \"#9c179e\"], [0.4444444444444444, \"#bd3786\"], [0.5555555555555556, \"#d8576b\"], [0.6666666666666666, \"#ed7953\"], [0.7777777777777778, \"#fb9f3a\"], [0.8888888888888888, \"#fdca26\"], [1.0, \"#f0f921\"]], \"sequentialminus\": [[0.0, \"#0d0887\"], [0.1111111111111111, \"#46039f\"], [0.2222222222222222, \"#7201a8\"], [0.3333333333333333, \"#9c179e\"], [0.4444444444444444, \"#bd3786\"], [0.5555555555555556, \"#d8576b\"], [0.6666666666666666, \"#ed7953\"], [0.7777777777777778, \"#fb9f3a\"], [0.8888888888888888, \"#fdca26\"], [1.0, \"#f0f921\"]]}, \"colorway\": [\"#636efa\", \"#EF553B\", \"#00cc96\", \"#ab63fa\", \"#FFA15A\", \"#19d3f3\", \"#FF6692\", \"#B6E880\", \"#FF97FF\", \"#FECB52\"], \"font\": {\"color\": \"#2a3f5f\"}, \"geo\": {\"bgcolor\": \"white\", \"lakecolor\": \"white\", \"landcolor\": \"#E5ECF6\", \"showlakes\": true, \"showland\": true, \"subunitcolor\": \"white\"}, \"hoverlabel\": {\"align\": \"left\"}, \"hovermode\": \"closest\", \"mapbox\": {\"style\": \"light\"}, \"paper_bgcolor\": \"white\", \"plot_bgcolor\": \"#E5ECF6\", \"polar\": {\"angularaxis\": {\"gridcolor\": \"white\", \"linecolor\": \"white\", \"ticks\": \"\"}, \"bgcolor\": \"#E5ECF6\", \"radialaxis\": {\"gridcolor\": \"white\", \"linecolor\": \"white\", \"ticks\": \"\"}}, \"scene\": {\"xaxis\": {\"backgroundcolor\": \"#E5ECF6\", \"gridcolor\": \"white\", \"gridwidth\": 2, \"linecolor\": \"white\", \"showbackground\": true, \"ticks\": \"\", \"zerolinecolor\": \"white\"}, \"yaxis\": {\"backgroundcolor\": \"#E5ECF6\", \"gridcolor\": \"white\", \"gridwidth\": 2, \"linecolor\": \"white\", \"showbackground\": true, \"ticks\": \"\", \"zerolinecolor\": \"white\"}, \"zaxis\": {\"backgroundcolor\": \"#E5ECF6\", \"gridcolor\": \"white\", \"gridwidth\": 2, \"linecolor\": \"white\", \"showbackground\": true, \"ticks\": \"\", \"zerolinecolor\": \"white\"}}, \"shapedefaults\": {\"line\": {\"color\": \"#2a3f5f\"}}, \"ternary\": {\"aaxis\": {\"gridcolor\": \"white\", \"linecolor\": \"white\", \"ticks\": \"\"}, \"baxis\": {\"gridcolor\": \"white\", \"linecolor\": \"white\", \"ticks\": \"\"}, \"bgcolor\": \"#E5ECF6\", \"caxis\": {\"gridcolor\": \"white\", \"linecolor\": \"white\", \"ticks\": \"\"}}, \"title\": {\"x\": 0.05}, \"xaxis\": {\"automargin\": true, \"gridcolor\": \"white\", \"linecolor\": \"white\", \"ticks\": \"\", \"title\": {\"standoff\": 15}, \"zerolinecolor\": \"white\", \"zerolinewidth\": 2}, \"yaxis\": {\"automargin\": true, \"gridcolor\": \"white\", \"linecolor\": \"white\", \"ticks\": \"\", \"title\": {\"standoff\": 15}, \"zerolinecolor\": \"white\", \"zerolinewidth\": 2}}}, \"title\": {\"font\": {\"color\": \"#4D5663\"}}, \"xaxis\": {\"gridcolor\": \"#E1E5ED\", \"showgrid\": true, \"tickfont\": {\"color\": \"#4D5663\"}, \"title\": {\"font\": {\"color\": \"#4D5663\"}, \"text\": \"\"}, \"zerolinecolor\": \"#E1E5ED\"}, \"yaxis\": {\"gridcolor\": \"#E1E5ED\", \"showgrid\": true, \"tickfont\": {\"color\": \"#4D5663\"}, \"title\": {\"font\": {\"color\": \"#4D5663\"}, \"text\": \"\"}, \"zerolinecolor\": \"#E1E5ED\"}},\n                        {\"showLink\": true, \"linkText\": \"Export to plot.ly\", \"plotlyServerURL\": \"https://plot.ly\", \"responsive\": true}\n                    ).then(function(){\n                            \nvar gd = document.getElementById('ee492681-cb23-425a-9a3b-5e29e82fb62e');\nvar x = new MutationObserver(function (mutations, observer) {{\n        var display = window.getComputedStyle(gd).display;\n        if (!display || display === 'none') {{\n            console.log([gd, 'removed!']);\n            Plotly.purge(gd);\n            observer.disconnect();\n        }}\n}});\n\n// Listen for the removal of the full notebook cells\nvar notebookContainer = gd.closest('#notebook-container');\nif (notebookContainer) {{\n    x.observe(notebookContainer, {childList: true});\n}}\n\n// Listen for the clearing of the current output cell\nvar outputEl = gd.closest('.output');\nif (outputEl) {{\n    x.observe(outputEl, {childList: true});\n}}\n\n                        })\n                };\n                });\n            </script>\n        </div>"
     },
     "metadata": {}
    }
   ],
   "source": [
    "df.iplot(kind='box') # Box plots aggregate data automatically"
   ]
  },
  {
   "cell_type": "markdown",
   "metadata": {},
   "source": [
    "## 3d Surface"
   ]
  },
  {
   "cell_type": "code",
   "execution_count": 47,
   "metadata": {
    "collapsed": false
   },
   "outputs": [
    {
     "data": {
      "text/html": [
       "<div id=\"1bd337c5-1c72-4f4d-9748-7ff51b738774\" style=\"height: 525px; width: 100%;\" class=\"plotly-graph-div\"></div><script type=\"text/javascript\">require([\"plotly\"], function(Plotly) { window.PLOTLYENV=window.PLOTLYENV || {};window.PLOTLYENV.BASE_URL=\"https://plot.ly\";Plotly.newPlot(\"1bd337c5-1c72-4f4d-9748-7ff51b738774\", [{\"colorscale\": [[0.0, \"rgb(165,0,38)\"], [0.1, \"rgb(215,48,39)\"], [0.2, \"rgb(244,109,67)\"], [0.3, \"rgb(253,174,97)\"], [0.4, \"rgb(254,224,144)\"], [0.5, \"rgb(255,255,191)\"], [0.6, \"rgb(224,243,248)\"], [0.7, \"rgb(171,217,233)\"], [0.8, \"rgb(116,173,209)\"], [0.9, \"rgb(69,117,180)\"], [1.0, \"rgb(49,54,149)\"]], \"x\": [0, 1, 2, 3, 4], \"type\": \"surface\", \"y\": [\"x\", \"y\", \"z\"], \"z\": [[1, 2, 3, 4, 5], [10, 20, 30, 20, 10], [5, 4, 3, 2, 1]]}], {\"legend\": {\"font\": {\"color\": \"#666666\"}, \"bgcolor\": \"#FFFFFF\"}, \"titlefont\": {\"color\": \"#151516\"}, \"xaxis1\": {\"titlefont\": {\"color\": \"#666666\"}, \"zerolinecolor\": \"#F6F6F6\", \"title\": \"\", \"tickfont\": {\"color\": \"#666666\"}, \"showgrid\": true, \"gridcolor\": \"#F6F6F6\"}, \"paper_bgcolor\": \"#FFFFFF\", \"plot_bgcolor\": \"#E5E5E5\", \"yaxis1\": {\"titlefont\": {\"color\": \"#666666\"}, \"zerolinecolor\": \"#F6F6F6\", \"title\": \"\", \"tickfont\": {\"color\": \"#666666\"}, \"showgrid\": true, \"gridcolor\": \"#F6F6F6\"}}, {\"showLink\": true, \"linkText\": \"Export to plot.ly\"})});</script>"
      ],
      "text/plain": [
       "<IPython.core.display.HTML object>"
      ]
     },
     "metadata": {},
     "output_type": "display_data"
    }
   ],
   "source": [
    "df3 = pd.DataFrame({'x':[1,2,3,4,5],'y':[10,20,30,20,10],'z':[5,4,3,2,1]})\n",
    "df3.iplot(kind='surface',colorscale='rdylbu')"
   ]
  },
  {
   "cell_type": "markdown",
   "metadata": {},
   "source": [
    "## Spread"
   ]
  },
  {
   "cell_type": "code",
   "execution_count": 34,
   "metadata": {
    "collapsed": false
   },
   "outputs": [
    {
     "output_type": "display_data",
     "data": {
      "application/vnd.plotly.v1+json": {
       "config": {
        "linkText": "Export to plot.ly",
        "plotlyServerURL": "https://plot.ly",
        "showLink": true
       },
       "data": [
        {
         "line": {
          "color": "rgba(255, 153, 51, 1.0)",
          "dash": "solid",
          "shape": "linear",
          "width": 1.3
         },
         "mode": "lines",
         "name": "A",
         "text": "",
         "type": "scatter",
         "x": [
          0,
          1,
          2,
          3,
          4,
          5,
          6,
          7,
          8,
          9,
          10,
          11,
          12,
          13,
          14,
          15,
          16,
          17,
          18,
          19,
          20,
          21,
          22,
          23,
          24,
          25,
          26,
          27,
          28,
          29,
          30,
          31,
          32,
          33,
          34,
          35,
          36,
          37,
          38,
          39,
          40,
          41,
          42,
          43,
          44,
          45,
          46,
          47,
          48,
          49,
          50,
          51,
          52,
          53,
          54,
          55,
          56,
          57,
          58,
          59,
          60,
          61,
          62,
          63,
          64,
          65,
          66,
          67,
          68,
          69,
          70,
          71,
          72,
          73,
          74,
          75,
          76,
          77,
          78,
          79,
          80,
          81,
          82,
          83,
          84,
          85,
          86,
          87,
          88,
          89,
          90,
          91,
          92,
          93,
          94,
          95,
          96,
          97,
          98,
          99
         ],
         "y": [
          -0.48325729233229403,
          -0.6801469232584413,
          -0.8375638593941594,
          -0.8882653647324971,
          0.3369329682002198,
          1.5332393384460155,
          -0.4958109068306811,
          0.25529128381775856,
          0.36443246621830866,
          0.011763627863710845,
          -0.8489040944459124,
          -0.25874833248695134,
          1.2755836073180973,
          -1.2600228259346626,
          -2.6781492581231947,
          -0.7242275822894483,
          1.3081412072531584,
          -1.8448343434977177,
          0.5108257297289914,
          1.5078853308278135,
          -0.7799561281371661,
          1.1248147311608407,
          -0.9919620025891482,
          1.1013303249141366,
          -0.43149217879776913,
          0.2129267873376674,
          0.1547275473762396,
          -1.5683260126927356,
          2.7840049871654107,
          0.27031735188484474,
          0.8683633047336571,
          -1.389846350986542,
          -0.46786663578781906,
          -2.0779621390659297,
          1.2828867767936305,
          -1.0884510648994297,
          1.0213746901493257,
          -0.05878888246257884,
          -1.3446188024182197,
          -0.7454278813382993,
          1.1765091332317525,
          -1.1591562966298399,
          -0.02616506878878219,
          -1.6118479856638155,
          0.569696139357706,
          1.8566910147004743,
          0.09413685110942295,
          -0.33804333571530537,
          -2.053271732051332,
          1.177464224627984,
          -0.1441842047465084,
          -0.9017460491094729,
          -0.6317351849737326,
          1.0426833324653861,
          -1.4408682510636759,
          0.18370173991590114,
          -0.9608274607095263,
          -0.5117463730118246,
          0.6293037169773403,
          -0.8578693630097957,
          2.3422875322233025,
          -0.4071345976474636,
          -0.8276126802100241,
          1.7942749276987053,
          0.38302841199651466,
          0.9113895697906631,
          0.5788642704148587,
          2.2795657117185675,
          -0.02211855812222608,
          0.1228592331385394,
          -1.2533666848769662,
          0.9842534755210555,
          1.5591483863561952,
          0.33120363044533385,
          -0.7909100117810608,
          -0.5339160346418095,
          1.6703748204378235,
          0.18259762895651724,
          -0.530213301464795,
          -0.6933913717286806,
          1.2385825517447506,
          -0.08374662326827106,
          1.1283408068613219,
          -0.5243335506412814,
          -0.681218951498602,
          -1.0557507203560408,
          -0.5493108387478299,
          -0.3248774619763072,
          1.883032300667612,
          1.695004447251585,
          -0.8140541254788838,
          0.5377873848760677,
          0.7581917043467746,
          0.816619927313427,
          0.27317519379582567,
          1.4309861245969506,
          -0.48430609448209755,
          -0.664737834915157,
          0.2414003853354637,
          -0.33468634357597127
         ]
        },
        {
         "line": {
          "color": "rgba(55, 128, 191, 1.0)",
          "dash": "solid",
          "shape": "linear",
          "width": 1.3
         },
         "mode": "lines",
         "name": "B",
         "text": "",
         "type": "scatter",
         "x": [
          0,
          1,
          2,
          3,
          4,
          5,
          6,
          7,
          8,
          9,
          10,
          11,
          12,
          13,
          14,
          15,
          16,
          17,
          18,
          19,
          20,
          21,
          22,
          23,
          24,
          25,
          26,
          27,
          28,
          29,
          30,
          31,
          32,
          33,
          34,
          35,
          36,
          37,
          38,
          39,
          40,
          41,
          42,
          43,
          44,
          45,
          46,
          47,
          48,
          49,
          50,
          51,
          52,
          53,
          54,
          55,
          56,
          57,
          58,
          59,
          60,
          61,
          62,
          63,
          64,
          65,
          66,
          67,
          68,
          69,
          70,
          71,
          72,
          73,
          74,
          75,
          76,
          77,
          78,
          79,
          80,
          81,
          82,
          83,
          84,
          85,
          86,
          87,
          88,
          89,
          90,
          91,
          92,
          93,
          94,
          95,
          96,
          97,
          98,
          99
         ],
         "y": [
          -1.3927173484233957,
          -0.8384891188861266,
          -0.09959392787557626,
          -0.34517373201334406,
          0.7695820725156822,
          0.8143161905283209,
          0.6424656934099338,
          0.9389199039524504,
          -2.1238188619787044,
          -0.893085737904552,
          0.012860764931138417,
          -1.1318926803919251,
          0.8243106940799912,
          0.03819986680800088,
          2.0361777794837344,
          -1.3867844004931162,
          -1.3342809100543542,
          -0.7559650349941774,
          0.9431869936587628,
          -0.7292353017105296,
          0.26398698192207704,
          0.34935584252720875,
          -0.8907921787559141,
          -1.714304516517587,
          -0.33602074280726957,
          0.14577796311860552,
          -0.6007142431277214,
          -0.44423421142674,
          -2.367438036753166,
          0.5602731678041215,
          0.21987234033905276,
          1.2325230941909604,
          0.5297134492851983,
          -1.1055582363452796,
          -0.6613228785375624,
          -0.5521601076824234,
          -0.050555018172360536,
          -0.6101807599377929,
          -0.002968902971095136,
          0.42841892268558546,
          0.18777398458622327,
          1.2477146480091446,
          -0.2384926737277862,
          1.2877344149031817,
          1.85275606072833,
          -1.4989694195585188,
          0.3973272778404027,
          0.032729278573143276,
          -0.3380245785557796,
          -1.9778675062685787,
          0.501496687173523,
          0.6984819811985156,
          0.28468721241939965,
          -1.8782763898118704,
          -0.5726261522272114,
          -0.1926966288221137,
          0.8890964722990194,
          -1.4345273158503902,
          0.7709587722104292,
          -0.325919418683105,
          -0.41245632797110804,
          -0.718289525271531,
          0.6761765745160662,
          1.2185951508512314,
          -0.4593499501488937,
          0.5758361543852849,
          0.9023911370863095,
          -0.8333306471382453,
          -1.323752517968216,
          0.6755218029003134,
          0.1848147524425046,
          -0.8607646832335739,
          1.3452962959600823,
          -2.059652828010228,
          0.6687329357943761,
          -0.043517241120167464,
          2.256249209154247,
          -0.35645693894901925,
          0.9031428576518158,
          -1.2700514096432127,
          0.5507452805892401,
          0.6864768180089855,
          0.5044572517554488,
          0.11391909110956715,
          -2.6789145336337064,
          -1.3459570712606075,
          1.4411385398883014,
          -0.44285250185454955,
          1.7639445410817005,
          -0.2112152724191136,
          0.3056658805922514,
          0.07720067227148605,
          0.3467743181645393,
          1.9879896376435917,
          -1.2225526206253794,
          -1.5378700982573048,
          1.0690117257033522,
          -0.5166079885567552,
          -0.32760903806852637,
          0.1477899857467717
         ]
        },
        {
         "connectgaps": false,
         "fill": "tozeroy",
         "line": {
          "color": "green",
          "dash": "solid",
          "shape": "linear",
          "width": 0.5
         },
         "mode": "lines",
         "name": "Spread",
         "showlegend": false,
         "type": "scatter",
         "x": [
          0,
          1,
          2,
          3,
          4,
          5,
          6,
          7,
          8,
          9,
          10,
          11,
          12,
          13,
          14,
          15,
          16,
          17,
          18,
          19,
          20,
          21,
          22,
          23,
          24,
          25,
          26,
          27,
          28,
          29,
          30,
          31,
          32,
          33,
          34,
          35,
          36,
          37,
          38,
          39,
          40,
          41,
          42,
          43,
          44,
          45,
          46,
          47,
          48,
          49,
          50,
          51,
          52,
          53,
          54,
          55,
          56,
          57,
          58,
          59,
          60,
          61,
          62,
          63,
          64,
          65,
          66,
          67,
          68,
          69,
          70,
          71,
          72,
          73,
          74,
          75,
          76,
          77,
          78,
          79,
          80,
          81,
          82,
          83,
          84,
          85,
          86,
          87,
          88,
          89,
          90,
          91,
          92,
          93,
          94,
          95,
          96,
          97,
          98,
          99
         ],
         "xaxis": "x2",
         "y": [
          0.9094600560911017,
          0.15834219562768537,
          "",
          "",
          "",
          0.7189231479176945,
          "",
          "",
          2.488251328197013,
          0.9048493657682629,
          "",
          0.8731443479049739,
          0.45127291323810603,
          "",
          "",
          0.662556818203668,
          2.642422117307513,
          "",
          "",
          2.237120632538343,
          "",
          0.775458888633632,
          "",
          2.8156348414317236,
          "",
          0.06714882421906188,
          0.755441790503961,
          "",
          5.151443023918577,
          "",
          0.6484909643946043,
          "",
          "",
          "",
          1.944209655331193,
          "",
          1.0719297083216863,
          0.551391877475214,
          "",
          "",
          0.9887351486455292,
          "",
          0.21232760493900402,
          "",
          "",
          3.355660434258993,
          "",
          "",
          "",
          3.1553317308965627,
          "",
          "",
          "",
          2.9209597222772565,
          "",
          0.3763983687380148,
          "",
          0.9227809428385656,
          "",
          "",
          2.7547438601944108,
          0.3111549276240674,
          "",
          0.575679776847474,
          0.8423783621454084,
          0.3355534154053782,
          "",
          3.112896358856813,
          1.3016339598459898,
          "",
          "",
          1.8450181587546295,
          0.21385209039611297,
          2.390856458455562,
          "",
          "",
          "",
          0.5390545679055365,
          "",
          0.5766600379145321,
          0.6878372711555105,
          "",
          0.6238835551058731,
          "",
          1.9976955821351043,
          0.2902063509045667,
          "",
          0.11797503987824237,
          0.11908775958591145,
          1.9062197196706987,
          "",
          0.4605867126045816,
          0.41141738618223533,
          "",
          1.4957278144212052,
          2.9688562228542557,
          "",
          "",
          0.5690094234039901,
          ""
         ],
         "yaxis": "y2"
        },
        {
         "connectgaps": false,
         "fill": "tozeroy",
         "line": {
          "color": "red",
          "dash": "solid",
          "shape": "linear",
          "width": 0.5
         },
         "mode": "lines",
         "name": "Spread",
         "showlegend": false,
         "type": "scatter",
         "x": [
          0,
          1,
          2,
          3,
          4,
          5,
          6,
          7,
          8,
          9,
          10,
          11,
          12,
          13,
          14,
          15,
          16,
          17,
          18,
          19,
          20,
          21,
          22,
          23,
          24,
          25,
          26,
          27,
          28,
          29,
          30,
          31,
          32,
          33,
          34,
          35,
          36,
          37,
          38,
          39,
          40,
          41,
          42,
          43,
          44,
          45,
          46,
          47,
          48,
          49,
          50,
          51,
          52,
          53,
          54,
          55,
          56,
          57,
          58,
          59,
          60,
          61,
          62,
          63,
          64,
          65,
          66,
          67,
          68,
          69,
          70,
          71,
          72,
          73,
          74,
          75,
          76,
          77,
          78,
          79,
          80,
          81,
          82,
          83,
          84,
          85,
          86,
          87,
          88,
          89,
          90,
          91,
          92,
          93,
          94,
          95,
          96,
          97,
          98,
          99
         ],
         "xaxis": "x2",
         "y": [
          "",
          "",
          -0.7379699315185831,
          -0.5430916327191531,
          -0.43264910431546244,
          "",
          -1.1382766002406148,
          -0.6836286201346918,
          "",
          "",
          -0.8617648593770508,
          "",
          "",
          -1.2982226927426634,
          -4.714327037606929,
          "",
          "",
          -1.0888693085035404,
          -0.43236126392977137,
          "",
          -1.0439431100592431,
          "",
          -0.10116982383323414,
          "",
          -0.09547143599049956,
          "",
          "",
          -1.1240918012659957,
          "",
          -0.28995581591927677,
          "",
          -2.6223694451775024,
          -0.9975800850730173,
          -0.9724039027206501,
          "",
          -0.5362909572170063,
          "",
          "",
          -1.3416498994471246,
          -1.1738468040238847,
          "",
          -2.4068709446389844,
          "",
          -2.899582400566997,
          -1.283059921370624,
          "",
          -0.3031904267309798,
          -0.37077261428844865,
          -1.7152471534955525,
          "",
          -0.6456808919200314,
          -1.6002280303079885,
          -0.9164223973931322,
          "",
          -0.8682420988364645,
          "",
          -1.8499239330085457,
          "",
          -0.14165505523308886,
          -0.5319499443266906,
          "",
          "",
          -1.5037892547260903,
          "",
          "",
          "",
          -0.3235268666714508,
          "",
          "",
          -0.552662569761774,
          -1.4381814373194708,
          "",
          "",
          "",
          -1.4596429475754369,
          -0.490398793521642,
          -0.5858743887164237,
          "",
          -1.4333561591166109,
          "",
          "",
          -0.7702234412772566,
          "",
          -0.6382526417508485,
          "",
          "",
          -1.9904493786361313,
          "",
          "",
          "",
          -1.1197200060711352,
          "",
          "",
          -1.1713697103301648,
          "",
          "",
          -1.5533178201854498,
          -0.14812984635840187,
          "",
          -0.482476329322743
         ],
         "yaxis": "y2"
        }
       ],
       "layout": {
        "hovermode": "x",
        "legend": {
         "bgcolor": "#F5F6F9",
         "font": {
          "color": "#4D5663"
         }
        },
        "paper_bgcolor": "#F5F6F9",
        "plot_bgcolor": "#F5F6F9",
        "template": {
         "data": {
          "bar": [
           {
            "error_x": {
             "color": "#2a3f5f"
            },
            "error_y": {
             "color": "#2a3f5f"
            },
            "marker": {
             "line": {
              "color": "#E5ECF6",
              "width": 0.5
             }
            },
            "type": "bar"
           }
          ],
          "barpolar": [
           {
            "marker": {
             "line": {
              "color": "#E5ECF6",
              "width": 0.5
             }
            },
            "type": "barpolar"
           }
          ],
          "carpet": [
           {
            "aaxis": {
             "endlinecolor": "#2a3f5f",
             "gridcolor": "white",
             "linecolor": "white",
             "minorgridcolor": "white",
             "startlinecolor": "#2a3f5f"
            },
            "baxis": {
             "endlinecolor": "#2a3f5f",
             "gridcolor": "white",
             "linecolor": "white",
             "minorgridcolor": "white",
             "startlinecolor": "#2a3f5f"
            },
            "type": "carpet"
           }
          ],
          "choropleth": [
           {
            "colorbar": {
             "outlinewidth": 0,
             "ticks": ""
            },
            "type": "choropleth"
           }
          ],
          "contour": [
           {
            "colorbar": {
             "outlinewidth": 0,
             "ticks": ""
            },
            "colorscale": [
             [
              0,
              "#0d0887"
             ],
             [
              0.1111111111111111,
              "#46039f"
             ],
             [
              0.2222222222222222,
              "#7201a8"
             ],
             [
              0.3333333333333333,
              "#9c179e"
             ],
             [
              0.4444444444444444,
              "#bd3786"
             ],
             [
              0.5555555555555556,
              "#d8576b"
             ],
             [
              0.6666666666666666,
              "#ed7953"
             ],
             [
              0.7777777777777778,
              "#fb9f3a"
             ],
             [
              0.8888888888888888,
              "#fdca26"
             ],
             [
              1,
              "#f0f921"
             ]
            ],
            "type": "contour"
           }
          ],
          "contourcarpet": [
           {
            "colorbar": {
             "outlinewidth": 0,
             "ticks": ""
            },
            "type": "contourcarpet"
           }
          ],
          "heatmap": [
           {
            "colorbar": {
             "outlinewidth": 0,
             "ticks": ""
            },
            "colorscale": [
             [
              0,
              "#0d0887"
             ],
             [
              0.1111111111111111,
              "#46039f"
             ],
             [
              0.2222222222222222,
              "#7201a8"
             ],
             [
              0.3333333333333333,
              "#9c179e"
             ],
             [
              0.4444444444444444,
              "#bd3786"
             ],
             [
              0.5555555555555556,
              "#d8576b"
             ],
             [
              0.6666666666666666,
              "#ed7953"
             ],
             [
              0.7777777777777778,
              "#fb9f3a"
             ],
             [
              0.8888888888888888,
              "#fdca26"
             ],
             [
              1,
              "#f0f921"
             ]
            ],
            "type": "heatmap"
           }
          ],
          "heatmapgl": [
           {
            "colorbar": {
             "outlinewidth": 0,
             "ticks": ""
            },
            "colorscale": [
             [
              0,
              "#0d0887"
             ],
             [
              0.1111111111111111,
              "#46039f"
             ],
             [
              0.2222222222222222,
              "#7201a8"
             ],
             [
              0.3333333333333333,
              "#9c179e"
             ],
             [
              0.4444444444444444,
              "#bd3786"
             ],
             [
              0.5555555555555556,
              "#d8576b"
             ],
             [
              0.6666666666666666,
              "#ed7953"
             ],
             [
              0.7777777777777778,
              "#fb9f3a"
             ],
             [
              0.8888888888888888,
              "#fdca26"
             ],
             [
              1,
              "#f0f921"
             ]
            ],
            "type": "heatmapgl"
           }
          ],
          "histogram": [
           {
            "marker": {
             "colorbar": {
              "outlinewidth": 0,
              "ticks": ""
             }
            },
            "type": "histogram"
           }
          ],
          "histogram2d": [
           {
            "colorbar": {
             "outlinewidth": 0,
             "ticks": ""
            },
            "colorscale": [
             [
              0,
              "#0d0887"
             ],
             [
              0.1111111111111111,
              "#46039f"
             ],
             [
              0.2222222222222222,
              "#7201a8"
             ],
             [
              0.3333333333333333,
              "#9c179e"
             ],
             [
              0.4444444444444444,
              "#bd3786"
             ],
             [
              0.5555555555555556,
              "#d8576b"
             ],
             [
              0.6666666666666666,
              "#ed7953"
             ],
             [
              0.7777777777777778,
              "#fb9f3a"
             ],
             [
              0.8888888888888888,
              "#fdca26"
             ],
             [
              1,
              "#f0f921"
             ]
            ],
            "type": "histogram2d"
           }
          ],
          "histogram2dcontour": [
           {
            "colorbar": {
             "outlinewidth": 0,
             "ticks": ""
            },
            "colorscale": [
             [
              0,
              "#0d0887"
             ],
             [
              0.1111111111111111,
              "#46039f"
             ],
             [
              0.2222222222222222,
              "#7201a8"
             ],
             [
              0.3333333333333333,
              "#9c179e"
             ],
             [
              0.4444444444444444,
              "#bd3786"
             ],
             [
              0.5555555555555556,
              "#d8576b"
             ],
             [
              0.6666666666666666,
              "#ed7953"
             ],
             [
              0.7777777777777778,
              "#fb9f3a"
             ],
             [
              0.8888888888888888,
              "#fdca26"
             ],
             [
              1,
              "#f0f921"
             ]
            ],
            "type": "histogram2dcontour"
           }
          ],
          "mesh3d": [
           {
            "colorbar": {
             "outlinewidth": 0,
             "ticks": ""
            },
            "type": "mesh3d"
           }
          ],
          "parcoords": [
           {
            "line": {
             "colorbar": {
              "outlinewidth": 0,
              "ticks": ""
             }
            },
            "type": "parcoords"
           }
          ],
          "pie": [
           {
            "automargin": true,
            "type": "pie"
           }
          ],
          "scatter": [
           {
            "marker": {
             "colorbar": {
              "outlinewidth": 0,
              "ticks": ""
             }
            },
            "type": "scatter"
           }
          ],
          "scatter3d": [
           {
            "line": {
             "colorbar": {
              "outlinewidth": 0,
              "ticks": ""
             }
            },
            "marker": {
             "colorbar": {
              "outlinewidth": 0,
              "ticks": ""
             }
            },
            "type": "scatter3d"
           }
          ],
          "scattercarpet": [
           {
            "marker": {
             "colorbar": {
              "outlinewidth": 0,
              "ticks": ""
             }
            },
            "type": "scattercarpet"
           }
          ],
          "scattergeo": [
           {
            "marker": {
             "colorbar": {
              "outlinewidth": 0,
              "ticks": ""
             }
            },
            "type": "scattergeo"
           }
          ],
          "scattergl": [
           {
            "marker": {
             "colorbar": {
              "outlinewidth": 0,
              "ticks": ""
             }
            },
            "type": "scattergl"
           }
          ],
          "scattermapbox": [
           {
            "marker": {
             "colorbar": {
              "outlinewidth": 0,
              "ticks": ""
             }
            },
            "type": "scattermapbox"
           }
          ],
          "scatterpolar": [
           {
            "marker": {
             "colorbar": {
              "outlinewidth": 0,
              "ticks": ""
             }
            },
            "type": "scatterpolar"
           }
          ],
          "scatterpolargl": [
           {
            "marker": {
             "colorbar": {
              "outlinewidth": 0,
              "ticks": ""
             }
            },
            "type": "scatterpolargl"
           }
          ],
          "scatterternary": [
           {
            "marker": {
             "colorbar": {
              "outlinewidth": 0,
              "ticks": ""
             }
            },
            "type": "scatterternary"
           }
          ],
          "surface": [
           {
            "colorbar": {
             "outlinewidth": 0,
             "ticks": ""
            },
            "colorscale": [
             [
              0,
              "#0d0887"
             ],
             [
              0.1111111111111111,
              "#46039f"
             ],
             [
              0.2222222222222222,
              "#7201a8"
             ],
             [
              0.3333333333333333,
              "#9c179e"
             ],
             [
              0.4444444444444444,
              "#bd3786"
             ],
             [
              0.5555555555555556,
              "#d8576b"
             ],
             [
              0.6666666666666666,
              "#ed7953"
             ],
             [
              0.7777777777777778,
              "#fb9f3a"
             ],
             [
              0.8888888888888888,
              "#fdca26"
             ],
             [
              1,
              "#f0f921"
             ]
            ],
            "type": "surface"
           }
          ],
          "table": [
           {
            "cells": {
             "fill": {
              "color": "#EBF0F8"
             },
             "line": {
              "color": "white"
             }
            },
            "header": {
             "fill": {
              "color": "#C8D4E3"
             },
             "line": {
              "color": "white"
             }
            },
            "type": "table"
           }
          ]
         },
         "layout": {
          "annotationdefaults": {
           "arrowcolor": "#2a3f5f",
           "arrowhead": 0,
           "arrowwidth": 1
          },
          "coloraxis": {
           "colorbar": {
            "outlinewidth": 0,
            "ticks": ""
           }
          },
          "colorscale": {
           "diverging": [
            [
             0,
             "#8e0152"
            ],
            [
             0.1,
             "#c51b7d"
            ],
            [
             0.2,
             "#de77ae"
            ],
            [
             0.3,
             "#f1b6da"
            ],
            [
             0.4,
             "#fde0ef"
            ],
            [
             0.5,
             "#f7f7f7"
            ],
            [
             0.6,
             "#e6f5d0"
            ],
            [
             0.7,
             "#b8e186"
            ],
            [
             0.8,
             "#7fbc41"
            ],
            [
             0.9,
             "#4d9221"
            ],
            [
             1,
             "#276419"
            ]
           ],
           "sequential": [
            [
             0,
             "#0d0887"
            ],
            [
             0.1111111111111111,
             "#46039f"
            ],
            [
             0.2222222222222222,
             "#7201a8"
            ],
            [
             0.3333333333333333,
             "#9c179e"
            ],
            [
             0.4444444444444444,
             "#bd3786"
            ],
            [
             0.5555555555555556,
             "#d8576b"
            ],
            [
             0.6666666666666666,
             "#ed7953"
            ],
            [
             0.7777777777777778,
             "#fb9f3a"
            ],
            [
             0.8888888888888888,
             "#fdca26"
            ],
            [
             1,
             "#f0f921"
            ]
           ],
           "sequentialminus": [
            [
             0,
             "#0d0887"
            ],
            [
             0.1111111111111111,
             "#46039f"
            ],
            [
             0.2222222222222222,
             "#7201a8"
            ],
            [
             0.3333333333333333,
             "#9c179e"
            ],
            [
             0.4444444444444444,
             "#bd3786"
            ],
            [
             0.5555555555555556,
             "#d8576b"
            ],
            [
             0.6666666666666666,
             "#ed7953"
            ],
            [
             0.7777777777777778,
             "#fb9f3a"
            ],
            [
             0.8888888888888888,
             "#fdca26"
            ],
            [
             1,
             "#f0f921"
            ]
           ]
          },
          "colorway": [
           "#636efa",
           "#EF553B",
           "#00cc96",
           "#ab63fa",
           "#FFA15A",
           "#19d3f3",
           "#FF6692",
           "#B6E880",
           "#FF97FF",
           "#FECB52"
          ],
          "font": {
           "color": "#2a3f5f"
          },
          "geo": {
           "bgcolor": "white",
           "lakecolor": "white",
           "landcolor": "#E5ECF6",
           "showlakes": true,
           "showland": true,
           "subunitcolor": "white"
          },
          "hoverlabel": {
           "align": "left"
          },
          "hovermode": "closest",
          "mapbox": {
           "style": "light"
          },
          "paper_bgcolor": "white",
          "plot_bgcolor": "#E5ECF6",
          "polar": {
           "angularaxis": {
            "gridcolor": "white",
            "linecolor": "white",
            "ticks": ""
           },
           "bgcolor": "#E5ECF6",
           "radialaxis": {
            "gridcolor": "white",
            "linecolor": "white",
            "ticks": ""
           }
          },
          "scene": {
           "xaxis": {
            "backgroundcolor": "#E5ECF6",
            "gridcolor": "white",
            "gridwidth": 2,
            "linecolor": "white",
            "showbackground": true,
            "ticks": "",
            "zerolinecolor": "white"
           },
           "yaxis": {
            "backgroundcolor": "#E5ECF6",
            "gridcolor": "white",
            "gridwidth": 2,
            "linecolor": "white",
            "showbackground": true,
            "ticks": "",
            "zerolinecolor": "white"
           },
           "zaxis": {
            "backgroundcolor": "#E5ECF6",
            "gridcolor": "white",
            "gridwidth": 2,
            "linecolor": "white",
            "showbackground": true,
            "ticks": "",
            "zerolinecolor": "white"
           }
          },
          "shapedefaults": {
           "line": {
            "color": "#2a3f5f"
           }
          },
          "ternary": {
           "aaxis": {
            "gridcolor": "white",
            "linecolor": "white",
            "ticks": ""
           },
           "baxis": {
            "gridcolor": "white",
            "linecolor": "white",
            "ticks": ""
           },
           "bgcolor": "#E5ECF6",
           "caxis": {
            "gridcolor": "white",
            "linecolor": "white",
            "ticks": ""
           }
          },
          "title": {
           "x": 0.05
          },
          "xaxis": {
           "automargin": true,
           "gridcolor": "white",
           "linecolor": "white",
           "ticks": "",
           "title": {
            "standoff": 15
           },
           "zerolinecolor": "white",
           "zerolinewidth": 2
          },
          "yaxis": {
           "automargin": true,
           "gridcolor": "white",
           "linecolor": "white",
           "ticks": "",
           "title": {
            "standoff": 15
           },
           "zerolinecolor": "white",
           "zerolinewidth": 2
          }
         }
        },
        "title": {
         "font": {
          "color": "#4D5663"
         }
        },
        "xaxis": {
         "gridcolor": "#E1E5ED",
         "showgrid": true,
         "tickfont": {
          "color": "#4D5663"
         },
         "title": {
          "font": {
           "color": "#4D5663"
          },
          "text": ""
         },
         "zerolinecolor": "#E1E5ED"
        },
        "xaxis2": {
         "anchor": "y2",
         "gridcolor": "#E1E5ED",
         "showgrid": true,
         "showticklabels": false,
         "tickfont": {
          "color": "#4D5663"
         },
         "title": {
          "font": {
           "color": "#4D5663"
          },
          "text": ""
         },
         "zerolinecolor": "#E1E5ED"
        },
        "yaxis": {
         "domain": [
          0.3,
          1
         ],
         "gridcolor": "#E1E5ED",
         "showgrid": true,
         "tickfont": {
          "color": "#4D5663"
         },
         "title": {
          "font": {
           "color": "#4D5663"
          },
          "text": ""
         },
         "zerolinecolor": "#E1E5ED"
        },
        "yaxis2": {
         "domain": [
          0,
          0.25
         ],
         "gridcolor": "#E1E5ED",
         "showgrid": true,
         "tickfont": {
          "color": "#4D5663"
         },
         "title": {
          "font": {
           "color": "#4D5663"
          },
          "text": "Spread"
         },
         "zerolinecolor": "#E1E5ED"
        }
       }
      },
      "text/html": "<div>\n        \n        \n            <div id=\"fcfa58ca-db2e-4306-840f-1621f1b40116\" class=\"plotly-graph-div\" style=\"height:525px; width:100%;\"></div>\n            <script type=\"text/javascript\">\n                require([\"plotly\"], function(Plotly) {\n                    window.PLOTLYENV=window.PLOTLYENV || {};\n                    window.PLOTLYENV.BASE_URL='https://plot.ly';\n                    \n                if (document.getElementById(\"fcfa58ca-db2e-4306-840f-1621f1b40116\")) {\n                    Plotly.newPlot(\n                        'fcfa58ca-db2e-4306-840f-1621f1b40116',\n                        [{\"line\": {\"color\": \"rgba(255, 153, 51, 1.0)\", \"dash\": \"solid\", \"shape\": \"linear\", \"width\": 1.3}, \"mode\": \"lines\", \"name\": \"A\", \"text\": \"\", \"type\": \"scatter\", \"x\": [0, 1, 2, 3, 4, 5, 6, 7, 8, 9, 10, 11, 12, 13, 14, 15, 16, 17, 18, 19, 20, 21, 22, 23, 24, 25, 26, 27, 28, 29, 30, 31, 32, 33, 34, 35, 36, 37, 38, 39, 40, 41, 42, 43, 44, 45, 46, 47, 48, 49, 50, 51, 52, 53, 54, 55, 56, 57, 58, 59, 60, 61, 62, 63, 64, 65, 66, 67, 68, 69, 70, 71, 72, 73, 74, 75, 76, 77, 78, 79, 80, 81, 82, 83, 84, 85, 86, 87, 88, 89, 90, 91, 92, 93, 94, 95, 96, 97, 98, 99], \"y\": [-0.48325729233229403, -0.6801469232584413, -0.8375638593941594, -0.8882653647324971, 0.3369329682002198, 1.5332393384460155, -0.4958109068306811, 0.25529128381775856, 0.36443246621830866, 0.011763627863710845, -0.8489040944459124, -0.25874833248695134, 1.2755836073180973, -1.2600228259346626, -2.6781492581231947, -0.7242275822894483, 1.3081412072531584, -1.8448343434977177, 0.5108257297289914, 1.5078853308278135, -0.7799561281371661, 1.1248147311608407, -0.9919620025891482, 1.1013303249141366, -0.43149217879776913, 0.2129267873376674, 0.1547275473762396, -1.5683260126927356, 2.7840049871654107, 0.27031735188484474, 0.8683633047336571, -1.389846350986542, -0.46786663578781906, -2.0779621390659297, 1.2828867767936305, -1.0884510648994297, 1.0213746901493257, -0.05878888246257884, -1.3446188024182197, -0.7454278813382993, 1.1765091332317525, -1.1591562966298399, -0.02616506878878219, -1.6118479856638155, 0.569696139357706, 1.8566910147004743, 0.09413685110942295, -0.33804333571530537, -2.053271732051332, 1.177464224627984, -0.1441842047465084, -0.9017460491094729, -0.6317351849737326, 1.0426833324653861, -1.4408682510636759, 0.18370173991590114, -0.9608274607095263, -0.5117463730118246, 0.6293037169773403, -0.8578693630097957, 2.3422875322233025, -0.4071345976474636, -0.8276126802100241, 1.7942749276987053, 0.38302841199651466, 0.9113895697906631, 0.5788642704148587, 2.2795657117185675, -0.02211855812222608, 0.1228592331385394, -1.2533666848769662, 0.9842534755210555, 1.5591483863561952, 0.33120363044533385, -0.7909100117810608, -0.5339160346418095, 1.6703748204378235, 0.18259762895651724, -0.530213301464795, -0.6933913717286806, 1.2385825517447506, -0.08374662326827106, 1.1283408068613219, -0.5243335506412814, -0.681218951498602, -1.0557507203560408, -0.5493108387478299, -0.3248774619763072, 1.883032300667612, 1.695004447251585, -0.8140541254788838, 0.5377873848760677, 0.7581917043467746, 0.816619927313427, 0.27317519379582567, 1.4309861245969506, -0.48430609448209755, -0.664737834915157, 0.2414003853354637, -0.33468634357597127]}, {\"line\": {\"color\": \"rgba(55, 128, 191, 1.0)\", \"dash\": \"solid\", \"shape\": \"linear\", \"width\": 1.3}, \"mode\": \"lines\", \"name\": \"B\", \"text\": \"\", \"type\": \"scatter\", \"x\": [0, 1, 2, 3, 4, 5, 6, 7, 8, 9, 10, 11, 12, 13, 14, 15, 16, 17, 18, 19, 20, 21, 22, 23, 24, 25, 26, 27, 28, 29, 30, 31, 32, 33, 34, 35, 36, 37, 38, 39, 40, 41, 42, 43, 44, 45, 46, 47, 48, 49, 50, 51, 52, 53, 54, 55, 56, 57, 58, 59, 60, 61, 62, 63, 64, 65, 66, 67, 68, 69, 70, 71, 72, 73, 74, 75, 76, 77, 78, 79, 80, 81, 82, 83, 84, 85, 86, 87, 88, 89, 90, 91, 92, 93, 94, 95, 96, 97, 98, 99], \"y\": [-1.3927173484233957, -0.8384891188861266, -0.09959392787557626, -0.34517373201334406, 0.7695820725156822, 0.8143161905283209, 0.6424656934099338, 0.9389199039524504, -2.1238188619787044, -0.893085737904552, 0.012860764931138417, -1.1318926803919251, 0.8243106940799912, 0.03819986680800088, 2.0361777794837344, -1.3867844004931162, -1.3342809100543542, -0.7559650349941774, 0.9431869936587628, -0.7292353017105296, 0.26398698192207704, 0.34935584252720875, -0.8907921787559141, -1.714304516517587, -0.33602074280726957, 0.14577796311860552, -0.6007142431277214, -0.44423421142674, -2.367438036753166, 0.5602731678041215, 0.21987234033905276, 1.2325230941909604, 0.5297134492851983, -1.1055582363452796, -0.6613228785375624, -0.5521601076824234, -0.050555018172360536, -0.6101807599377929, -0.002968902971095136, 0.42841892268558546, 0.18777398458622327, 1.2477146480091446, -0.2384926737277862, 1.2877344149031817, 1.85275606072833, -1.4989694195585188, 0.3973272778404027, 0.032729278573143276, -0.3380245785557796, -1.9778675062685787, 0.501496687173523, 0.6984819811985156, 0.28468721241939965, -1.8782763898118704, -0.5726261522272114, -0.1926966288221137, 0.8890964722990194, -1.4345273158503902, 0.7709587722104292, -0.325919418683105, -0.41245632797110804, -0.718289525271531, 0.6761765745160662, 1.2185951508512314, -0.4593499501488937, 0.5758361543852849, 0.9023911370863095, -0.8333306471382453, -1.323752517968216, 0.6755218029003134, 0.1848147524425046, -0.8607646832335739, 1.3452962959600823, -2.059652828010228, 0.6687329357943761, -0.043517241120167464, 2.256249209154247, -0.35645693894901925, 0.9031428576518158, -1.2700514096432127, 0.5507452805892401, 0.6864768180089855, 0.5044572517554488, 0.11391909110956715, -2.6789145336337064, -1.3459570712606075, 1.4411385398883014, -0.44285250185454955, 1.7639445410817005, -0.2112152724191136, 0.3056658805922514, 0.07720067227148605, 0.3467743181645393, 1.9879896376435917, -1.2225526206253794, -1.5378700982573048, 1.0690117257033522, -0.5166079885567552, -0.32760903806852637, 0.1477899857467717]}, {\"connectgaps\": false, \"fill\": \"tozeroy\", \"line\": {\"color\": \"green\", \"dash\": \"solid\", \"shape\": \"linear\", \"width\": 0.5}, \"mode\": \"lines\", \"name\": \"Spread\", \"showlegend\": false, \"type\": \"scatter\", \"x\": [0, 1, 2, 3, 4, 5, 6, 7, 8, 9, 10, 11, 12, 13, 14, 15, 16, 17, 18, 19, 20, 21, 22, 23, 24, 25, 26, 27, 28, 29, 30, 31, 32, 33, 34, 35, 36, 37, 38, 39, 40, 41, 42, 43, 44, 45, 46, 47, 48, 49, 50, 51, 52, 53, 54, 55, 56, 57, 58, 59, 60, 61, 62, 63, 64, 65, 66, 67, 68, 69, 70, 71, 72, 73, 74, 75, 76, 77, 78, 79, 80, 81, 82, 83, 84, 85, 86, 87, 88, 89, 90, 91, 92, 93, 94, 95, 96, 97, 98, 99], \"xaxis\": \"x2\", \"y\": [0.9094600560911017, 0.15834219562768537, \"\", \"\", \"\", 0.7189231479176945, \"\", \"\", 2.488251328197013, 0.9048493657682629, \"\", 0.8731443479049739, 0.45127291323810603, \"\", \"\", 0.662556818203668, 2.642422117307513, \"\", \"\", 2.237120632538343, \"\", 0.775458888633632, \"\", 2.8156348414317236, \"\", 0.06714882421906188, 0.755441790503961, \"\", 5.151443023918577, \"\", 0.6484909643946043, \"\", \"\", \"\", 1.944209655331193, \"\", 1.0719297083216863, 0.551391877475214, \"\", \"\", 0.9887351486455292, \"\", 0.21232760493900402, \"\", \"\", 3.355660434258993, \"\", \"\", \"\", 3.1553317308965627, \"\", \"\", \"\", 2.9209597222772565, \"\", 0.3763983687380148, \"\", 0.9227809428385656, \"\", \"\", 2.7547438601944108, 0.3111549276240674, \"\", 0.575679776847474, 0.8423783621454084, 0.3355534154053782, \"\", 3.112896358856813, 1.3016339598459898, \"\", \"\", 1.8450181587546295, 0.21385209039611297, 2.390856458455562, \"\", \"\", \"\", 0.5390545679055365, \"\", 0.5766600379145321, 0.6878372711555105, \"\", 0.6238835551058731, \"\", 1.9976955821351043, 0.2902063509045667, \"\", 0.11797503987824237, 0.11908775958591145, 1.9062197196706987, \"\", 0.4605867126045816, 0.41141738618223533, \"\", 1.4957278144212052, 2.9688562228542557, \"\", \"\", 0.5690094234039901, \"\"], \"yaxis\": \"y2\"}, {\"connectgaps\": false, \"fill\": \"tozeroy\", \"line\": {\"color\": \"red\", \"dash\": \"solid\", \"shape\": \"linear\", \"width\": 0.5}, \"mode\": \"lines\", \"name\": \"Spread\", \"showlegend\": false, \"type\": \"scatter\", \"x\": [0, 1, 2, 3, 4, 5, 6, 7, 8, 9, 10, 11, 12, 13, 14, 15, 16, 17, 18, 19, 20, 21, 22, 23, 24, 25, 26, 27, 28, 29, 30, 31, 32, 33, 34, 35, 36, 37, 38, 39, 40, 41, 42, 43, 44, 45, 46, 47, 48, 49, 50, 51, 52, 53, 54, 55, 56, 57, 58, 59, 60, 61, 62, 63, 64, 65, 66, 67, 68, 69, 70, 71, 72, 73, 74, 75, 76, 77, 78, 79, 80, 81, 82, 83, 84, 85, 86, 87, 88, 89, 90, 91, 92, 93, 94, 95, 96, 97, 98, 99], \"xaxis\": \"x2\", \"y\": [\"\", \"\", -0.7379699315185831, -0.5430916327191531, -0.43264910431546244, \"\", -1.1382766002406148, -0.6836286201346918, \"\", \"\", -0.8617648593770508, \"\", \"\", -1.2982226927426634, -4.714327037606929, \"\", \"\", -1.0888693085035404, -0.43236126392977137, \"\", -1.0439431100592431, \"\", -0.10116982383323414, \"\", -0.09547143599049956, \"\", \"\", -1.1240918012659957, \"\", -0.28995581591927677, \"\", -2.6223694451775024, -0.9975800850730173, -0.9724039027206501, \"\", -0.5362909572170063, \"\", \"\", -1.3416498994471246, -1.1738468040238847, \"\", -2.4068709446389844, \"\", -2.899582400566997, -1.283059921370624, \"\", -0.3031904267309798, -0.37077261428844865, -1.7152471534955525, \"\", -0.6456808919200314, -1.6002280303079885, -0.9164223973931322, \"\", -0.8682420988364645, \"\", -1.8499239330085457, \"\", -0.14165505523308886, -0.5319499443266906, \"\", \"\", -1.5037892547260903, \"\", \"\", \"\", -0.3235268666714508, \"\", \"\", -0.552662569761774, -1.4381814373194708, \"\", \"\", \"\", -1.4596429475754369, -0.490398793521642, -0.5858743887164237, \"\", -1.4333561591166109, \"\", \"\", -0.7702234412772566, \"\", -0.6382526417508485, \"\", \"\", -1.9904493786361313, \"\", \"\", \"\", -1.1197200060711352, \"\", \"\", -1.1713697103301648, \"\", \"\", -1.5533178201854498, -0.14812984635840187, \"\", -0.482476329322743], \"yaxis\": \"y2\"}],\n                        {\"hovermode\": \"x\", \"legend\": {\"bgcolor\": \"#F5F6F9\", \"font\": {\"color\": \"#4D5663\"}}, \"paper_bgcolor\": \"#F5F6F9\", \"plot_bgcolor\": \"#F5F6F9\", \"template\": {\"data\": {\"bar\": [{\"error_x\": {\"color\": \"#2a3f5f\"}, \"error_y\": {\"color\": \"#2a3f5f\"}, \"marker\": {\"line\": {\"color\": \"#E5ECF6\", \"width\": 0.5}}, \"type\": \"bar\"}], \"barpolar\": [{\"marker\": {\"line\": {\"color\": \"#E5ECF6\", \"width\": 0.5}}, \"type\": \"barpolar\"}], \"carpet\": [{\"aaxis\": {\"endlinecolor\": \"#2a3f5f\", \"gridcolor\": \"white\", \"linecolor\": \"white\", \"minorgridcolor\": \"white\", \"startlinecolor\": \"#2a3f5f\"}, \"baxis\": {\"endlinecolor\": \"#2a3f5f\", \"gridcolor\": \"white\", \"linecolor\": \"white\", \"minorgridcolor\": \"white\", \"startlinecolor\": \"#2a3f5f\"}, \"type\": \"carpet\"}], \"choropleth\": [{\"colorbar\": {\"outlinewidth\": 0, \"ticks\": \"\"}, \"type\": \"choropleth\"}], \"contour\": [{\"colorbar\": {\"outlinewidth\": 0, \"ticks\": \"\"}, \"colorscale\": [[0.0, \"#0d0887\"], [0.1111111111111111, \"#46039f\"], [0.2222222222222222, \"#7201a8\"], [0.3333333333333333, \"#9c179e\"], [0.4444444444444444, \"#bd3786\"], [0.5555555555555556, \"#d8576b\"], [0.6666666666666666, \"#ed7953\"], [0.7777777777777778, \"#fb9f3a\"], [0.8888888888888888, \"#fdca26\"], [1.0, \"#f0f921\"]], \"type\": \"contour\"}], \"contourcarpet\": [{\"colorbar\": {\"outlinewidth\": 0, \"ticks\": \"\"}, \"type\": \"contourcarpet\"}], \"heatmap\": [{\"colorbar\": {\"outlinewidth\": 0, \"ticks\": \"\"}, \"colorscale\": [[0.0, \"#0d0887\"], [0.1111111111111111, \"#46039f\"], [0.2222222222222222, \"#7201a8\"], [0.3333333333333333, \"#9c179e\"], [0.4444444444444444, \"#bd3786\"], [0.5555555555555556, \"#d8576b\"], [0.6666666666666666, \"#ed7953\"], [0.7777777777777778, \"#fb9f3a\"], [0.8888888888888888, \"#fdca26\"], [1.0, \"#f0f921\"]], \"type\": \"heatmap\"}], \"heatmapgl\": [{\"colorbar\": {\"outlinewidth\": 0, \"ticks\": \"\"}, \"colorscale\": [[0.0, \"#0d0887\"], [0.1111111111111111, \"#46039f\"], [0.2222222222222222, \"#7201a8\"], [0.3333333333333333, \"#9c179e\"], [0.4444444444444444, \"#bd3786\"], [0.5555555555555556, \"#d8576b\"], [0.6666666666666666, \"#ed7953\"], [0.7777777777777778, \"#fb9f3a\"], [0.8888888888888888, \"#fdca26\"], [1.0, \"#f0f921\"]], \"type\": \"heatmapgl\"}], \"histogram\": [{\"marker\": {\"colorbar\": {\"outlinewidth\": 0, \"ticks\": \"\"}}, \"type\": \"histogram\"}], \"histogram2d\": [{\"colorbar\": {\"outlinewidth\": 0, \"ticks\": \"\"}, \"colorscale\": [[0.0, \"#0d0887\"], [0.1111111111111111, \"#46039f\"], [0.2222222222222222, \"#7201a8\"], [0.3333333333333333, \"#9c179e\"], [0.4444444444444444, \"#bd3786\"], [0.5555555555555556, \"#d8576b\"], [0.6666666666666666, \"#ed7953\"], [0.7777777777777778, \"#fb9f3a\"], [0.8888888888888888, \"#fdca26\"], [1.0, \"#f0f921\"]], \"type\": \"histogram2d\"}], \"histogram2dcontour\": [{\"colorbar\": {\"outlinewidth\": 0, \"ticks\": \"\"}, \"colorscale\": [[0.0, \"#0d0887\"], [0.1111111111111111, \"#46039f\"], [0.2222222222222222, \"#7201a8\"], [0.3333333333333333, \"#9c179e\"], [0.4444444444444444, \"#bd3786\"], [0.5555555555555556, \"#d8576b\"], [0.6666666666666666, \"#ed7953\"], [0.7777777777777778, \"#fb9f3a\"], [0.8888888888888888, \"#fdca26\"], [1.0, \"#f0f921\"]], \"type\": \"histogram2dcontour\"}], \"mesh3d\": [{\"colorbar\": {\"outlinewidth\": 0, \"ticks\": \"\"}, \"type\": \"mesh3d\"}], \"parcoords\": [{\"line\": {\"colorbar\": {\"outlinewidth\": 0, \"ticks\": \"\"}}, \"type\": \"parcoords\"}], \"pie\": [{\"automargin\": true, \"type\": \"pie\"}], \"scatter\": [{\"marker\": {\"colorbar\": {\"outlinewidth\": 0, \"ticks\": \"\"}}, \"type\": \"scatter\"}], \"scatter3d\": [{\"line\": {\"colorbar\": {\"outlinewidth\": 0, \"ticks\": \"\"}}, \"marker\": {\"colorbar\": {\"outlinewidth\": 0, \"ticks\": \"\"}}, \"type\": \"scatter3d\"}], \"scattercarpet\": [{\"marker\": {\"colorbar\": {\"outlinewidth\": 0, \"ticks\": \"\"}}, \"type\": \"scattercarpet\"}], \"scattergeo\": [{\"marker\": {\"colorbar\": {\"outlinewidth\": 0, \"ticks\": \"\"}}, \"type\": \"scattergeo\"}], \"scattergl\": [{\"marker\": {\"colorbar\": {\"outlinewidth\": 0, \"ticks\": \"\"}}, \"type\": \"scattergl\"}], \"scattermapbox\": [{\"marker\": {\"colorbar\": {\"outlinewidth\": 0, \"ticks\": \"\"}}, \"type\": \"scattermapbox\"}], \"scatterpolar\": [{\"marker\": {\"colorbar\": {\"outlinewidth\": 0, \"ticks\": \"\"}}, \"type\": \"scatterpolar\"}], \"scatterpolargl\": [{\"marker\": {\"colorbar\": {\"outlinewidth\": 0, \"ticks\": \"\"}}, \"type\": \"scatterpolargl\"}], \"scatterternary\": [{\"marker\": {\"colorbar\": {\"outlinewidth\": 0, \"ticks\": \"\"}}, \"type\": \"scatterternary\"}], \"surface\": [{\"colorbar\": {\"outlinewidth\": 0, \"ticks\": \"\"}, \"colorscale\": [[0.0, \"#0d0887\"], [0.1111111111111111, \"#46039f\"], [0.2222222222222222, \"#7201a8\"], [0.3333333333333333, \"#9c179e\"], [0.4444444444444444, \"#bd3786\"], [0.5555555555555556, \"#d8576b\"], [0.6666666666666666, \"#ed7953\"], [0.7777777777777778, \"#fb9f3a\"], [0.8888888888888888, \"#fdca26\"], [1.0, \"#f0f921\"]], \"type\": \"surface\"}], \"table\": [{\"cells\": {\"fill\": {\"color\": \"#EBF0F8\"}, \"line\": {\"color\": \"white\"}}, \"header\": {\"fill\": {\"color\": \"#C8D4E3\"}, \"line\": {\"color\": \"white\"}}, \"type\": \"table\"}]}, \"layout\": {\"annotationdefaults\": {\"arrowcolor\": \"#2a3f5f\", \"arrowhead\": 0, \"arrowwidth\": 1}, \"coloraxis\": {\"colorbar\": {\"outlinewidth\": 0, \"ticks\": \"\"}}, \"colorscale\": {\"diverging\": [[0, \"#8e0152\"], [0.1, \"#c51b7d\"], [0.2, \"#de77ae\"], [0.3, \"#f1b6da\"], [0.4, \"#fde0ef\"], [0.5, \"#f7f7f7\"], [0.6, \"#e6f5d0\"], [0.7, \"#b8e186\"], [0.8, \"#7fbc41\"], [0.9, \"#4d9221\"], [1, \"#276419\"]], \"sequential\": [[0.0, \"#0d0887\"], [0.1111111111111111, \"#46039f\"], [0.2222222222222222, \"#7201a8\"], [0.3333333333333333, \"#9c179e\"], [0.4444444444444444, \"#bd3786\"], [0.5555555555555556, \"#d8576b\"], [0.6666666666666666, \"#ed7953\"], [0.7777777777777778, \"#fb9f3a\"], [0.8888888888888888, \"#fdca26\"], [1.0, \"#f0f921\"]], \"sequentialminus\": [[0.0, \"#0d0887\"], [0.1111111111111111, \"#46039f\"], [0.2222222222222222, \"#7201a8\"], [0.3333333333333333, \"#9c179e\"], [0.4444444444444444, \"#bd3786\"], [0.5555555555555556, \"#d8576b\"], [0.6666666666666666, \"#ed7953\"], [0.7777777777777778, \"#fb9f3a\"], [0.8888888888888888, \"#fdca26\"], [1.0, \"#f0f921\"]]}, \"colorway\": [\"#636efa\", \"#EF553B\", \"#00cc96\", \"#ab63fa\", \"#FFA15A\", \"#19d3f3\", \"#FF6692\", \"#B6E880\", \"#FF97FF\", \"#FECB52\"], \"font\": {\"color\": \"#2a3f5f\"}, \"geo\": {\"bgcolor\": \"white\", \"lakecolor\": \"white\", \"landcolor\": \"#E5ECF6\", \"showlakes\": true, \"showland\": true, \"subunitcolor\": \"white\"}, \"hoverlabel\": {\"align\": \"left\"}, \"hovermode\": \"closest\", \"mapbox\": {\"style\": \"light\"}, \"paper_bgcolor\": \"white\", \"plot_bgcolor\": \"#E5ECF6\", \"polar\": {\"angularaxis\": {\"gridcolor\": \"white\", \"linecolor\": \"white\", \"ticks\": \"\"}, \"bgcolor\": \"#E5ECF6\", \"radialaxis\": {\"gridcolor\": \"white\", \"linecolor\": \"white\", \"ticks\": \"\"}}, \"scene\": {\"xaxis\": {\"backgroundcolor\": \"#E5ECF6\", \"gridcolor\": \"white\", \"gridwidth\": 2, \"linecolor\": \"white\", \"showbackground\": true, \"ticks\": \"\", \"zerolinecolor\": \"white\"}, \"yaxis\": {\"backgroundcolor\": \"#E5ECF6\", \"gridcolor\": \"white\", \"gridwidth\": 2, \"linecolor\": \"white\", \"showbackground\": true, \"ticks\": \"\", \"zerolinecolor\": \"white\"}, \"zaxis\": {\"backgroundcolor\": \"#E5ECF6\", \"gridcolor\": \"white\", \"gridwidth\": 2, \"linecolor\": \"white\", \"showbackground\": true, \"ticks\": \"\", \"zerolinecolor\": \"white\"}}, \"shapedefaults\": {\"line\": {\"color\": \"#2a3f5f\"}}, \"ternary\": {\"aaxis\": {\"gridcolor\": \"white\", \"linecolor\": \"white\", \"ticks\": \"\"}, \"baxis\": {\"gridcolor\": \"white\", \"linecolor\": \"white\", \"ticks\": \"\"}, \"bgcolor\": \"#E5ECF6\", \"caxis\": {\"gridcolor\": \"white\", \"linecolor\": \"white\", \"ticks\": \"\"}}, \"title\": {\"x\": 0.05}, \"xaxis\": {\"automargin\": true, \"gridcolor\": \"white\", \"linecolor\": \"white\", \"ticks\": \"\", \"title\": {\"standoff\": 15}, \"zerolinecolor\": \"white\", \"zerolinewidth\": 2}, \"yaxis\": {\"automargin\": true, \"gridcolor\": \"white\", \"linecolor\": \"white\", \"ticks\": \"\", \"title\": {\"standoff\": 15}, \"zerolinecolor\": \"white\", \"zerolinewidth\": 2}}}, \"title\": {\"font\": {\"color\": \"#4D5663\"}}, \"xaxis\": {\"gridcolor\": \"#E1E5ED\", \"showgrid\": true, \"tickfont\": {\"color\": \"#4D5663\"}, \"title\": {\"font\": {\"color\": \"#4D5663\"}, \"text\": \"\"}, \"zerolinecolor\": \"#E1E5ED\"}, \"xaxis2\": {\"anchor\": \"y2\", \"gridcolor\": \"#E1E5ED\", \"showgrid\": true, \"showticklabels\": false, \"tickfont\": {\"color\": \"#4D5663\"}, \"title\": {\"font\": {\"color\": \"#4D5663\"}, \"text\": \"\"}, \"zerolinecolor\": \"#E1E5ED\"}, \"yaxis\": {\"domain\": [0.3, 1], \"gridcolor\": \"#E1E5ED\", \"showgrid\": true, \"tickfont\": {\"color\": \"#4D5663\"}, \"title\": {\"font\": {\"color\": \"#4D5663\"}, \"text\": \"\"}, \"zerolinecolor\": \"#E1E5ED\"}, \"yaxis2\": {\"domain\": [0, 0.25], \"gridcolor\": \"#E1E5ED\", \"showgrid\": true, \"tickfont\": {\"color\": \"#4D5663\"}, \"title\": {\"font\": {\"color\": \"#4D5663\"}, \"text\": \"Spread\"}, \"zerolinecolor\": \"#E1E5ED\"}},\n                        {\"showLink\": true, \"linkText\": \"Export to plot.ly\", \"plotlyServerURL\": \"https://plot.ly\", \"responsive\": true}\n                    ).then(function(){\n                            \nvar gd = document.getElementById('fcfa58ca-db2e-4306-840f-1621f1b40116');\nvar x = new MutationObserver(function (mutations, observer) {{\n        var display = window.getComputedStyle(gd).display;\n        if (!display || display === 'none') {{\n            console.log([gd, 'removed!']);\n            Plotly.purge(gd);\n            observer.disconnect();\n        }}\n}});\n\n// Listen for the removal of the full notebook cells\nvar notebookContainer = gd.closest('#notebook-container');\nif (notebookContainer) {{\n    x.observe(notebookContainer, {childList: true});\n}}\n\n// Listen for the clearing of the current output cell\nvar outputEl = gd.closest('.output');\nif (outputEl) {{\n    x.observe(outputEl, {childList: true});\n}}\n\n                        })\n                };\n                });\n            </script>\n        </div>"
     },
     "metadata": {}
    }
   ],
   "source": [
    "df[['A','B']].iplot(kind='spread') # for financial analysis e.g comparing two stock data"
   ]
  },
  {
   "cell_type": "markdown",
   "metadata": {},
   "source": [
    "## histogram"
   ]
  },
  {
   "cell_type": "code",
   "execution_count": 30,
   "metadata": {},
   "outputs": [
    {
     "output_type": "display_data",
     "data": {
      "application/vnd.plotly.v1+json": {
       "config": {
        "linkText": "Export to plot.ly",
        "plotlyServerURL": "https://plot.ly",
        "showLink": true
       },
       "data": [
        {
         "histfunc": "count",
         "histnorm": "",
         "marker": {
          "color": "rgba(255, 153, 51, 1.0)",
          "line": {
           "color": "#4D5663",
           "width": 1.3
          }
         },
         "name": "A",
         "nbinsx": 25,
         "opacity": 0.8,
         "orientation": "v",
         "type": "histogram",
         "x": [
          -0.48325729233229403,
          -0.6801469232584413,
          -0.8375638593941594,
          -0.8882653647324971,
          0.3369329682002198,
          1.5332393384460155,
          -0.4958109068306811,
          0.25529128381775856,
          0.36443246621830866,
          0.011763627863710845,
          -0.8489040944459124,
          -0.25874833248695134,
          1.2755836073180973,
          -1.2600228259346626,
          -2.6781492581231947,
          -0.7242275822894483,
          1.3081412072531584,
          -1.8448343434977177,
          0.5108257297289914,
          1.5078853308278135,
          -0.7799561281371661,
          1.1248147311608407,
          -0.9919620025891482,
          1.1013303249141366,
          -0.43149217879776913,
          0.2129267873376674,
          0.1547275473762396,
          -1.5683260126927356,
          2.7840049871654107,
          0.27031735188484474,
          0.8683633047336571,
          -1.389846350986542,
          -0.46786663578781906,
          -2.0779621390659297,
          1.2828867767936305,
          -1.0884510648994297,
          1.0213746901493257,
          -0.05878888246257884,
          -1.3446188024182197,
          -0.7454278813382993,
          1.1765091332317525,
          -1.1591562966298399,
          -0.02616506878878219,
          -1.6118479856638155,
          0.569696139357706,
          1.8566910147004743,
          0.09413685110942295,
          -0.33804333571530537,
          -2.053271732051332,
          1.177464224627984,
          -0.1441842047465084,
          -0.9017460491094729,
          -0.6317351849737326,
          1.0426833324653861,
          -1.4408682510636759,
          0.18370173991590114,
          -0.9608274607095263,
          -0.5117463730118246,
          0.6293037169773403,
          -0.8578693630097957,
          2.3422875322233025,
          -0.4071345976474636,
          -0.8276126802100241,
          1.7942749276987053,
          0.38302841199651466,
          0.9113895697906631,
          0.5788642704148587,
          2.2795657117185675,
          -0.02211855812222608,
          0.1228592331385394,
          -1.2533666848769662,
          0.9842534755210555,
          1.5591483863561952,
          0.33120363044533385,
          -0.7909100117810608,
          -0.5339160346418095,
          1.6703748204378235,
          0.18259762895651724,
          -0.530213301464795,
          -0.6933913717286806,
          1.2385825517447506,
          -0.08374662326827106,
          1.1283408068613219,
          -0.5243335506412814,
          -0.681218951498602,
          -1.0557507203560408,
          -0.5493108387478299,
          -0.3248774619763072,
          1.883032300667612,
          1.695004447251585,
          -0.8140541254788838,
          0.5377873848760677,
          0.7581917043467746,
          0.816619927313427,
          0.27317519379582567,
          1.4309861245969506,
          -0.48430609448209755,
          -0.664737834915157,
          0.2414003853354637,
          -0.33468634357597127
         ]
        },
        {
         "histfunc": "count",
         "histnorm": "",
         "marker": {
          "color": "rgba(55, 128, 191, 1.0)",
          "line": {
           "color": "#4D5663",
           "width": 1.3
          }
         },
         "name": "B",
         "nbinsx": 25,
         "opacity": 0.8,
         "orientation": "v",
         "type": "histogram",
         "x": [
          -1.3927173484233957,
          -0.8384891188861266,
          -0.09959392787557626,
          -0.34517373201334406,
          0.7695820725156822,
          0.8143161905283209,
          0.6424656934099338,
          0.9389199039524504,
          -2.1238188619787044,
          -0.893085737904552,
          0.012860764931138417,
          -1.1318926803919251,
          0.8243106940799912,
          0.03819986680800088,
          2.0361777794837344,
          -1.3867844004931162,
          -1.3342809100543542,
          -0.7559650349941774,
          0.9431869936587628,
          -0.7292353017105296,
          0.26398698192207704,
          0.34935584252720875,
          -0.8907921787559141,
          -1.714304516517587,
          -0.33602074280726957,
          0.14577796311860552,
          -0.6007142431277214,
          -0.44423421142674,
          -2.367438036753166,
          0.5602731678041215,
          0.21987234033905276,
          1.2325230941909604,
          0.5297134492851983,
          -1.1055582363452796,
          -0.6613228785375624,
          -0.5521601076824234,
          -0.050555018172360536,
          -0.6101807599377929,
          -0.002968902971095136,
          0.42841892268558546,
          0.18777398458622327,
          1.2477146480091446,
          -0.2384926737277862,
          1.2877344149031817,
          1.85275606072833,
          -1.4989694195585188,
          0.3973272778404027,
          0.032729278573143276,
          -0.3380245785557796,
          -1.9778675062685787,
          0.501496687173523,
          0.6984819811985156,
          0.28468721241939965,
          -1.8782763898118704,
          -0.5726261522272114,
          -0.1926966288221137,
          0.8890964722990194,
          -1.4345273158503902,
          0.7709587722104292,
          -0.325919418683105,
          -0.41245632797110804,
          -0.718289525271531,
          0.6761765745160662,
          1.2185951508512314,
          -0.4593499501488937,
          0.5758361543852849,
          0.9023911370863095,
          -0.8333306471382453,
          -1.323752517968216,
          0.6755218029003134,
          0.1848147524425046,
          -0.8607646832335739,
          1.3452962959600823,
          -2.059652828010228,
          0.6687329357943761,
          -0.043517241120167464,
          2.256249209154247,
          -0.35645693894901925,
          0.9031428576518158,
          -1.2700514096432127,
          0.5507452805892401,
          0.6864768180089855,
          0.5044572517554488,
          0.11391909110956715,
          -2.6789145336337064,
          -1.3459570712606075,
          1.4411385398883014,
          -0.44285250185454955,
          1.7639445410817005,
          -0.2112152724191136,
          0.3056658805922514,
          0.07720067227148605,
          0.3467743181645393,
          1.9879896376435917,
          -1.2225526206253794,
          -1.5378700982573048,
          1.0690117257033522,
          -0.5166079885567552,
          -0.32760903806852637,
          0.1477899857467717
         ]
        },
        {
         "histfunc": "count",
         "histnorm": "",
         "marker": {
          "color": "rgba(50, 171, 96, 1.0)",
          "line": {
           "color": "#4D5663",
           "width": 1.3
          }
         },
         "name": "C",
         "nbinsx": 25,
         "opacity": 0.8,
         "orientation": "v",
         "type": "histogram",
         "x": [
          -0.005593274734868949,
          -0.288473971983993,
          1.163365782052956,
          -1.547853966086686,
          1.3830952405368568,
          0.6793199122328621,
          -1.26753022508557,
          0.7666405838475601,
          -0.699170295405402,
          -0.1516252578673634,
          -0.003306048920765442,
          0.7661645950611087,
          -0.24569042075266398,
          -0.5763897682922402,
          0.3628607438414783,
          -1.3635394804139247,
          -0.30736836143144913,
          -0.9625867826896024,
          -1.1321199391223542,
          -1.1537838543093815,
          -0.8152119497666176,
          -0.5947051078480841,
          -0.743772948914262,
          -1.9695344939489643,
          2.297356620491305,
          -0.5776926844796706,
          -0.48501529438257013,
          0.5736845775017696,
          -0.8996474922581665,
          0.22277783057939582,
          -1.954204561454632,
          -0.08485580236553661,
          0.16564486220929353,
          -1.4783744669838397,
          1.0108802588328099,
          -0.48670120999063365,
          0.3227834522416882,
          0.162228061840226,
          -0.12252602158075877,
          -0.9671434130892369,
          0.5142138783746163,
          0.23980938940106217,
          1.7117023643346283,
          -0.21083907005360128,
          1.6442084508671244,
          0.001974632317316066,
          0.4396959915183855,
          1.0659361735323793,
          -1.0019066431281796,
          0.18606897721049495,
          0.927909188140124,
          -0.6838124962984189,
          0.37045372452082026,
          1.269221868073942,
          -0.7594226639840366,
          -0.2556838840033645,
          -0.2102096320006265,
          -0.14385705567700638,
          1.5423198449802913,
          0.7893610650542768,
          -1.2935654659444065,
          1.4920274775622149,
          0.4203934483019005,
          -0.4358595940925614,
          -0.6641409496896902,
          -0.4516077331898376,
          1.8944588335103414,
          -0.1860985222047413,
          -0.240049566965618,
          2.168632575979525,
          -0.1668941522920608,
          -0.5543136462992834,
          -0.25526997328395135,
          -0.029136659004589543,
          1.699552881442931,
          -0.7862365694921897,
          1.7419649405412687,
          0.7264377433600098,
          0.8802494088601106,
          0.49291596986509967,
          -0.46832007963785327,
          -0.22201065572501383,
          1.4643350989814594,
          0.22509584000918084,
          0.32960867196417803,
          0.375580504586509,
          -0.9068986099563627,
          -0.7731707914278191,
          -0.503606427045413,
          0.31113873679487897,
          1.0910838208342193,
          0.16898806972345684,
          0.42540634942206257,
          2.5347251308732885,
          -0.32700596569718626,
          -0.2416536792876466,
          0.2047374261276733,
          -0.6762653622550718,
          -2.5400165137975743,
          1.0325939992118118
         ]
        },
        {
         "histfunc": "count",
         "histnorm": "",
         "marker": {
          "color": "rgba(128, 0, 128, 1.0)",
          "line": {
           "color": "#4D5663",
           "width": 1.3
          }
         },
         "name": "D",
         "nbinsx": 25,
         "opacity": 0.8,
         "orientation": "v",
         "type": "histogram",
         "x": [
          -0.43379468269913296,
          -0.6296964198509847,
          -0.08461107401480267,
          -0.40092727558348057,
          0.19899851981933747,
          1.2817604060201464,
          -0.08596480863550218,
          0.5581544034285231,
          -0.03407658761151557,
          1.9052858105427557,
          0.8573496381059845,
          0.7246632627492985,
          2.165632371482043,
          -0.32344935939337727,
          0.11984693154087925,
          -0.846452120816249,
          -1.2338872695294532,
          0.2786624095721226,
          -1.076373106922323,
          0.35314136072521646,
          -0.9388040299324244,
          0.08784519637516232,
          0.8574261071297831,
          0.9435723794904356,
          -0.7993522146351116,
          -0.10559934287045927,
          0.9088360048617034,
          0.5146994607982517,
          -0.4403635112618269,
          -0.7685899493677069,
          0.1780316117266545,
          -0.10256468775571166,
          -0.6420519782029881,
          1.1303729428243923,
          0.042956293583050156,
          -1.422306307374088,
          1.1541451832113083,
          0.14001088437346748,
          0.9213142983661913,
          -2.1980052198784708,
          2.83415037648326,
          0.7502921198274051,
          -1.1555437399430828,
          0.9498716229000003,
          -1.335281096767551,
          -1.146062558038957,
          0.5397321400725726,
          0.7724142605140071,
          1.3417495880251487,
          0.8842981783031152,
          -0.920724322622848,
          -1.8321115068913008,
          -1.1795675106867747,
          -0.17577889943045014,
          -0.9329468689107387,
          0.6947799543153891,
          -0.4228898042412951,
          -0.022064934038156153,
          -0.4705542949988653,
          1.5993063281489912,
          -0.31294736318218014,
          0.2742606114289679,
          0.5082775583809864,
          0.05224796572998851,
          -1.4781622461611963,
          1.2575918727202422,
          -1.750425273885751,
          -0.4490766315002428,
          2.1381521718217296,
          -0.011282360454533983,
          -1.2396509292151592,
          -0.19884163074116018,
          -1.234401285923715,
          0.594734182324311,
          0.018505566193897854,
          -1.1140716427118535,
          -1.0399752202754085,
          -0.638281339603792,
          -0.31827005555221527,
          1.341260767793052,
          -1.615951403788844,
          0.15357040605572542,
          -0.4608292205936979,
          0.165419258752936,
          0.5806847648105539,
          0.5253178899662075,
          -1.3531787102126227,
          1.587600758081621,
          0.25139011499340125,
          -1.1890496351460684,
          0.6241077146857426,
          0.13683807392022923,
          1.725094942820954,
          0.9956067012313309,
          1.045487358403904,
          0.03948297521656207,
          0.373979582624551,
          0.8506845055929937,
          1.3105621553293387,
          2.351237102571402
         ]
        }
       ],
       "layout": {
        "barmode": "overlay",
        "legend": {
         "bgcolor": "#F5F6F9",
         "font": {
          "color": "#4D5663"
         }
        },
        "paper_bgcolor": "#F5F6F9",
        "plot_bgcolor": "#F5F6F9",
        "template": {
         "data": {
          "bar": [
           {
            "error_x": {
             "color": "#2a3f5f"
            },
            "error_y": {
             "color": "#2a3f5f"
            },
            "marker": {
             "line": {
              "color": "#E5ECF6",
              "width": 0.5
             }
            },
            "type": "bar"
           }
          ],
          "barpolar": [
           {
            "marker": {
             "line": {
              "color": "#E5ECF6",
              "width": 0.5
             }
            },
            "type": "barpolar"
           }
          ],
          "carpet": [
           {
            "aaxis": {
             "endlinecolor": "#2a3f5f",
             "gridcolor": "white",
             "linecolor": "white",
             "minorgridcolor": "white",
             "startlinecolor": "#2a3f5f"
            },
            "baxis": {
             "endlinecolor": "#2a3f5f",
             "gridcolor": "white",
             "linecolor": "white",
             "minorgridcolor": "white",
             "startlinecolor": "#2a3f5f"
            },
            "type": "carpet"
           }
          ],
          "choropleth": [
           {
            "colorbar": {
             "outlinewidth": 0,
             "ticks": ""
            },
            "type": "choropleth"
           }
          ],
          "contour": [
           {
            "colorbar": {
             "outlinewidth": 0,
             "ticks": ""
            },
            "colorscale": [
             [
              0,
              "#0d0887"
             ],
             [
              0.1111111111111111,
              "#46039f"
             ],
             [
              0.2222222222222222,
              "#7201a8"
             ],
             [
              0.3333333333333333,
              "#9c179e"
             ],
             [
              0.4444444444444444,
              "#bd3786"
             ],
             [
              0.5555555555555556,
              "#d8576b"
             ],
             [
              0.6666666666666666,
              "#ed7953"
             ],
             [
              0.7777777777777778,
              "#fb9f3a"
             ],
             [
              0.8888888888888888,
              "#fdca26"
             ],
             [
              1,
              "#f0f921"
             ]
            ],
            "type": "contour"
           }
          ],
          "contourcarpet": [
           {
            "colorbar": {
             "outlinewidth": 0,
             "ticks": ""
            },
            "type": "contourcarpet"
           }
          ],
          "heatmap": [
           {
            "colorbar": {
             "outlinewidth": 0,
             "ticks": ""
            },
            "colorscale": [
             [
              0,
              "#0d0887"
             ],
             [
              0.1111111111111111,
              "#46039f"
             ],
             [
              0.2222222222222222,
              "#7201a8"
             ],
             [
              0.3333333333333333,
              "#9c179e"
             ],
             [
              0.4444444444444444,
              "#bd3786"
             ],
             [
              0.5555555555555556,
              "#d8576b"
             ],
             [
              0.6666666666666666,
              "#ed7953"
             ],
             [
              0.7777777777777778,
              "#fb9f3a"
             ],
             [
              0.8888888888888888,
              "#fdca26"
             ],
             [
              1,
              "#f0f921"
             ]
            ],
            "type": "heatmap"
           }
          ],
          "heatmapgl": [
           {
            "colorbar": {
             "outlinewidth": 0,
             "ticks": ""
            },
            "colorscale": [
             [
              0,
              "#0d0887"
             ],
             [
              0.1111111111111111,
              "#46039f"
             ],
             [
              0.2222222222222222,
              "#7201a8"
             ],
             [
              0.3333333333333333,
              "#9c179e"
             ],
             [
              0.4444444444444444,
              "#bd3786"
             ],
             [
              0.5555555555555556,
              "#d8576b"
             ],
             [
              0.6666666666666666,
              "#ed7953"
             ],
             [
              0.7777777777777778,
              "#fb9f3a"
             ],
             [
              0.8888888888888888,
              "#fdca26"
             ],
             [
              1,
              "#f0f921"
             ]
            ],
            "type": "heatmapgl"
           }
          ],
          "histogram": [
           {
            "marker": {
             "colorbar": {
              "outlinewidth": 0,
              "ticks": ""
             }
            },
            "type": "histogram"
           }
          ],
          "histogram2d": [
           {
            "colorbar": {
             "outlinewidth": 0,
             "ticks": ""
            },
            "colorscale": [
             [
              0,
              "#0d0887"
             ],
             [
              0.1111111111111111,
              "#46039f"
             ],
             [
              0.2222222222222222,
              "#7201a8"
             ],
             [
              0.3333333333333333,
              "#9c179e"
             ],
             [
              0.4444444444444444,
              "#bd3786"
             ],
             [
              0.5555555555555556,
              "#d8576b"
             ],
             [
              0.6666666666666666,
              "#ed7953"
             ],
             [
              0.7777777777777778,
              "#fb9f3a"
             ],
             [
              0.8888888888888888,
              "#fdca26"
             ],
             [
              1,
              "#f0f921"
             ]
            ],
            "type": "histogram2d"
           }
          ],
          "histogram2dcontour": [
           {
            "colorbar": {
             "outlinewidth": 0,
             "ticks": ""
            },
            "colorscale": [
             [
              0,
              "#0d0887"
             ],
             [
              0.1111111111111111,
              "#46039f"
             ],
             [
              0.2222222222222222,
              "#7201a8"
             ],
             [
              0.3333333333333333,
              "#9c179e"
             ],
             [
              0.4444444444444444,
              "#bd3786"
             ],
             [
              0.5555555555555556,
              "#d8576b"
             ],
             [
              0.6666666666666666,
              "#ed7953"
             ],
             [
              0.7777777777777778,
              "#fb9f3a"
             ],
             [
              0.8888888888888888,
              "#fdca26"
             ],
             [
              1,
              "#f0f921"
             ]
            ],
            "type": "histogram2dcontour"
           }
          ],
          "mesh3d": [
           {
            "colorbar": {
             "outlinewidth": 0,
             "ticks": ""
            },
            "type": "mesh3d"
           }
          ],
          "parcoords": [
           {
            "line": {
             "colorbar": {
              "outlinewidth": 0,
              "ticks": ""
             }
            },
            "type": "parcoords"
           }
          ],
          "pie": [
           {
            "automargin": true,
            "type": "pie"
           }
          ],
          "scatter": [
           {
            "marker": {
             "colorbar": {
              "outlinewidth": 0,
              "ticks": ""
             }
            },
            "type": "scatter"
           }
          ],
          "scatter3d": [
           {
            "line": {
             "colorbar": {
              "outlinewidth": 0,
              "ticks": ""
             }
            },
            "marker": {
             "colorbar": {
              "outlinewidth": 0,
              "ticks": ""
             }
            },
            "type": "scatter3d"
           }
          ],
          "scattercarpet": [
           {
            "marker": {
             "colorbar": {
              "outlinewidth": 0,
              "ticks": ""
             }
            },
            "type": "scattercarpet"
           }
          ],
          "scattergeo": [
           {
            "marker": {
             "colorbar": {
              "outlinewidth": 0,
              "ticks": ""
             }
            },
            "type": "scattergeo"
           }
          ],
          "scattergl": [
           {
            "marker": {
             "colorbar": {
              "outlinewidth": 0,
              "ticks": ""
             }
            },
            "type": "scattergl"
           }
          ],
          "scattermapbox": [
           {
            "marker": {
             "colorbar": {
              "outlinewidth": 0,
              "ticks": ""
             }
            },
            "type": "scattermapbox"
           }
          ],
          "scatterpolar": [
           {
            "marker": {
             "colorbar": {
              "outlinewidth": 0,
              "ticks": ""
             }
            },
            "type": "scatterpolar"
           }
          ],
          "scatterpolargl": [
           {
            "marker": {
             "colorbar": {
              "outlinewidth": 0,
              "ticks": ""
             }
            },
            "type": "scatterpolargl"
           }
          ],
          "scatterternary": [
           {
            "marker": {
             "colorbar": {
              "outlinewidth": 0,
              "ticks": ""
             }
            },
            "type": "scatterternary"
           }
          ],
          "surface": [
           {
            "colorbar": {
             "outlinewidth": 0,
             "ticks": ""
            },
            "colorscale": [
             [
              0,
              "#0d0887"
             ],
             [
              0.1111111111111111,
              "#46039f"
             ],
             [
              0.2222222222222222,
              "#7201a8"
             ],
             [
              0.3333333333333333,
              "#9c179e"
             ],
             [
              0.4444444444444444,
              "#bd3786"
             ],
             [
              0.5555555555555556,
              "#d8576b"
             ],
             [
              0.6666666666666666,
              "#ed7953"
             ],
             [
              0.7777777777777778,
              "#fb9f3a"
             ],
             [
              0.8888888888888888,
              "#fdca26"
             ],
             [
              1,
              "#f0f921"
             ]
            ],
            "type": "surface"
           }
          ],
          "table": [
           {
            "cells": {
             "fill": {
              "color": "#EBF0F8"
             },
             "line": {
              "color": "white"
             }
            },
            "header": {
             "fill": {
              "color": "#C8D4E3"
             },
             "line": {
              "color": "white"
             }
            },
            "type": "table"
           }
          ]
         },
         "layout": {
          "annotationdefaults": {
           "arrowcolor": "#2a3f5f",
           "arrowhead": 0,
           "arrowwidth": 1
          },
          "coloraxis": {
           "colorbar": {
            "outlinewidth": 0,
            "ticks": ""
           }
          },
          "colorscale": {
           "diverging": [
            [
             0,
             "#8e0152"
            ],
            [
             0.1,
             "#c51b7d"
            ],
            [
             0.2,
             "#de77ae"
            ],
            [
             0.3,
             "#f1b6da"
            ],
            [
             0.4,
             "#fde0ef"
            ],
            [
             0.5,
             "#f7f7f7"
            ],
            [
             0.6,
             "#e6f5d0"
            ],
            [
             0.7,
             "#b8e186"
            ],
            [
             0.8,
             "#7fbc41"
            ],
            [
             0.9,
             "#4d9221"
            ],
            [
             1,
             "#276419"
            ]
           ],
           "sequential": [
            [
             0,
             "#0d0887"
            ],
            [
             0.1111111111111111,
             "#46039f"
            ],
            [
             0.2222222222222222,
             "#7201a8"
            ],
            [
             0.3333333333333333,
             "#9c179e"
            ],
            [
             0.4444444444444444,
             "#bd3786"
            ],
            [
             0.5555555555555556,
             "#d8576b"
            ],
            [
             0.6666666666666666,
             "#ed7953"
            ],
            [
             0.7777777777777778,
             "#fb9f3a"
            ],
            [
             0.8888888888888888,
             "#fdca26"
            ],
            [
             1,
             "#f0f921"
            ]
           ],
           "sequentialminus": [
            [
             0,
             "#0d0887"
            ],
            [
             0.1111111111111111,
             "#46039f"
            ],
            [
             0.2222222222222222,
             "#7201a8"
            ],
            [
             0.3333333333333333,
             "#9c179e"
            ],
            [
             0.4444444444444444,
             "#bd3786"
            ],
            [
             0.5555555555555556,
             "#d8576b"
            ],
            [
             0.6666666666666666,
             "#ed7953"
            ],
            [
             0.7777777777777778,
             "#fb9f3a"
            ],
            [
             0.8888888888888888,
             "#fdca26"
            ],
            [
             1,
             "#f0f921"
            ]
           ]
          },
          "colorway": [
           "#636efa",
           "#EF553B",
           "#00cc96",
           "#ab63fa",
           "#FFA15A",
           "#19d3f3",
           "#FF6692",
           "#B6E880",
           "#FF97FF",
           "#FECB52"
          ],
          "font": {
           "color": "#2a3f5f"
          },
          "geo": {
           "bgcolor": "white",
           "lakecolor": "white",
           "landcolor": "#E5ECF6",
           "showlakes": true,
           "showland": true,
           "subunitcolor": "white"
          },
          "hoverlabel": {
           "align": "left"
          },
          "hovermode": "closest",
          "mapbox": {
           "style": "light"
          },
          "paper_bgcolor": "white",
          "plot_bgcolor": "#E5ECF6",
          "polar": {
           "angularaxis": {
            "gridcolor": "white",
            "linecolor": "white",
            "ticks": ""
           },
           "bgcolor": "#E5ECF6",
           "radialaxis": {
            "gridcolor": "white",
            "linecolor": "white",
            "ticks": ""
           }
          },
          "scene": {
           "xaxis": {
            "backgroundcolor": "#E5ECF6",
            "gridcolor": "white",
            "gridwidth": 2,
            "linecolor": "white",
            "showbackground": true,
            "ticks": "",
            "zerolinecolor": "white"
           },
           "yaxis": {
            "backgroundcolor": "#E5ECF6",
            "gridcolor": "white",
            "gridwidth": 2,
            "linecolor": "white",
            "showbackground": true,
            "ticks": "",
            "zerolinecolor": "white"
           },
           "zaxis": {
            "backgroundcolor": "#E5ECF6",
            "gridcolor": "white",
            "gridwidth": 2,
            "linecolor": "white",
            "showbackground": true,
            "ticks": "",
            "zerolinecolor": "white"
           }
          },
          "shapedefaults": {
           "line": {
            "color": "#2a3f5f"
           }
          },
          "ternary": {
           "aaxis": {
            "gridcolor": "white",
            "linecolor": "white",
            "ticks": ""
           },
           "baxis": {
            "gridcolor": "white",
            "linecolor": "white",
            "ticks": ""
           },
           "bgcolor": "#E5ECF6",
           "caxis": {
            "gridcolor": "white",
            "linecolor": "white",
            "ticks": ""
           }
          },
          "title": {
           "x": 0.05
          },
          "xaxis": {
           "automargin": true,
           "gridcolor": "white",
           "linecolor": "white",
           "ticks": "",
           "title": {
            "standoff": 15
           },
           "zerolinecolor": "white",
           "zerolinewidth": 2
          },
          "yaxis": {
           "automargin": true,
           "gridcolor": "white",
           "linecolor": "white",
           "ticks": "",
           "title": {
            "standoff": 15
           },
           "zerolinecolor": "white",
           "zerolinewidth": 2
          }
         }
        },
        "title": {
         "font": {
          "color": "#4D5663"
         }
        },
        "xaxis": {
         "gridcolor": "#E1E5ED",
         "showgrid": true,
         "tickfont": {
          "color": "#4D5663"
         },
         "title": {
          "font": {
           "color": "#4D5663"
          },
          "text": ""
         },
         "zerolinecolor": "#E1E5ED"
        },
        "yaxis": {
         "gridcolor": "#E1E5ED",
         "showgrid": true,
         "tickfont": {
          "color": "#4D5663"
         },
         "title": {
          "font": {
           "color": "#4D5663"
          },
          "text": ""
         },
         "zerolinecolor": "#E1E5ED"
        }
       }
      },
      "text/html": "<div>\n        \n        \n            <div id=\"40ad2469-d4ff-4274-9751-7aa918c5e12d\" class=\"plotly-graph-div\" style=\"height:525px; width:100%;\"></div>\n            <script type=\"text/javascript\">\n                require([\"plotly\"], function(Plotly) {\n                    window.PLOTLYENV=window.PLOTLYENV || {};\n                    window.PLOTLYENV.BASE_URL='https://plot.ly';\n                    \n                if (document.getElementById(\"40ad2469-d4ff-4274-9751-7aa918c5e12d\")) {\n                    Plotly.newPlot(\n                        '40ad2469-d4ff-4274-9751-7aa918c5e12d',\n                        [{\"histfunc\": \"count\", \"histnorm\": \"\", \"marker\": {\"color\": \"rgba(255, 153, 51, 1.0)\", \"line\": {\"color\": \"#4D5663\", \"width\": 1.3}}, \"name\": \"A\", \"nbinsx\": 25, \"opacity\": 0.8, \"orientation\": \"v\", \"type\": \"histogram\", \"x\": [-0.48325729233229403, -0.6801469232584413, -0.8375638593941594, -0.8882653647324971, 0.3369329682002198, 1.5332393384460155, -0.4958109068306811, 0.25529128381775856, 0.36443246621830866, 0.011763627863710845, -0.8489040944459124, -0.25874833248695134, 1.2755836073180973, -1.2600228259346626, -2.6781492581231947, -0.7242275822894483, 1.3081412072531584, -1.8448343434977177, 0.5108257297289914, 1.5078853308278135, -0.7799561281371661, 1.1248147311608407, -0.9919620025891482, 1.1013303249141366, -0.43149217879776913, 0.2129267873376674, 0.1547275473762396, -1.5683260126927356, 2.7840049871654107, 0.27031735188484474, 0.8683633047336571, -1.389846350986542, -0.46786663578781906, -2.0779621390659297, 1.2828867767936305, -1.0884510648994297, 1.0213746901493257, -0.05878888246257884, -1.3446188024182197, -0.7454278813382993, 1.1765091332317525, -1.1591562966298399, -0.02616506878878219, -1.6118479856638155, 0.569696139357706, 1.8566910147004743, 0.09413685110942295, -0.33804333571530537, -2.053271732051332, 1.177464224627984, -0.1441842047465084, -0.9017460491094729, -0.6317351849737326, 1.0426833324653861, -1.4408682510636759, 0.18370173991590114, -0.9608274607095263, -0.5117463730118246, 0.6293037169773403, -0.8578693630097957, 2.3422875322233025, -0.4071345976474636, -0.8276126802100241, 1.7942749276987053, 0.38302841199651466, 0.9113895697906631, 0.5788642704148587, 2.2795657117185675, -0.02211855812222608, 0.1228592331385394, -1.2533666848769662, 0.9842534755210555, 1.5591483863561952, 0.33120363044533385, -0.7909100117810608, -0.5339160346418095, 1.6703748204378235, 0.18259762895651724, -0.530213301464795, -0.6933913717286806, 1.2385825517447506, -0.08374662326827106, 1.1283408068613219, -0.5243335506412814, -0.681218951498602, -1.0557507203560408, -0.5493108387478299, -0.3248774619763072, 1.883032300667612, 1.695004447251585, -0.8140541254788838, 0.5377873848760677, 0.7581917043467746, 0.816619927313427, 0.27317519379582567, 1.4309861245969506, -0.48430609448209755, -0.664737834915157, 0.2414003853354637, -0.33468634357597127]}, {\"histfunc\": \"count\", \"histnorm\": \"\", \"marker\": {\"color\": \"rgba(55, 128, 191, 1.0)\", \"line\": {\"color\": \"#4D5663\", \"width\": 1.3}}, \"name\": \"B\", \"nbinsx\": 25, \"opacity\": 0.8, \"orientation\": \"v\", \"type\": \"histogram\", \"x\": [-1.3927173484233957, -0.8384891188861266, -0.09959392787557626, -0.34517373201334406, 0.7695820725156822, 0.8143161905283209, 0.6424656934099338, 0.9389199039524504, -2.1238188619787044, -0.893085737904552, 0.012860764931138417, -1.1318926803919251, 0.8243106940799912, 0.03819986680800088, 2.0361777794837344, -1.3867844004931162, -1.3342809100543542, -0.7559650349941774, 0.9431869936587628, -0.7292353017105296, 0.26398698192207704, 0.34935584252720875, -0.8907921787559141, -1.714304516517587, -0.33602074280726957, 0.14577796311860552, -0.6007142431277214, -0.44423421142674, -2.367438036753166, 0.5602731678041215, 0.21987234033905276, 1.2325230941909604, 0.5297134492851983, -1.1055582363452796, -0.6613228785375624, -0.5521601076824234, -0.050555018172360536, -0.6101807599377929, -0.002968902971095136, 0.42841892268558546, 0.18777398458622327, 1.2477146480091446, -0.2384926737277862, 1.2877344149031817, 1.85275606072833, -1.4989694195585188, 0.3973272778404027, 0.032729278573143276, -0.3380245785557796, -1.9778675062685787, 0.501496687173523, 0.6984819811985156, 0.28468721241939965, -1.8782763898118704, -0.5726261522272114, -0.1926966288221137, 0.8890964722990194, -1.4345273158503902, 0.7709587722104292, -0.325919418683105, -0.41245632797110804, -0.718289525271531, 0.6761765745160662, 1.2185951508512314, -0.4593499501488937, 0.5758361543852849, 0.9023911370863095, -0.8333306471382453, -1.323752517968216, 0.6755218029003134, 0.1848147524425046, -0.8607646832335739, 1.3452962959600823, -2.059652828010228, 0.6687329357943761, -0.043517241120167464, 2.256249209154247, -0.35645693894901925, 0.9031428576518158, -1.2700514096432127, 0.5507452805892401, 0.6864768180089855, 0.5044572517554488, 0.11391909110956715, -2.6789145336337064, -1.3459570712606075, 1.4411385398883014, -0.44285250185454955, 1.7639445410817005, -0.2112152724191136, 0.3056658805922514, 0.07720067227148605, 0.3467743181645393, 1.9879896376435917, -1.2225526206253794, -1.5378700982573048, 1.0690117257033522, -0.5166079885567552, -0.32760903806852637, 0.1477899857467717]}, {\"histfunc\": \"count\", \"histnorm\": \"\", \"marker\": {\"color\": \"rgba(50, 171, 96, 1.0)\", \"line\": {\"color\": \"#4D5663\", \"width\": 1.3}}, \"name\": \"C\", \"nbinsx\": 25, \"opacity\": 0.8, \"orientation\": \"v\", \"type\": \"histogram\", \"x\": [-0.005593274734868949, -0.288473971983993, 1.163365782052956, -1.547853966086686, 1.3830952405368568, 0.6793199122328621, -1.26753022508557, 0.7666405838475601, -0.699170295405402, -0.1516252578673634, -0.003306048920765442, 0.7661645950611087, -0.24569042075266398, -0.5763897682922402, 0.3628607438414783, -1.3635394804139247, -0.30736836143144913, -0.9625867826896024, -1.1321199391223542, -1.1537838543093815, -0.8152119497666176, -0.5947051078480841, -0.743772948914262, -1.9695344939489643, 2.297356620491305, -0.5776926844796706, -0.48501529438257013, 0.5736845775017696, -0.8996474922581665, 0.22277783057939582, -1.954204561454632, -0.08485580236553661, 0.16564486220929353, -1.4783744669838397, 1.0108802588328099, -0.48670120999063365, 0.3227834522416882, 0.162228061840226, -0.12252602158075877, -0.9671434130892369, 0.5142138783746163, 0.23980938940106217, 1.7117023643346283, -0.21083907005360128, 1.6442084508671244, 0.001974632317316066, 0.4396959915183855, 1.0659361735323793, -1.0019066431281796, 0.18606897721049495, 0.927909188140124, -0.6838124962984189, 0.37045372452082026, 1.269221868073942, -0.7594226639840366, -0.2556838840033645, -0.2102096320006265, -0.14385705567700638, 1.5423198449802913, 0.7893610650542768, -1.2935654659444065, 1.4920274775622149, 0.4203934483019005, -0.4358595940925614, -0.6641409496896902, -0.4516077331898376, 1.8944588335103414, -0.1860985222047413, -0.240049566965618, 2.168632575979525, -0.1668941522920608, -0.5543136462992834, -0.25526997328395135, -0.029136659004589543, 1.699552881442931, -0.7862365694921897, 1.7419649405412687, 0.7264377433600098, 0.8802494088601106, 0.49291596986509967, -0.46832007963785327, -0.22201065572501383, 1.4643350989814594, 0.22509584000918084, 0.32960867196417803, 0.375580504586509, -0.9068986099563627, -0.7731707914278191, -0.503606427045413, 0.31113873679487897, 1.0910838208342193, 0.16898806972345684, 0.42540634942206257, 2.5347251308732885, -0.32700596569718626, -0.2416536792876466, 0.2047374261276733, -0.6762653622550718, -2.5400165137975743, 1.0325939992118118]}, {\"histfunc\": \"count\", \"histnorm\": \"\", \"marker\": {\"color\": \"rgba(128, 0, 128, 1.0)\", \"line\": {\"color\": \"#4D5663\", \"width\": 1.3}}, \"name\": \"D\", \"nbinsx\": 25, \"opacity\": 0.8, \"orientation\": \"v\", \"type\": \"histogram\", \"x\": [-0.43379468269913296, -0.6296964198509847, -0.08461107401480267, -0.40092727558348057, 0.19899851981933747, 1.2817604060201464, -0.08596480863550218, 0.5581544034285231, -0.03407658761151557, 1.9052858105427557, 0.8573496381059845, 0.7246632627492985, 2.165632371482043, -0.32344935939337727, 0.11984693154087925, -0.846452120816249, -1.2338872695294532, 0.2786624095721226, -1.076373106922323, 0.35314136072521646, -0.9388040299324244, 0.08784519637516232, 0.8574261071297831, 0.9435723794904356, -0.7993522146351116, -0.10559934287045927, 0.9088360048617034, 0.5146994607982517, -0.4403635112618269, -0.7685899493677069, 0.1780316117266545, -0.10256468775571166, -0.6420519782029881, 1.1303729428243923, 0.042956293583050156, -1.422306307374088, 1.1541451832113083, 0.14001088437346748, 0.9213142983661913, -2.1980052198784708, 2.83415037648326, 0.7502921198274051, -1.1555437399430828, 0.9498716229000003, -1.335281096767551, -1.146062558038957, 0.5397321400725726, 0.7724142605140071, 1.3417495880251487, 0.8842981783031152, -0.920724322622848, -1.8321115068913008, -1.1795675106867747, -0.17577889943045014, -0.9329468689107387, 0.6947799543153891, -0.4228898042412951, -0.022064934038156153, -0.4705542949988653, 1.5993063281489912, -0.31294736318218014, 0.2742606114289679, 0.5082775583809864, 0.05224796572998851, -1.4781622461611963, 1.2575918727202422, -1.750425273885751, -0.4490766315002428, 2.1381521718217296, -0.011282360454533983, -1.2396509292151592, -0.19884163074116018, -1.234401285923715, 0.594734182324311, 0.018505566193897854, -1.1140716427118535, -1.0399752202754085, -0.638281339603792, -0.31827005555221527, 1.341260767793052, -1.615951403788844, 0.15357040605572542, -0.4608292205936979, 0.165419258752936, 0.5806847648105539, 0.5253178899662075, -1.3531787102126227, 1.587600758081621, 0.25139011499340125, -1.1890496351460684, 0.6241077146857426, 0.13683807392022923, 1.725094942820954, 0.9956067012313309, 1.045487358403904, 0.03948297521656207, 0.373979582624551, 0.8506845055929937, 1.3105621553293387, 2.351237102571402]}],\n                        {\"barmode\": \"overlay\", \"legend\": {\"bgcolor\": \"#F5F6F9\", \"font\": {\"color\": \"#4D5663\"}}, \"paper_bgcolor\": \"#F5F6F9\", \"plot_bgcolor\": \"#F5F6F9\", \"template\": {\"data\": {\"bar\": [{\"error_x\": {\"color\": \"#2a3f5f\"}, \"error_y\": {\"color\": \"#2a3f5f\"}, \"marker\": {\"line\": {\"color\": \"#E5ECF6\", \"width\": 0.5}}, \"type\": \"bar\"}], \"barpolar\": [{\"marker\": {\"line\": {\"color\": \"#E5ECF6\", \"width\": 0.5}}, \"type\": \"barpolar\"}], \"carpet\": [{\"aaxis\": {\"endlinecolor\": \"#2a3f5f\", \"gridcolor\": \"white\", \"linecolor\": \"white\", \"minorgridcolor\": \"white\", \"startlinecolor\": \"#2a3f5f\"}, \"baxis\": {\"endlinecolor\": \"#2a3f5f\", \"gridcolor\": \"white\", \"linecolor\": \"white\", \"minorgridcolor\": \"white\", \"startlinecolor\": \"#2a3f5f\"}, \"type\": \"carpet\"}], \"choropleth\": [{\"colorbar\": {\"outlinewidth\": 0, \"ticks\": \"\"}, \"type\": \"choropleth\"}], \"contour\": [{\"colorbar\": {\"outlinewidth\": 0, \"ticks\": \"\"}, \"colorscale\": [[0.0, \"#0d0887\"], [0.1111111111111111, \"#46039f\"], [0.2222222222222222, \"#7201a8\"], [0.3333333333333333, \"#9c179e\"], [0.4444444444444444, \"#bd3786\"], [0.5555555555555556, \"#d8576b\"], [0.6666666666666666, \"#ed7953\"], [0.7777777777777778, \"#fb9f3a\"], [0.8888888888888888, \"#fdca26\"], [1.0, \"#f0f921\"]], \"type\": \"contour\"}], \"contourcarpet\": [{\"colorbar\": {\"outlinewidth\": 0, \"ticks\": \"\"}, \"type\": \"contourcarpet\"}], \"heatmap\": [{\"colorbar\": {\"outlinewidth\": 0, \"ticks\": \"\"}, \"colorscale\": [[0.0, \"#0d0887\"], [0.1111111111111111, \"#46039f\"], [0.2222222222222222, \"#7201a8\"], [0.3333333333333333, \"#9c179e\"], [0.4444444444444444, \"#bd3786\"], [0.5555555555555556, \"#d8576b\"], [0.6666666666666666, \"#ed7953\"], [0.7777777777777778, \"#fb9f3a\"], [0.8888888888888888, \"#fdca26\"], [1.0, \"#f0f921\"]], \"type\": \"heatmap\"}], \"heatmapgl\": [{\"colorbar\": {\"outlinewidth\": 0, \"ticks\": \"\"}, \"colorscale\": [[0.0, \"#0d0887\"], [0.1111111111111111, \"#46039f\"], [0.2222222222222222, \"#7201a8\"], [0.3333333333333333, \"#9c179e\"], [0.4444444444444444, \"#bd3786\"], [0.5555555555555556, \"#d8576b\"], [0.6666666666666666, \"#ed7953\"], [0.7777777777777778, \"#fb9f3a\"], [0.8888888888888888, \"#fdca26\"], [1.0, \"#f0f921\"]], \"type\": \"heatmapgl\"}], \"histogram\": [{\"marker\": {\"colorbar\": {\"outlinewidth\": 0, \"ticks\": \"\"}}, \"type\": \"histogram\"}], \"histogram2d\": [{\"colorbar\": {\"outlinewidth\": 0, \"ticks\": \"\"}, \"colorscale\": [[0.0, \"#0d0887\"], [0.1111111111111111, \"#46039f\"], [0.2222222222222222, \"#7201a8\"], [0.3333333333333333, \"#9c179e\"], [0.4444444444444444, \"#bd3786\"], [0.5555555555555556, \"#d8576b\"], [0.6666666666666666, \"#ed7953\"], [0.7777777777777778, \"#fb9f3a\"], [0.8888888888888888, \"#fdca26\"], [1.0, \"#f0f921\"]], \"type\": \"histogram2d\"}], \"histogram2dcontour\": [{\"colorbar\": {\"outlinewidth\": 0, \"ticks\": \"\"}, \"colorscale\": [[0.0, \"#0d0887\"], [0.1111111111111111, \"#46039f\"], [0.2222222222222222, \"#7201a8\"], [0.3333333333333333, \"#9c179e\"], [0.4444444444444444, \"#bd3786\"], [0.5555555555555556, \"#d8576b\"], [0.6666666666666666, \"#ed7953\"], [0.7777777777777778, \"#fb9f3a\"], [0.8888888888888888, \"#fdca26\"], [1.0, \"#f0f921\"]], \"type\": \"histogram2dcontour\"}], \"mesh3d\": [{\"colorbar\": {\"outlinewidth\": 0, \"ticks\": \"\"}, \"type\": \"mesh3d\"}], \"parcoords\": [{\"line\": {\"colorbar\": {\"outlinewidth\": 0, \"ticks\": \"\"}}, \"type\": \"parcoords\"}], \"pie\": [{\"automargin\": true, \"type\": \"pie\"}], \"scatter\": [{\"marker\": {\"colorbar\": {\"outlinewidth\": 0, \"ticks\": \"\"}}, \"type\": \"scatter\"}], \"scatter3d\": [{\"line\": {\"colorbar\": {\"outlinewidth\": 0, \"ticks\": \"\"}}, \"marker\": {\"colorbar\": {\"outlinewidth\": 0, \"ticks\": \"\"}}, \"type\": \"scatter3d\"}], \"scattercarpet\": [{\"marker\": {\"colorbar\": {\"outlinewidth\": 0, \"ticks\": \"\"}}, \"type\": \"scattercarpet\"}], \"scattergeo\": [{\"marker\": {\"colorbar\": {\"outlinewidth\": 0, \"ticks\": \"\"}}, \"type\": \"scattergeo\"}], \"scattergl\": [{\"marker\": {\"colorbar\": {\"outlinewidth\": 0, \"ticks\": \"\"}}, \"type\": \"scattergl\"}], \"scattermapbox\": [{\"marker\": {\"colorbar\": {\"outlinewidth\": 0, \"ticks\": \"\"}}, \"type\": \"scattermapbox\"}], \"scatterpolar\": [{\"marker\": {\"colorbar\": {\"outlinewidth\": 0, \"ticks\": \"\"}}, \"type\": \"scatterpolar\"}], \"scatterpolargl\": [{\"marker\": {\"colorbar\": {\"outlinewidth\": 0, \"ticks\": \"\"}}, \"type\": \"scatterpolargl\"}], \"scatterternary\": [{\"marker\": {\"colorbar\": {\"outlinewidth\": 0, \"ticks\": \"\"}}, \"type\": \"scatterternary\"}], \"surface\": [{\"colorbar\": {\"outlinewidth\": 0, \"ticks\": \"\"}, \"colorscale\": [[0.0, \"#0d0887\"], [0.1111111111111111, \"#46039f\"], [0.2222222222222222, \"#7201a8\"], [0.3333333333333333, \"#9c179e\"], [0.4444444444444444, \"#bd3786\"], [0.5555555555555556, \"#d8576b\"], [0.6666666666666666, \"#ed7953\"], [0.7777777777777778, \"#fb9f3a\"], [0.8888888888888888, \"#fdca26\"], [1.0, \"#f0f921\"]], \"type\": \"surface\"}], \"table\": [{\"cells\": {\"fill\": {\"color\": \"#EBF0F8\"}, \"line\": {\"color\": \"white\"}}, \"header\": {\"fill\": {\"color\": \"#C8D4E3\"}, \"line\": {\"color\": \"white\"}}, \"type\": \"table\"}]}, \"layout\": {\"annotationdefaults\": {\"arrowcolor\": \"#2a3f5f\", \"arrowhead\": 0, \"arrowwidth\": 1}, \"coloraxis\": {\"colorbar\": {\"outlinewidth\": 0, \"ticks\": \"\"}}, \"colorscale\": {\"diverging\": [[0, \"#8e0152\"], [0.1, \"#c51b7d\"], [0.2, \"#de77ae\"], [0.3, \"#f1b6da\"], [0.4, \"#fde0ef\"], [0.5, \"#f7f7f7\"], [0.6, \"#e6f5d0\"], [0.7, \"#b8e186\"], [0.8, \"#7fbc41\"], [0.9, \"#4d9221\"], [1, \"#276419\"]], \"sequential\": [[0.0, \"#0d0887\"], [0.1111111111111111, \"#46039f\"], [0.2222222222222222, \"#7201a8\"], [0.3333333333333333, \"#9c179e\"], [0.4444444444444444, \"#bd3786\"], [0.5555555555555556, \"#d8576b\"], [0.6666666666666666, \"#ed7953\"], [0.7777777777777778, \"#fb9f3a\"], [0.8888888888888888, \"#fdca26\"], [1.0, \"#f0f921\"]], \"sequentialminus\": [[0.0, \"#0d0887\"], [0.1111111111111111, \"#46039f\"], [0.2222222222222222, \"#7201a8\"], [0.3333333333333333, \"#9c179e\"], [0.4444444444444444, \"#bd3786\"], [0.5555555555555556, \"#d8576b\"], [0.6666666666666666, \"#ed7953\"], [0.7777777777777778, \"#fb9f3a\"], [0.8888888888888888, \"#fdca26\"], [1.0, \"#f0f921\"]]}, \"colorway\": [\"#636efa\", \"#EF553B\", \"#00cc96\", \"#ab63fa\", \"#FFA15A\", \"#19d3f3\", \"#FF6692\", \"#B6E880\", \"#FF97FF\", \"#FECB52\"], \"font\": {\"color\": \"#2a3f5f\"}, \"geo\": {\"bgcolor\": \"white\", \"lakecolor\": \"white\", \"landcolor\": \"#E5ECF6\", \"showlakes\": true, \"showland\": true, \"subunitcolor\": \"white\"}, \"hoverlabel\": {\"align\": \"left\"}, \"hovermode\": \"closest\", \"mapbox\": {\"style\": \"light\"}, \"paper_bgcolor\": \"white\", \"plot_bgcolor\": \"#E5ECF6\", \"polar\": {\"angularaxis\": {\"gridcolor\": \"white\", \"linecolor\": \"white\", \"ticks\": \"\"}, \"bgcolor\": \"#E5ECF6\", \"radialaxis\": {\"gridcolor\": \"white\", \"linecolor\": \"white\", \"ticks\": \"\"}}, \"scene\": {\"xaxis\": {\"backgroundcolor\": \"#E5ECF6\", \"gridcolor\": \"white\", \"gridwidth\": 2, \"linecolor\": \"white\", \"showbackground\": true, \"ticks\": \"\", \"zerolinecolor\": \"white\"}, \"yaxis\": {\"backgroundcolor\": \"#E5ECF6\", \"gridcolor\": \"white\", \"gridwidth\": 2, \"linecolor\": \"white\", \"showbackground\": true, \"ticks\": \"\", \"zerolinecolor\": \"white\"}, \"zaxis\": {\"backgroundcolor\": \"#E5ECF6\", \"gridcolor\": \"white\", \"gridwidth\": 2, \"linecolor\": \"white\", \"showbackground\": true, \"ticks\": \"\", \"zerolinecolor\": \"white\"}}, \"shapedefaults\": {\"line\": {\"color\": \"#2a3f5f\"}}, \"ternary\": {\"aaxis\": {\"gridcolor\": \"white\", \"linecolor\": \"white\", \"ticks\": \"\"}, \"baxis\": {\"gridcolor\": \"white\", \"linecolor\": \"white\", \"ticks\": \"\"}, \"bgcolor\": \"#E5ECF6\", \"caxis\": {\"gridcolor\": \"white\", \"linecolor\": \"white\", \"ticks\": \"\"}}, \"title\": {\"x\": 0.05}, \"xaxis\": {\"automargin\": true, \"gridcolor\": \"white\", \"linecolor\": \"white\", \"ticks\": \"\", \"title\": {\"standoff\": 15}, \"zerolinecolor\": \"white\", \"zerolinewidth\": 2}, \"yaxis\": {\"automargin\": true, \"gridcolor\": \"white\", \"linecolor\": \"white\", \"ticks\": \"\", \"title\": {\"standoff\": 15}, \"zerolinecolor\": \"white\", \"zerolinewidth\": 2}}}, \"title\": {\"font\": {\"color\": \"#4D5663\"}}, \"xaxis\": {\"gridcolor\": \"#E1E5ED\", \"showgrid\": true, \"tickfont\": {\"color\": \"#4D5663\"}, \"title\": {\"font\": {\"color\": \"#4D5663\"}, \"text\": \"\"}, \"zerolinecolor\": \"#E1E5ED\"}, \"yaxis\": {\"gridcolor\": \"#E1E5ED\", \"showgrid\": true, \"tickfont\": {\"color\": \"#4D5663\"}, \"title\": {\"font\": {\"color\": \"#4D5663\"}, \"text\": \"\"}, \"zerolinecolor\": \"#E1E5ED\"}},\n                        {\"showLink\": true, \"linkText\": \"Export to plot.ly\", \"plotlyServerURL\": \"https://plot.ly\", \"responsive\": true}\n                    ).then(function(){\n                            \nvar gd = document.getElementById('40ad2469-d4ff-4274-9751-7aa918c5e12d');\nvar x = new MutationObserver(function (mutations, observer) {{\n        var display = window.getComputedStyle(gd).display;\n        if (!display || display === 'none') {{\n            console.log([gd, 'removed!']);\n            Plotly.purge(gd);\n            observer.disconnect();\n        }}\n}});\n\n// Listen for the removal of the full notebook cells\nvar notebookContainer = gd.closest('#notebook-container');\nif (notebookContainer) {{\n    x.observe(notebookContainer, {childList: true});\n}}\n\n// Listen for the clearing of the current output cell\nvar outputEl = gd.closest('.output');\nif (outputEl) {{\n    x.observe(outputEl, {childList: true});\n}}\n\n                        })\n                };\n                });\n            </script>\n        </div>"
     },
     "metadata": {}
    }
   ],
   "source": [
    "df.iplot(kind='hist', bins=25) # entire df"
   ]
  },
  {
   "cell_type": "code",
   "execution_count": 31,
   "metadata": {
    "collapsed": false
   },
   "outputs": [
    {
     "output_type": "display_data",
     "data": {
      "application/vnd.plotly.v1+json": {
       "config": {
        "linkText": "Export to plot.ly",
        "plotlyServerURL": "https://plot.ly",
        "showLink": true
       },
       "data": [
        {
         "histfunc": "count",
         "histnorm": "",
         "marker": {
          "color": "rgba(255, 153, 51, 1.0)",
          "line": {
           "color": "#4D5663",
           "width": 1.3
          }
         },
         "name": "A",
         "nbinsx": 25,
         "opacity": 0.8,
         "orientation": "v",
         "type": "histogram",
         "x": [
          -0.48325729233229403,
          -0.6801469232584413,
          -0.8375638593941594,
          -0.8882653647324971,
          0.3369329682002198,
          1.5332393384460155,
          -0.4958109068306811,
          0.25529128381775856,
          0.36443246621830866,
          0.011763627863710845,
          -0.8489040944459124,
          -0.25874833248695134,
          1.2755836073180973,
          -1.2600228259346626,
          -2.6781492581231947,
          -0.7242275822894483,
          1.3081412072531584,
          -1.8448343434977177,
          0.5108257297289914,
          1.5078853308278135,
          -0.7799561281371661,
          1.1248147311608407,
          -0.9919620025891482,
          1.1013303249141366,
          -0.43149217879776913,
          0.2129267873376674,
          0.1547275473762396,
          -1.5683260126927356,
          2.7840049871654107,
          0.27031735188484474,
          0.8683633047336571,
          -1.389846350986542,
          -0.46786663578781906,
          -2.0779621390659297,
          1.2828867767936305,
          -1.0884510648994297,
          1.0213746901493257,
          -0.05878888246257884,
          -1.3446188024182197,
          -0.7454278813382993,
          1.1765091332317525,
          -1.1591562966298399,
          -0.02616506878878219,
          -1.6118479856638155,
          0.569696139357706,
          1.8566910147004743,
          0.09413685110942295,
          -0.33804333571530537,
          -2.053271732051332,
          1.177464224627984,
          -0.1441842047465084,
          -0.9017460491094729,
          -0.6317351849737326,
          1.0426833324653861,
          -1.4408682510636759,
          0.18370173991590114,
          -0.9608274607095263,
          -0.5117463730118246,
          0.6293037169773403,
          -0.8578693630097957,
          2.3422875322233025,
          -0.4071345976474636,
          -0.8276126802100241,
          1.7942749276987053,
          0.38302841199651466,
          0.9113895697906631,
          0.5788642704148587,
          2.2795657117185675,
          -0.02211855812222608,
          0.1228592331385394,
          -1.2533666848769662,
          0.9842534755210555,
          1.5591483863561952,
          0.33120363044533385,
          -0.7909100117810608,
          -0.5339160346418095,
          1.6703748204378235,
          0.18259762895651724,
          -0.530213301464795,
          -0.6933913717286806,
          1.2385825517447506,
          -0.08374662326827106,
          1.1283408068613219,
          -0.5243335506412814,
          -0.681218951498602,
          -1.0557507203560408,
          -0.5493108387478299,
          -0.3248774619763072,
          1.883032300667612,
          1.695004447251585,
          -0.8140541254788838,
          0.5377873848760677,
          0.7581917043467746,
          0.816619927313427,
          0.27317519379582567,
          1.4309861245969506,
          -0.48430609448209755,
          -0.664737834915157,
          0.2414003853354637,
          -0.33468634357597127
         ]
        }
       ],
       "layout": {
        "barmode": "overlay",
        "legend": {
         "bgcolor": "#F5F6F9",
         "font": {
          "color": "#4D5663"
         }
        },
        "paper_bgcolor": "#F5F6F9",
        "plot_bgcolor": "#F5F6F9",
        "template": {
         "data": {
          "bar": [
           {
            "error_x": {
             "color": "#2a3f5f"
            },
            "error_y": {
             "color": "#2a3f5f"
            },
            "marker": {
             "line": {
              "color": "#E5ECF6",
              "width": 0.5
             }
            },
            "type": "bar"
           }
          ],
          "barpolar": [
           {
            "marker": {
             "line": {
              "color": "#E5ECF6",
              "width": 0.5
             }
            },
            "type": "barpolar"
           }
          ],
          "carpet": [
           {
            "aaxis": {
             "endlinecolor": "#2a3f5f",
             "gridcolor": "white",
             "linecolor": "white",
             "minorgridcolor": "white",
             "startlinecolor": "#2a3f5f"
            },
            "baxis": {
             "endlinecolor": "#2a3f5f",
             "gridcolor": "white",
             "linecolor": "white",
             "minorgridcolor": "white",
             "startlinecolor": "#2a3f5f"
            },
            "type": "carpet"
           }
          ],
          "choropleth": [
           {
            "colorbar": {
             "outlinewidth": 0,
             "ticks": ""
            },
            "type": "choropleth"
           }
          ],
          "contour": [
           {
            "colorbar": {
             "outlinewidth": 0,
             "ticks": ""
            },
            "colorscale": [
             [
              0,
              "#0d0887"
             ],
             [
              0.1111111111111111,
              "#46039f"
             ],
             [
              0.2222222222222222,
              "#7201a8"
             ],
             [
              0.3333333333333333,
              "#9c179e"
             ],
             [
              0.4444444444444444,
              "#bd3786"
             ],
             [
              0.5555555555555556,
              "#d8576b"
             ],
             [
              0.6666666666666666,
              "#ed7953"
             ],
             [
              0.7777777777777778,
              "#fb9f3a"
             ],
             [
              0.8888888888888888,
              "#fdca26"
             ],
             [
              1,
              "#f0f921"
             ]
            ],
            "type": "contour"
           }
          ],
          "contourcarpet": [
           {
            "colorbar": {
             "outlinewidth": 0,
             "ticks": ""
            },
            "type": "contourcarpet"
           }
          ],
          "heatmap": [
           {
            "colorbar": {
             "outlinewidth": 0,
             "ticks": ""
            },
            "colorscale": [
             [
              0,
              "#0d0887"
             ],
             [
              0.1111111111111111,
              "#46039f"
             ],
             [
              0.2222222222222222,
              "#7201a8"
             ],
             [
              0.3333333333333333,
              "#9c179e"
             ],
             [
              0.4444444444444444,
              "#bd3786"
             ],
             [
              0.5555555555555556,
              "#d8576b"
             ],
             [
              0.6666666666666666,
              "#ed7953"
             ],
             [
              0.7777777777777778,
              "#fb9f3a"
             ],
             [
              0.8888888888888888,
              "#fdca26"
             ],
             [
              1,
              "#f0f921"
             ]
            ],
            "type": "heatmap"
           }
          ],
          "heatmapgl": [
           {
            "colorbar": {
             "outlinewidth": 0,
             "ticks": ""
            },
            "colorscale": [
             [
              0,
              "#0d0887"
             ],
             [
              0.1111111111111111,
              "#46039f"
             ],
             [
              0.2222222222222222,
              "#7201a8"
             ],
             [
              0.3333333333333333,
              "#9c179e"
             ],
             [
              0.4444444444444444,
              "#bd3786"
             ],
             [
              0.5555555555555556,
              "#d8576b"
             ],
             [
              0.6666666666666666,
              "#ed7953"
             ],
             [
              0.7777777777777778,
              "#fb9f3a"
             ],
             [
              0.8888888888888888,
              "#fdca26"
             ],
             [
              1,
              "#f0f921"
             ]
            ],
            "type": "heatmapgl"
           }
          ],
          "histogram": [
           {
            "marker": {
             "colorbar": {
              "outlinewidth": 0,
              "ticks": ""
             }
            },
            "type": "histogram"
           }
          ],
          "histogram2d": [
           {
            "colorbar": {
             "outlinewidth": 0,
             "ticks": ""
            },
            "colorscale": [
             [
              0,
              "#0d0887"
             ],
             [
              0.1111111111111111,
              "#46039f"
             ],
             [
              0.2222222222222222,
              "#7201a8"
             ],
             [
              0.3333333333333333,
              "#9c179e"
             ],
             [
              0.4444444444444444,
              "#bd3786"
             ],
             [
              0.5555555555555556,
              "#d8576b"
             ],
             [
              0.6666666666666666,
              "#ed7953"
             ],
             [
              0.7777777777777778,
              "#fb9f3a"
             ],
             [
              0.8888888888888888,
              "#fdca26"
             ],
             [
              1,
              "#f0f921"
             ]
            ],
            "type": "histogram2d"
           }
          ],
          "histogram2dcontour": [
           {
            "colorbar": {
             "outlinewidth": 0,
             "ticks": ""
            },
            "colorscale": [
             [
              0,
              "#0d0887"
             ],
             [
              0.1111111111111111,
              "#46039f"
             ],
             [
              0.2222222222222222,
              "#7201a8"
             ],
             [
              0.3333333333333333,
              "#9c179e"
             ],
             [
              0.4444444444444444,
              "#bd3786"
             ],
             [
              0.5555555555555556,
              "#d8576b"
             ],
             [
              0.6666666666666666,
              "#ed7953"
             ],
             [
              0.7777777777777778,
              "#fb9f3a"
             ],
             [
              0.8888888888888888,
              "#fdca26"
             ],
             [
              1,
              "#f0f921"
             ]
            ],
            "type": "histogram2dcontour"
           }
          ],
          "mesh3d": [
           {
            "colorbar": {
             "outlinewidth": 0,
             "ticks": ""
            },
            "type": "mesh3d"
           }
          ],
          "parcoords": [
           {
            "line": {
             "colorbar": {
              "outlinewidth": 0,
              "ticks": ""
             }
            },
            "type": "parcoords"
           }
          ],
          "pie": [
           {
            "automargin": true,
            "type": "pie"
           }
          ],
          "scatter": [
           {
            "marker": {
             "colorbar": {
              "outlinewidth": 0,
              "ticks": ""
             }
            },
            "type": "scatter"
           }
          ],
          "scatter3d": [
           {
            "line": {
             "colorbar": {
              "outlinewidth": 0,
              "ticks": ""
             }
            },
            "marker": {
             "colorbar": {
              "outlinewidth": 0,
              "ticks": ""
             }
            },
            "type": "scatter3d"
           }
          ],
          "scattercarpet": [
           {
            "marker": {
             "colorbar": {
              "outlinewidth": 0,
              "ticks": ""
             }
            },
            "type": "scattercarpet"
           }
          ],
          "scattergeo": [
           {
            "marker": {
             "colorbar": {
              "outlinewidth": 0,
              "ticks": ""
             }
            },
            "type": "scattergeo"
           }
          ],
          "scattergl": [
           {
            "marker": {
             "colorbar": {
              "outlinewidth": 0,
              "ticks": ""
             }
            },
            "type": "scattergl"
           }
          ],
          "scattermapbox": [
           {
            "marker": {
             "colorbar": {
              "outlinewidth": 0,
              "ticks": ""
             }
            },
            "type": "scattermapbox"
           }
          ],
          "scatterpolar": [
           {
            "marker": {
             "colorbar": {
              "outlinewidth": 0,
              "ticks": ""
             }
            },
            "type": "scatterpolar"
           }
          ],
          "scatterpolargl": [
           {
            "marker": {
             "colorbar": {
              "outlinewidth": 0,
              "ticks": ""
             }
            },
            "type": "scatterpolargl"
           }
          ],
          "scatterternary": [
           {
            "marker": {
             "colorbar": {
              "outlinewidth": 0,
              "ticks": ""
             }
            },
            "type": "scatterternary"
           }
          ],
          "surface": [
           {
            "colorbar": {
             "outlinewidth": 0,
             "ticks": ""
            },
            "colorscale": [
             [
              0,
              "#0d0887"
             ],
             [
              0.1111111111111111,
              "#46039f"
             ],
             [
              0.2222222222222222,
              "#7201a8"
             ],
             [
              0.3333333333333333,
              "#9c179e"
             ],
             [
              0.4444444444444444,
              "#bd3786"
             ],
             [
              0.5555555555555556,
              "#d8576b"
             ],
             [
              0.6666666666666666,
              "#ed7953"
             ],
             [
              0.7777777777777778,
              "#fb9f3a"
             ],
             [
              0.8888888888888888,
              "#fdca26"
             ],
             [
              1,
              "#f0f921"
             ]
            ],
            "type": "surface"
           }
          ],
          "table": [
           {
            "cells": {
             "fill": {
              "color": "#EBF0F8"
             },
             "line": {
              "color": "white"
             }
            },
            "header": {
             "fill": {
              "color": "#C8D4E3"
             },
             "line": {
              "color": "white"
             }
            },
            "type": "table"
           }
          ]
         },
         "layout": {
          "annotationdefaults": {
           "arrowcolor": "#2a3f5f",
           "arrowhead": 0,
           "arrowwidth": 1
          },
          "coloraxis": {
           "colorbar": {
            "outlinewidth": 0,
            "ticks": ""
           }
          },
          "colorscale": {
           "diverging": [
            [
             0,
             "#8e0152"
            ],
            [
             0.1,
             "#c51b7d"
            ],
            [
             0.2,
             "#de77ae"
            ],
            [
             0.3,
             "#f1b6da"
            ],
            [
             0.4,
             "#fde0ef"
            ],
            [
             0.5,
             "#f7f7f7"
            ],
            [
             0.6,
             "#e6f5d0"
            ],
            [
             0.7,
             "#b8e186"
            ],
            [
             0.8,
             "#7fbc41"
            ],
            [
             0.9,
             "#4d9221"
            ],
            [
             1,
             "#276419"
            ]
           ],
           "sequential": [
            [
             0,
             "#0d0887"
            ],
            [
             0.1111111111111111,
             "#46039f"
            ],
            [
             0.2222222222222222,
             "#7201a8"
            ],
            [
             0.3333333333333333,
             "#9c179e"
            ],
            [
             0.4444444444444444,
             "#bd3786"
            ],
            [
             0.5555555555555556,
             "#d8576b"
            ],
            [
             0.6666666666666666,
             "#ed7953"
            ],
            [
             0.7777777777777778,
             "#fb9f3a"
            ],
            [
             0.8888888888888888,
             "#fdca26"
            ],
            [
             1,
             "#f0f921"
            ]
           ],
           "sequentialminus": [
            [
             0,
             "#0d0887"
            ],
            [
             0.1111111111111111,
             "#46039f"
            ],
            [
             0.2222222222222222,
             "#7201a8"
            ],
            [
             0.3333333333333333,
             "#9c179e"
            ],
            [
             0.4444444444444444,
             "#bd3786"
            ],
            [
             0.5555555555555556,
             "#d8576b"
            ],
            [
             0.6666666666666666,
             "#ed7953"
            ],
            [
             0.7777777777777778,
             "#fb9f3a"
            ],
            [
             0.8888888888888888,
             "#fdca26"
            ],
            [
             1,
             "#f0f921"
            ]
           ]
          },
          "colorway": [
           "#636efa",
           "#EF553B",
           "#00cc96",
           "#ab63fa",
           "#FFA15A",
           "#19d3f3",
           "#FF6692",
           "#B6E880",
           "#FF97FF",
           "#FECB52"
          ],
          "font": {
           "color": "#2a3f5f"
          },
          "geo": {
           "bgcolor": "white",
           "lakecolor": "white",
           "landcolor": "#E5ECF6",
           "showlakes": true,
           "showland": true,
           "subunitcolor": "white"
          },
          "hoverlabel": {
           "align": "left"
          },
          "hovermode": "closest",
          "mapbox": {
           "style": "light"
          },
          "paper_bgcolor": "white",
          "plot_bgcolor": "#E5ECF6",
          "polar": {
           "angularaxis": {
            "gridcolor": "white",
            "linecolor": "white",
            "ticks": ""
           },
           "bgcolor": "#E5ECF6",
           "radialaxis": {
            "gridcolor": "white",
            "linecolor": "white",
            "ticks": ""
           }
          },
          "scene": {
           "xaxis": {
            "backgroundcolor": "#E5ECF6",
            "gridcolor": "white",
            "gridwidth": 2,
            "linecolor": "white",
            "showbackground": true,
            "ticks": "",
            "zerolinecolor": "white"
           },
           "yaxis": {
            "backgroundcolor": "#E5ECF6",
            "gridcolor": "white",
            "gridwidth": 2,
            "linecolor": "white",
            "showbackground": true,
            "ticks": "",
            "zerolinecolor": "white"
           },
           "zaxis": {
            "backgroundcolor": "#E5ECF6",
            "gridcolor": "white",
            "gridwidth": 2,
            "linecolor": "white",
            "showbackground": true,
            "ticks": "",
            "zerolinecolor": "white"
           }
          },
          "shapedefaults": {
           "line": {
            "color": "#2a3f5f"
           }
          },
          "ternary": {
           "aaxis": {
            "gridcolor": "white",
            "linecolor": "white",
            "ticks": ""
           },
           "baxis": {
            "gridcolor": "white",
            "linecolor": "white",
            "ticks": ""
           },
           "bgcolor": "#E5ECF6",
           "caxis": {
            "gridcolor": "white",
            "linecolor": "white",
            "ticks": ""
           }
          },
          "title": {
           "x": 0.05
          },
          "xaxis": {
           "automargin": true,
           "gridcolor": "white",
           "linecolor": "white",
           "ticks": "",
           "title": {
            "standoff": 15
           },
           "zerolinecolor": "white",
           "zerolinewidth": 2
          },
          "yaxis": {
           "automargin": true,
           "gridcolor": "white",
           "linecolor": "white",
           "ticks": "",
           "title": {
            "standoff": 15
           },
           "zerolinecolor": "white",
           "zerolinewidth": 2
          }
         }
        },
        "title": {
         "font": {
          "color": "#4D5663"
         }
        },
        "xaxis": {
         "gridcolor": "#E1E5ED",
         "showgrid": true,
         "tickfont": {
          "color": "#4D5663"
         },
         "title": {
          "font": {
           "color": "#4D5663"
          },
          "text": ""
         },
         "zerolinecolor": "#E1E5ED"
        },
        "yaxis": {
         "gridcolor": "#E1E5ED",
         "showgrid": true,
         "tickfont": {
          "color": "#4D5663"
         },
         "title": {
          "font": {
           "color": "#4D5663"
          },
          "text": ""
         },
         "zerolinecolor": "#E1E5ED"
        }
       }
      },
      "text/html": "<div>\n        \n        \n            <div id=\"a4d3e9cb-f83e-4b27-a9b6-fa5b70054f75\" class=\"plotly-graph-div\" style=\"height:525px; width:100%;\"></div>\n            <script type=\"text/javascript\">\n                require([\"plotly\"], function(Plotly) {\n                    window.PLOTLYENV=window.PLOTLYENV || {};\n                    window.PLOTLYENV.BASE_URL='https://plot.ly';\n                    \n                if (document.getElementById(\"a4d3e9cb-f83e-4b27-a9b6-fa5b70054f75\")) {\n                    Plotly.newPlot(\n                        'a4d3e9cb-f83e-4b27-a9b6-fa5b70054f75',\n                        [{\"histfunc\": \"count\", \"histnorm\": \"\", \"marker\": {\"color\": \"rgba(255, 153, 51, 1.0)\", \"line\": {\"color\": \"#4D5663\", \"width\": 1.3}}, \"name\": \"A\", \"nbinsx\": 25, \"opacity\": 0.8, \"orientation\": \"v\", \"type\": \"histogram\", \"x\": [-0.48325729233229403, -0.6801469232584413, -0.8375638593941594, -0.8882653647324971, 0.3369329682002198, 1.5332393384460155, -0.4958109068306811, 0.25529128381775856, 0.36443246621830866, 0.011763627863710845, -0.8489040944459124, -0.25874833248695134, 1.2755836073180973, -1.2600228259346626, -2.6781492581231947, -0.7242275822894483, 1.3081412072531584, -1.8448343434977177, 0.5108257297289914, 1.5078853308278135, -0.7799561281371661, 1.1248147311608407, -0.9919620025891482, 1.1013303249141366, -0.43149217879776913, 0.2129267873376674, 0.1547275473762396, -1.5683260126927356, 2.7840049871654107, 0.27031735188484474, 0.8683633047336571, -1.389846350986542, -0.46786663578781906, -2.0779621390659297, 1.2828867767936305, -1.0884510648994297, 1.0213746901493257, -0.05878888246257884, -1.3446188024182197, -0.7454278813382993, 1.1765091332317525, -1.1591562966298399, -0.02616506878878219, -1.6118479856638155, 0.569696139357706, 1.8566910147004743, 0.09413685110942295, -0.33804333571530537, -2.053271732051332, 1.177464224627984, -0.1441842047465084, -0.9017460491094729, -0.6317351849737326, 1.0426833324653861, -1.4408682510636759, 0.18370173991590114, -0.9608274607095263, -0.5117463730118246, 0.6293037169773403, -0.8578693630097957, 2.3422875322233025, -0.4071345976474636, -0.8276126802100241, 1.7942749276987053, 0.38302841199651466, 0.9113895697906631, 0.5788642704148587, 2.2795657117185675, -0.02211855812222608, 0.1228592331385394, -1.2533666848769662, 0.9842534755210555, 1.5591483863561952, 0.33120363044533385, -0.7909100117810608, -0.5339160346418095, 1.6703748204378235, 0.18259762895651724, -0.530213301464795, -0.6933913717286806, 1.2385825517447506, -0.08374662326827106, 1.1283408068613219, -0.5243335506412814, -0.681218951498602, -1.0557507203560408, -0.5493108387478299, -0.3248774619763072, 1.883032300667612, 1.695004447251585, -0.8140541254788838, 0.5377873848760677, 0.7581917043467746, 0.816619927313427, 0.27317519379582567, 1.4309861245969506, -0.48430609448209755, -0.664737834915157, 0.2414003853354637, -0.33468634357597127]}],\n                        {\"barmode\": \"overlay\", \"legend\": {\"bgcolor\": \"#F5F6F9\", \"font\": {\"color\": \"#4D5663\"}}, \"paper_bgcolor\": \"#F5F6F9\", \"plot_bgcolor\": \"#F5F6F9\", \"template\": {\"data\": {\"bar\": [{\"error_x\": {\"color\": \"#2a3f5f\"}, \"error_y\": {\"color\": \"#2a3f5f\"}, \"marker\": {\"line\": {\"color\": \"#E5ECF6\", \"width\": 0.5}}, \"type\": \"bar\"}], \"barpolar\": [{\"marker\": {\"line\": {\"color\": \"#E5ECF6\", \"width\": 0.5}}, \"type\": \"barpolar\"}], \"carpet\": [{\"aaxis\": {\"endlinecolor\": \"#2a3f5f\", \"gridcolor\": \"white\", \"linecolor\": \"white\", \"minorgridcolor\": \"white\", \"startlinecolor\": \"#2a3f5f\"}, \"baxis\": {\"endlinecolor\": \"#2a3f5f\", \"gridcolor\": \"white\", \"linecolor\": \"white\", \"minorgridcolor\": \"white\", \"startlinecolor\": \"#2a3f5f\"}, \"type\": \"carpet\"}], \"choropleth\": [{\"colorbar\": {\"outlinewidth\": 0, \"ticks\": \"\"}, \"type\": \"choropleth\"}], \"contour\": [{\"colorbar\": {\"outlinewidth\": 0, \"ticks\": \"\"}, \"colorscale\": [[0.0, \"#0d0887\"], [0.1111111111111111, \"#46039f\"], [0.2222222222222222, \"#7201a8\"], [0.3333333333333333, \"#9c179e\"], [0.4444444444444444, \"#bd3786\"], [0.5555555555555556, \"#d8576b\"], [0.6666666666666666, \"#ed7953\"], [0.7777777777777778, \"#fb9f3a\"], [0.8888888888888888, \"#fdca26\"], [1.0, \"#f0f921\"]], \"type\": \"contour\"}], \"contourcarpet\": [{\"colorbar\": {\"outlinewidth\": 0, \"ticks\": \"\"}, \"type\": \"contourcarpet\"}], \"heatmap\": [{\"colorbar\": {\"outlinewidth\": 0, \"ticks\": \"\"}, \"colorscale\": [[0.0, \"#0d0887\"], [0.1111111111111111, \"#46039f\"], [0.2222222222222222, \"#7201a8\"], [0.3333333333333333, \"#9c179e\"], [0.4444444444444444, \"#bd3786\"], [0.5555555555555556, \"#d8576b\"], [0.6666666666666666, \"#ed7953\"], [0.7777777777777778, \"#fb9f3a\"], [0.8888888888888888, \"#fdca26\"], [1.0, \"#f0f921\"]], \"type\": \"heatmap\"}], \"heatmapgl\": [{\"colorbar\": {\"outlinewidth\": 0, \"ticks\": \"\"}, \"colorscale\": [[0.0, \"#0d0887\"], [0.1111111111111111, \"#46039f\"], [0.2222222222222222, \"#7201a8\"], [0.3333333333333333, \"#9c179e\"], [0.4444444444444444, \"#bd3786\"], [0.5555555555555556, \"#d8576b\"], [0.6666666666666666, \"#ed7953\"], [0.7777777777777778, \"#fb9f3a\"], [0.8888888888888888, \"#fdca26\"], [1.0, \"#f0f921\"]], \"type\": \"heatmapgl\"}], \"histogram\": [{\"marker\": {\"colorbar\": {\"outlinewidth\": 0, \"ticks\": \"\"}}, \"type\": \"histogram\"}], \"histogram2d\": [{\"colorbar\": {\"outlinewidth\": 0, \"ticks\": \"\"}, \"colorscale\": [[0.0, \"#0d0887\"], [0.1111111111111111, \"#46039f\"], [0.2222222222222222, \"#7201a8\"], [0.3333333333333333, \"#9c179e\"], [0.4444444444444444, \"#bd3786\"], [0.5555555555555556, \"#d8576b\"], [0.6666666666666666, \"#ed7953\"], [0.7777777777777778, \"#fb9f3a\"], [0.8888888888888888, \"#fdca26\"], [1.0, \"#f0f921\"]], \"type\": \"histogram2d\"}], \"histogram2dcontour\": [{\"colorbar\": {\"outlinewidth\": 0, \"ticks\": \"\"}, \"colorscale\": [[0.0, \"#0d0887\"], [0.1111111111111111, \"#46039f\"], [0.2222222222222222, \"#7201a8\"], [0.3333333333333333, \"#9c179e\"], [0.4444444444444444, \"#bd3786\"], [0.5555555555555556, \"#d8576b\"], [0.6666666666666666, \"#ed7953\"], [0.7777777777777778, \"#fb9f3a\"], [0.8888888888888888, \"#fdca26\"], [1.0, \"#f0f921\"]], \"type\": \"histogram2dcontour\"}], \"mesh3d\": [{\"colorbar\": {\"outlinewidth\": 0, \"ticks\": \"\"}, \"type\": \"mesh3d\"}], \"parcoords\": [{\"line\": {\"colorbar\": {\"outlinewidth\": 0, \"ticks\": \"\"}}, \"type\": \"parcoords\"}], \"pie\": [{\"automargin\": true, \"type\": \"pie\"}], \"scatter\": [{\"marker\": {\"colorbar\": {\"outlinewidth\": 0, \"ticks\": \"\"}}, \"type\": \"scatter\"}], \"scatter3d\": [{\"line\": {\"colorbar\": {\"outlinewidth\": 0, \"ticks\": \"\"}}, \"marker\": {\"colorbar\": {\"outlinewidth\": 0, \"ticks\": \"\"}}, \"type\": \"scatter3d\"}], \"scattercarpet\": [{\"marker\": {\"colorbar\": {\"outlinewidth\": 0, \"ticks\": \"\"}}, \"type\": \"scattercarpet\"}], \"scattergeo\": [{\"marker\": {\"colorbar\": {\"outlinewidth\": 0, \"ticks\": \"\"}}, \"type\": \"scattergeo\"}], \"scattergl\": [{\"marker\": {\"colorbar\": {\"outlinewidth\": 0, \"ticks\": \"\"}}, \"type\": \"scattergl\"}], \"scattermapbox\": [{\"marker\": {\"colorbar\": {\"outlinewidth\": 0, \"ticks\": \"\"}}, \"type\": \"scattermapbox\"}], \"scatterpolar\": [{\"marker\": {\"colorbar\": {\"outlinewidth\": 0, \"ticks\": \"\"}}, \"type\": \"scatterpolar\"}], \"scatterpolargl\": [{\"marker\": {\"colorbar\": {\"outlinewidth\": 0, \"ticks\": \"\"}}, \"type\": \"scatterpolargl\"}], \"scatterternary\": [{\"marker\": {\"colorbar\": {\"outlinewidth\": 0, \"ticks\": \"\"}}, \"type\": \"scatterternary\"}], \"surface\": [{\"colorbar\": {\"outlinewidth\": 0, \"ticks\": \"\"}, \"colorscale\": [[0.0, \"#0d0887\"], [0.1111111111111111, \"#46039f\"], [0.2222222222222222, \"#7201a8\"], [0.3333333333333333, \"#9c179e\"], [0.4444444444444444, \"#bd3786\"], [0.5555555555555556, \"#d8576b\"], [0.6666666666666666, \"#ed7953\"], [0.7777777777777778, \"#fb9f3a\"], [0.8888888888888888, \"#fdca26\"], [1.0, \"#f0f921\"]], \"type\": \"surface\"}], \"table\": [{\"cells\": {\"fill\": {\"color\": \"#EBF0F8\"}, \"line\": {\"color\": \"white\"}}, \"header\": {\"fill\": {\"color\": \"#C8D4E3\"}, \"line\": {\"color\": \"white\"}}, \"type\": \"table\"}]}, \"layout\": {\"annotationdefaults\": {\"arrowcolor\": \"#2a3f5f\", \"arrowhead\": 0, \"arrowwidth\": 1}, \"coloraxis\": {\"colorbar\": {\"outlinewidth\": 0, \"ticks\": \"\"}}, \"colorscale\": {\"diverging\": [[0, \"#8e0152\"], [0.1, \"#c51b7d\"], [0.2, \"#de77ae\"], [0.3, \"#f1b6da\"], [0.4, \"#fde0ef\"], [0.5, \"#f7f7f7\"], [0.6, \"#e6f5d0\"], [0.7, \"#b8e186\"], [0.8, \"#7fbc41\"], [0.9, \"#4d9221\"], [1, \"#276419\"]], \"sequential\": [[0.0, \"#0d0887\"], [0.1111111111111111, \"#46039f\"], [0.2222222222222222, \"#7201a8\"], [0.3333333333333333, \"#9c179e\"], [0.4444444444444444, \"#bd3786\"], [0.5555555555555556, \"#d8576b\"], [0.6666666666666666, \"#ed7953\"], [0.7777777777777778, \"#fb9f3a\"], [0.8888888888888888, \"#fdca26\"], [1.0, \"#f0f921\"]], \"sequentialminus\": [[0.0, \"#0d0887\"], [0.1111111111111111, \"#46039f\"], [0.2222222222222222, \"#7201a8\"], [0.3333333333333333, \"#9c179e\"], [0.4444444444444444, \"#bd3786\"], [0.5555555555555556, \"#d8576b\"], [0.6666666666666666, \"#ed7953\"], [0.7777777777777778, \"#fb9f3a\"], [0.8888888888888888, \"#fdca26\"], [1.0, \"#f0f921\"]]}, \"colorway\": [\"#636efa\", \"#EF553B\", \"#00cc96\", \"#ab63fa\", \"#FFA15A\", \"#19d3f3\", \"#FF6692\", \"#B6E880\", \"#FF97FF\", \"#FECB52\"], \"font\": {\"color\": \"#2a3f5f\"}, \"geo\": {\"bgcolor\": \"white\", \"lakecolor\": \"white\", \"landcolor\": \"#E5ECF6\", \"showlakes\": true, \"showland\": true, \"subunitcolor\": \"white\"}, \"hoverlabel\": {\"align\": \"left\"}, \"hovermode\": \"closest\", \"mapbox\": {\"style\": \"light\"}, \"paper_bgcolor\": \"white\", \"plot_bgcolor\": \"#E5ECF6\", \"polar\": {\"angularaxis\": {\"gridcolor\": \"white\", \"linecolor\": \"white\", \"ticks\": \"\"}, \"bgcolor\": \"#E5ECF6\", \"radialaxis\": {\"gridcolor\": \"white\", \"linecolor\": \"white\", \"ticks\": \"\"}}, \"scene\": {\"xaxis\": {\"backgroundcolor\": \"#E5ECF6\", \"gridcolor\": \"white\", \"gridwidth\": 2, \"linecolor\": \"white\", \"showbackground\": true, \"ticks\": \"\", \"zerolinecolor\": \"white\"}, \"yaxis\": {\"backgroundcolor\": \"#E5ECF6\", \"gridcolor\": \"white\", \"gridwidth\": 2, \"linecolor\": \"white\", \"showbackground\": true, \"ticks\": \"\", \"zerolinecolor\": \"white\"}, \"zaxis\": {\"backgroundcolor\": \"#E5ECF6\", \"gridcolor\": \"white\", \"gridwidth\": 2, \"linecolor\": \"white\", \"showbackground\": true, \"ticks\": \"\", \"zerolinecolor\": \"white\"}}, \"shapedefaults\": {\"line\": {\"color\": \"#2a3f5f\"}}, \"ternary\": {\"aaxis\": {\"gridcolor\": \"white\", \"linecolor\": \"white\", \"ticks\": \"\"}, \"baxis\": {\"gridcolor\": \"white\", \"linecolor\": \"white\", \"ticks\": \"\"}, \"bgcolor\": \"#E5ECF6\", \"caxis\": {\"gridcolor\": \"white\", \"linecolor\": \"white\", \"ticks\": \"\"}}, \"title\": {\"x\": 0.05}, \"xaxis\": {\"automargin\": true, \"gridcolor\": \"white\", \"linecolor\": \"white\", \"ticks\": \"\", \"title\": {\"standoff\": 15}, \"zerolinecolor\": \"white\", \"zerolinewidth\": 2}, \"yaxis\": {\"automargin\": true, \"gridcolor\": \"white\", \"linecolor\": \"white\", \"ticks\": \"\", \"title\": {\"standoff\": 15}, \"zerolinecolor\": \"white\", \"zerolinewidth\": 2}}}, \"title\": {\"font\": {\"color\": \"#4D5663\"}}, \"xaxis\": {\"gridcolor\": \"#E1E5ED\", \"showgrid\": true, \"tickfont\": {\"color\": \"#4D5663\"}, \"title\": {\"font\": {\"color\": \"#4D5663\"}, \"text\": \"\"}, \"zerolinecolor\": \"#E1E5ED\"}, \"yaxis\": {\"gridcolor\": \"#E1E5ED\", \"showgrid\": true, \"tickfont\": {\"color\": \"#4D5663\"}, \"title\": {\"font\": {\"color\": \"#4D5663\"}, \"text\": \"\"}, \"zerolinecolor\": \"#E1E5ED\"}},\n                        {\"showLink\": true, \"linkText\": \"Export to plot.ly\", \"plotlyServerURL\": \"https://plot.ly\", \"responsive\": true}\n                    ).then(function(){\n                            \nvar gd = document.getElementById('a4d3e9cb-f83e-4b27-a9b6-fa5b70054f75');\nvar x = new MutationObserver(function (mutations, observer) {{\n        var display = window.getComputedStyle(gd).display;\n        if (!display || display === 'none') {{\n            console.log([gd, 'removed!']);\n            Plotly.purge(gd);\n            observer.disconnect();\n        }}\n}});\n\n// Listen for the removal of the full notebook cells\nvar notebookContainer = gd.closest('#notebook-container');\nif (notebookContainer) {{\n    x.observe(notebookContainer, {childList: true});\n}}\n\n// Listen for the clearing of the current output cell\nvar outputEl = gd.closest('.output');\nif (outputEl) {{\n    x.observe(outputEl, {childList: true});\n}}\n\n                        })\n                };\n                });\n            </script>\n        </div>"
     },
     "metadata": {}
    }
   ],
   "source": [
    "df['A'].iplot(kind='hist',bins=25) # single df series"
   ]
  },
  {
   "cell_type": "code",
   "execution_count": 38,
   "metadata": {
    "collapsed": false
   },
   "outputs": [
    {
     "output_type": "display_data",
     "data": {
      "application/vnd.plotly.v1+json": {
       "config": {
        "linkText": "Export to plot.ly",
        "plotlyServerURL": "https://plot.ly",
        "showLink": true
       },
       "data": [
        {
         "marker": {
          "color": [
           "rgb(255, 153, 51)",
           "rgb(55, 128, 191)",
           "rgb(50, 171, 96)",
           "rgb(128, 0, 128)",
           "rgb(219, 64, 82)",
           "rgb(0, 128, 128)",
           "rgb(255, 255, 51)",
           "rgb(128, 128, 0)",
           "rgb(251, 128, 114)",
           "rgb(128, 177, 211)"
          ],
          "line": {
           "width": 1.3
          },
          "size": [
           61,
           56,
           84,
           31,
           89,
           75,
           37,
           77,
           48,
           59,
           61,
           77,
           57,
           50,
           69,
           35,
           55,
           43,
           39,
           39,
           45,
           50,
           47,
           23,
           107,
           50,
           52,
           73,
           44,
           66,
           23,
           60,
           65,
           32,
           81,
           52,
           68,
           65,
           59,
           42,
           72,
           66,
           95,
           57,
           94,
           62,
           70,
           83,
           42,
           65,
           80,
           48,
           69,
           87,
           47,
           57,
           57,
           59,
           92,
           77,
           36,
           91,
           70,
           53,
           48,
           53,
           99,
           58,
           57,
           104,
           58,
           51,
           57,
           61,
           95,
           46,
           96,
           76,
           79,
           71,
           52,
           57,
           90,
           66,
           68,
           69,
           44,
           46,
           52,
           68,
           83,
           65,
           70,
           112,
           55,
           57,
           66,
           48,
           12,
           82
          ],
          "symbol": "circle"
         },
         "mode": "markers",
         "text": "",
         "type": "scatter",
         "x": [
          -0.48325729233229403,
          -0.6801469232584413,
          -0.8375638593941594,
          -0.8882653647324971,
          0.3369329682002198,
          1.5332393384460155,
          -0.4958109068306811,
          0.25529128381775856,
          0.36443246621830866,
          0.011763627863710845,
          -0.8489040944459124,
          -0.25874833248695134,
          1.2755836073180973,
          -1.2600228259346626,
          -2.6781492581231947,
          -0.7242275822894483,
          1.3081412072531584,
          -1.8448343434977177,
          0.5108257297289914,
          1.5078853308278135,
          -0.7799561281371661,
          1.1248147311608407,
          -0.9919620025891482,
          1.1013303249141366,
          -0.43149217879776913,
          0.2129267873376674,
          0.1547275473762396,
          -1.5683260126927356,
          2.7840049871654107,
          0.27031735188484474,
          0.8683633047336571,
          -1.389846350986542,
          -0.46786663578781906,
          -2.0779621390659297,
          1.2828867767936305,
          -1.0884510648994297,
          1.0213746901493257,
          -0.05878888246257884,
          -1.3446188024182197,
          -0.7454278813382993,
          1.1765091332317525,
          -1.1591562966298399,
          -0.02616506878878219,
          -1.6118479856638155,
          0.569696139357706,
          1.8566910147004743,
          0.09413685110942295,
          -0.33804333571530537,
          -2.053271732051332,
          1.177464224627984,
          -0.1441842047465084,
          -0.9017460491094729,
          -0.6317351849737326,
          1.0426833324653861,
          -1.4408682510636759,
          0.18370173991590114,
          -0.9608274607095263,
          -0.5117463730118246,
          0.6293037169773403,
          -0.8578693630097957,
          2.3422875322233025,
          -0.4071345976474636,
          -0.8276126802100241,
          1.7942749276987053,
          0.38302841199651466,
          0.9113895697906631,
          0.5788642704148587,
          2.2795657117185675,
          -0.02211855812222608,
          0.1228592331385394,
          -1.2533666848769662,
          0.9842534755210555,
          1.5591483863561952,
          0.33120363044533385,
          -0.7909100117810608,
          -0.5339160346418095,
          1.6703748204378235,
          0.18259762895651724,
          -0.530213301464795,
          -0.6933913717286806,
          1.2385825517447506,
          -0.08374662326827106,
          1.1283408068613219,
          -0.5243335506412814,
          -0.681218951498602,
          -1.0557507203560408,
          -0.5493108387478299,
          -0.3248774619763072,
          1.883032300667612,
          1.695004447251585,
          -0.8140541254788838,
          0.5377873848760677,
          0.7581917043467746,
          0.816619927313427,
          0.27317519379582567,
          1.4309861245969506,
          -0.48430609448209755,
          -0.664737834915157,
          0.2414003853354637,
          -0.33468634357597127
         ],
         "y": [
          -1.3927173484233957,
          -0.8384891188861266,
          -0.09959392787557626,
          -0.34517373201334406,
          0.7695820725156822,
          0.8143161905283209,
          0.6424656934099338,
          0.9389199039524504,
          -2.1238188619787044,
          -0.893085737904552,
          0.012860764931138417,
          -1.1318926803919251,
          0.8243106940799912,
          0.03819986680800088,
          2.0361777794837344,
          -1.3867844004931162,
          -1.3342809100543542,
          -0.7559650349941774,
          0.9431869936587628,
          -0.7292353017105296,
          0.26398698192207704,
          0.34935584252720875,
          -0.8907921787559141,
          -1.714304516517587,
          -0.33602074280726957,
          0.14577796311860552,
          -0.6007142431277214,
          -0.44423421142674,
          -2.367438036753166,
          0.5602731678041215,
          0.21987234033905276,
          1.2325230941909604,
          0.5297134492851983,
          -1.1055582363452796,
          -0.6613228785375624,
          -0.5521601076824234,
          -0.050555018172360536,
          -0.6101807599377929,
          -0.002968902971095136,
          0.42841892268558546,
          0.18777398458622327,
          1.2477146480091446,
          -0.2384926737277862,
          1.2877344149031817,
          1.85275606072833,
          -1.4989694195585188,
          0.3973272778404027,
          0.032729278573143276,
          -0.3380245785557796,
          -1.9778675062685787,
          0.501496687173523,
          0.6984819811985156,
          0.28468721241939965,
          -1.8782763898118704,
          -0.5726261522272114,
          -0.1926966288221137,
          0.8890964722990194,
          -1.4345273158503902,
          0.7709587722104292,
          -0.325919418683105,
          -0.41245632797110804,
          -0.718289525271531,
          0.6761765745160662,
          1.2185951508512314,
          -0.4593499501488937,
          0.5758361543852849,
          0.9023911370863095,
          -0.8333306471382453,
          -1.323752517968216,
          0.6755218029003134,
          0.1848147524425046,
          -0.8607646832335739,
          1.3452962959600823,
          -2.059652828010228,
          0.6687329357943761,
          -0.043517241120167464,
          2.256249209154247,
          -0.35645693894901925,
          0.9031428576518158,
          -1.2700514096432127,
          0.5507452805892401,
          0.6864768180089855,
          0.5044572517554488,
          0.11391909110956715,
          -2.6789145336337064,
          -1.3459570712606075,
          1.4411385398883014,
          -0.44285250185454955,
          1.7639445410817005,
          -0.2112152724191136,
          0.3056658805922514,
          0.07720067227148605,
          0.3467743181645393,
          1.9879896376435917,
          -1.2225526206253794,
          -1.5378700982573048,
          1.0690117257033522,
          -0.5166079885567552,
          -0.32760903806852637,
          0.1477899857467717
         ]
        }
       ],
       "layout": {
        "legend": {
         "bgcolor": "#F5F6F9",
         "font": {
          "color": "#4D5663"
         }
        },
        "paper_bgcolor": "#F5F6F9",
        "plot_bgcolor": "#F5F6F9",
        "template": {
         "data": {
          "bar": [
           {
            "error_x": {
             "color": "#2a3f5f"
            },
            "error_y": {
             "color": "#2a3f5f"
            },
            "marker": {
             "line": {
              "color": "#E5ECF6",
              "width": 0.5
             }
            },
            "type": "bar"
           }
          ],
          "barpolar": [
           {
            "marker": {
             "line": {
              "color": "#E5ECF6",
              "width": 0.5
             }
            },
            "type": "barpolar"
           }
          ],
          "carpet": [
           {
            "aaxis": {
             "endlinecolor": "#2a3f5f",
             "gridcolor": "white",
             "linecolor": "white",
             "minorgridcolor": "white",
             "startlinecolor": "#2a3f5f"
            },
            "baxis": {
             "endlinecolor": "#2a3f5f",
             "gridcolor": "white",
             "linecolor": "white",
             "minorgridcolor": "white",
             "startlinecolor": "#2a3f5f"
            },
            "type": "carpet"
           }
          ],
          "choropleth": [
           {
            "colorbar": {
             "outlinewidth": 0,
             "ticks": ""
            },
            "type": "choropleth"
           }
          ],
          "contour": [
           {
            "colorbar": {
             "outlinewidth": 0,
             "ticks": ""
            },
            "colorscale": [
             [
              0,
              "#0d0887"
             ],
             [
              0.1111111111111111,
              "#46039f"
             ],
             [
              0.2222222222222222,
              "#7201a8"
             ],
             [
              0.3333333333333333,
              "#9c179e"
             ],
             [
              0.4444444444444444,
              "#bd3786"
             ],
             [
              0.5555555555555556,
              "#d8576b"
             ],
             [
              0.6666666666666666,
              "#ed7953"
             ],
             [
              0.7777777777777778,
              "#fb9f3a"
             ],
             [
              0.8888888888888888,
              "#fdca26"
             ],
             [
              1,
              "#f0f921"
             ]
            ],
            "type": "contour"
           }
          ],
          "contourcarpet": [
           {
            "colorbar": {
             "outlinewidth": 0,
             "ticks": ""
            },
            "type": "contourcarpet"
           }
          ],
          "heatmap": [
           {
            "colorbar": {
             "outlinewidth": 0,
             "ticks": ""
            },
            "colorscale": [
             [
              0,
              "#0d0887"
             ],
             [
              0.1111111111111111,
              "#46039f"
             ],
             [
              0.2222222222222222,
              "#7201a8"
             ],
             [
              0.3333333333333333,
              "#9c179e"
             ],
             [
              0.4444444444444444,
              "#bd3786"
             ],
             [
              0.5555555555555556,
              "#d8576b"
             ],
             [
              0.6666666666666666,
              "#ed7953"
             ],
             [
              0.7777777777777778,
              "#fb9f3a"
             ],
             [
              0.8888888888888888,
              "#fdca26"
             ],
             [
              1,
              "#f0f921"
             ]
            ],
            "type": "heatmap"
           }
          ],
          "heatmapgl": [
           {
            "colorbar": {
             "outlinewidth": 0,
             "ticks": ""
            },
            "colorscale": [
             [
              0,
              "#0d0887"
             ],
             [
              0.1111111111111111,
              "#46039f"
             ],
             [
              0.2222222222222222,
              "#7201a8"
             ],
             [
              0.3333333333333333,
              "#9c179e"
             ],
             [
              0.4444444444444444,
              "#bd3786"
             ],
             [
              0.5555555555555556,
              "#d8576b"
             ],
             [
              0.6666666666666666,
              "#ed7953"
             ],
             [
              0.7777777777777778,
              "#fb9f3a"
             ],
             [
              0.8888888888888888,
              "#fdca26"
             ],
             [
              1,
              "#f0f921"
             ]
            ],
            "type": "heatmapgl"
           }
          ],
          "histogram": [
           {
            "marker": {
             "colorbar": {
              "outlinewidth": 0,
              "ticks": ""
             }
            },
            "type": "histogram"
           }
          ],
          "histogram2d": [
           {
            "colorbar": {
             "outlinewidth": 0,
             "ticks": ""
            },
            "colorscale": [
             [
              0,
              "#0d0887"
             ],
             [
              0.1111111111111111,
              "#46039f"
             ],
             [
              0.2222222222222222,
              "#7201a8"
             ],
             [
              0.3333333333333333,
              "#9c179e"
             ],
             [
              0.4444444444444444,
              "#bd3786"
             ],
             [
              0.5555555555555556,
              "#d8576b"
             ],
             [
              0.6666666666666666,
              "#ed7953"
             ],
             [
              0.7777777777777778,
              "#fb9f3a"
             ],
             [
              0.8888888888888888,
              "#fdca26"
             ],
             [
              1,
              "#f0f921"
             ]
            ],
            "type": "histogram2d"
           }
          ],
          "histogram2dcontour": [
           {
            "colorbar": {
             "outlinewidth": 0,
             "ticks": ""
            },
            "colorscale": [
             [
              0,
              "#0d0887"
             ],
             [
              0.1111111111111111,
              "#46039f"
             ],
             [
              0.2222222222222222,
              "#7201a8"
             ],
             [
              0.3333333333333333,
              "#9c179e"
             ],
             [
              0.4444444444444444,
              "#bd3786"
             ],
             [
              0.5555555555555556,
              "#d8576b"
             ],
             [
              0.6666666666666666,
              "#ed7953"
             ],
             [
              0.7777777777777778,
              "#fb9f3a"
             ],
             [
              0.8888888888888888,
              "#fdca26"
             ],
             [
              1,
              "#f0f921"
             ]
            ],
            "type": "histogram2dcontour"
           }
          ],
          "mesh3d": [
           {
            "colorbar": {
             "outlinewidth": 0,
             "ticks": ""
            },
            "type": "mesh3d"
           }
          ],
          "parcoords": [
           {
            "line": {
             "colorbar": {
              "outlinewidth": 0,
              "ticks": ""
             }
            },
            "type": "parcoords"
           }
          ],
          "pie": [
           {
            "automargin": true,
            "type": "pie"
           }
          ],
          "scatter": [
           {
            "marker": {
             "colorbar": {
              "outlinewidth": 0,
              "ticks": ""
             }
            },
            "type": "scatter"
           }
          ],
          "scatter3d": [
           {
            "line": {
             "colorbar": {
              "outlinewidth": 0,
              "ticks": ""
             }
            },
            "marker": {
             "colorbar": {
              "outlinewidth": 0,
              "ticks": ""
             }
            },
            "type": "scatter3d"
           }
          ],
          "scattercarpet": [
           {
            "marker": {
             "colorbar": {
              "outlinewidth": 0,
              "ticks": ""
             }
            },
            "type": "scattercarpet"
           }
          ],
          "scattergeo": [
           {
            "marker": {
             "colorbar": {
              "outlinewidth": 0,
              "ticks": ""
             }
            },
            "type": "scattergeo"
           }
          ],
          "scattergl": [
           {
            "marker": {
             "colorbar": {
              "outlinewidth": 0,
              "ticks": ""
             }
            },
            "type": "scattergl"
           }
          ],
          "scattermapbox": [
           {
            "marker": {
             "colorbar": {
              "outlinewidth": 0,
              "ticks": ""
             }
            },
            "type": "scattermapbox"
           }
          ],
          "scatterpolar": [
           {
            "marker": {
             "colorbar": {
              "outlinewidth": 0,
              "ticks": ""
             }
            },
            "type": "scatterpolar"
           }
          ],
          "scatterpolargl": [
           {
            "marker": {
             "colorbar": {
              "outlinewidth": 0,
              "ticks": ""
             }
            },
            "type": "scatterpolargl"
           }
          ],
          "scatterternary": [
           {
            "marker": {
             "colorbar": {
              "outlinewidth": 0,
              "ticks": ""
             }
            },
            "type": "scatterternary"
           }
          ],
          "surface": [
           {
            "colorbar": {
             "outlinewidth": 0,
             "ticks": ""
            },
            "colorscale": [
             [
              0,
              "#0d0887"
             ],
             [
              0.1111111111111111,
              "#46039f"
             ],
             [
              0.2222222222222222,
              "#7201a8"
             ],
             [
              0.3333333333333333,
              "#9c179e"
             ],
             [
              0.4444444444444444,
              "#bd3786"
             ],
             [
              0.5555555555555556,
              "#d8576b"
             ],
             [
              0.6666666666666666,
              "#ed7953"
             ],
             [
              0.7777777777777778,
              "#fb9f3a"
             ],
             [
              0.8888888888888888,
              "#fdca26"
             ],
             [
              1,
              "#f0f921"
             ]
            ],
            "type": "surface"
           }
          ],
          "table": [
           {
            "cells": {
             "fill": {
              "color": "#EBF0F8"
             },
             "line": {
              "color": "white"
             }
            },
            "header": {
             "fill": {
              "color": "#C8D4E3"
             },
             "line": {
              "color": "white"
             }
            },
            "type": "table"
           }
          ]
         },
         "layout": {
          "annotationdefaults": {
           "arrowcolor": "#2a3f5f",
           "arrowhead": 0,
           "arrowwidth": 1
          },
          "coloraxis": {
           "colorbar": {
            "outlinewidth": 0,
            "ticks": ""
           }
          },
          "colorscale": {
           "diverging": [
            [
             0,
             "#8e0152"
            ],
            [
             0.1,
             "#c51b7d"
            ],
            [
             0.2,
             "#de77ae"
            ],
            [
             0.3,
             "#f1b6da"
            ],
            [
             0.4,
             "#fde0ef"
            ],
            [
             0.5,
             "#f7f7f7"
            ],
            [
             0.6,
             "#e6f5d0"
            ],
            [
             0.7,
             "#b8e186"
            ],
            [
             0.8,
             "#7fbc41"
            ],
            [
             0.9,
             "#4d9221"
            ],
            [
             1,
             "#276419"
            ]
           ],
           "sequential": [
            [
             0,
             "#0d0887"
            ],
            [
             0.1111111111111111,
             "#46039f"
            ],
            [
             0.2222222222222222,
             "#7201a8"
            ],
            [
             0.3333333333333333,
             "#9c179e"
            ],
            [
             0.4444444444444444,
             "#bd3786"
            ],
            [
             0.5555555555555556,
             "#d8576b"
            ],
            [
             0.6666666666666666,
             "#ed7953"
            ],
            [
             0.7777777777777778,
             "#fb9f3a"
            ],
            [
             0.8888888888888888,
             "#fdca26"
            ],
            [
             1,
             "#f0f921"
            ]
           ],
           "sequentialminus": [
            [
             0,
             "#0d0887"
            ],
            [
             0.1111111111111111,
             "#46039f"
            ],
            [
             0.2222222222222222,
             "#7201a8"
            ],
            [
             0.3333333333333333,
             "#9c179e"
            ],
            [
             0.4444444444444444,
             "#bd3786"
            ],
            [
             0.5555555555555556,
             "#d8576b"
            ],
            [
             0.6666666666666666,
             "#ed7953"
            ],
            [
             0.7777777777777778,
             "#fb9f3a"
            ],
            [
             0.8888888888888888,
             "#fdca26"
            ],
            [
             1,
             "#f0f921"
            ]
           ]
          },
          "colorway": [
           "#636efa",
           "#EF553B",
           "#00cc96",
           "#ab63fa",
           "#FFA15A",
           "#19d3f3",
           "#FF6692",
           "#B6E880",
           "#FF97FF",
           "#FECB52"
          ],
          "font": {
           "color": "#2a3f5f"
          },
          "geo": {
           "bgcolor": "white",
           "lakecolor": "white",
           "landcolor": "#E5ECF6",
           "showlakes": true,
           "showland": true,
           "subunitcolor": "white"
          },
          "hoverlabel": {
           "align": "left"
          },
          "hovermode": "closest",
          "mapbox": {
           "style": "light"
          },
          "paper_bgcolor": "white",
          "plot_bgcolor": "#E5ECF6",
          "polar": {
           "angularaxis": {
            "gridcolor": "white",
            "linecolor": "white",
            "ticks": ""
           },
           "bgcolor": "#E5ECF6",
           "radialaxis": {
            "gridcolor": "white",
            "linecolor": "white",
            "ticks": ""
           }
          },
          "scene": {
           "xaxis": {
            "backgroundcolor": "#E5ECF6",
            "gridcolor": "white",
            "gridwidth": 2,
            "linecolor": "white",
            "showbackground": true,
            "ticks": "",
            "zerolinecolor": "white"
           },
           "yaxis": {
            "backgroundcolor": "#E5ECF6",
            "gridcolor": "white",
            "gridwidth": 2,
            "linecolor": "white",
            "showbackground": true,
            "ticks": "",
            "zerolinecolor": "white"
           },
           "zaxis": {
            "backgroundcolor": "#E5ECF6",
            "gridcolor": "white",
            "gridwidth": 2,
            "linecolor": "white",
            "showbackground": true,
            "ticks": "",
            "zerolinecolor": "white"
           }
          },
          "shapedefaults": {
           "line": {
            "color": "#2a3f5f"
           }
          },
          "ternary": {
           "aaxis": {
            "gridcolor": "white",
            "linecolor": "white",
            "ticks": ""
           },
           "baxis": {
            "gridcolor": "white",
            "linecolor": "white",
            "ticks": ""
           },
           "bgcolor": "#E5ECF6",
           "caxis": {
            "gridcolor": "white",
            "linecolor": "white",
            "ticks": ""
           }
          },
          "title": {
           "x": 0.05
          },
          "xaxis": {
           "automargin": true,
           "gridcolor": "white",
           "linecolor": "white",
           "ticks": "",
           "title": {
            "standoff": 15
           },
           "zerolinecolor": "white",
           "zerolinewidth": 2
          },
          "yaxis": {
           "automargin": true,
           "gridcolor": "white",
           "linecolor": "white",
           "ticks": "",
           "title": {
            "standoff": 15
           },
           "zerolinecolor": "white",
           "zerolinewidth": 2
          }
         }
        },
        "title": {
         "font": {
          "color": "#4D5663"
         }
        },
        "xaxis": {
         "gridcolor": "#E1E5ED",
         "showgrid": true,
         "tickfont": {
          "color": "#4D5663"
         },
         "title": {
          "font": {
           "color": "#4D5663"
          },
          "text": ""
         },
         "zerolinecolor": "#E1E5ED"
        },
        "yaxis": {
         "gridcolor": "#E1E5ED",
         "showgrid": true,
         "tickfont": {
          "color": "#4D5663"
         },
         "title": {
          "font": {
           "color": "#4D5663"
          },
          "text": ""
         },
         "zerolinecolor": "#E1E5ED"
        }
       }
      },
      "text/html": "<div>\n        \n        \n            <div id=\"8b47ef55-335f-41a8-8087-2cc0927fe73a\" class=\"plotly-graph-div\" style=\"height:525px; width:100%;\"></div>\n            <script type=\"text/javascript\">\n                require([\"plotly\"], function(Plotly) {\n                    window.PLOTLYENV=window.PLOTLYENV || {};\n                    window.PLOTLYENV.BASE_URL='https://plot.ly';\n                    \n                if (document.getElementById(\"8b47ef55-335f-41a8-8087-2cc0927fe73a\")) {\n                    Plotly.newPlot(\n                        '8b47ef55-335f-41a8-8087-2cc0927fe73a',\n                        [{\"marker\": {\"color\": [\"rgb(255, 153, 51)\", \"rgb(55, 128, 191)\", \"rgb(50, 171, 96)\", \"rgb(128, 0, 128)\", \"rgb(219, 64, 82)\", \"rgb(0, 128, 128)\", \"rgb(255, 255, 51)\", \"rgb(128, 128, 0)\", \"rgb(251, 128, 114)\", \"rgb(128, 177, 211)\"], \"line\": {\"width\": 1.3}, \"size\": [61, 56, 84, 31, 89, 75, 37, 77, 48, 59, 61, 77, 57, 50, 69, 35, 55, 43, 39, 39, 45, 50, 47, 23, 107, 50, 52, 73, 44, 66, 23, 60, 65, 32, 81, 52, 68, 65, 59, 42, 72, 66, 95, 57, 94, 62, 70, 83, 42, 65, 80, 48, 69, 87, 47, 57, 57, 59, 92, 77, 36, 91, 70, 53, 48, 53, 99, 58, 57, 104, 58, 51, 57, 61, 95, 46, 96, 76, 79, 71, 52, 57, 90, 66, 68, 69, 44, 46, 52, 68, 83, 65, 70, 112, 55, 57, 66, 48, 12, 82], \"symbol\": \"circle\"}, \"mode\": \"markers\", \"text\": \"\", \"type\": \"scatter\", \"x\": [-0.48325729233229403, -0.6801469232584413, -0.8375638593941594, -0.8882653647324971, 0.3369329682002198, 1.5332393384460155, -0.4958109068306811, 0.25529128381775856, 0.36443246621830866, 0.011763627863710845, -0.8489040944459124, -0.25874833248695134, 1.2755836073180973, -1.2600228259346626, -2.6781492581231947, -0.7242275822894483, 1.3081412072531584, -1.8448343434977177, 0.5108257297289914, 1.5078853308278135, -0.7799561281371661, 1.1248147311608407, -0.9919620025891482, 1.1013303249141366, -0.43149217879776913, 0.2129267873376674, 0.1547275473762396, -1.5683260126927356, 2.7840049871654107, 0.27031735188484474, 0.8683633047336571, -1.389846350986542, -0.46786663578781906, -2.0779621390659297, 1.2828867767936305, -1.0884510648994297, 1.0213746901493257, -0.05878888246257884, -1.3446188024182197, -0.7454278813382993, 1.1765091332317525, -1.1591562966298399, -0.02616506878878219, -1.6118479856638155, 0.569696139357706, 1.8566910147004743, 0.09413685110942295, -0.33804333571530537, -2.053271732051332, 1.177464224627984, -0.1441842047465084, -0.9017460491094729, -0.6317351849737326, 1.0426833324653861, -1.4408682510636759, 0.18370173991590114, -0.9608274607095263, -0.5117463730118246, 0.6293037169773403, -0.8578693630097957, 2.3422875322233025, -0.4071345976474636, -0.8276126802100241, 1.7942749276987053, 0.38302841199651466, 0.9113895697906631, 0.5788642704148587, 2.2795657117185675, -0.02211855812222608, 0.1228592331385394, -1.2533666848769662, 0.9842534755210555, 1.5591483863561952, 0.33120363044533385, -0.7909100117810608, -0.5339160346418095, 1.6703748204378235, 0.18259762895651724, -0.530213301464795, -0.6933913717286806, 1.2385825517447506, -0.08374662326827106, 1.1283408068613219, -0.5243335506412814, -0.681218951498602, -1.0557507203560408, -0.5493108387478299, -0.3248774619763072, 1.883032300667612, 1.695004447251585, -0.8140541254788838, 0.5377873848760677, 0.7581917043467746, 0.816619927313427, 0.27317519379582567, 1.4309861245969506, -0.48430609448209755, -0.664737834915157, 0.2414003853354637, -0.33468634357597127], \"y\": [-1.3927173484233957, -0.8384891188861266, -0.09959392787557626, -0.34517373201334406, 0.7695820725156822, 0.8143161905283209, 0.6424656934099338, 0.9389199039524504, -2.1238188619787044, -0.893085737904552, 0.012860764931138417, -1.1318926803919251, 0.8243106940799912, 0.03819986680800088, 2.0361777794837344, -1.3867844004931162, -1.3342809100543542, -0.7559650349941774, 0.9431869936587628, -0.7292353017105296, 0.26398698192207704, 0.34935584252720875, -0.8907921787559141, -1.714304516517587, -0.33602074280726957, 0.14577796311860552, -0.6007142431277214, -0.44423421142674, -2.367438036753166, 0.5602731678041215, 0.21987234033905276, 1.2325230941909604, 0.5297134492851983, -1.1055582363452796, -0.6613228785375624, -0.5521601076824234, -0.050555018172360536, -0.6101807599377929, -0.002968902971095136, 0.42841892268558546, 0.18777398458622327, 1.2477146480091446, -0.2384926737277862, 1.2877344149031817, 1.85275606072833, -1.4989694195585188, 0.3973272778404027, 0.032729278573143276, -0.3380245785557796, -1.9778675062685787, 0.501496687173523, 0.6984819811985156, 0.28468721241939965, -1.8782763898118704, -0.5726261522272114, -0.1926966288221137, 0.8890964722990194, -1.4345273158503902, 0.7709587722104292, -0.325919418683105, -0.41245632797110804, -0.718289525271531, 0.6761765745160662, 1.2185951508512314, -0.4593499501488937, 0.5758361543852849, 0.9023911370863095, -0.8333306471382453, -1.323752517968216, 0.6755218029003134, 0.1848147524425046, -0.8607646832335739, 1.3452962959600823, -2.059652828010228, 0.6687329357943761, -0.043517241120167464, 2.256249209154247, -0.35645693894901925, 0.9031428576518158, -1.2700514096432127, 0.5507452805892401, 0.6864768180089855, 0.5044572517554488, 0.11391909110956715, -2.6789145336337064, -1.3459570712606075, 1.4411385398883014, -0.44285250185454955, 1.7639445410817005, -0.2112152724191136, 0.3056658805922514, 0.07720067227148605, 0.3467743181645393, 1.9879896376435917, -1.2225526206253794, -1.5378700982573048, 1.0690117257033522, -0.5166079885567552, -0.32760903806852637, 0.1477899857467717]}],\n                        {\"legend\": {\"bgcolor\": \"#F5F6F9\", \"font\": {\"color\": \"#4D5663\"}}, \"paper_bgcolor\": \"#F5F6F9\", \"plot_bgcolor\": \"#F5F6F9\", \"template\": {\"data\": {\"bar\": [{\"error_x\": {\"color\": \"#2a3f5f\"}, \"error_y\": {\"color\": \"#2a3f5f\"}, \"marker\": {\"line\": {\"color\": \"#E5ECF6\", \"width\": 0.5}}, \"type\": \"bar\"}], \"barpolar\": [{\"marker\": {\"line\": {\"color\": \"#E5ECF6\", \"width\": 0.5}}, \"type\": \"barpolar\"}], \"carpet\": [{\"aaxis\": {\"endlinecolor\": \"#2a3f5f\", \"gridcolor\": \"white\", \"linecolor\": \"white\", \"minorgridcolor\": \"white\", \"startlinecolor\": \"#2a3f5f\"}, \"baxis\": {\"endlinecolor\": \"#2a3f5f\", \"gridcolor\": \"white\", \"linecolor\": \"white\", \"minorgridcolor\": \"white\", \"startlinecolor\": \"#2a3f5f\"}, \"type\": \"carpet\"}], \"choropleth\": [{\"colorbar\": {\"outlinewidth\": 0, \"ticks\": \"\"}, \"type\": \"choropleth\"}], \"contour\": [{\"colorbar\": {\"outlinewidth\": 0, \"ticks\": \"\"}, \"colorscale\": [[0.0, \"#0d0887\"], [0.1111111111111111, \"#46039f\"], [0.2222222222222222, \"#7201a8\"], [0.3333333333333333, \"#9c179e\"], [0.4444444444444444, \"#bd3786\"], [0.5555555555555556, \"#d8576b\"], [0.6666666666666666, \"#ed7953\"], [0.7777777777777778, \"#fb9f3a\"], [0.8888888888888888, \"#fdca26\"], [1.0, \"#f0f921\"]], \"type\": \"contour\"}], \"contourcarpet\": [{\"colorbar\": {\"outlinewidth\": 0, \"ticks\": \"\"}, \"type\": \"contourcarpet\"}], \"heatmap\": [{\"colorbar\": {\"outlinewidth\": 0, \"ticks\": \"\"}, \"colorscale\": [[0.0, \"#0d0887\"], [0.1111111111111111, \"#46039f\"], [0.2222222222222222, \"#7201a8\"], [0.3333333333333333, \"#9c179e\"], [0.4444444444444444, \"#bd3786\"], [0.5555555555555556, \"#d8576b\"], [0.6666666666666666, \"#ed7953\"], [0.7777777777777778, \"#fb9f3a\"], [0.8888888888888888, \"#fdca26\"], [1.0, \"#f0f921\"]], \"type\": \"heatmap\"}], \"heatmapgl\": [{\"colorbar\": {\"outlinewidth\": 0, \"ticks\": \"\"}, \"colorscale\": [[0.0, \"#0d0887\"], [0.1111111111111111, \"#46039f\"], [0.2222222222222222, \"#7201a8\"], [0.3333333333333333, \"#9c179e\"], [0.4444444444444444, \"#bd3786\"], [0.5555555555555556, \"#d8576b\"], [0.6666666666666666, \"#ed7953\"], [0.7777777777777778, \"#fb9f3a\"], [0.8888888888888888, \"#fdca26\"], [1.0, \"#f0f921\"]], \"type\": \"heatmapgl\"}], \"histogram\": [{\"marker\": {\"colorbar\": {\"outlinewidth\": 0, \"ticks\": \"\"}}, \"type\": \"histogram\"}], \"histogram2d\": [{\"colorbar\": {\"outlinewidth\": 0, \"ticks\": \"\"}, \"colorscale\": [[0.0, \"#0d0887\"], [0.1111111111111111, \"#46039f\"], [0.2222222222222222, \"#7201a8\"], [0.3333333333333333, \"#9c179e\"], [0.4444444444444444, \"#bd3786\"], [0.5555555555555556, \"#d8576b\"], [0.6666666666666666, \"#ed7953\"], [0.7777777777777778, \"#fb9f3a\"], [0.8888888888888888, \"#fdca26\"], [1.0, \"#f0f921\"]], \"type\": \"histogram2d\"}], \"histogram2dcontour\": [{\"colorbar\": {\"outlinewidth\": 0, \"ticks\": \"\"}, \"colorscale\": [[0.0, \"#0d0887\"], [0.1111111111111111, \"#46039f\"], [0.2222222222222222, \"#7201a8\"], [0.3333333333333333, \"#9c179e\"], [0.4444444444444444, \"#bd3786\"], [0.5555555555555556, \"#d8576b\"], [0.6666666666666666, \"#ed7953\"], [0.7777777777777778, \"#fb9f3a\"], [0.8888888888888888, \"#fdca26\"], [1.0, \"#f0f921\"]], \"type\": \"histogram2dcontour\"}], \"mesh3d\": [{\"colorbar\": {\"outlinewidth\": 0, \"ticks\": \"\"}, \"type\": \"mesh3d\"}], \"parcoords\": [{\"line\": {\"colorbar\": {\"outlinewidth\": 0, \"ticks\": \"\"}}, \"type\": \"parcoords\"}], \"pie\": [{\"automargin\": true, \"type\": \"pie\"}], \"scatter\": [{\"marker\": {\"colorbar\": {\"outlinewidth\": 0, \"ticks\": \"\"}}, \"type\": \"scatter\"}], \"scatter3d\": [{\"line\": {\"colorbar\": {\"outlinewidth\": 0, \"ticks\": \"\"}}, \"marker\": {\"colorbar\": {\"outlinewidth\": 0, \"ticks\": \"\"}}, \"type\": \"scatter3d\"}], \"scattercarpet\": [{\"marker\": {\"colorbar\": {\"outlinewidth\": 0, \"ticks\": \"\"}}, \"type\": \"scattercarpet\"}], \"scattergeo\": [{\"marker\": {\"colorbar\": {\"outlinewidth\": 0, \"ticks\": \"\"}}, \"type\": \"scattergeo\"}], \"scattergl\": [{\"marker\": {\"colorbar\": {\"outlinewidth\": 0, \"ticks\": \"\"}}, \"type\": \"scattergl\"}], \"scattermapbox\": [{\"marker\": {\"colorbar\": {\"outlinewidth\": 0, \"ticks\": \"\"}}, \"type\": \"scattermapbox\"}], \"scatterpolar\": [{\"marker\": {\"colorbar\": {\"outlinewidth\": 0, \"ticks\": \"\"}}, \"type\": \"scatterpolar\"}], \"scatterpolargl\": [{\"marker\": {\"colorbar\": {\"outlinewidth\": 0, \"ticks\": \"\"}}, \"type\": \"scatterpolargl\"}], \"scatterternary\": [{\"marker\": {\"colorbar\": {\"outlinewidth\": 0, \"ticks\": \"\"}}, \"type\": \"scatterternary\"}], \"surface\": [{\"colorbar\": {\"outlinewidth\": 0, \"ticks\": \"\"}, \"colorscale\": [[0.0, \"#0d0887\"], [0.1111111111111111, \"#46039f\"], [0.2222222222222222, \"#7201a8\"], [0.3333333333333333, \"#9c179e\"], [0.4444444444444444, \"#bd3786\"], [0.5555555555555556, \"#d8576b\"], [0.6666666666666666, \"#ed7953\"], [0.7777777777777778, \"#fb9f3a\"], [0.8888888888888888, \"#fdca26\"], [1.0, \"#f0f921\"]], \"type\": \"surface\"}], \"table\": [{\"cells\": {\"fill\": {\"color\": \"#EBF0F8\"}, \"line\": {\"color\": \"white\"}}, \"header\": {\"fill\": {\"color\": \"#C8D4E3\"}, \"line\": {\"color\": \"white\"}}, \"type\": \"table\"}]}, \"layout\": {\"annotationdefaults\": {\"arrowcolor\": \"#2a3f5f\", \"arrowhead\": 0, \"arrowwidth\": 1}, \"coloraxis\": {\"colorbar\": {\"outlinewidth\": 0, \"ticks\": \"\"}}, \"colorscale\": {\"diverging\": [[0, \"#8e0152\"], [0.1, \"#c51b7d\"], [0.2, \"#de77ae\"], [0.3, \"#f1b6da\"], [0.4, \"#fde0ef\"], [0.5, \"#f7f7f7\"], [0.6, \"#e6f5d0\"], [0.7, \"#b8e186\"], [0.8, \"#7fbc41\"], [0.9, \"#4d9221\"], [1, \"#276419\"]], \"sequential\": [[0.0, \"#0d0887\"], [0.1111111111111111, \"#46039f\"], [0.2222222222222222, \"#7201a8\"], [0.3333333333333333, \"#9c179e\"], [0.4444444444444444, \"#bd3786\"], [0.5555555555555556, \"#d8576b\"], [0.6666666666666666, \"#ed7953\"], [0.7777777777777778, \"#fb9f3a\"], [0.8888888888888888, \"#fdca26\"], [1.0, \"#f0f921\"]], \"sequentialminus\": [[0.0, \"#0d0887\"], [0.1111111111111111, \"#46039f\"], [0.2222222222222222, \"#7201a8\"], [0.3333333333333333, \"#9c179e\"], [0.4444444444444444, \"#bd3786\"], [0.5555555555555556, \"#d8576b\"], [0.6666666666666666, \"#ed7953\"], [0.7777777777777778, \"#fb9f3a\"], [0.8888888888888888, \"#fdca26\"], [1.0, \"#f0f921\"]]}, \"colorway\": [\"#636efa\", \"#EF553B\", \"#00cc96\", \"#ab63fa\", \"#FFA15A\", \"#19d3f3\", \"#FF6692\", \"#B6E880\", \"#FF97FF\", \"#FECB52\"], \"font\": {\"color\": \"#2a3f5f\"}, \"geo\": {\"bgcolor\": \"white\", \"lakecolor\": \"white\", \"landcolor\": \"#E5ECF6\", \"showlakes\": true, \"showland\": true, \"subunitcolor\": \"white\"}, \"hoverlabel\": {\"align\": \"left\"}, \"hovermode\": \"closest\", \"mapbox\": {\"style\": \"light\"}, \"paper_bgcolor\": \"white\", \"plot_bgcolor\": \"#E5ECF6\", \"polar\": {\"angularaxis\": {\"gridcolor\": \"white\", \"linecolor\": \"white\", \"ticks\": \"\"}, \"bgcolor\": \"#E5ECF6\", \"radialaxis\": {\"gridcolor\": \"white\", \"linecolor\": \"white\", \"ticks\": \"\"}}, \"scene\": {\"xaxis\": {\"backgroundcolor\": \"#E5ECF6\", \"gridcolor\": \"white\", \"gridwidth\": 2, \"linecolor\": \"white\", \"showbackground\": true, \"ticks\": \"\", \"zerolinecolor\": \"white\"}, \"yaxis\": {\"backgroundcolor\": \"#E5ECF6\", \"gridcolor\": \"white\", \"gridwidth\": 2, \"linecolor\": \"white\", \"showbackground\": true, \"ticks\": \"\", \"zerolinecolor\": \"white\"}, \"zaxis\": {\"backgroundcolor\": \"#E5ECF6\", \"gridcolor\": \"white\", \"gridwidth\": 2, \"linecolor\": \"white\", \"showbackground\": true, \"ticks\": \"\", \"zerolinecolor\": \"white\"}}, \"shapedefaults\": {\"line\": {\"color\": \"#2a3f5f\"}}, \"ternary\": {\"aaxis\": {\"gridcolor\": \"white\", \"linecolor\": \"white\", \"ticks\": \"\"}, \"baxis\": {\"gridcolor\": \"white\", \"linecolor\": \"white\", \"ticks\": \"\"}, \"bgcolor\": \"#E5ECF6\", \"caxis\": {\"gridcolor\": \"white\", \"linecolor\": \"white\", \"ticks\": \"\"}}, \"title\": {\"x\": 0.05}, \"xaxis\": {\"automargin\": true, \"gridcolor\": \"white\", \"linecolor\": \"white\", \"ticks\": \"\", \"title\": {\"standoff\": 15}, \"zerolinecolor\": \"white\", \"zerolinewidth\": 2}, \"yaxis\": {\"automargin\": true, \"gridcolor\": \"white\", \"linecolor\": \"white\", \"ticks\": \"\", \"title\": {\"standoff\": 15}, \"zerolinecolor\": \"white\", \"zerolinewidth\": 2}}}, \"title\": {\"font\": {\"color\": \"#4D5663\"}}, \"xaxis\": {\"gridcolor\": \"#E1E5ED\", \"showgrid\": true, \"tickfont\": {\"color\": \"#4D5663\"}, \"title\": {\"font\": {\"color\": \"#4D5663\"}, \"text\": \"\"}, \"zerolinecolor\": \"#E1E5ED\"}, \"yaxis\": {\"gridcolor\": \"#E1E5ED\", \"showgrid\": true, \"tickfont\": {\"color\": \"#4D5663\"}, \"title\": {\"font\": {\"color\": \"#4D5663\"}, \"text\": \"\"}, \"zerolinecolor\": \"#E1E5ED\"}},\n                        {\"showLink\": true, \"linkText\": \"Export to plot.ly\", \"plotlyServerURL\": \"https://plot.ly\", \"responsive\": true}\n                    ).then(function(){\n                            \nvar gd = document.getElementById('8b47ef55-335f-41a8-8087-2cc0927fe73a');\nvar x = new MutationObserver(function (mutations, observer) {{\n        var display = window.getComputedStyle(gd).display;\n        if (!display || display === 'none') {{\n            console.log([gd, 'removed!']);\n            Plotly.purge(gd);\n            observer.disconnect();\n        }}\n}});\n\n// Listen for the removal of the full notebook cells\nvar notebookContainer = gd.closest('#notebook-container');\nif (notebookContainer) {{\n    x.observe(notebookContainer, {childList: true});\n}}\n\n// Listen for the clearing of the current output cell\nvar outputEl = gd.closest('.output');\nif (outputEl) {{\n    x.observe(outputEl, {childList: true});\n}}\n\n                        })\n                };\n                });\n            </script>\n        </div>"
     },
     "metadata": {}
    }
   ],
   "source": [
    "df.iplot(kind='bubble',x='A',y='B',size='C') # popular for macro-economic data"
   ]
  },
  {
   "cell_type": "markdown",
   "metadata": {},
   "source": [
    "## scatter_matrix()\n",
    "\n",
    "Similar to sns.pairplot() (Seaborn)\n",
    "# WATCH OUT FOR LARGE DATA SETS."
   ]
  },
  {
   "cell_type": "code",
   "execution_count": 13,
   "metadata": {
    "collapsed": false
   },
   "outputs": [
    {
     "data": {
      "text/html": [
       "<div id=\"86d216e5-0500-405c-9cd1-7e410922bc7b\" style=\"height: 525px; width: 100%;\" class=\"plotly-graph-div\"></div><script type=\"text/javascript\">require([\"plotly\"], function(Plotly) { window.PLOTLYENV=window.PLOTLYENV || {};window.PLOTLYENV.BASE_URL=\"https://plot.ly\";Plotly.newPlot(\"86d216e5-0500-405c-9cd1-7e410922bc7b\", [{\"yaxis\": \"y1\", \"x\": [1.8787246669561561, 0.028733616663923985, -0.1587931161277573, -1.2219723462024636, 1.2531523973363488, 0.8312132082951045, 1.1740170898586173, -0.24393002059589958, -0.296966543277261, 0.7621695759158762, 0.04210347865555278, -0.7791970481917073, 0.3943032396655093, -1.0146190736152443, -0.4841710096782867, 0.5522466668361006, -2.77187556758784, -0.5181226698708166, -0.49722040792422156, -1.6534757596659548, -0.06027439377033132, 1.4769243769038323, 1.1796346669498379, -0.7816898015019265, 0.8630132212967984, 0.6590246731638996, -1.1013906677685679, -0.9446804895542242, -1.788022470413331, 0.8775002821729455, 0.3546715768521251, -0.16532125735222183, 1.8914747239632839, -1.1251772915449791, 0.8888981026894395, -0.6066117727706714, 0.8314777742724779, 0.3830457069359529, -0.937459527593053, -0.844561047334305, 1.1280232245052606, -1.640427972598561, 0.8971269652786067, 0.4848047458342485, 0.19373507090654035, -0.7387091317560727, -0.3566733282792827, -0.43158335134818315, -0.4899640124314907, 0.5488715658495908, 0.2821768987731658, -0.8832439438038343, 1.271863067044618, 0.10680856505919414, 0.8269478103679717, -0.03266751467505833, -0.34021520002722894, -0.6769186069469743, 0.7126188256918854, 1.8871150025438166, -0.06742662656190869, -1.4789736197389265, 0.346978601690099, -0.3757389938313092, 0.715285859520045, 1.5994858611908638, -0.3692558358591885, 0.13827360227735647, -0.40690530542342296, 0.636973800943974, 0.14658752987818605, -0.3949906255692418, 1.5076392623927681, -0.15486042602397807, 0.22159940179664614, -1.0878244818277978, -0.03354417910293162, 1.2258839316932069, -0.048951028800266715, -1.1089870994157809, 0.021452684803338333, 1.2548854256528554, -1.0913797662237141, -0.539059741192553, 0.6901269187662552, -1.4810451728120602, -0.8468654201203714, 0.3763927872506507, 0.8120568488462931, 0.0031767062628090745, 0.697742291538818, -0.7429703118062226, -0.842231117346612, -0.0666718362166121, 1.8829720647783421, 1.320112956074407, 0.42394324402947475, 0.466299928509142, 0.9415282138953815, -0.7707938096473991], \"orientation\": \"v\", \"name\": \"A\", \"opacity\": 0.8, \"histfunc\": \"count\", \"type\": \"histogram\", \"histnorm\": \"\", \"nbinsx\": 10, \"marker\": {\"line\": {\"width\": 1.3, \"color\": \"#D9D9D9\"}, \"color\": \"rgba(226, 74, 51, 1.0)\"}, \"xaxis\": \"x1\"}, {\"yaxis\": \"y2\", \"mode\": \"markers\", \"text\": \"\", \"xaxis\": \"x2\", \"x\": [0.6887194376286498, 0.1040535242504629, 0.38792642015276635, 1.3934230260395444, -0.5375976688704683, -1.1493608786796612, 0.01342890849383506, -0.47231861415738574, 0.24793169472844812, -0.6232083144122951, -1.2121596694710122, -2.4542371001007464, 0.29855785553142483, 1.2997620162676498, 0.9168047366909585, -0.41040614900130634, 1.3147531456519106, -0.12455263569370086, 0.9366143523054554, 0.23573463729990726, -0.8244746170540388, -0.32685668230128845, 1.501781503113865, 0.9830012153240587, 0.6020112305361386, 0.3688304138086671, 1.0090827131320237, -0.5811720111587422, 0.0512884505619472, -1.6917643070157176, -0.25322144257612356, -0.2937357494665306, 0.7368726362448421, 0.5763424997076779, 0.16472110066593693, -0.374254076023172, 1.1280304809680426, 0.6455371548668151, -0.18000225503004413, -0.9128911232313937, -0.5670695205365133, 0.16138491502455474, 1.2118733837294762, 0.4444506280024997, 0.6834767601409083, 1.8020727241195935, 2.4230878273709062, 0.27701889696287213, 1.4067122280705426, -0.33728919328412016, 0.5154870435338148, 0.7751019637809062, 1.400130435077449, 0.8276591566099151, 1.1268119555303864, 0.7016118169589718, 0.476169530704683, -0.5261125753709399, -1.2129692872143456, 0.6126338497954396, 1.5825905557818922, -0.8173630045970658, 0.1075602248072928, 1.2716988894407462, -0.15615948990467535, -0.2968566839654392, 1.7204934641303604, -0.869876624137026, 0.28935077735906545, -1.2052876742800458, -0.263979336251353, -0.02815365780209253, -0.04062347728476395, 0.943760296027789, -1.7797735906553165, 0.4485755919087686, 0.14778332986993048, 0.5305019463041807, 1.6359913516932165, -0.3437427119285297, 1.9109783094330681, 0.6818924480193401, -0.42214824562337705, 0.8935317581184008, 1.2587495288352297, -0.5992845246668753, 2.7851237345776405, -1.5158096238899554, 0.04177421570103183, 0.48980398157362903, 1.063643861677667, -0.8486329162129157, -1.86936339853131, 0.24761777046722996, 1.290606988097702, 0.17046338292604407, 0.14181179559597848, 0.6505415244850333, -2.5850581533594545, -0.30813091794721653], \"y\": [1.8787246669561561, 0.028733616663923985, -0.1587931161277573, -1.2219723462024636, 1.2531523973363488, 0.8312132082951045, 1.1740170898586173, -0.24393002059589958, -0.296966543277261, 0.7621695759158762, 0.04210347865555278, -0.7791970481917073, 0.3943032396655093, -1.0146190736152443, -0.4841710096782867, 0.5522466668361006, -2.77187556758784, -0.5181226698708166, -0.49722040792422156, -1.6534757596659548, -0.06027439377033132, 1.4769243769038323, 1.1796346669498379, -0.7816898015019265, 0.8630132212967984, 0.6590246731638996, -1.1013906677685679, -0.9446804895542242, -1.788022470413331, 0.8775002821729455, 0.3546715768521251, -0.16532125735222183, 1.8914747239632839, -1.1251772915449791, 0.8888981026894395, -0.6066117727706714, 0.8314777742724779, 0.3830457069359529, -0.937459527593053, -0.844561047334305, 1.1280232245052606, -1.640427972598561, 0.8971269652786067, 0.4848047458342485, 0.19373507090654035, -0.7387091317560727, -0.3566733282792827, -0.43158335134818315, -0.4899640124314907, 0.5488715658495908, 0.2821768987731658, -0.8832439438038343, 1.271863067044618, 0.10680856505919414, 0.8269478103679717, -0.03266751467505833, -0.34021520002722894, -0.6769186069469743, 0.7126188256918854, 1.8871150025438166, -0.06742662656190869, -1.4789736197389265, 0.346978601690099, -0.3757389938313092, 0.715285859520045, 1.5994858611908638, -0.3692558358591885, 0.13827360227735647, -0.40690530542342296, 0.636973800943974, 0.14658752987818605, -0.3949906255692418, 1.5076392623927681, -0.15486042602397807, 0.22159940179664614, -1.0878244818277978, -0.03354417910293162, 1.2258839316932069, -0.048951028800266715, -1.1089870994157809, 0.021452684803338333, 1.2548854256528554, -1.0913797662237141, -0.539059741192553, 0.6901269187662552, -1.4810451728120602, -0.8468654201203714, 0.3763927872506507, 0.8120568488462931, 0.0031767062628090745, 0.697742291538818, -0.7429703118062226, -0.842231117346612, -0.0666718362166121, 1.8829720647783421, 1.320112956074407, 0.42394324402947475, 0.466299928509142, 0.9415282138953815, -0.7707938096473991], \"type\": \"scatter\", \"line\": {\"dash\": \"solid\", \"width\": 1.3, \"color\": \"rgba(128, 128, 128, 1.0)\"}, \"marker\": {\"size\": 2, \"symbol\": \"dot\"}, \"name\": \"A\"}, {\"yaxis\": \"y3\", \"mode\": \"markers\", \"text\": \"\", \"xaxis\": \"x3\", \"x\": [1.0667334168325768, 0.04817571551860875, -0.6353709157290994, -0.29979428249659507, 0.30291706303457033, -1.2658520234759039, 0.4984256330100474, -0.4813817437844393, 1.6528819231392327, -1.0387894611418347, -1.4866253379043493, -0.5281135473322252, -0.061645252730345844, 0.7876423965771268, 0.9285191892602837, -3.0483938246413547, -0.371184208418135, 0.11169331199774239, 0.30352330980386477, -1.1851393464396252, -0.3023997655692267, 1.4199893168847753, -0.332851303404407, 0.7955908630250091, 0.5869705278914006, -0.45090328668726354, -0.7814566611757896, -0.1261200409144497, 0.7060858452328673, -0.8894721878843294, 0.6064992291432117, -0.1963991863666514, 0.16697094643083513, -0.06591707111576753, 0.8961422265850149, 0.8939803073905991, 0.2526177880230376, -1.2523243277936627, 0.9749672569040144, 0.9687477057343876, 0.26351967435246515, -0.9517261189215155, -0.18707956459088698, -0.39391833601946274, 0.5273775265831957, -0.48180251718398176, -2.2230374431929953, 2.0999928572789828, 0.5496483529576708, 1.067298459209482, -0.3040289105606048, 0.1352094843666391, -0.9944404721270197, 2.2258275006902912, -0.11689955437978636, 0.41231462999024887, 0.7856039151273921, -0.6894731524779986, -0.8276899193670904, 0.23638272241448607, 1.3266743967632526, 0.9626096963262857, -0.28379390855690406, -0.417413711892243, -1.3341211120615861, 0.9298055489835776, 2.106720126861483, 0.23150307059926345, 0.8864836518334782, 0.4193977048083098, 0.3190869644200757, 0.9673541346062681, 0.42245148076732175, 1.0906377526894717, 1.3887188298690671, -0.19507483218944058, -0.9347090401182315, 0.30126885232107575, 0.42495072953595375, -0.9170212042816844, -1.6965969381460768, -0.011576471618042839, -1.0479065708976978, -0.4749222730814971, 0.4229046102099884, 0.08254929486846736, -0.7783883617548714, -0.17950878512595098, 0.4391940123110264, -1.9667304216807953, -1.5652802021531136, 0.8163770970520242, -0.008375093041838632, 0.5510487504106222, -0.4239325998518183, -0.1297116221823799, -0.10728910870450034, -0.12169367361116121, -0.6905111268638191, -0.2653540299125418], \"y\": [1.8787246669561561, 0.028733616663923985, -0.1587931161277573, -1.2219723462024636, 1.2531523973363488, 0.8312132082951045, 1.1740170898586173, -0.24393002059589958, -0.296966543277261, 0.7621695759158762, 0.04210347865555278, -0.7791970481917073, 0.3943032396655093, -1.0146190736152443, -0.4841710096782867, 0.5522466668361006, -2.77187556758784, -0.5181226698708166, -0.49722040792422156, -1.6534757596659548, -0.06027439377033132, 1.4769243769038323, 1.1796346669498379, -0.7816898015019265, 0.8630132212967984, 0.6590246731638996, -1.1013906677685679, -0.9446804895542242, -1.788022470413331, 0.8775002821729455, 0.3546715768521251, -0.16532125735222183, 1.8914747239632839, -1.1251772915449791, 0.8888981026894395, -0.6066117727706714, 0.8314777742724779, 0.3830457069359529, -0.937459527593053, -0.844561047334305, 1.1280232245052606, -1.640427972598561, 0.8971269652786067, 0.4848047458342485, 0.19373507090654035, -0.7387091317560727, -0.3566733282792827, -0.43158335134818315, -0.4899640124314907, 0.5488715658495908, 0.2821768987731658, -0.8832439438038343, 1.271863067044618, 0.10680856505919414, 0.8269478103679717, -0.03266751467505833, -0.34021520002722894, -0.6769186069469743, 0.7126188256918854, 1.8871150025438166, -0.06742662656190869, -1.4789736197389265, 0.346978601690099, -0.3757389938313092, 0.715285859520045, 1.5994858611908638, -0.3692558358591885, 0.13827360227735647, -0.40690530542342296, 0.636973800943974, 0.14658752987818605, -0.3949906255692418, 1.5076392623927681, -0.15486042602397807, 0.22159940179664614, -1.0878244818277978, -0.03354417910293162, 1.2258839316932069, -0.048951028800266715, -1.1089870994157809, 0.021452684803338333, 1.2548854256528554, -1.0913797662237141, -0.539059741192553, 0.6901269187662552, -1.4810451728120602, -0.8468654201203714, 0.3763927872506507, 0.8120568488462931, 0.0031767062628090745, 0.697742291538818, -0.7429703118062226, -0.842231117346612, -0.0666718362166121, 1.8829720647783421, 1.320112956074407, 0.42394324402947475, 0.466299928509142, 0.9415282138953815, -0.7707938096473991], \"type\": \"scatter\", \"line\": {\"dash\": \"solid\", \"width\": 1.3, \"color\": \"rgba(128, 128, 128, 1.0)\"}, \"marker\": {\"size\": 2, \"symbol\": \"dot\"}, \"name\": \"A\"}, {\"yaxis\": \"y4\", \"mode\": \"markers\", \"text\": \"\", \"xaxis\": \"x4\", \"x\": [0.5439560303056027, 1.8421879324257613, -0.6375584499267892, -1.113621595762316, -2.5460826344966634, -1.4694525849240658, 1.5284509091178395, -0.2389286047643509, -1.8771013496698048, 0.7967095179585106, -1.2751392945819797, -0.3919771719871495, 0.6960770780779357, 1.0829877919884603, -0.21798245190329507, 0.10031667681839129, 0.39551692710003933, 0.03022462233656908, -0.3327329523770193, -0.204819010502919, -0.498599044144297, -2.287561059130041, -0.2626249290420713, -2.7487145066091996, -0.666926270349069, -2.0379098459994895, 0.4076679798231559, 1.2245324594636484, -2.0903293143661017, 0.5730523735386692, -0.8155129116660126, -0.9572874252328925, 0.2646752398006613, -1.59152570791709, 0.0934028853207141, -2.602771223170992, 0.560010384592385, 0.449602390416327, -0.005796794476065169, 0.1829347250578045, -0.5607194705468903, -1.1999112237192675, -1.5750218946994066, 0.9111111432091317, -0.2530599561069696, -0.5460310452823662, -0.2531538203527998, 1.5968736605431069, 1.723507060923573, 0.38763182009739877, -1.5443680470309729, 1.2505835233573588, 0.0032375885699842803, 0.3870066878402003, -0.32906689091979147, 0.3856397258220775, -0.1654479720586817, 0.2232842423247386, -0.4418766853437538, -0.6751906059090874, -1.6521803078301385, 0.8305325757578166, 0.6577807720682736, -1.2851830040136305, 0.5089005765755124, 0.5962021316815027, 0.9573351203673642, -1.7458475655160375, -1.7131000048598244, 1.5732405203322046, -0.6605298861077683, -1.3437487967599893, 1.9772828633357302, -0.2856844646078326, 0.19293980157348012, 0.1628250911198371, 0.4208217295167736, 0.5627226183638288, -1.058090429960864, -1.3589615830656872, 2.138807050366944, 0.885718335515041, 0.8374040360650308, 0.49834346725709405, -1.3963572343750588, 2.2245606506923625, 0.19641383189506273, -0.3435398382353588, 0.7215114388529363, -0.8327583822270256, -2.039974975731211, 1.2859290252046311, -1.1577060578657161, 0.36795754346511866, 0.970791311065794, 0.496204293102698, -0.05627542841788665, 0.10113620396598295, 0.7547476274222054, 0.15433234934660506], \"y\": [1.8787246669561561, 0.028733616663923985, -0.1587931161277573, -1.2219723462024636, 1.2531523973363488, 0.8312132082951045, 1.1740170898586173, -0.24393002059589958, -0.296966543277261, 0.7621695759158762, 0.04210347865555278, -0.7791970481917073, 0.3943032396655093, -1.0146190736152443, -0.4841710096782867, 0.5522466668361006, -2.77187556758784, -0.5181226698708166, -0.49722040792422156, -1.6534757596659548, -0.06027439377033132, 1.4769243769038323, 1.1796346669498379, -0.7816898015019265, 0.8630132212967984, 0.6590246731638996, -1.1013906677685679, -0.9446804895542242, -1.788022470413331, 0.8775002821729455, 0.3546715768521251, -0.16532125735222183, 1.8914747239632839, -1.1251772915449791, 0.8888981026894395, -0.6066117727706714, 0.8314777742724779, 0.3830457069359529, -0.937459527593053, -0.844561047334305, 1.1280232245052606, -1.640427972598561, 0.8971269652786067, 0.4848047458342485, 0.19373507090654035, -0.7387091317560727, -0.3566733282792827, -0.43158335134818315, -0.4899640124314907, 0.5488715658495908, 0.2821768987731658, -0.8832439438038343, 1.271863067044618, 0.10680856505919414, 0.8269478103679717, -0.03266751467505833, -0.34021520002722894, -0.6769186069469743, 0.7126188256918854, 1.8871150025438166, -0.06742662656190869, -1.4789736197389265, 0.346978601690099, -0.3757389938313092, 0.715285859520045, 1.5994858611908638, -0.3692558358591885, 0.13827360227735647, -0.40690530542342296, 0.636973800943974, 0.14658752987818605, -0.3949906255692418, 1.5076392623927681, -0.15486042602397807, 0.22159940179664614, -1.0878244818277978, -0.03354417910293162, 1.2258839316932069, -0.048951028800266715, -1.1089870994157809, 0.021452684803338333, 1.2548854256528554, -1.0913797662237141, -0.539059741192553, 0.6901269187662552, -1.4810451728120602, -0.8468654201203714, 0.3763927872506507, 0.8120568488462931, 0.0031767062628090745, 0.697742291538818, -0.7429703118062226, -0.842231117346612, -0.0666718362166121, 1.8829720647783421, 1.320112956074407, 0.42394324402947475, 0.466299928509142, 0.9415282138953815, -0.7707938096473991], \"type\": \"scatter\", \"line\": {\"dash\": \"solid\", \"width\": 1.3, \"color\": \"rgba(128, 128, 128, 1.0)\"}, \"marker\": {\"size\": 2, \"symbol\": \"dot\"}, \"name\": \"A\"}, {\"yaxis\": \"y5\", \"mode\": \"markers\", \"text\": \"\", \"xaxis\": \"x5\", \"x\": [1.8787246669561561, 0.028733616663923985, -0.1587931161277573, -1.2219723462024636, 1.2531523973363488, 0.8312132082951045, 1.1740170898586173, -0.24393002059589958, -0.296966543277261, 0.7621695759158762, 0.04210347865555278, -0.7791970481917073, 0.3943032396655093, -1.0146190736152443, -0.4841710096782867, 0.5522466668361006, -2.77187556758784, -0.5181226698708166, -0.49722040792422156, -1.6534757596659548, -0.06027439377033132, 1.4769243769038323, 1.1796346669498379, -0.7816898015019265, 0.8630132212967984, 0.6590246731638996, -1.1013906677685679, -0.9446804895542242, -1.788022470413331, 0.8775002821729455, 0.3546715768521251, -0.16532125735222183, 1.8914747239632839, -1.1251772915449791, 0.8888981026894395, -0.6066117727706714, 0.8314777742724779, 0.3830457069359529, -0.937459527593053, -0.844561047334305, 1.1280232245052606, -1.640427972598561, 0.8971269652786067, 0.4848047458342485, 0.19373507090654035, -0.7387091317560727, -0.3566733282792827, -0.43158335134818315, -0.4899640124314907, 0.5488715658495908, 0.2821768987731658, -0.8832439438038343, 1.271863067044618, 0.10680856505919414, 0.8269478103679717, -0.03266751467505833, -0.34021520002722894, -0.6769186069469743, 0.7126188256918854, 1.8871150025438166, -0.06742662656190869, -1.4789736197389265, 0.346978601690099, -0.3757389938313092, 0.715285859520045, 1.5994858611908638, -0.3692558358591885, 0.13827360227735647, -0.40690530542342296, 0.636973800943974, 0.14658752987818605, -0.3949906255692418, 1.5076392623927681, -0.15486042602397807, 0.22159940179664614, -1.0878244818277978, -0.03354417910293162, 1.2258839316932069, -0.048951028800266715, -1.1089870994157809, 0.021452684803338333, 1.2548854256528554, -1.0913797662237141, -0.539059741192553, 0.6901269187662552, -1.4810451728120602, -0.8468654201203714, 0.3763927872506507, 0.8120568488462931, 0.0031767062628090745, 0.697742291538818, -0.7429703118062226, -0.842231117346612, -0.0666718362166121, 1.8829720647783421, 1.320112956074407, 0.42394324402947475, 0.466299928509142, 0.9415282138953815, -0.7707938096473991], \"y\": [0.6887194376286498, 0.1040535242504629, 0.38792642015276635, 1.3934230260395444, -0.5375976688704683, -1.1493608786796612, 0.01342890849383506, -0.47231861415738574, 0.24793169472844812, -0.6232083144122951, -1.2121596694710122, -2.4542371001007464, 0.29855785553142483, 1.2997620162676498, 0.9168047366909585, -0.41040614900130634, 1.3147531456519106, -0.12455263569370086, 0.9366143523054554, 0.23573463729990726, -0.8244746170540388, -0.32685668230128845, 1.501781503113865, 0.9830012153240587, 0.6020112305361386, 0.3688304138086671, 1.0090827131320237, -0.5811720111587422, 0.0512884505619472, -1.6917643070157176, -0.25322144257612356, -0.2937357494665306, 0.7368726362448421, 0.5763424997076779, 0.16472110066593693, -0.374254076023172, 1.1280304809680426, 0.6455371548668151, -0.18000225503004413, -0.9128911232313937, -0.5670695205365133, 0.16138491502455474, 1.2118733837294762, 0.4444506280024997, 0.6834767601409083, 1.8020727241195935, 2.4230878273709062, 0.27701889696287213, 1.4067122280705426, -0.33728919328412016, 0.5154870435338148, 0.7751019637809062, 1.400130435077449, 0.8276591566099151, 1.1268119555303864, 0.7016118169589718, 0.476169530704683, -0.5261125753709399, -1.2129692872143456, 0.6126338497954396, 1.5825905557818922, -0.8173630045970658, 0.1075602248072928, 1.2716988894407462, -0.15615948990467535, -0.2968566839654392, 1.7204934641303604, -0.869876624137026, 0.28935077735906545, -1.2052876742800458, -0.263979336251353, -0.02815365780209253, -0.04062347728476395, 0.943760296027789, -1.7797735906553165, 0.4485755919087686, 0.14778332986993048, 0.5305019463041807, 1.6359913516932165, -0.3437427119285297, 1.9109783094330681, 0.6818924480193401, -0.42214824562337705, 0.8935317581184008, 1.2587495288352297, -0.5992845246668753, 2.7851237345776405, -1.5158096238899554, 0.04177421570103183, 0.48980398157362903, 1.063643861677667, -0.8486329162129157, -1.86936339853131, 0.24761777046722996, 1.290606988097702, 0.17046338292604407, 0.14181179559597848, 0.6505415244850333, -2.5850581533594545, -0.30813091794721653], \"type\": \"scatter\", \"line\": {\"dash\": \"solid\", \"width\": 1.3, \"color\": \"rgba(128, 128, 128, 1.0)\"}, \"marker\": {\"size\": 2, \"symbol\": \"dot\"}, \"name\": \"B\"}, {\"yaxis\": \"y6\", \"x\": [0.6887194376286498, 0.1040535242504629, 0.38792642015276635, 1.3934230260395444, -0.5375976688704683, -1.1493608786796612, 0.01342890849383506, -0.47231861415738574, 0.24793169472844812, -0.6232083144122951, -1.2121596694710122, -2.4542371001007464, 0.29855785553142483, 1.2997620162676498, 0.9168047366909585, -0.41040614900130634, 1.3147531456519106, -0.12455263569370086, 0.9366143523054554, 0.23573463729990726, -0.8244746170540388, -0.32685668230128845, 1.501781503113865, 0.9830012153240587, 0.6020112305361386, 0.3688304138086671, 1.0090827131320237, -0.5811720111587422, 0.0512884505619472, -1.6917643070157176, -0.25322144257612356, -0.2937357494665306, 0.7368726362448421, 0.5763424997076779, 0.16472110066593693, -0.374254076023172, 1.1280304809680426, 0.6455371548668151, -0.18000225503004413, -0.9128911232313937, -0.5670695205365133, 0.16138491502455474, 1.2118733837294762, 0.4444506280024997, 0.6834767601409083, 1.8020727241195935, 2.4230878273709062, 0.27701889696287213, 1.4067122280705426, -0.33728919328412016, 0.5154870435338148, 0.7751019637809062, 1.400130435077449, 0.8276591566099151, 1.1268119555303864, 0.7016118169589718, 0.476169530704683, -0.5261125753709399, -1.2129692872143456, 0.6126338497954396, 1.5825905557818922, -0.8173630045970658, 0.1075602248072928, 1.2716988894407462, -0.15615948990467535, -0.2968566839654392, 1.7204934641303604, -0.869876624137026, 0.28935077735906545, -1.2052876742800458, -0.263979336251353, -0.02815365780209253, -0.04062347728476395, 0.943760296027789, -1.7797735906553165, 0.4485755919087686, 0.14778332986993048, 0.5305019463041807, 1.6359913516932165, -0.3437427119285297, 1.9109783094330681, 0.6818924480193401, -0.42214824562337705, 0.8935317581184008, 1.2587495288352297, -0.5992845246668753, 2.7851237345776405, -1.5158096238899554, 0.04177421570103183, 0.48980398157362903, 1.063643861677667, -0.8486329162129157, -1.86936339853131, 0.24761777046722996, 1.290606988097702, 0.17046338292604407, 0.14181179559597848, 0.6505415244850333, -2.5850581533594545, -0.30813091794721653], \"orientation\": \"v\", \"name\": \"B\", \"opacity\": 0.8, \"histfunc\": \"count\", \"type\": \"histogram\", \"histnorm\": \"\", \"nbinsx\": 10, \"marker\": {\"line\": {\"width\": 1.3, \"color\": \"#D9D9D9\"}, \"color\": \"rgba(62, 111, 176, 1.0)\"}, \"xaxis\": \"x6\"}, {\"yaxis\": \"y7\", \"mode\": \"markers\", \"text\": \"\", \"xaxis\": \"x7\", \"x\": [1.0667334168325768, 0.04817571551860875, -0.6353709157290994, -0.29979428249659507, 0.30291706303457033, -1.2658520234759039, 0.4984256330100474, -0.4813817437844393, 1.6528819231392327, -1.0387894611418347, -1.4866253379043493, -0.5281135473322252, -0.061645252730345844, 0.7876423965771268, 0.9285191892602837, -3.0483938246413547, -0.371184208418135, 0.11169331199774239, 0.30352330980386477, -1.1851393464396252, -0.3023997655692267, 1.4199893168847753, -0.332851303404407, 0.7955908630250091, 0.5869705278914006, -0.45090328668726354, -0.7814566611757896, -0.1261200409144497, 0.7060858452328673, -0.8894721878843294, 0.6064992291432117, -0.1963991863666514, 0.16697094643083513, -0.06591707111576753, 0.8961422265850149, 0.8939803073905991, 0.2526177880230376, -1.2523243277936627, 0.9749672569040144, 0.9687477057343876, 0.26351967435246515, -0.9517261189215155, -0.18707956459088698, -0.39391833601946274, 0.5273775265831957, -0.48180251718398176, -2.2230374431929953, 2.0999928572789828, 0.5496483529576708, 1.067298459209482, -0.3040289105606048, 0.1352094843666391, -0.9944404721270197, 2.2258275006902912, -0.11689955437978636, 0.41231462999024887, 0.7856039151273921, -0.6894731524779986, -0.8276899193670904, 0.23638272241448607, 1.3266743967632526, 0.9626096963262857, -0.28379390855690406, -0.417413711892243, -1.3341211120615861, 0.9298055489835776, 2.106720126861483, 0.23150307059926345, 0.8864836518334782, 0.4193977048083098, 0.3190869644200757, 0.9673541346062681, 0.42245148076732175, 1.0906377526894717, 1.3887188298690671, -0.19507483218944058, -0.9347090401182315, 0.30126885232107575, 0.42495072953595375, -0.9170212042816844, -1.6965969381460768, -0.011576471618042839, -1.0479065708976978, -0.4749222730814971, 0.4229046102099884, 0.08254929486846736, -0.7783883617548714, -0.17950878512595098, 0.4391940123110264, -1.9667304216807953, -1.5652802021531136, 0.8163770970520242, -0.008375093041838632, 0.5510487504106222, -0.4239325998518183, -0.1297116221823799, -0.10728910870450034, -0.12169367361116121, -0.6905111268638191, -0.2653540299125418], \"y\": [0.6887194376286498, 0.1040535242504629, 0.38792642015276635, 1.3934230260395444, -0.5375976688704683, -1.1493608786796612, 0.01342890849383506, -0.47231861415738574, 0.24793169472844812, -0.6232083144122951, -1.2121596694710122, -2.4542371001007464, 0.29855785553142483, 1.2997620162676498, 0.9168047366909585, -0.41040614900130634, 1.3147531456519106, -0.12455263569370086, 0.9366143523054554, 0.23573463729990726, -0.8244746170540388, -0.32685668230128845, 1.501781503113865, 0.9830012153240587, 0.6020112305361386, 0.3688304138086671, 1.0090827131320237, -0.5811720111587422, 0.0512884505619472, -1.6917643070157176, -0.25322144257612356, -0.2937357494665306, 0.7368726362448421, 0.5763424997076779, 0.16472110066593693, -0.374254076023172, 1.1280304809680426, 0.6455371548668151, -0.18000225503004413, -0.9128911232313937, -0.5670695205365133, 0.16138491502455474, 1.2118733837294762, 0.4444506280024997, 0.6834767601409083, 1.8020727241195935, 2.4230878273709062, 0.27701889696287213, 1.4067122280705426, -0.33728919328412016, 0.5154870435338148, 0.7751019637809062, 1.400130435077449, 0.8276591566099151, 1.1268119555303864, 0.7016118169589718, 0.476169530704683, -0.5261125753709399, -1.2129692872143456, 0.6126338497954396, 1.5825905557818922, -0.8173630045970658, 0.1075602248072928, 1.2716988894407462, -0.15615948990467535, -0.2968566839654392, 1.7204934641303604, -0.869876624137026, 0.28935077735906545, -1.2052876742800458, -0.263979336251353, -0.02815365780209253, -0.04062347728476395, 0.943760296027789, -1.7797735906553165, 0.4485755919087686, 0.14778332986993048, 0.5305019463041807, 1.6359913516932165, -0.3437427119285297, 1.9109783094330681, 0.6818924480193401, -0.42214824562337705, 0.8935317581184008, 1.2587495288352297, -0.5992845246668753, 2.7851237345776405, -1.5158096238899554, 0.04177421570103183, 0.48980398157362903, 1.063643861677667, -0.8486329162129157, -1.86936339853131, 0.24761777046722996, 1.290606988097702, 0.17046338292604407, 0.14181179559597848, 0.6505415244850333, -2.5850581533594545, -0.30813091794721653], \"type\": \"scatter\", \"line\": {\"dash\": \"solid\", \"width\": 1.3, \"color\": \"rgba(128, 128, 128, 1.0)\"}, \"marker\": {\"size\": 2, \"symbol\": \"dot\"}, \"name\": \"B\"}, {\"yaxis\": \"y8\", \"mode\": \"markers\", \"text\": \"\", \"xaxis\": \"x8\", \"x\": [0.5439560303056027, 1.8421879324257613, -0.6375584499267892, -1.113621595762316, -2.5460826344966634, -1.4694525849240658, 1.5284509091178395, -0.2389286047643509, -1.8771013496698048, 0.7967095179585106, -1.2751392945819797, -0.3919771719871495, 0.6960770780779357, 1.0829877919884603, -0.21798245190329507, 0.10031667681839129, 0.39551692710003933, 0.03022462233656908, -0.3327329523770193, -0.204819010502919, -0.498599044144297, -2.287561059130041, -0.2626249290420713, -2.7487145066091996, -0.666926270349069, -2.0379098459994895, 0.4076679798231559, 1.2245324594636484, -2.0903293143661017, 0.5730523735386692, -0.8155129116660126, -0.9572874252328925, 0.2646752398006613, -1.59152570791709, 0.0934028853207141, -2.602771223170992, 0.560010384592385, 0.449602390416327, -0.005796794476065169, 0.1829347250578045, -0.5607194705468903, -1.1999112237192675, -1.5750218946994066, 0.9111111432091317, -0.2530599561069696, -0.5460310452823662, -0.2531538203527998, 1.5968736605431069, 1.723507060923573, 0.38763182009739877, -1.5443680470309729, 1.2505835233573588, 0.0032375885699842803, 0.3870066878402003, -0.32906689091979147, 0.3856397258220775, -0.1654479720586817, 0.2232842423247386, -0.4418766853437538, -0.6751906059090874, -1.6521803078301385, 0.8305325757578166, 0.6577807720682736, -1.2851830040136305, 0.5089005765755124, 0.5962021316815027, 0.9573351203673642, -1.7458475655160375, -1.7131000048598244, 1.5732405203322046, -0.6605298861077683, -1.3437487967599893, 1.9772828633357302, -0.2856844646078326, 0.19293980157348012, 0.1628250911198371, 0.4208217295167736, 0.5627226183638288, -1.058090429960864, -1.3589615830656872, 2.138807050366944, 0.885718335515041, 0.8374040360650308, 0.49834346725709405, -1.3963572343750588, 2.2245606506923625, 0.19641383189506273, -0.3435398382353588, 0.7215114388529363, -0.8327583822270256, -2.039974975731211, 1.2859290252046311, -1.1577060578657161, 0.36795754346511866, 0.970791311065794, 0.496204293102698, -0.05627542841788665, 0.10113620396598295, 0.7547476274222054, 0.15433234934660506], \"y\": [0.6887194376286498, 0.1040535242504629, 0.38792642015276635, 1.3934230260395444, -0.5375976688704683, -1.1493608786796612, 0.01342890849383506, -0.47231861415738574, 0.24793169472844812, -0.6232083144122951, -1.2121596694710122, -2.4542371001007464, 0.29855785553142483, 1.2997620162676498, 0.9168047366909585, -0.41040614900130634, 1.3147531456519106, -0.12455263569370086, 0.9366143523054554, 0.23573463729990726, -0.8244746170540388, -0.32685668230128845, 1.501781503113865, 0.9830012153240587, 0.6020112305361386, 0.3688304138086671, 1.0090827131320237, -0.5811720111587422, 0.0512884505619472, -1.6917643070157176, -0.25322144257612356, -0.2937357494665306, 0.7368726362448421, 0.5763424997076779, 0.16472110066593693, -0.374254076023172, 1.1280304809680426, 0.6455371548668151, -0.18000225503004413, -0.9128911232313937, -0.5670695205365133, 0.16138491502455474, 1.2118733837294762, 0.4444506280024997, 0.6834767601409083, 1.8020727241195935, 2.4230878273709062, 0.27701889696287213, 1.4067122280705426, -0.33728919328412016, 0.5154870435338148, 0.7751019637809062, 1.400130435077449, 0.8276591566099151, 1.1268119555303864, 0.7016118169589718, 0.476169530704683, -0.5261125753709399, -1.2129692872143456, 0.6126338497954396, 1.5825905557818922, -0.8173630045970658, 0.1075602248072928, 1.2716988894407462, -0.15615948990467535, -0.2968566839654392, 1.7204934641303604, -0.869876624137026, 0.28935077735906545, -1.2052876742800458, -0.263979336251353, -0.02815365780209253, -0.04062347728476395, 0.943760296027789, -1.7797735906553165, 0.4485755919087686, 0.14778332986993048, 0.5305019463041807, 1.6359913516932165, -0.3437427119285297, 1.9109783094330681, 0.6818924480193401, -0.42214824562337705, 0.8935317581184008, 1.2587495288352297, -0.5992845246668753, 2.7851237345776405, -1.5158096238899554, 0.04177421570103183, 0.48980398157362903, 1.063643861677667, -0.8486329162129157, -1.86936339853131, 0.24761777046722996, 1.290606988097702, 0.17046338292604407, 0.14181179559597848, 0.6505415244850333, -2.5850581533594545, -0.30813091794721653], \"type\": \"scatter\", \"line\": {\"dash\": \"solid\", \"width\": 1.3, \"color\": \"rgba(128, 128, 128, 1.0)\"}, \"marker\": {\"size\": 2, \"symbol\": \"dot\"}, \"name\": \"B\"}, {\"yaxis\": \"y9\", \"mode\": \"markers\", \"text\": \"\", \"xaxis\": \"x9\", \"x\": [1.8787246669561561, 0.028733616663923985, -0.1587931161277573, -1.2219723462024636, 1.2531523973363488, 0.8312132082951045, 1.1740170898586173, -0.24393002059589958, -0.296966543277261, 0.7621695759158762, 0.04210347865555278, -0.7791970481917073, 0.3943032396655093, -1.0146190736152443, -0.4841710096782867, 0.5522466668361006, -2.77187556758784, -0.5181226698708166, -0.49722040792422156, -1.6534757596659548, -0.06027439377033132, 1.4769243769038323, 1.1796346669498379, -0.7816898015019265, 0.8630132212967984, 0.6590246731638996, -1.1013906677685679, -0.9446804895542242, -1.788022470413331, 0.8775002821729455, 0.3546715768521251, -0.16532125735222183, 1.8914747239632839, -1.1251772915449791, 0.8888981026894395, -0.6066117727706714, 0.8314777742724779, 0.3830457069359529, -0.937459527593053, -0.844561047334305, 1.1280232245052606, -1.640427972598561, 0.8971269652786067, 0.4848047458342485, 0.19373507090654035, -0.7387091317560727, -0.3566733282792827, -0.43158335134818315, -0.4899640124314907, 0.5488715658495908, 0.2821768987731658, -0.8832439438038343, 1.271863067044618, 0.10680856505919414, 0.8269478103679717, -0.03266751467505833, -0.34021520002722894, -0.6769186069469743, 0.7126188256918854, 1.8871150025438166, -0.06742662656190869, -1.4789736197389265, 0.346978601690099, -0.3757389938313092, 0.715285859520045, 1.5994858611908638, -0.3692558358591885, 0.13827360227735647, -0.40690530542342296, 0.636973800943974, 0.14658752987818605, -0.3949906255692418, 1.5076392623927681, -0.15486042602397807, 0.22159940179664614, -1.0878244818277978, -0.03354417910293162, 1.2258839316932069, -0.048951028800266715, -1.1089870994157809, 0.021452684803338333, 1.2548854256528554, -1.0913797662237141, -0.539059741192553, 0.6901269187662552, -1.4810451728120602, -0.8468654201203714, 0.3763927872506507, 0.8120568488462931, 0.0031767062628090745, 0.697742291538818, -0.7429703118062226, -0.842231117346612, -0.0666718362166121, 1.8829720647783421, 1.320112956074407, 0.42394324402947475, 0.466299928509142, 0.9415282138953815, -0.7707938096473991], \"y\": [1.0667334168325768, 0.04817571551860875, -0.6353709157290994, -0.29979428249659507, 0.30291706303457033, -1.2658520234759039, 0.4984256330100474, -0.4813817437844393, 1.6528819231392327, -1.0387894611418347, -1.4866253379043493, -0.5281135473322252, -0.061645252730345844, 0.7876423965771268, 0.9285191892602837, -3.0483938246413547, -0.371184208418135, 0.11169331199774239, 0.30352330980386477, -1.1851393464396252, -0.3023997655692267, 1.4199893168847753, -0.332851303404407, 0.7955908630250091, 0.5869705278914006, -0.45090328668726354, -0.7814566611757896, -0.1261200409144497, 0.7060858452328673, -0.8894721878843294, 0.6064992291432117, -0.1963991863666514, 0.16697094643083513, -0.06591707111576753, 0.8961422265850149, 0.8939803073905991, 0.2526177880230376, -1.2523243277936627, 0.9749672569040144, 0.9687477057343876, 0.26351967435246515, -0.9517261189215155, -0.18707956459088698, -0.39391833601946274, 0.5273775265831957, -0.48180251718398176, -2.2230374431929953, 2.0999928572789828, 0.5496483529576708, 1.067298459209482, -0.3040289105606048, 0.1352094843666391, -0.9944404721270197, 2.2258275006902912, -0.11689955437978636, 0.41231462999024887, 0.7856039151273921, -0.6894731524779986, -0.8276899193670904, 0.23638272241448607, 1.3266743967632526, 0.9626096963262857, -0.28379390855690406, -0.417413711892243, -1.3341211120615861, 0.9298055489835776, 2.106720126861483, 0.23150307059926345, 0.8864836518334782, 0.4193977048083098, 0.3190869644200757, 0.9673541346062681, 0.42245148076732175, 1.0906377526894717, 1.3887188298690671, -0.19507483218944058, -0.9347090401182315, 0.30126885232107575, 0.42495072953595375, -0.9170212042816844, -1.6965969381460768, -0.011576471618042839, -1.0479065708976978, -0.4749222730814971, 0.4229046102099884, 0.08254929486846736, -0.7783883617548714, -0.17950878512595098, 0.4391940123110264, -1.9667304216807953, -1.5652802021531136, 0.8163770970520242, -0.008375093041838632, 0.5510487504106222, -0.4239325998518183, -0.1297116221823799, -0.10728910870450034, -0.12169367361116121, -0.6905111268638191, -0.2653540299125418], \"type\": \"scatter\", \"line\": {\"dash\": \"solid\", \"width\": 1.3, \"color\": \"rgba(128, 128, 128, 1.0)\"}, \"marker\": {\"size\": 2, \"symbol\": \"dot\"}, \"name\": \"C\"}, {\"yaxis\": \"y10\", \"mode\": \"markers\", \"text\": \"\", \"xaxis\": \"x10\", \"x\": [0.6887194376286498, 0.1040535242504629, 0.38792642015276635, 1.3934230260395444, -0.5375976688704683, -1.1493608786796612, 0.01342890849383506, -0.47231861415738574, 0.24793169472844812, -0.6232083144122951, -1.2121596694710122, -2.4542371001007464, 0.29855785553142483, 1.2997620162676498, 0.9168047366909585, -0.41040614900130634, 1.3147531456519106, -0.12455263569370086, 0.9366143523054554, 0.23573463729990726, -0.8244746170540388, -0.32685668230128845, 1.501781503113865, 0.9830012153240587, 0.6020112305361386, 0.3688304138086671, 1.0090827131320237, -0.5811720111587422, 0.0512884505619472, -1.6917643070157176, -0.25322144257612356, -0.2937357494665306, 0.7368726362448421, 0.5763424997076779, 0.16472110066593693, -0.374254076023172, 1.1280304809680426, 0.6455371548668151, -0.18000225503004413, -0.9128911232313937, -0.5670695205365133, 0.16138491502455474, 1.2118733837294762, 0.4444506280024997, 0.6834767601409083, 1.8020727241195935, 2.4230878273709062, 0.27701889696287213, 1.4067122280705426, -0.33728919328412016, 0.5154870435338148, 0.7751019637809062, 1.400130435077449, 0.8276591566099151, 1.1268119555303864, 0.7016118169589718, 0.476169530704683, -0.5261125753709399, -1.2129692872143456, 0.6126338497954396, 1.5825905557818922, -0.8173630045970658, 0.1075602248072928, 1.2716988894407462, -0.15615948990467535, -0.2968566839654392, 1.7204934641303604, -0.869876624137026, 0.28935077735906545, -1.2052876742800458, -0.263979336251353, -0.02815365780209253, -0.04062347728476395, 0.943760296027789, -1.7797735906553165, 0.4485755919087686, 0.14778332986993048, 0.5305019463041807, 1.6359913516932165, -0.3437427119285297, 1.9109783094330681, 0.6818924480193401, -0.42214824562337705, 0.8935317581184008, 1.2587495288352297, -0.5992845246668753, 2.7851237345776405, -1.5158096238899554, 0.04177421570103183, 0.48980398157362903, 1.063643861677667, -0.8486329162129157, -1.86936339853131, 0.24761777046722996, 1.290606988097702, 0.17046338292604407, 0.14181179559597848, 0.6505415244850333, -2.5850581533594545, -0.30813091794721653], \"y\": [1.0667334168325768, 0.04817571551860875, -0.6353709157290994, -0.29979428249659507, 0.30291706303457033, -1.2658520234759039, 0.4984256330100474, -0.4813817437844393, 1.6528819231392327, -1.0387894611418347, -1.4866253379043493, -0.5281135473322252, -0.061645252730345844, 0.7876423965771268, 0.9285191892602837, -3.0483938246413547, -0.371184208418135, 0.11169331199774239, 0.30352330980386477, -1.1851393464396252, -0.3023997655692267, 1.4199893168847753, -0.332851303404407, 0.7955908630250091, 0.5869705278914006, -0.45090328668726354, -0.7814566611757896, -0.1261200409144497, 0.7060858452328673, -0.8894721878843294, 0.6064992291432117, -0.1963991863666514, 0.16697094643083513, -0.06591707111576753, 0.8961422265850149, 0.8939803073905991, 0.2526177880230376, -1.2523243277936627, 0.9749672569040144, 0.9687477057343876, 0.26351967435246515, -0.9517261189215155, -0.18707956459088698, -0.39391833601946274, 0.5273775265831957, -0.48180251718398176, -2.2230374431929953, 2.0999928572789828, 0.5496483529576708, 1.067298459209482, -0.3040289105606048, 0.1352094843666391, -0.9944404721270197, 2.2258275006902912, -0.11689955437978636, 0.41231462999024887, 0.7856039151273921, -0.6894731524779986, -0.8276899193670904, 0.23638272241448607, 1.3266743967632526, 0.9626096963262857, -0.28379390855690406, -0.417413711892243, -1.3341211120615861, 0.9298055489835776, 2.106720126861483, 0.23150307059926345, 0.8864836518334782, 0.4193977048083098, 0.3190869644200757, 0.9673541346062681, 0.42245148076732175, 1.0906377526894717, 1.3887188298690671, -0.19507483218944058, -0.9347090401182315, 0.30126885232107575, 0.42495072953595375, -0.9170212042816844, -1.6965969381460768, -0.011576471618042839, -1.0479065708976978, -0.4749222730814971, 0.4229046102099884, 0.08254929486846736, -0.7783883617548714, -0.17950878512595098, 0.4391940123110264, -1.9667304216807953, -1.5652802021531136, 0.8163770970520242, -0.008375093041838632, 0.5510487504106222, -0.4239325998518183, -0.1297116221823799, -0.10728910870450034, -0.12169367361116121, -0.6905111268638191, -0.2653540299125418], \"type\": \"scatter\", \"line\": {\"dash\": \"solid\", \"width\": 1.3, \"color\": \"rgba(128, 128, 128, 1.0)\"}, \"marker\": {\"size\": 2, \"symbol\": \"dot\"}, \"name\": \"C\"}, {\"yaxis\": \"y11\", \"x\": [1.0667334168325768, 0.04817571551860875, -0.6353709157290994, -0.29979428249659507, 0.30291706303457033, -1.2658520234759039, 0.4984256330100474, -0.4813817437844393, 1.6528819231392327, -1.0387894611418347, -1.4866253379043493, -0.5281135473322252, -0.061645252730345844, 0.7876423965771268, 0.9285191892602837, -3.0483938246413547, -0.371184208418135, 0.11169331199774239, 0.30352330980386477, -1.1851393464396252, -0.3023997655692267, 1.4199893168847753, -0.332851303404407, 0.7955908630250091, 0.5869705278914006, -0.45090328668726354, -0.7814566611757896, -0.1261200409144497, 0.7060858452328673, -0.8894721878843294, 0.6064992291432117, -0.1963991863666514, 0.16697094643083513, -0.06591707111576753, 0.8961422265850149, 0.8939803073905991, 0.2526177880230376, -1.2523243277936627, 0.9749672569040144, 0.9687477057343876, 0.26351967435246515, -0.9517261189215155, -0.18707956459088698, -0.39391833601946274, 0.5273775265831957, -0.48180251718398176, -2.2230374431929953, 2.0999928572789828, 0.5496483529576708, 1.067298459209482, -0.3040289105606048, 0.1352094843666391, -0.9944404721270197, 2.2258275006902912, -0.11689955437978636, 0.41231462999024887, 0.7856039151273921, -0.6894731524779986, -0.8276899193670904, 0.23638272241448607, 1.3266743967632526, 0.9626096963262857, -0.28379390855690406, -0.417413711892243, -1.3341211120615861, 0.9298055489835776, 2.106720126861483, 0.23150307059926345, 0.8864836518334782, 0.4193977048083098, 0.3190869644200757, 0.9673541346062681, 0.42245148076732175, 1.0906377526894717, 1.3887188298690671, -0.19507483218944058, -0.9347090401182315, 0.30126885232107575, 0.42495072953595375, -0.9170212042816844, -1.6965969381460768, -0.011576471618042839, -1.0479065708976978, -0.4749222730814971, 0.4229046102099884, 0.08254929486846736, -0.7783883617548714, -0.17950878512595098, 0.4391940123110264, -1.9667304216807953, -1.5652802021531136, 0.8163770970520242, -0.008375093041838632, 0.5510487504106222, -0.4239325998518183, -0.1297116221823799, -0.10728910870450034, -0.12169367361116121, -0.6905111268638191, -0.2653540299125418], \"orientation\": \"v\", \"name\": \"C\", \"opacity\": 0.8, \"histfunc\": \"count\", \"type\": \"histogram\", \"histnorm\": \"\", \"nbinsx\": 10, \"marker\": {\"line\": {\"width\": 1.3, \"color\": \"#D9D9D9\"}, \"color\": \"rgba(132, 118, 202, 1.0)\"}, \"xaxis\": \"x11\"}, {\"yaxis\": \"y12\", \"mode\": \"markers\", \"text\": \"\", \"xaxis\": \"x12\", \"x\": [0.5439560303056027, 1.8421879324257613, -0.6375584499267892, -1.113621595762316, -2.5460826344966634, -1.4694525849240658, 1.5284509091178395, -0.2389286047643509, -1.8771013496698048, 0.7967095179585106, -1.2751392945819797, -0.3919771719871495, 0.6960770780779357, 1.0829877919884603, -0.21798245190329507, 0.10031667681839129, 0.39551692710003933, 0.03022462233656908, -0.3327329523770193, -0.204819010502919, -0.498599044144297, -2.287561059130041, -0.2626249290420713, -2.7487145066091996, -0.666926270349069, -2.0379098459994895, 0.4076679798231559, 1.2245324594636484, -2.0903293143661017, 0.5730523735386692, -0.8155129116660126, -0.9572874252328925, 0.2646752398006613, -1.59152570791709, 0.0934028853207141, -2.602771223170992, 0.560010384592385, 0.449602390416327, -0.005796794476065169, 0.1829347250578045, -0.5607194705468903, -1.1999112237192675, -1.5750218946994066, 0.9111111432091317, -0.2530599561069696, -0.5460310452823662, -0.2531538203527998, 1.5968736605431069, 1.723507060923573, 0.38763182009739877, -1.5443680470309729, 1.2505835233573588, 0.0032375885699842803, 0.3870066878402003, -0.32906689091979147, 0.3856397258220775, -0.1654479720586817, 0.2232842423247386, -0.4418766853437538, -0.6751906059090874, -1.6521803078301385, 0.8305325757578166, 0.6577807720682736, -1.2851830040136305, 0.5089005765755124, 0.5962021316815027, 0.9573351203673642, -1.7458475655160375, -1.7131000048598244, 1.5732405203322046, -0.6605298861077683, -1.3437487967599893, 1.9772828633357302, -0.2856844646078326, 0.19293980157348012, 0.1628250911198371, 0.4208217295167736, 0.5627226183638288, -1.058090429960864, -1.3589615830656872, 2.138807050366944, 0.885718335515041, 0.8374040360650308, 0.49834346725709405, -1.3963572343750588, 2.2245606506923625, 0.19641383189506273, -0.3435398382353588, 0.7215114388529363, -0.8327583822270256, -2.039974975731211, 1.2859290252046311, -1.1577060578657161, 0.36795754346511866, 0.970791311065794, 0.496204293102698, -0.05627542841788665, 0.10113620396598295, 0.7547476274222054, 0.15433234934660506], \"y\": [1.0667334168325768, 0.04817571551860875, -0.6353709157290994, -0.29979428249659507, 0.30291706303457033, -1.2658520234759039, 0.4984256330100474, -0.4813817437844393, 1.6528819231392327, -1.0387894611418347, -1.4866253379043493, -0.5281135473322252, -0.061645252730345844, 0.7876423965771268, 0.9285191892602837, -3.0483938246413547, -0.371184208418135, 0.11169331199774239, 0.30352330980386477, -1.1851393464396252, -0.3023997655692267, 1.4199893168847753, -0.332851303404407, 0.7955908630250091, 0.5869705278914006, -0.45090328668726354, -0.7814566611757896, -0.1261200409144497, 0.7060858452328673, -0.8894721878843294, 0.6064992291432117, -0.1963991863666514, 0.16697094643083513, -0.06591707111576753, 0.8961422265850149, 0.8939803073905991, 0.2526177880230376, -1.2523243277936627, 0.9749672569040144, 0.9687477057343876, 0.26351967435246515, -0.9517261189215155, -0.18707956459088698, -0.39391833601946274, 0.5273775265831957, -0.48180251718398176, -2.2230374431929953, 2.0999928572789828, 0.5496483529576708, 1.067298459209482, -0.3040289105606048, 0.1352094843666391, -0.9944404721270197, 2.2258275006902912, -0.11689955437978636, 0.41231462999024887, 0.7856039151273921, -0.6894731524779986, -0.8276899193670904, 0.23638272241448607, 1.3266743967632526, 0.9626096963262857, -0.28379390855690406, -0.417413711892243, -1.3341211120615861, 0.9298055489835776, 2.106720126861483, 0.23150307059926345, 0.8864836518334782, 0.4193977048083098, 0.3190869644200757, 0.9673541346062681, 0.42245148076732175, 1.0906377526894717, 1.3887188298690671, -0.19507483218944058, -0.9347090401182315, 0.30126885232107575, 0.42495072953595375, -0.9170212042816844, -1.6965969381460768, -0.011576471618042839, -1.0479065708976978, -0.4749222730814971, 0.4229046102099884, 0.08254929486846736, -0.7783883617548714, -0.17950878512595098, 0.4391940123110264, -1.9667304216807953, -1.5652802021531136, 0.8163770970520242, -0.008375093041838632, 0.5510487504106222, -0.4239325998518183, -0.1297116221823799, -0.10728910870450034, -0.12169367361116121, -0.6905111268638191, -0.2653540299125418], \"type\": \"scatter\", \"line\": {\"dash\": \"solid\", \"width\": 1.3, \"color\": \"rgba(128, 128, 128, 1.0)\"}, \"marker\": {\"size\": 2, \"symbol\": \"dot\"}, \"name\": \"C\"}, {\"yaxis\": \"y13\", \"mode\": \"markers\", \"text\": \"\", \"xaxis\": \"x13\", \"x\": [1.8787246669561561, 0.028733616663923985, -0.1587931161277573, -1.2219723462024636, 1.2531523973363488, 0.8312132082951045, 1.1740170898586173, -0.24393002059589958, -0.296966543277261, 0.7621695759158762, 0.04210347865555278, -0.7791970481917073, 0.3943032396655093, -1.0146190736152443, -0.4841710096782867, 0.5522466668361006, -2.77187556758784, -0.5181226698708166, -0.49722040792422156, -1.6534757596659548, -0.06027439377033132, 1.4769243769038323, 1.1796346669498379, -0.7816898015019265, 0.8630132212967984, 0.6590246731638996, -1.1013906677685679, -0.9446804895542242, -1.788022470413331, 0.8775002821729455, 0.3546715768521251, -0.16532125735222183, 1.8914747239632839, -1.1251772915449791, 0.8888981026894395, -0.6066117727706714, 0.8314777742724779, 0.3830457069359529, -0.937459527593053, -0.844561047334305, 1.1280232245052606, -1.640427972598561, 0.8971269652786067, 0.4848047458342485, 0.19373507090654035, -0.7387091317560727, -0.3566733282792827, -0.43158335134818315, -0.4899640124314907, 0.5488715658495908, 0.2821768987731658, -0.8832439438038343, 1.271863067044618, 0.10680856505919414, 0.8269478103679717, -0.03266751467505833, -0.34021520002722894, -0.6769186069469743, 0.7126188256918854, 1.8871150025438166, -0.06742662656190869, -1.4789736197389265, 0.346978601690099, -0.3757389938313092, 0.715285859520045, 1.5994858611908638, -0.3692558358591885, 0.13827360227735647, -0.40690530542342296, 0.636973800943974, 0.14658752987818605, -0.3949906255692418, 1.5076392623927681, -0.15486042602397807, 0.22159940179664614, -1.0878244818277978, -0.03354417910293162, 1.2258839316932069, -0.048951028800266715, -1.1089870994157809, 0.021452684803338333, 1.2548854256528554, -1.0913797662237141, -0.539059741192553, 0.6901269187662552, -1.4810451728120602, -0.8468654201203714, 0.3763927872506507, 0.8120568488462931, 0.0031767062628090745, 0.697742291538818, -0.7429703118062226, -0.842231117346612, -0.0666718362166121, 1.8829720647783421, 1.320112956074407, 0.42394324402947475, 0.466299928509142, 0.9415282138953815, -0.7707938096473991], \"y\": [0.5439560303056027, 1.8421879324257613, -0.6375584499267892, -1.113621595762316, -2.5460826344966634, -1.4694525849240658, 1.5284509091178395, -0.2389286047643509, -1.8771013496698048, 0.7967095179585106, -1.2751392945819797, -0.3919771719871495, 0.6960770780779357, 1.0829877919884603, -0.21798245190329507, 0.10031667681839129, 0.39551692710003933, 0.03022462233656908, -0.3327329523770193, -0.204819010502919, -0.498599044144297, -2.287561059130041, -0.2626249290420713, -2.7487145066091996, -0.666926270349069, -2.0379098459994895, 0.4076679798231559, 1.2245324594636484, -2.0903293143661017, 0.5730523735386692, -0.8155129116660126, -0.9572874252328925, 0.2646752398006613, -1.59152570791709, 0.0934028853207141, -2.602771223170992, 0.560010384592385, 0.449602390416327, -0.005796794476065169, 0.1829347250578045, -0.5607194705468903, -1.1999112237192675, -1.5750218946994066, 0.9111111432091317, -0.2530599561069696, -0.5460310452823662, -0.2531538203527998, 1.5968736605431069, 1.723507060923573, 0.38763182009739877, -1.5443680470309729, 1.2505835233573588, 0.0032375885699842803, 0.3870066878402003, -0.32906689091979147, 0.3856397258220775, -0.1654479720586817, 0.2232842423247386, -0.4418766853437538, -0.6751906059090874, -1.6521803078301385, 0.8305325757578166, 0.6577807720682736, -1.2851830040136305, 0.5089005765755124, 0.5962021316815027, 0.9573351203673642, -1.7458475655160375, -1.7131000048598244, 1.5732405203322046, -0.6605298861077683, -1.3437487967599893, 1.9772828633357302, -0.2856844646078326, 0.19293980157348012, 0.1628250911198371, 0.4208217295167736, 0.5627226183638288, -1.058090429960864, -1.3589615830656872, 2.138807050366944, 0.885718335515041, 0.8374040360650308, 0.49834346725709405, -1.3963572343750588, 2.2245606506923625, 0.19641383189506273, -0.3435398382353588, 0.7215114388529363, -0.8327583822270256, -2.039974975731211, 1.2859290252046311, -1.1577060578657161, 0.36795754346511866, 0.970791311065794, 0.496204293102698, -0.05627542841788665, 0.10113620396598295, 0.7547476274222054, 0.15433234934660506], \"type\": \"scatter\", \"line\": {\"dash\": \"solid\", \"width\": 1.3, \"color\": \"rgba(128, 128, 128, 1.0)\"}, \"marker\": {\"size\": 2, \"symbol\": \"dot\"}, \"name\": \"D\"}, {\"yaxis\": \"y14\", \"mode\": \"markers\", \"text\": \"\", \"xaxis\": \"x14\", \"x\": [0.6887194376286498, 0.1040535242504629, 0.38792642015276635, 1.3934230260395444, -0.5375976688704683, -1.1493608786796612, 0.01342890849383506, -0.47231861415738574, 0.24793169472844812, -0.6232083144122951, -1.2121596694710122, -2.4542371001007464, 0.29855785553142483, 1.2997620162676498, 0.9168047366909585, -0.41040614900130634, 1.3147531456519106, -0.12455263569370086, 0.9366143523054554, 0.23573463729990726, -0.8244746170540388, -0.32685668230128845, 1.501781503113865, 0.9830012153240587, 0.6020112305361386, 0.3688304138086671, 1.0090827131320237, -0.5811720111587422, 0.0512884505619472, -1.6917643070157176, -0.25322144257612356, -0.2937357494665306, 0.7368726362448421, 0.5763424997076779, 0.16472110066593693, -0.374254076023172, 1.1280304809680426, 0.6455371548668151, -0.18000225503004413, -0.9128911232313937, -0.5670695205365133, 0.16138491502455474, 1.2118733837294762, 0.4444506280024997, 0.6834767601409083, 1.8020727241195935, 2.4230878273709062, 0.27701889696287213, 1.4067122280705426, -0.33728919328412016, 0.5154870435338148, 0.7751019637809062, 1.400130435077449, 0.8276591566099151, 1.1268119555303864, 0.7016118169589718, 0.476169530704683, -0.5261125753709399, -1.2129692872143456, 0.6126338497954396, 1.5825905557818922, -0.8173630045970658, 0.1075602248072928, 1.2716988894407462, -0.15615948990467535, -0.2968566839654392, 1.7204934641303604, -0.869876624137026, 0.28935077735906545, -1.2052876742800458, -0.263979336251353, -0.02815365780209253, -0.04062347728476395, 0.943760296027789, -1.7797735906553165, 0.4485755919087686, 0.14778332986993048, 0.5305019463041807, 1.6359913516932165, -0.3437427119285297, 1.9109783094330681, 0.6818924480193401, -0.42214824562337705, 0.8935317581184008, 1.2587495288352297, -0.5992845246668753, 2.7851237345776405, -1.5158096238899554, 0.04177421570103183, 0.48980398157362903, 1.063643861677667, -0.8486329162129157, -1.86936339853131, 0.24761777046722996, 1.290606988097702, 0.17046338292604407, 0.14181179559597848, 0.6505415244850333, -2.5850581533594545, -0.30813091794721653], \"y\": [0.5439560303056027, 1.8421879324257613, -0.6375584499267892, -1.113621595762316, -2.5460826344966634, -1.4694525849240658, 1.5284509091178395, -0.2389286047643509, -1.8771013496698048, 0.7967095179585106, -1.2751392945819797, -0.3919771719871495, 0.6960770780779357, 1.0829877919884603, -0.21798245190329507, 0.10031667681839129, 0.39551692710003933, 0.03022462233656908, -0.3327329523770193, -0.204819010502919, -0.498599044144297, -2.287561059130041, -0.2626249290420713, -2.7487145066091996, -0.666926270349069, -2.0379098459994895, 0.4076679798231559, 1.2245324594636484, -2.0903293143661017, 0.5730523735386692, -0.8155129116660126, -0.9572874252328925, 0.2646752398006613, -1.59152570791709, 0.0934028853207141, -2.602771223170992, 0.560010384592385, 0.449602390416327, -0.005796794476065169, 0.1829347250578045, -0.5607194705468903, -1.1999112237192675, -1.5750218946994066, 0.9111111432091317, -0.2530599561069696, -0.5460310452823662, -0.2531538203527998, 1.5968736605431069, 1.723507060923573, 0.38763182009739877, -1.5443680470309729, 1.2505835233573588, 0.0032375885699842803, 0.3870066878402003, -0.32906689091979147, 0.3856397258220775, -0.1654479720586817, 0.2232842423247386, -0.4418766853437538, -0.6751906059090874, -1.6521803078301385, 0.8305325757578166, 0.6577807720682736, -1.2851830040136305, 0.5089005765755124, 0.5962021316815027, 0.9573351203673642, -1.7458475655160375, -1.7131000048598244, 1.5732405203322046, -0.6605298861077683, -1.3437487967599893, 1.9772828633357302, -0.2856844646078326, 0.19293980157348012, 0.1628250911198371, 0.4208217295167736, 0.5627226183638288, -1.058090429960864, -1.3589615830656872, 2.138807050366944, 0.885718335515041, 0.8374040360650308, 0.49834346725709405, -1.3963572343750588, 2.2245606506923625, 0.19641383189506273, -0.3435398382353588, 0.7215114388529363, -0.8327583822270256, -2.039974975731211, 1.2859290252046311, -1.1577060578657161, 0.36795754346511866, 0.970791311065794, 0.496204293102698, -0.05627542841788665, 0.10113620396598295, 0.7547476274222054, 0.15433234934660506], \"type\": \"scatter\", \"line\": {\"dash\": \"solid\", \"width\": 1.3, \"color\": \"rgba(128, 128, 128, 1.0)\"}, \"marker\": {\"size\": 2, \"symbol\": \"dot\"}, \"name\": \"D\"}, {\"yaxis\": \"y15\", \"mode\": \"markers\", \"text\": \"\", \"xaxis\": \"x15\", \"x\": [1.0667334168325768, 0.04817571551860875, -0.6353709157290994, -0.29979428249659507, 0.30291706303457033, -1.2658520234759039, 0.4984256330100474, -0.4813817437844393, 1.6528819231392327, -1.0387894611418347, -1.4866253379043493, -0.5281135473322252, -0.061645252730345844, 0.7876423965771268, 0.9285191892602837, -3.0483938246413547, -0.371184208418135, 0.11169331199774239, 0.30352330980386477, -1.1851393464396252, -0.3023997655692267, 1.4199893168847753, -0.332851303404407, 0.7955908630250091, 0.5869705278914006, -0.45090328668726354, -0.7814566611757896, -0.1261200409144497, 0.7060858452328673, -0.8894721878843294, 0.6064992291432117, -0.1963991863666514, 0.16697094643083513, -0.06591707111576753, 0.8961422265850149, 0.8939803073905991, 0.2526177880230376, -1.2523243277936627, 0.9749672569040144, 0.9687477057343876, 0.26351967435246515, -0.9517261189215155, -0.18707956459088698, -0.39391833601946274, 0.5273775265831957, -0.48180251718398176, -2.2230374431929953, 2.0999928572789828, 0.5496483529576708, 1.067298459209482, -0.3040289105606048, 0.1352094843666391, -0.9944404721270197, 2.2258275006902912, -0.11689955437978636, 0.41231462999024887, 0.7856039151273921, -0.6894731524779986, -0.8276899193670904, 0.23638272241448607, 1.3266743967632526, 0.9626096963262857, -0.28379390855690406, -0.417413711892243, -1.3341211120615861, 0.9298055489835776, 2.106720126861483, 0.23150307059926345, 0.8864836518334782, 0.4193977048083098, 0.3190869644200757, 0.9673541346062681, 0.42245148076732175, 1.0906377526894717, 1.3887188298690671, -0.19507483218944058, -0.9347090401182315, 0.30126885232107575, 0.42495072953595375, -0.9170212042816844, -1.6965969381460768, -0.011576471618042839, -1.0479065708976978, -0.4749222730814971, 0.4229046102099884, 0.08254929486846736, -0.7783883617548714, -0.17950878512595098, 0.4391940123110264, -1.9667304216807953, -1.5652802021531136, 0.8163770970520242, -0.008375093041838632, 0.5510487504106222, -0.4239325998518183, -0.1297116221823799, -0.10728910870450034, -0.12169367361116121, -0.6905111268638191, -0.2653540299125418], \"y\": [0.5439560303056027, 1.8421879324257613, -0.6375584499267892, -1.113621595762316, -2.5460826344966634, -1.4694525849240658, 1.5284509091178395, -0.2389286047643509, -1.8771013496698048, 0.7967095179585106, -1.2751392945819797, -0.3919771719871495, 0.6960770780779357, 1.0829877919884603, -0.21798245190329507, 0.10031667681839129, 0.39551692710003933, 0.03022462233656908, -0.3327329523770193, -0.204819010502919, -0.498599044144297, -2.287561059130041, -0.2626249290420713, -2.7487145066091996, -0.666926270349069, -2.0379098459994895, 0.4076679798231559, 1.2245324594636484, -2.0903293143661017, 0.5730523735386692, -0.8155129116660126, -0.9572874252328925, 0.2646752398006613, -1.59152570791709, 0.0934028853207141, -2.602771223170992, 0.560010384592385, 0.449602390416327, -0.005796794476065169, 0.1829347250578045, -0.5607194705468903, -1.1999112237192675, -1.5750218946994066, 0.9111111432091317, -0.2530599561069696, -0.5460310452823662, -0.2531538203527998, 1.5968736605431069, 1.723507060923573, 0.38763182009739877, -1.5443680470309729, 1.2505835233573588, 0.0032375885699842803, 0.3870066878402003, -0.32906689091979147, 0.3856397258220775, -0.1654479720586817, 0.2232842423247386, -0.4418766853437538, -0.6751906059090874, -1.6521803078301385, 0.8305325757578166, 0.6577807720682736, -1.2851830040136305, 0.5089005765755124, 0.5962021316815027, 0.9573351203673642, -1.7458475655160375, -1.7131000048598244, 1.5732405203322046, -0.6605298861077683, -1.3437487967599893, 1.9772828633357302, -0.2856844646078326, 0.19293980157348012, 0.1628250911198371, 0.4208217295167736, 0.5627226183638288, -1.058090429960864, -1.3589615830656872, 2.138807050366944, 0.885718335515041, 0.8374040360650308, 0.49834346725709405, -1.3963572343750588, 2.2245606506923625, 0.19641383189506273, -0.3435398382353588, 0.7215114388529363, -0.8327583822270256, -2.039974975731211, 1.2859290252046311, -1.1577060578657161, 0.36795754346511866, 0.970791311065794, 0.496204293102698, -0.05627542841788665, 0.10113620396598295, 0.7547476274222054, 0.15433234934660506], \"type\": \"scatter\", \"line\": {\"dash\": \"solid\", \"width\": 1.3, \"color\": \"rgba(128, 128, 128, 1.0)\"}, \"marker\": {\"size\": 2, \"symbol\": \"dot\"}, \"name\": \"D\"}, {\"yaxis\": \"y16\", \"x\": [0.5439560303056027, 1.8421879324257613, -0.6375584499267892, -1.113621595762316, -2.5460826344966634, -1.4694525849240658, 1.5284509091178395, -0.2389286047643509, -1.8771013496698048, 0.7967095179585106, -1.2751392945819797, -0.3919771719871495, 0.6960770780779357, 1.0829877919884603, -0.21798245190329507, 0.10031667681839129, 0.39551692710003933, 0.03022462233656908, -0.3327329523770193, -0.204819010502919, -0.498599044144297, -2.287561059130041, -0.2626249290420713, -2.7487145066091996, -0.666926270349069, -2.0379098459994895, 0.4076679798231559, 1.2245324594636484, -2.0903293143661017, 0.5730523735386692, -0.8155129116660126, -0.9572874252328925, 0.2646752398006613, -1.59152570791709, 0.0934028853207141, -2.602771223170992, 0.560010384592385, 0.449602390416327, -0.005796794476065169, 0.1829347250578045, -0.5607194705468903, -1.1999112237192675, -1.5750218946994066, 0.9111111432091317, -0.2530599561069696, -0.5460310452823662, -0.2531538203527998, 1.5968736605431069, 1.723507060923573, 0.38763182009739877, -1.5443680470309729, 1.2505835233573588, 0.0032375885699842803, 0.3870066878402003, -0.32906689091979147, 0.3856397258220775, -0.1654479720586817, 0.2232842423247386, -0.4418766853437538, -0.6751906059090874, -1.6521803078301385, 0.8305325757578166, 0.6577807720682736, -1.2851830040136305, 0.5089005765755124, 0.5962021316815027, 0.9573351203673642, -1.7458475655160375, -1.7131000048598244, 1.5732405203322046, -0.6605298861077683, -1.3437487967599893, 1.9772828633357302, -0.2856844646078326, 0.19293980157348012, 0.1628250911198371, 0.4208217295167736, 0.5627226183638288, -1.058090429960864, -1.3589615830656872, 2.138807050366944, 0.885718335515041, 0.8374040360650308, 0.49834346725709405, -1.3963572343750588, 2.2245606506923625, 0.19641383189506273, -0.3435398382353588, 0.7215114388529363, -0.8327583822270256, -2.039974975731211, 1.2859290252046311, -1.1577060578657161, 0.36795754346511866, 0.970791311065794, 0.496204293102698, -0.05627542841788665, 0.10113620396598295, 0.7547476274222054, 0.15433234934660506], \"orientation\": \"v\", \"name\": \"D\", \"opacity\": 0.8, \"histfunc\": \"count\", \"type\": \"histogram\", \"histnorm\": \"\", \"nbinsx\": 10, \"marker\": {\"line\": {\"width\": 1.3, \"color\": \"#D9D9D9\"}, \"color\": \"rgba(101, 101, 101, 1.0)\"}, \"xaxis\": \"x16\"}], {\"xaxis14\": {\"anchor\": \"y14\", \"domain\": [0.2625, 0.475]}, \"titlefont\": {\"color\": \"#151516\"}, \"xaxis16\": {\"anchor\": \"y16\", \"domain\": [0.7875000000000001, 1.0]}, \"yaxis15\": {\"anchor\": \"x15\", \"domain\": [0.0, 0.1975]}, \"yaxis16\": {\"anchor\": \"x16\", \"domain\": [0.0, 0.1975]}, \"paper_bgcolor\": \"#FFFFFF\", \"yaxis4\": {\"anchor\": \"x4\", \"domain\": [0.8025, 1.0]}, \"plot_bgcolor\": \"#E5E5E5\", \"xaxis15\": {\"anchor\": \"y15\", \"domain\": [0.525, 0.7375]}, \"xaxis2\": {\"anchor\": \"y2\", \"domain\": [0.2625, 0.475]}, \"yaxis10\": {\"anchor\": \"x10\", \"domain\": [0.2675, 0.465]}, \"yaxis11\": {\"anchor\": \"x11\", \"domain\": [0.2675, 0.465]}, \"xaxis5\": {\"anchor\": \"y5\", \"domain\": [0.0, 0.2125]}, \"xaxis1\": {\"anchor\": \"y1\", \"zerolinecolor\": \"#F6F6F6\", \"title\": \"\", \"titlefont\": {\"color\": \"#666666\"}, \"tickfont\": {\"color\": \"#666666\"}, \"showgrid\": false, \"domain\": [0.0, 0.2125], \"gridcolor\": \"#F6F6F6\"}, \"xaxis4\": {\"anchor\": \"y4\", \"domain\": [0.7875000000000001, 1.0]}, \"yaxis14\": {\"anchor\": \"x14\", \"domain\": [0.0, 0.1975]}, \"xaxis11\": {\"anchor\": \"y11\", \"domain\": [0.525, 0.7375]}, \"xaxis10\": {\"anchor\": \"y10\", \"domain\": [0.2625, 0.475]}, \"yaxis13\": {\"anchor\": \"x13\", \"domain\": [0.0, 0.1975]}, \"yaxis9\": {\"anchor\": \"x9\", \"domain\": [0.2675, 0.465]}, \"xaxis6\": {\"anchor\": \"y6\", \"domain\": [0.2625, 0.475]}, \"xaxis9\": {\"anchor\": \"y9\", \"domain\": [0.0, 0.2125]}, \"yaxis2\": {\"anchor\": \"x2\", \"domain\": [0.8025, 1.0]}, \"xaxis3\": {\"anchor\": \"y3\", \"domain\": [0.525, 0.7375]}, \"xaxis7\": {\"anchor\": \"y7\", \"domain\": [0.525, 0.7375]}, \"xaxis13\": {\"anchor\": \"y13\", \"domain\": [0.0, 0.2125]}, \"xaxis8\": {\"anchor\": \"y8\", \"domain\": [0.7875000000000001, 1.0]}, \"yaxis1\": {\"anchor\": \"x1\", \"zerolinecolor\": \"#F6F6F6\", \"title\": \"\", \"titlefont\": {\"color\": \"#666666\"}, \"tickfont\": {\"color\": \"#666666\"}, \"showgrid\": false, \"domain\": [0.8025, 1.0], \"gridcolor\": \"#F6F6F6\"}, \"legend\": {\"font\": {\"color\": \"#666666\"}, \"bgcolor\": \"#FFFFFF\"}, \"xaxis12\": {\"anchor\": \"y12\", \"domain\": [0.7875000000000001, 1.0]}, \"bargap\": 0.02, \"yaxis8\": {\"anchor\": \"x8\", \"domain\": [0.535, 0.7325]}, \"showlegend\": false, \"yaxis3\": {\"anchor\": \"x3\", \"domain\": [0.8025, 1.0]}, \"yaxis12\": {\"anchor\": \"x12\", \"domain\": [0.2675, 0.465]}, \"yaxis7\": {\"anchor\": \"x7\", \"domain\": [0.535, 0.7325]}, \"yaxis5\": {\"anchor\": \"x5\", \"domain\": [0.535, 0.7325]}, \"yaxis6\": {\"anchor\": \"x6\", \"domain\": [0.535, 0.7325]}}, {\"showLink\": true, \"linkText\": \"Export to plot.ly\"})});</script>"
      ],
      "text/plain": [
       "<IPython.core.display.HTML object>"
      ]
     },
     "metadata": {},
     "output_type": "display_data"
    }
   ],
   "source": [
    "df.scatter_matrix()"
   ]
  },
  {
   "cell_type": "markdown",
   "metadata": {
    "collapsed": true
   },
   "source": [
    "# Great Job!"
   ]
  }
 ],
 "metadata": {
  "kernelspec": {
   "display_name": "Python 3",
   "language": "python",
   "name": "python3"
  },
  "language_info": {
   "codemirror_mode": {
    "name": "ipython",
    "version": 3
   },
   "file_extension": ".py",
   "mimetype": "text/x-python",
   "name": "python",
   "nbconvert_exporter": "python",
   "pygments_lexer": "ipython3",
   "version": "3.7.3-final"
  }
 },
 "nbformat": 4,
 "nbformat_minor": 0
}