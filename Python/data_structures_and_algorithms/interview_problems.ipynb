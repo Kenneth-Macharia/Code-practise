{
 "nbformat": 4,
 "nbformat_minor": 2,
 "metadata": {
  "language_info": {
   "name": "python",
   "codemirror_mode": {
    "name": "ipython",
    "version": 3
   },
   "version": "3.7.5-final"
  },
  "orig_nbformat": 2,
  "file_extension": ".py",
  "mimetype": "text/x-python",
  "name": "python",
  "npconvert_exporter": "python",
  "pygments_lexer": "ipython3",
  "version": 3,
  "kernelspec": {
   "name": "python271664bitaace828edfe74c84955d83bba4d146b0",
   "display_name": "Python 2.7.16 64-bit"
  }
 },
 "cells": [
  {
   "cell_type": "code",
   "execution_count": 20,
   "metadata": {},
   "outputs": [],
   "source": [
    "# AWS: On-site question 1:\n",
    "# My solution:\n",
    "def max_profit(price_arr, curr_max_profit=0, curr_profit=0):\n",
    "    if len(price_arr) > 1:\n",
    "        curr_min_price = min(price_arr)\n",
    "\n",
    "        if price_arr[price_arr.index(curr_min_price) + 1:]:\n",
    "            next_max_price = max(price_arr[price_arr.index(curr_min_price) + 1:])\n",
    "            curr_profit = next_max_price - curr_min_price\n",
    "            price_arr.pop(price_arr.index(next_max_price))\n",
    "\n",
    "        price_arr.pop(price_arr.index(curr_min_price))\n",
    "\n",
    "        curr_max_profit = max(curr_profit, curr_max_profit)\n",
    "\n",
    "        return max_profit(price_arr, curr_max_profit)\n",
    "    \n",
    "    return curr_max_profit\n",
    "\n",
    "# Optimal Solution:\n",
    "def profit(stock_prices):\n",
    "    \n",
    "    # Start minimum price marker at first price\n",
    "    min_stock_price = stock_prices[0]\n",
    "    \n",
    "    # Start off with a profit of zero\n",
    "    max_profit = 0\n",
    "    \n",
    "    for price in stock_prices:\n",
    "        \n",
    "        # Check to set the lowest stock price so far\n",
    "        min_stock_price = min(min_stock_price,price)\n",
    "        \n",
    "        # Check the current price against our minimum for a profit \n",
    "        # comparison against the max_profit\n",
    "        comparison_profit = price - min_stock_price\n",
    "        \n",
    "        # Compare against our max_profit so far\n",
    "        max_profit = max(max_profit,comparison_profit)\n",
    "        \n",
    "    return max_profit"
   ]
  },
  {
   "cell_type": "code",
   "execution_count": 22,
   "metadata": {},
   "outputs": [
    {
     "output_type": "stream",
     "name": "stdout",
     "text": "10000 loops, best of 3: 16.8 µs per loop\n100000 loops, best of 3: 4.37 µs per loop\n"
    }
   ],
   "source": [
    "% timeit max_profit([10,12,14,12,13,11,8,7,6,13,23,45,11,10])\n",
    "% timeit profit([10,12,14,12,13,11,8,7,6,13,23,45,11,10])"
   ]
  },
  {
   "cell_type": "code",
   "execution_count": null,
   "metadata": {},
   "outputs": [],
   "source": []
  }
 ]
}