{
 "cells": [
  {
   "cell_type": "markdown",
   "metadata": {},
   "source": [
    "# NOTES\n",
    "\n",
    "### Algorithms & Big-O\n",
    "\n",
    "- Data structures and algorithms is a study area of the theoretical computer science field in the discipline of computer science.\n",
    "\n",
    "- An algorithm is a proceedure or fomula for solving a problem.\n",
    "- Big-O notation: a notation that compares algorithm based on how fast they run and how much memory (space) they use  to run, independent of hardware. It examines how **quickly an algorithm's runtime grows** (not exact runtimes) relative to the input, as the input gets arbitrarily large, also known as the algorithm's complexity.\n",
    "- An algorithm's complexity can either be time (above) or space (amount of resource it uses in computing a result)\n",
    "- Time complexity can be determined by evaluating the number of assignmnents/ operations an algorithm makes relative to the input size.\n",
    "- Big-O uses the 'n' notation to represent input size, so that various input sizes can be used to analyze the alogrithm's growth.\n",
    "- As n becomes arbitrarily large, the concern is only on the terms that grow the fastest relative to n thus constants are not conisdered in big-O notation analysis.\n",
    "- Big-O is analysis is considered asymptotic (describing limiting behaviour) i.e a function f(n + 1) may considered asymptotically equal to to another f(n) as the value of n becomes arbitrarily large or as the limit is approached.\n",
    "- Common Big-O notations/ functions that can be used to evaluate an algorithm are:\n",
    "    \n",
    "  1. Constant time O(1): the computation time does not grow when the input size grows.\n",
    "  2. Logarithmic O(Log n):the computation time scales half as much relative to the size of the input\n",
    "  3. Linear time O(n): the computation time scales linearly with the input size.\n",
    "  4. Log Linear time O(nlog n): Combines the log & linear time complexities and is more efficient than the below          ones.\n",
    "  5. Polynomial time O(n^c) : these grow c times the size of the input, where c is a constant and c > 1. They include      quadratic O(n^2) & cubic O(n^3) time complexities.\n",
    "  6. Exponential time O(2^n): \n",
    "  \n",
    "- Examples of implementation: https://stackoverflow.com/questions/1592649/examples-of-algorithms-which-has-o1-on-log-   n-and-olog-n-complexities.\n",
    "\n",
    "- Data structures are data organization, management, and storage formats that enables efficient access and modification of the data. They are also a collection of data values, the relationships among them, and the functions or operations that can be applied to the data.\n",
    "- Types of data structures:\n",
    "\n",
    "### Array Sequences\n",
    "\n",
    "- Array sequences in Python: Lists, Tuples and Strings.\n",
    "- Low level arrays & computer architecture:\n",
    "\n",
    "  - Data is stored in memory in from of byte(8 bits)\n",
    "  - Computers use unique consequtive memory addresses to refer to each byte e.g. byte #2144 or byte #2147\n",
    "  - Computer memory is designed so that any byte can be accessed efficiently e.g constant time thus the name RAM.\n",
    "  - Programming languages keep an association between an identifier e.g varible name and the memory address for           value stored in memory.\n",
    "  - A group of related variables can be stored in a contiguous (neighbours) portion of memory, which can be deonted       as an array.\n",
    "  - A text string is stored an an ordered sequence of unicode characters.\n",
    "  - Python stores each character using 16bits (2 btyes). Thus \"SAMPLE\" would take 12 consequtive bytes of memory         each with a unique address.\n",
    "  - Each loacation within an array(2bytes always) is a cell, which uses an index to describe its location.\n",
    "  - Memory addresses used to find any item in memory can then be computed in constant time to find any location by       using the formula: end address (desired cell start address) = start address (of an array) + (cellsize)(index).\n",
    "  \n",
    "- Referential Arrays (High level abstraction): Using arrays to represent any number of strings but to ensure access     to any of them is done efficiently i.e constant time, then each cell of the array must have the same number of       bytes, and in python for cahracters its 2.\n",
    "- The solution is not to have arrays of the characters (objects) themselves rather have arrays of references to the     objects stored in memory, and each of the array cells will have 2 bytes.\n",
    "- Python stored arrays in this manner as object references and as such all array operations involve creating or         changing references to objects, often a list may contain multiple references to the same object and an object may     be referenced by multiple lists.\n",
    "\n",
    "- Examples:\n",
    " - List slicing results to a new list but referencing/pointing the same old objects in the original list.\n",
    " - Re-assignment: e.g of a list items to another list will result in the new list pointing to the old list items. If    one of the cells of the new items is assigned a different value not in the original list, then a new object is        created away from the two list and the cell pointed to that new object.\n",
    " - Shallow copies ie. backup = list(primes), duplicates the previous object copies, thus if the objects are mutable,    changing the object from the new list, will change the old list references as well.\n",
    " - Deep copies: if the object are mutable, you can create a new list with new references using the deepcopy function,    thus the two list will now be independent.\n",
    " - counter = [0]*8 means create a list of 8 cells all with zeros, but this actually creates one integer object and a    list counter with 8 cells all referencecing the one object. counter [2] +=1, will create a new object as per the      operation and change the reference of cell [2] to the new object.\\\n",
    " - primes.extend(extras), means that references from to the objects referenced by the extras list are added to the      end of the primes list.\n",
    "\n",
    "- Dynamic arrays: in Python you dont need to specify the array size when creating one. Python already holds some       memory, usually abit larger than is curently needed and as the list grows, it will grab more memory in stages and     again abit more that it needs at that point in time. See demo below.\n",
    "- Theoretical implementation of a dynamic array: beginning with the first-sized array (A), create a second array (B)   twice the size of the orginal one. Create reference in array B to point to the objects currently in array A, then     reassign reference of array A to array B and garbage collect the memory previously used by array A, so now we have   new array   A with all the object references as before but with additional memory space.\n",
    " "
   ]
  },
  {
   "cell_type": "code",
   "execution_count": null,
   "metadata": {
    "scrolled": false
   },
   "outputs": [],
   "source": [
    "# Dynamic arrays\n",
    "\n",
    "import sys\n",
    "\n",
    "n = 50\n",
    "array = []\n",
    "\n",
    "for i in range(n):\n",
    "    a = len(array)\n",
    "    b = sys.getsizeof(array)\n",
    "    print (\"Length of array is {} and size of the array is {} bytes\".format(a, b))\n",
    "    array.append(n)\n"
   ]
  },
  {
   "cell_type": "code",
   "execution_count": 1,
   "metadata": {},
   "outputs": [
    {
     "data": {
      "text/plain": [
       "8"
      ]
     },
     "execution_count": 1,
     "metadata": {},
     "output_type": "execute_result"
    }
   ],
   "source": [
    "2^10"
   ]
  },
  {
   "cell_type": "code",
   "execution_count": 2,
   "metadata": {},
   "outputs": [
    {
     "data": {
      "text/plain": [
       "1024"
      ]
     },
     "execution_count": 2,
     "metadata": {},
     "output_type": "execute_result"
    }
   ],
   "source": [
    "2**10"
   ]
  },
  {
   "cell_type": "code",
   "execution_count": null,
   "metadata": {},
   "outputs": [],
   "source": []
  }
 ],
 "metadata": {
  "celltoolbar": "Raw Cell Format",
  "kernelspec": {
   "display_name": "Python 3",
   "language": "python",
   "name": "python3"
  },
  "language_info": {
   "codemirror_mode": {
    "name": "ipython",
    "version": 3
   },
   "file_extension": ".py",
   "mimetype": "text/x-python",
   "name": "python",
   "nbconvert_exporter": "python",
   "pygments_lexer": "ipython3",
   "version": "3.7.3"
  }
 },
 "nbformat": 4,
 "nbformat_minor": 2
}
