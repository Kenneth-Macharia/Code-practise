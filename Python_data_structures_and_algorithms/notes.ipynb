{
 "cells": [
  {
   "cell_type": "markdown",
   "metadata": {},
   "source": [
    "## NOTES\n",
    "\n",
    "- Data structures and algorithms is a study area of the theoretical computer science field in the discipline of computer science.\n",
    "- An algorithm is a proceedure or fomula for solving a problem.\n",
    "- Big-O notation: a notation that compares algorithm based on how fast they run and how much memory (space) they use  to run, independent of hardware. It examines how **quickly an algorithm's runtime grows** (not exact runtimes)realtive to the input, as the input gets arbitrarily large, also known as the algorithm's complexity.\n",
    "- An algorithm's complexity can either be time (above) or space (amount of resource it uses in computing a result)\n",
    "- Time complexity can be determined by evaluating the number of assignmnents/ operations an algorithm makes relative to the input size.\n",
    "- Big-O uses the 'n' notation to represent input size, so that various input sizes can be used to analyze the alogrithm's growth.\n",
    "- As n becomes arbitrarily large, the concern is only on the terms that grow the fastest relative to n thus constants are not conisdered in big-O notation analysis.\n",
    "- Big-O is analysis is considered asymptotic (describing limiting behaviour) i.e a function f(n + 1) may considered asymptotically equal to to another f(n) as the value of n becomes arbitrarily large or as the limit is approached.\n",
    "- Common Big-O notations/ functions that can be used to evaluate an algorithm are:\n",
    "    \n",
    "  1. Constant time O(1): the computation time does not grow when the input size grows e.g. reading a value from a          variable takes the same time as reading a value from a list of 1000 items.\n",
    "  2. Linear time O(n): the computation time scales linearly with the input size e.g accessing all the items in a          list, via a loop.\n",
    "  3. Quadratic time O(n):the computation time scale twice as much relative to the size of the input e.g \n",
    "\n"
   ]
  },
  {
   "cell_type": "code",
   "execution_count": null,
   "metadata": {},
   "outputs": [],
   "source": []
  }
 ],
 "metadata": {
  "kernelspec": {
   "display_name": "Python 3",
   "language": "python",
   "name": "python3"
  },
  "language_info": {
   "codemirror_mode": {
    "name": "ipython",
    "version": 3
   },
   "file_extension": ".py",
   "mimetype": "text/x-python",
   "name": "python",
   "nbconvert_exporter": "python",
   "pygments_lexer": "ipython3",
   "version": "3.7.3"
  }
 },
 "nbformat": 4,
 "nbformat_minor": 2
}
